{
 "cells": [
  {
   "cell_type": "markdown",
   "metadata": {
    "colab_type": "text",
    "id": "DgR6zv4DKIhj"
   },
   "source": [
    "<h1>1D <code>Numpy</code> i Python</h1>"
   ]
  },
  {
   "cell_type": "markdown",
   "metadata": {
    "colab_type": "text",
    "id": "y1WFfa1VKIhm"
   },
   "source": [
    "<p><strong>Velkommen!</strong> Denne notatboken vil lære deg hvordan du bruker programbiblioteket <code>Numpy</code> i programmeringsspråket Python. Ved slutten av denne økta vet du hva <code>Numpy</code> er og hvordan man kan bruke de vanligste <code>Numpy</code>-operasjoner.</p>"
   ]
  },
  {
   "cell_type": "markdown",
   "metadata": {
    "colab_type": "text",
    "id": "FBw_IrRbKIhq"
   },
   "source": [
    "<h2>Innhold</h2>\n",
    "<div class=\"alert alert-block alert-info\" style=\"margin-top: 20px\">\n",
    "    <ul>\n",
    "        <li><a href=\"pre\">Forberedning</a></li>\n",
    "        <li>\n",
    "            <a href=\"numpy\">Hva er Numpy?</a>\n",
    "            <ul>\n",
    "                <li><a href=\"type\">Type</a></li>\n",
    "                <li><a href=\"val\">Tilordne verdier i en array</a></li>\n",
    "                <li><a href=\"slice\">Skjæring</a></li>\n",
    "                <li><a href=\"list\">Tilordne verdi med liste</a></li>\n",
    "                <li><a href=\"other\">Andre attributt</a></li>\n",
    "            </ul>\n",
    "        </li>\n",
    "        <li>\n",
    "            <a href=\"op\">Numpy Array-operasjoner</a>\n",
    "            <ul>\n",
    "                <li><a href=\"add\">Array addisjon</a></li>\n",
    "                <li><a href=\"multi\">Array multiplikasjon</a></li>\n",
    "                <li><a href=\"prod\">Produkt av to Numpy Arrays</a></li>\n",
    "                <li><a href=\"dot\">Dot produkt</a></li>\n",
    "                <li><a href=\"cons\">Adder en konstant til en Numpy Array</a></li>\n",
    "            </ul>\n",
    "        </li>\n",
    "        <li><a href=\"math\">Matematiske funksjoner</a></li>\n",
    "        <li><a href=\"lin\">Linspace</a></li>\n",
    "    </ul>\n",
    "    <p>\n",
    "        Tidsbruk: <strong>30 min</strong>\n",
    "    </p>\n",
    "</div>\n",
    "\n",
    "<hr>"
   ]
  },
  {
   "cell_type": "markdown",
   "metadata": {
    "colab_type": "text",
    "id": "Ix6Zc_R0KIhr"
   },
   "source": [
    "<h2 id=\"pre\">Forberedning</h2>\n",
    "La oss laste inn de biblioteker vi trenger. den viktigste er selvfølgelig <code>Numpy</code> men vi skal også laste inn noe for plotting av funksjoner."
   ]
  },
  {
   "cell_type": "code",
   "execution_count": null,
   "metadata": {
    "colab": {},
    "colab_type": "code",
    "id": "1INOeji6KIht"
   },
   "outputs": [],
   "source": [
    "# Last inn biblioteker\n",
    "\n",
    "import time \n",
    "import sys\n",
    "import numpy as np \n",
    "\n",
    "import matplotlib.pyplot as plt\n",
    "%matplotlib inline  "
   ]
  },
  {
   "cell_type": "markdown",
   "metadata": {},
   "source": [
    "Nå lager vi to funksjoner som vi skal bruke senere for plotting av noen funksjoner ved hjelp av Python."
   ]
  },
  {
   "cell_type": "code",
   "execution_count": null,
   "metadata": {
    "colab": {},
    "colab_type": "code",
    "collapsed": false,
    "id": "1RVSx7RjKIiD",
    "jupyter": {
     "outputs_hidden": false
    }
   },
   "outputs": [],
   "source": [
    "# Kode for å tegne grafer til funksjoner\n",
    "\n",
    "def Plotvec1(u, z, v):\n",
    "    \n",
    "    ax = plt.axes()\n",
    "    ax.arrow(0, 0, *u, head_width=0.05, color='r', head_length=0.1)\n",
    "    plt.text(*(u + 0.1), 'u')\n",
    "    \n",
    "    ax.arrow(0, 0, *v, head_width=0.05, color='b', head_length=0.1)\n",
    "    plt.text(*(v + 0.1), 'v')\n",
    "    ax.arrow(0, 0, *z, head_width=0.05, head_length=0.1)\n",
    "    plt.text(*(z + 0.1), 'z')\n",
    "    plt.ylim(-2, 2)\n",
    "    plt.xlim(-2, 2)\n",
    "\n",
    "def Plotvec2(a,b):\n",
    "    ax = plt.axes()\n",
    "    ax.arrow(0, 0, *a, head_width=0.05, color ='r', head_length=0.1)\n",
    "    plt.text(*(a + 0.1), 'a')\n",
    "    ax.arrow(0, 0, *b, head_width=0.05, color ='b', head_length=0.1)\n",
    "    plt.text(*(b + 0.1), 'b')\n",
    "    plt.ylim(-2, 2)\n",
    "    plt.xlim(-2, 2)"
   ]
  },
  {
   "cell_type": "markdown",
   "metadata": {
    "colab_type": "text",
    "id": "kiQ_WE1bKIiK"
   },
   "source": [
    "Vi minner om listene i Python (se Jupyter notat om dem) og lager en Python liste som følgende:"
   ]
  },
  {
   "cell_type": "code",
   "execution_count": null,
   "metadata": {
    "colab": {},
    "colab_type": "code",
    "collapsed": false,
    "id": "skEG2lVtKIiL",
    "jupyter": {
     "outputs_hidden": false
    }
   },
   "outputs": [],
   "source": [
    "# Python liste\n",
    "\n",
    "a = [\"0\", 1, \"two\", \"3\", 4]"
   ]
  },
  {
   "cell_type": "markdown",
   "metadata": {
    "colab_type": "text",
    "id": "wI5i_UyQKIiR"
   },
   "source": [
    "Husk at vi kan få tilgang til dataene via en indeks:"
   ]
  },
  {
   "cell_type": "markdown",
   "metadata": {
    "colab_type": "text",
    "id": "nu9zw1jBKIiS"
   },
   "source": [
    "<img src=\"https://s3-api.us-geo.objectstorage.softlayer.net/cf-courses-data/CognitiveClass/PY0101EN/Chapter%205/Images/NumOneList.png\" width=\"660\" />"
   ]
  },
  {
   "cell_type": "code",
   "execution_count": null,
   "metadata": {
    "colab": {},
    "colab_type": "code",
    "collapsed": false,
    "id": "WgeUyEXZKIiU",
    "jupyter": {
     "outputs_hidden": false
    }
   },
   "outputs": [],
   "source": [
    "# La oss skrive ut hver element i listen\n",
    "\n",
    "print(\"a[0]:\", a[0])\n",
    "print(\"a[1]:\", a[1])\n",
    "print(\"a[2]:\", a[2])\n",
    "print(\"a[3]:\", a[3])\n",
    "print(\"a[4]:\", a[4])"
   ]
  },
  {
   "cell_type": "markdown",
   "metadata": {
    "colab_type": "text",
    "id": "aBb2rbrWKIib"
   },
   "source": [
    "<hr>"
   ]
  },
  {
   "cell_type": "markdown",
   "metadata": {
    "colab_type": "text",
    "id": "GLviW3hBKIic"
   },
   "source": [
    "<h2 id=\"numpy\">Hva er Numpy?</h2>"
   ]
  },
  {
   "cell_type": "markdown",
   "metadata": {
    "colab_type": "text",
    "id": "dFq6tLJSKIid"
   },
   "source": [
    "Numpy (sammensat ord fra \"numerisk\" og \"Python\")  er en programbibliotek som har mange funksjoner som vi kan bruke i matematiske beregninger i Python. Den viktigste funksjonaliteten Numpy medfører er en ny datatype som kalles **Numpy array**.\n",
    "\n",
    "### Numpy array\n",
    "En numpy array ligner på en liste. Det er vanligvis fast i størrelse og hvert element er av samme type."
   ]
  },
  {
   "cell_type": "markdown",
   "metadata": {
    "colab_type": "text",
    "id": "bzGeaAIpKIip"
   },
   "source": [
    "Husk at vi har alrede lastet inn numpy som <code>np</code>. Vi kan nå omdanne listen i Python som følger:"
   ]
  },
  {
   "cell_type": "code",
   "execution_count": null,
   "metadata": {
    "colab": {},
    "colab_type": "code",
    "collapsed": false,
    "id": "aEmiItvLKIiq",
    "jupyter": {
     "outputs_hidden": false
    }
   },
   "outputs": [],
   "source": [
    "# Lag en numpy array fra en liste av tall\n",
    "\n",
    "a = np.array([0, 1, 2, 3, 4])\n",
    "a"
   ]
  },
  {
   "cell_type": "markdown",
   "metadata": {
    "colab_type": "text",
    "id": "skLOHLjmKIiv"
   },
   "source": [
    "Hvert element er av samme type, i dette tilfellet heltall (integer):"
   ]
  },
  {
   "cell_type": "markdown",
   "metadata": {
    "colab_type": "text",
    "id": "OVnXjMk7KIiw"
   },
   "source": [
    "<img src=\"https://s3-api.us-geo.objectstorage.softlayer.net/cf-courses-data/CognitiveClass/PY0101EN/Chapter%205/Images/NumOneNp.png\" width=\"500\" />"
   ]
  },
  {
   "cell_type": "markdown",
   "metadata": {
    "colab_type": "text",
    "id": "S_knF3rWKIix"
   },
   "source": [
    "\n",
    "Som med lister, kan vi få tilgang til hvert element via hakeparenteser:"
   ]
  },
  {
   "cell_type": "code",
   "execution_count": null,
   "metadata": {
    "colab": {},
    "colab_type": "code",
    "collapsed": false,
    "id": "sm59JlocKIiy",
    "jupyter": {
     "outputs_hidden": false
    }
   },
   "outputs": [],
   "source": [
    "# Skriv ut hver element i numpy array (syntaks er akkurat det samme som i lister)\n",
    "\n",
    "print(\"a[0]:\", a[0])\n",
    "print(\"a[1]:\", a[1])\n",
    "print(\"a[2]:\", a[2])\n",
    "print(\"a[3]:\", a[3])\n",
    "print(\"a[4]:\", a[4])"
   ]
  },
  {
   "cell_type": "markdown",
   "metadata": {
    "colab_type": "text",
    "id": "6QvaGJDTKIi4"
   },
   "source": [
    "<h3 id=\"type\">Type</h3>"
   ]
  },
  {
   "cell_type": "markdown",
   "metadata": {
    "colab_type": "text",
    "id": "qstZw1YRKIi5"
   },
   "source": [
    "Hvis vi sjekker typen av array får vi <b>numpy.ndarray</b>:"
   ]
  },
  {
   "cell_type": "code",
   "execution_count": null,
   "metadata": {
    "colab": {},
    "colab_type": "code",
    "collapsed": false,
    "id": "J-952iImKIi6",
    "jupyter": {
     "outputs_hidden": false
    }
   },
   "outputs": [],
   "source": [
    "# Sjekk typen av array\n",
    "\n",
    "type(a)"
   ]
  },
  {
   "cell_type": "markdown",
   "metadata": {
    "colab_type": "text",
    "id": "KaSuaRBJKIjF"
   },
   "source": [
    "Siden numpy arrays inneholder data av samme type, kan vi bruke attributtet \"dtype\" for å få datatypen til arrayens elementer. I dette tilfellet et 32-bits heltall (integer):"
   ]
  },
  {
   "cell_type": "code",
   "execution_count": null,
   "metadata": {
    "colab": {},
    "colab_type": "code",
    "collapsed": false,
    "id": "NFAlXUwxKIjG",
    "jupyter": {
     "outputs_hidden": false
    }
   },
   "outputs": [],
   "source": [
    "# Sjekk type av verdier i en numpy array\n",
    "\n",
    "a.dtype"
   ]
  },
  {
   "cell_type": "markdown",
   "metadata": {
    "colab_type": "text",
    "id": "yulJlOI9KIjM"
   },
   "source": [
    "Vi kan lage en numpy array med reelle tall:"
   ]
  },
  {
   "cell_type": "code",
   "execution_count": null,
   "metadata": {
    "colab": {},
    "colab_type": "code",
    "collapsed": false,
    "id": "fnB_Of9zKIjN",
    "jupyter": {
     "outputs_hidden": false
    }
   },
   "outputs": [],
   "source": [
    "# Lag en numpy array med reelle tall\n",
    "\n",
    "b = np.array([3.1, 11.02, 6.2, 213.2, 5.2])"
   ]
  },
  {
   "cell_type": "markdown",
   "metadata": {
    "colab_type": "text",
    "id": "wwcWaZNHKIjS"
   },
   "source": [
    "Når vi sjekker typen av array får vi <b>numpy.ndarray</b>:"
   ]
  },
  {
   "cell_type": "code",
   "execution_count": null,
   "metadata": {
    "colab": {},
    "colab_type": "code",
    "collapsed": false,
    "id": "LeoeDSabKIjT",
    "jupyter": {
     "outputs_hidden": false
    }
   },
   "outputs": [],
   "source": [
    "# Sjekk typen av array\n",
    "\n",
    "type(b)"
   ]
  },
  {
   "cell_type": "markdown",
   "metadata": {
    "colab_type": "text",
    "id": "yh_-ipjOKIjY"
   },
   "source": [
    "Hvis vi undersøker attributtet <code>dtype</code> ser vi float 64, siden elementene ikke er heltall (men 64-bit desimaltall):"
   ]
  },
  {
   "cell_type": "code",
   "execution_count": null,
   "metadata": {
    "colab": {},
    "colab_type": "code",
    "collapsed": false,
    "id": "ko7S1azaKIjZ",
    "jupyter": {
     "outputs_hidden": false
    }
   },
   "outputs": [],
   "source": [
    "# Sjekkm verditype\n",
    "\n",
    "b.dtype"
   ]
  },
  {
   "cell_type": "markdown",
   "metadata": {
    "colab_type": "text",
    "id": "AN637J0HKIjd"
   },
   "source": [
    "<h3 id=\"val\">\n",
    "Tilordne verdier i en array</h3>"
   ]
  },
  {
   "cell_type": "markdown",
   "metadata": {
    "colab_type": "text",
    "id": "LJRXk5UnKIje"
   },
   "source": [
    "Liknende som lister kan vi endre verdien til elementer i en array. La oss se for dette på array <code>c</code> som er:\n"
   ]
  },
  {
   "cell_type": "code",
   "execution_count": null,
   "metadata": {
    "colab": {},
    "colab_type": "code",
    "collapsed": false,
    "id": "3XO8zM3eKIje",
    "jupyter": {
     "outputs_hidden": false
    }
   },
   "outputs": [],
   "source": [
    "# Lag en numpy array\n",
    "\n",
    "c = np.array([20, 1, 2, 3, 4])\n",
    "c"
   ]
  },
  {
   "cell_type": "markdown",
   "metadata": {
    "colab_type": "text",
    "id": "fNsLbG7-KIjj"
   },
   "source": [
    "Vi kan endre det første elementet i array til 100 som følger:"
   ]
  },
  {
   "cell_type": "code",
   "execution_count": null,
   "metadata": {
    "colab": {},
    "colab_type": "code",
    "collapsed": false,
    "id": "kChQcPpXKIjk",
    "jupyter": {
     "outputs_hidden": false
    }
   },
   "outputs": [],
   "source": [
    "# Endre første elementet til 100\n",
    "\n",
    "c[0] = 100\n",
    "c"
   ]
  },
  {
   "cell_type": "markdown",
   "metadata": {
    "colab_type": "text",
    "id": "WefV8CHFKIjq"
   },
   "source": [
    "Vi kan endre det femte elementet i array til 0 som følger:"
   ]
  },
  {
   "cell_type": "code",
   "execution_count": null,
   "metadata": {
    "colab": {},
    "colab_type": "code",
    "collapsed": false,
    "id": "lAX9Mft3KIjr",
    "jupyter": {
     "outputs_hidden": false
    }
   },
   "outputs": [],
   "source": [
    "# Endre femte elementet til 0\n",
    "\n",
    "c[4] = 0\n",
    "c"
   ]
  },
  {
   "cell_type": "markdown",
   "metadata": {
    "colab_type": "text",
    "id": "TeHyDNiPKIjw"
   },
   "source": [
    "<h3 id=\"slice\">Skjæring</h3>"
   ]
  },
  {
   "cell_type": "markdown",
   "metadata": {
    "colab_type": "text",
    "id": "bKTHWqg4KIjx"
   },
   "source": [
    "Igjen som for en liste kan vi dele opp numpy-array med skjæring. For eksempel, vi kan velge elementene fra 1 til 3 og tilordne den til en ny numpy-array <code>d</code> som følger:"
   ]
  },
  {
   "cell_type": "code",
   "execution_count": null,
   "metadata": {
    "colab": {},
    "colab_type": "code",
    "collapsed": false,
    "id": "YxeqJMFKKIjy",
    "jupyter": {
     "outputs_hidden": false
    }
   },
   "outputs": [],
   "source": [
    "# Skjæring av en numpy array\n",
    "\n",
    "d = c[1:4]\n",
    "d"
   ]
  },
  {
   "cell_type": "markdown",
   "metadata": {
    "colab_type": "text",
    "id": "pu9Pj3JVKIj2"
   },
   "source": [
    "Vi kan tilordne nye verdier til de tilsvarende elementer som følger:"
   ]
  },
  {
   "cell_type": "code",
   "execution_count": null,
   "metadata": {
    "colab": {},
    "colab_type": "code",
    "collapsed": false,
    "id": "QkyFe-tIKIj3",
    "jupyter": {
     "outputs_hidden": false
    }
   },
   "outputs": [],
   "source": [
    "# Endre den fjerde element og den femte element til 300 og 400\n",
    "\n",
    "c[3:5] = 300, 400\n",
    "c"
   ]
  },
  {
   "cell_type": "markdown",
   "metadata": {
    "colab_type": "text",
    "id": "8P1Q4SYdKIj8"
   },
   "source": [
    "<h3 id=\"list\">Tilordne verdi med Liste</h3>"
   ]
  },
  {
   "cell_type": "markdown",
   "metadata": {
    "colab_type": "text",
    "id": "ZkuylFlLKIj9"
   },
   "source": [
    "På samme måte kan vi bruke en liste til å velge en spesifikk indeks.\n",
    "Listen 'velg' inneholder flere verdier:"
   ]
  },
  {
   "cell_type": "code",
   "execution_count": null,
   "metadata": {
    "colab": {},
    "colab_type": "code",
    "id": "4J6MV6CnKIj-"
   },
   "outputs": [],
   "source": [
    "# Lag en indeks liste\n",
    "\n",
    "velg = [0, 2, 3]"
   ]
  },
  {
   "cell_type": "markdown",
   "metadata": {
    "colab_type": "text",
    "id": "vx4C013rKIkG"
   },
   "source": [
    "Vi kan bruke listen som et argument i parentes. Utgangen er elementene som tilsvarer den bestemte indeksen:"
   ]
  },
  {
   "cell_type": "code",
   "execution_count": null,
   "metadata": {
    "colab": {},
    "colab_type": "code",
    "collapsed": false,
    "id": "au74BaMqKIkI",
    "jupyter": {
     "outputs_hidden": false
    }
   },
   "outputs": [],
   "source": [
    "# Bruk en liste for å velge ut elementene\n",
    "\n",
    "d = c[velg]\n",
    "d"
   ]
  },
  {
   "cell_type": "markdown",
   "metadata": {
    "colab_type": "text",
    "id": "kQL0P8IZKIkO"
   },
   "source": [
    "Vi kan tilordne de angitte elementene til en ny verdi. For eksempel kan vi tilordne verdiene til 100 000 som følger:"
   ]
  },
  {
   "cell_type": "code",
   "execution_count": null,
   "metadata": {
    "colab": {},
    "colab_type": "code",
    "collapsed": false,
    "id": "tP-VLf8uKIkP",
    "jupyter": {
     "outputs_hidden": false
    }
   },
   "outputs": [],
   "source": [
    "# Tilordne en ny verdi til noen elementer \n",
    "\n",
    "c[velg] = 100000\n",
    "c"
   ]
  },
  {
   "cell_type": "markdown",
   "metadata": {
    "colab_type": "text",
    "id": "4yPrnP7ZKIkT"
   },
   "source": [
    "<h3 id=\"other\">Attributter av numpy arrays</h3>"
   ]
  },
  {
   "cell_type": "markdown",
   "metadata": {
    "colab_type": "text",
    "id": "0ucSwX5xKIkU"
   },
   "source": [
    "Vi kommer nå til attributer numpy arrays har (vi er på vei til ting array kan brukes til mens lister kan ikke). Først skal vi se på noen grunnleggende attributter ved å bruke arrayen <code>a</code> som vi legger ut nå:"
   ]
  },
  {
   "cell_type": "code",
   "execution_count": null,
   "metadata": {
    "colab": {},
    "colab_type": "code",
    "collapsed": false,
    "id": "UNVRqtGKKIkV",
    "jupyter": {
     "outputs_hidden": false
    }
   },
   "outputs": [],
   "source": [
    "# Lag en numpy array\n",
    "\n",
    "a = np.array([0, 1, 2, 3, 4])\n",
    "a"
   ]
  },
  {
   "cell_type": "markdown",
   "metadata": {
    "colab_type": "text",
    "id": "rA2NjtmiKIkb"
   },
   "source": [
    "Attributtet <code>size</code> er antall elementer i array:"
   ]
  },
  {
   "cell_type": "code",
   "execution_count": null,
   "metadata": {
    "colab": {},
    "colab_type": "code",
    "collapsed": false,
    "id": "p7i1AjazKIkc",
    "jupyter": {
     "outputs_hidden": false
    }
   },
   "outputs": [],
   "source": [
    "# Finn antall elementer i en numpy array\n",
    "\n",
    "a.size"
   ]
  },
  {
   "cell_type": "markdown",
   "metadata": {
    "colab_type": "text",
    "id": "TnLKbjWpKIkh"
   },
   "source": [
    "De neste to attributtene vil gi mer mening når vi kommer til høyere dimensjoner, men la oss se på dem uansett. Attributtet <code>ndim</code> representerer antall arraydimensjoner eller rangeringen til arrayen, i dette tilfellet én:"
   ]
  },
  {
   "cell_type": "code",
   "execution_count": null,
   "metadata": {
    "colab": {},
    "colab_type": "code",
    "collapsed": false,
    "id": "oP8G2cziKIki",
    "jupyter": {
     "outputs_hidden": false
    }
   },
   "outputs": [],
   "source": [
    "# Finn antall av dimensjoner av en numpy array\n",
    "\n",
    "a.ndim"
   ]
  },
  {
   "cell_type": "markdown",
   "metadata": {
    "colab_type": "text",
    "id": "2cZKK2wnKIkq"
   },
   "source": [
    "\n",
    "Attributtet <code>shape</code> er en tuppel av heltall som indikerer størrelsen på array i hver dimensjon:"
   ]
  },
  {
   "cell_type": "code",
   "execution_count": null,
   "metadata": {
    "colab": {},
    "colab_type": "code",
    "collapsed": false,
    "id": "ohLVsBS0KIks",
    "jupyter": {
     "outputs_hidden": false
    }
   },
   "outputs": [],
   "source": [
    "# Fin ut dimensjoner og størrelsen i hver dimensjon for en numpy array\n",
    "\n",
    "a.shape"
   ]
  },
  {
   "cell_type": "markdown",
   "metadata": {},
   "source": [
    "Nå kommer vi til funksjoner numpy array har som vi kan ikke finne (uten andre programbiblioteker) for lister i Python. Dette er også hovedgrunnen hvorfor man bryr seg om den nye datatypen array i numpy (fordi den \"kan mer\")."
   ]
  },
  {
   "cell_type": "code",
   "execution_count": null,
   "metadata": {
    "colab": {},
    "colab_type": "code",
    "id": "KZ6lsVRBKIky"
   },
   "outputs": [],
   "source": [
    "# Lag en numpy array\n",
    "\n",
    "a = np.array([1, -1, 1, -1])"
   ]
  },
  {
   "cell_type": "code",
   "execution_count": null,
   "metadata": {
    "colab": {},
    "colab_type": "code",
    "collapsed": false,
    "id": "cvzz1YeTKIk4",
    "jupyter": {
     "outputs_hidden": false
    }
   },
   "outputs": [],
   "source": [
    "# Finn ut gjennomsnitten (mean) av en numpy array \n",
    "\n",
    "gjennom = a.mean()\n",
    "gjennom"
   ]
  },
  {
   "cell_type": "code",
   "execution_count": null,
   "metadata": {
    "colab": {},
    "colab_type": "code",
    "collapsed": false,
    "id": "azoSMdNLKIk-",
    "jupyter": {
     "outputs_hidden": false
    }
   },
   "outputs": [],
   "source": [
    "# Finn standard avvik (standard deviation på engelsk) av en numpy array\n",
    "\n",
    "standard_avvik=a.std()\n",
    "standard_avvik"
   ]
  },
  {
   "cell_type": "code",
   "execution_count": null,
   "metadata": {
    "colab": {},
    "colab_type": "code",
    "collapsed": false,
    "id": "WLOD_fJsKIlE",
    "jupyter": {
     "outputs_hidden": false
    }
   },
   "outputs": [],
   "source": [
    "# Lag en numpy array\n",
    "\n",
    "b = np.array([-1, 2, 3, 4, 5])\n",
    "\n",
    "# Finn den største verdi i en numpy array\n",
    "max_b = b.max()\n",
    "max_b"
   ]
  },
  {
   "cell_type": "code",
   "execution_count": null,
   "metadata": {
    "colab": {},
    "colab_type": "code",
    "collapsed": false,
    "id": "DG13d_88KIlM",
    "jupyter": {
     "outputs_hidden": false
    }
   },
   "outputs": [],
   "source": [
    "# Finn den minste verdi i en numpy array\n",
    "min_b = b.min()\n",
    "min_b"
   ]
  },
  {
   "cell_type": "markdown",
   "metadata": {
    "colab_type": "text",
    "id": "aKYRzFlvKIlS"
   },
   "source": [
    "<hr>"
   ]
  },
  {
   "cell_type": "markdown",
   "metadata": {
    "colab_type": "text",
    "id": "IRCshY2uKIlT"
   },
   "source": [
    "<h2 id=\"op\">Operasjoner med numpy array</h2>\n",
    "\n",
    "I siste avsnitt har vi set at numpy array har noen attributer som er ganske nyttig (og listen har ikke noe som det). Vi skal fortsette nå med så kallte array-operasjoner. Dvs. vi skal se at vi kan regne på en måte med numpy array som vi forventer det fra en liste av tall (komponentvis). \n",
    "\n",
    "Hvis dere vet hva vektorregning er: numpy array og de array operasjoner oppfører seg veldig liknende på de tilsvarende operasjoner i vektorregning."
   ]
  },
  {
   "cell_type": "markdown",
   "metadata": {
    "colab_type": "text",
    "id": "ktBba4IPKIlU"
   },
   "source": [
    "<h3 id=\"add\">Array addisjon</h3>"
   ]
  },
  {
   "cell_type": "markdown",
   "metadata": {
    "colab_type": "text",
    "id": "kTWpk72kKIlW"
   },
   "source": [
    "La oss se på numpy array <code>u</code> og på numpy array <code>v</code>::"
   ]
  },
  {
   "cell_type": "code",
   "execution_count": null,
   "metadata": {
    "colab": {},
    "colab_type": "code",
    "collapsed": false,
    "id": "Sg35orRdKIlX",
    "jupyter": {
     "outputs_hidden": false
    }
   },
   "outputs": [],
   "source": [
    "u = np.array([1, 0])\n",
    "v = np.array([0, 1])"
   ]
  },
  {
   "cell_type": "markdown",
   "metadata": {
    "colab_type": "text",
    "id": "iWWruLm9KIlk"
   },
   "source": [
    "Vi kan legge dem sammen på følgende måte:"
   ]
  },
  {
   "cell_type": "code",
   "execution_count": null,
   "metadata": {
    "colab": {},
    "colab_type": "code",
    "collapsed": false,
    "id": "gT0S-40zKIll",
    "jupyter": {
     "outputs_hidden": false
    }
   },
   "outputs": [],
   "source": [
    "# Numpy array addisjon\n",
    "\n",
    "z = u + v\n",
    "z"
   ]
  },
  {
   "cell_type": "markdown",
   "metadata": {
    "colab_type": "text",
    "id": "nr38afQ_KIlq"
   },
   "source": [
    "Operasjonen tilsvarer vektoraddisjon som kan skrives som følgende med vanlig Python notasjon (MERK igjen: Grunnen vi ser på alt dette er at det er mye enklere med Numpy!):"
   ]
  },
  {
   "cell_type": "code",
   "execution_count": null,
   "metadata": {
    "colab": {},
    "colab_type": "code",
    "collapsed": false,
    "id": "cuAnoMFIKIlr",
    "jupyter": {
     "outputs_hidden": false
    }
   },
   "outputs": [],
   "source": [
    "# Skisser numpy array som vektorer\n",
    "\n",
    "Plotvec1(u, z, v)"
   ]
  },
  {
   "cell_type": "markdown",
   "metadata": {
    "colab_type": "text",
    "id": "FmPd1F0vKIl0"
   },
   "source": [
    "<h3 id=\"multi\">Array multiplikasjon</h3>"
   ]
  },
  {
   "cell_type": "markdown",
   "metadata": {
    "colab_type": "text",
    "id": "0vyQR9rnKIl1"
   },
   "source": [
    "Nå ser vi på numpy array <code>y</code> og ville gjerne multiplisere hver element i array med $2$:"
   ]
  },
  {
   "cell_type": "code",
   "execution_count": null,
   "metadata": {
    "colab": {},
    "colab_type": "code",
    "collapsed": false,
    "id": "tGm_D2UiKIl1",
    "jupyter": {
     "outputs_hidden": false
    }
   },
   "outputs": [],
   "source": [
    "# Create a numpy array\n",
    "\n",
    "y = np.array([1, 2])\n",
    "z = 2 * y\n",
    "print(y,z)"
   ]
  },
  {
   "cell_type": "markdown",
   "metadata": {
    "colab_type": "text",
    "id": "4THue9nKKIl_"
   },
   "source": [
    "<h3 id=\"prod\">Produkt av to numpy arrays</h3>"
   ]
  },
  {
   "cell_type": "markdown",
   "metadata": {
    "colab_type": "text",
    "id": "3vbamzlVKImA"
   },
   "source": [
    "Vi ser på array <code>u</code> og på array <code>v</code>:"
   ]
  },
  {
   "cell_type": "code",
   "execution_count": null,
   "metadata": {
    "colab": {},
    "colab_type": "code",
    "collapsed": false,
    "id": "F3B1LdeZKImA",
    "jupyter": {
     "outputs_hidden": false
    }
   },
   "outputs": [],
   "source": [
    "# Lag en numpy array\n",
    "\n",
    "u = np.array([1, 2])\n",
    "v = np.array([3, 2])"
   ]
  },
  {
   "cell_type": "markdown",
   "metadata": {
    "colab_type": "text",
    "id": "RCN6OxXeKImO"
   },
   "source": [
    "Produktet av de to numpy arrayene <code>u</code> og <code>v</code> er gitt av:"
   ]
  },
  {
   "cell_type": "code",
   "execution_count": null,
   "metadata": {
    "colab": {},
    "colab_type": "code",
    "collapsed": false,
    "id": "wS6TR6GgKImP",
    "jupyter": {
     "outputs_hidden": false
    }
   },
   "outputs": [],
   "source": [
    "# Beregn produkt av to numpy array\n",
    "\n",
    "z = u * v\n",
    "z"
   ]
  },
  {
   "cell_type": "markdown",
   "metadata": {},
   "source": [
    "Merk at produktet beregnes komponentvis, dvs. første komponenter ganges og andre komponenter ganges. Resultatet skrives i en ny array (som vi kaller $z$). Husk at vi trenger numpy array av samme størrelse for å få produkten.\n",
    "\n",
    "<h3 id=\"dot\">Prikk produkt</h3>"
   ]
  },
  {
   "cell_type": "markdown",
   "metadata": {
    "colab_type": "text",
    "id": "MNV_57Q_KImY"
   },
   "source": [
    "Prikkproduktet til de to numpy array <code>u</code> og <code>v</code> er gitt av:"
   ]
  },
  {
   "cell_type": "code",
   "execution_count": null,
   "metadata": {
    "colab": {},
    "colab_type": "code",
    "collapsed": false,
    "id": "kfYiRxn-KIma",
    "jupyter": {
     "outputs_hidden": false
    }
   },
   "outputs": [],
   "source": [
    "# Beregn prikkprodukt\n",
    "\n",
    "np.dot(u, v)"
   ]
  },
  {
   "cell_type": "markdown",
   "metadata": {
    "colab_type": "text",
    "id": "x4YwUYZ1KImf"
   },
   "source": [
    "<h3 id=\"cons\">Legg en konstant til en numpy array</h3>"
   ]
  },
  {
   "cell_type": "markdown",
   "metadata": {
    "colab_type": "text",
    "id": "8b94dPrQKImg"
   },
   "source": [
    "Nå ser vi på array"
   ]
  },
  {
   "cell_type": "code",
   "execution_count": null,
   "metadata": {
    "colab": {},
    "colab_type": "code",
    "collapsed": false,
    "id": "kgsl2e3VKImh",
    "jupyter": {
     "outputs_hidden": false
    }
   },
   "outputs": [],
   "source": [
    "# Lag en numpy array\n",
    "\n",
    "u = np.array([1, 2, 3, -1]) \n",
    "u"
   ]
  },
  {
   "cell_type": "markdown",
   "metadata": {
    "colab_type": "text",
    "id": "mfi4tZlNKImp"
   },
   "source": [
    "Legge til konstanten 1 til hvert element i array:"
   ]
  },
  {
   "cell_type": "code",
   "execution_count": null,
   "metadata": {
    "colab": {},
    "colab_type": "code",
    "collapsed": false,
    "id": "5HFgdkmTKImq",
    "jupyter": {
     "outputs_hidden": false
    }
   },
   "outputs": [],
   "source": [
    "# Legg til en konstant til en array\n",
    "\n",
    "u + 1"
   ]
  },
  {
   "cell_type": "markdown",
   "metadata": {
    "colab_type": "text",
    "id": "rAnF2HyyKImu"
   },
   "source": [
    "Prosessen er oppsummert i følgende animasjon:"
   ]
  },
  {
   "cell_type": "markdown",
   "metadata": {
    "colab_type": "text",
    "id": "p__VCESsKImv"
   },
   "source": [
    "<img src=\"https://s3-api.us-geo.objectstorage.softlayer.net/cf-courses-data/CognitiveClass/PY0101EN/Chapter%205/Images/NumOneAdd.gif\" width=\"500\" />"
   ]
  },
  {
   "cell_type": "markdown",
   "metadata": {
    "colab_type": "text",
    "id": "iUATjqWDKImw"
   },
   "source": [
    "<hr>"
   ]
  },
  {
   "cell_type": "markdown",
   "metadata": {
    "colab_type": "text",
    "id": "orBC1yCMKIm0"
   },
   "source": [
    "<h2 id=\"math\">Matematiske funksjoner og konstanter</h2>"
   ]
  },
  {
   "cell_type": "markdown",
   "metadata": {
    "colab_type": "text",
    "id": "3MvEcOKCKIm1"
   },
   "source": [
    "Numpy har mange matematiske funksjoner og konstanter vi kan bruke etter vi har lastet inn numpy. For eksempel vet numpy om Pi:"
   ]
  },
  {
   "cell_type": "code",
   "execution_count": null,
   "metadata": {
    "colab": {},
    "colab_type": "code",
    "collapsed": false,
    "id": "EDDNjMKGKIm2",
    "jupyter": {
     "outputs_hidden": false
    }
   },
   "outputs": [],
   "source": [
    "# Verdi av pi\n",
    "\n",
    "np.pi"
   ]
  },
  {
   "cell_type": "markdown",
   "metadata": {
    "colab_type": "text",
    "id": "-_LZ9uHsKIm9"
   },
   "source": [
    "Vi kan lage følgende numpy-array i Radianer:"
   ]
  },
  {
   "cell_type": "code",
   "execution_count": null,
   "metadata": {
    "colab": {},
    "colab_type": "code",
    "collapsed": false,
    "id": "mwy2qzWQKIm9",
    "jupyter": {
     "outputs_hidden": false
    }
   },
   "outputs": [],
   "source": [
    "# Lag en numpy array i radianer\n",
    "\n",
    "x = np.array([0, np.pi/2 , np.pi])"
   ]
  },
  {
   "cell_type": "markdown",
   "metadata": {
    "colab_type": "text",
    "id": "P7q_yIV7KInF"
   },
   "source": [
    "Et eksempel for noen vanlige funksjoner numpy vet om er sinus og cosinus (forkortet i numpy til <code>sin </code> og <code>cos</code>.  \n",
    "Vi kan bruke funksjonen <code>sin</code> til array <code>x</code> og tilordne verdiene til en ny array <code>y</code>; dette bruker sinusfunksjonen til hvert element i arrayen:"
   ]
  },
  {
   "cell_type": "code",
   "execution_count": null,
   "metadata": {
    "colab": {},
    "colab_type": "code",
    "collapsed": false,
    "id": "dSJJQNg7KInG",
    "jupyter": {
     "outputs_hidden": false
    }
   },
   "outputs": [],
   "source": [
    "# Beregn sinus av hver element\n",
    "\n",
    "y = np.sin(x)\n",
    "y"
   ]
  },
  {
   "cell_type": "markdown",
   "metadata": {},
   "source": [
    "Prøv å bruke for eksempel sinus funksjonen til en liste (ikke en numpy array). Hva skjer?"
   ]
  },
  {
   "cell_type": "markdown",
   "metadata": {
    "colab_type": "text",
    "id": "sYqsFO0sKInK"
   },
   "source": [
    "<hr>"
   ]
  },
  {
   "cell_type": "markdown",
   "metadata": {
    "colab_type": "text",
    "id": "mb5Ijnt3KInK"
   },
   "source": [
    "<h2 id=\"lin\">Linspace</h2>"
   ]
  },
  {
   "cell_type": "markdown",
   "metadata": {
    "colab_type": "text",
    "id": "9ARil7cWKInL"
   },
   "source": [
    "En nyttig funksjon for å plotte matematiske funksjoner er \"linspace\". Linspace returnerer jevnt fordelte tall over et spesifisert intervall. Vi spesifiserer startpunktet for sekvensen og sluttpunktet for sekvensen. Parameteren \"num\" indikerer antall punkt i sekvensen som skal genereres, i dette tilfellet vil vi lage 5 punkter mellom -2 og 2:"
   ]
  },
  {
   "cell_type": "code",
   "execution_count": null,
   "metadata": {
    "colab": {},
    "colab_type": "code",
    "collapsed": false,
    "id": "g-3le3xwKInM",
    "jupyter": {
     "outputs_hidden": false
    }
   },
   "outputs": [],
   "source": [
    "# Lag en numpy array av tall mellom [-2, 2] som har 5 jevnt fordelte elementer\n",
    "\n",
    "np.linspace(-2, 2, num=5)"
   ]
  },
  {
   "cell_type": "markdown",
   "metadata": {
    "colab_type": "text",
    "id": "taMwHv08KInQ"
   },
   "source": [
    "Hvis vi endrer parameteren <code>num</code> til 9, får vi 9 jevnt fordelte tall over intervallet fra -2 til 2:"
   ]
  },
  {
   "cell_type": "code",
   "execution_count": null,
   "metadata": {
    "colab": {},
    "colab_type": "code",
    "collapsed": false,
    "id": "5D6oYAajKInS",
    "jupyter": {
     "outputs_hidden": false
    }
   },
   "outputs": [],
   "source": [
    "# Lag en numpy array av tall mellom [-2, 2] som har 9 jevnt fordelte elementer\n",
    "\n",
    "np.linspace(-2, 2, num=9)"
   ]
  },
  {
   "cell_type": "markdown",
   "metadata": {
    "colab_type": "text",
    "id": "F585lKB5KInV"
   },
   "source": [
    "Vi kan bruke funksjonen linspace til å generere 100 jevnt fordelte punkter fra intervallet 0 til 2π:"
   ]
  },
  {
   "cell_type": "code",
   "execution_count": null,
   "metadata": {
    "colab": {},
    "colab_type": "code",
    "collapsed": false,
    "id": "dOZ7SgJ_KInW",
    "jupyter": {
     "outputs_hidden": false
    }
   },
   "outputs": [],
   "source": [
    "# Vi kan bruke funksjonslinjerommet til å generere 100 jevnt fordelte prøver fra intervallet  [0, 2π] \n",
    "\n",
    "x = np.linspace(0, 2*np.pi, num=100)"
   ]
  },
  {
   "cell_type": "markdown",
   "metadata": {
    "colab_type": "text",
    "id": "8-sX9WISKIna"
   },
   "source": [
    "\n",
    "Vi kan bruke sinusfunksjonen til hvert element i array <code>x</code> og tilordne den til array <code>y</code>:"
   ]
  },
  {
   "cell_type": "code",
   "execution_count": null,
   "metadata": {
    "colab": {},
    "colab_type": "code",
    "id": "N5EEp3DhKInc"
   },
   "outputs": [],
   "source": [
    "# Beregn sinus av array x\n",
    "\n",
    "y = np.sin(x)"
   ]
  },
  {
   "cell_type": "code",
   "execution_count": null,
   "metadata": {
    "colab": {},
    "colab_type": "code",
    "collapsed": false,
    "id": "BGyPZYKjKInf",
    "jupyter": {
     "outputs_hidden": false
    }
   },
   "outputs": [],
   "source": [
    "# Tegn grafen av resultatet\n",
    "\n",
    "plt.plot(x, y)"
   ]
  },
  {
   "cell_type": "markdown",
   "metadata": {
    "colab_type": "text",
    "id": "iaslwbuAKIni"
   },
   "source": [
    "<hr>"
   ]
  },
  {
   "cell_type": "markdown",
   "metadata": {
    "colab_type": "text",
    "id": "-mSf-WVSKIni"
   },
   "source": [
    "<h2 id=\"quiz\">Quiz om 1D numpy array</h2>"
   ]
  },
  {
   "cell_type": "markdown",
   "metadata": {
    "colab_type": "text",
    "id": "JVMQ_AaWKInj"
   },
   "source": [
    "Implementer følgende subtraksjon i numpy: u-v"
   ]
  },
  {
   "cell_type": "code",
   "execution_count": null,
   "metadata": {
    "colab": {},
    "colab_type": "code",
    "id": "o-uuteIqKInj"
   },
   "outputs": [],
   "source": [
    "# Skriv kode ditt under og trykk på Shift+Enter for å kjøre\n",
    "\n",
    "u = np.array([1, 0])\n",
    "v = np.array([0, 1])"
   ]
  },
  {
   "cell_type": "markdown",
   "metadata": {
    "colab_type": "text",
    "id": "M9_tFC38KInm"
   },
   "source": [
    "Dobbeltklikk __har__ for løsning.\n",
    "\n",
    "<!-- Din løsnign står under:\n",
    "u - v\n",
    "-->"
   ]
  },
  {
   "cell_type": "markdown",
   "metadata": {
    "colab_type": "text",
    "id": "ha-mKuhUKInm"
   },
   "source": [
    "<hr>"
   ]
  },
  {
   "cell_type": "markdown",
   "metadata": {
    "colab_type": "text",
    "id": "QG0tQaCsKInn"
   },
   "source": [
    "Multipliser den numpy array z med -2:"
   ]
  },
  {
   "cell_type": "code",
   "execution_count": null,
   "metadata": {
    "colab": {},
    "colab_type": "code",
    "id": "BT3KqI7wKInn"
   },
   "outputs": [],
   "source": [
    "# Skriv kode ditt under og trykk på Shift+Enter for å kjøre\n",
    "\n",
    "z = np.array([2, 4])"
   ]
  },
  {
   "cell_type": "markdown",
   "metadata": {
    "colab_type": "text",
    "id": "B8u0EDQTKInq"
   },
   "source": [
    "Dobbeltklikk __har__ for løsning.\n",
    "\n",
    "<!-- Din løsnign står under:\n",
    "-2 * z\n",
    "-->"
   ]
  },
  {
   "cell_type": "markdown",
   "metadata": {
    "colab_type": "text",
    "id": "iqnvBWrDKInr"
   },
   "source": [
    "<hr>"
   ]
  },
  {
   "cell_type": "markdown",
   "metadata": {
    "colab_type": "text",
    "id": "k3vFOcsqKInr"
   },
   "source": [
    "\n",
    "Tenk på listen <code>[1, 2, 3, 4, 5]</code> og <code>[1, 0, 1, 0, 1]</code>, og omdann begge listene til en numpy-array (hver). Deretter multipliser disse array:"
   ]
  },
  {
   "cell_type": "code",
   "execution_count": null,
   "metadata": {
    "colab": {},
    "colab_type": "code",
    "id": "MHHjJkS9KIns"
   },
   "outputs": [],
   "source": [
    "# Skriv kode ditt under og trykk på Shift+Enter for å kjøre"
   ]
  },
  {
   "cell_type": "markdown",
   "metadata": {
    "colab_type": "text",
    "id": "skHLclESKInu"
   },
   "source": [
    "Dobbeltklikk __har__ for løsning.\n",
    "\n",
    "<!-- Din løsnign står under:\n",
    "a = np.array([1, 2, 3, 4, 5])\n",
    "b = np.array([1, 0, 1, 0, 1])\n",
    "a * b\n",
    "-->"
   ]
  },
  {
   "cell_type": "markdown",
   "metadata": {
    "colab_type": "text",
    "id": "jUjvxosPKInu"
   },
   "source": [
    "<hr>"
   ]
  },
  {
   "cell_type": "markdown",
   "metadata": {
    "colab_type": "text",
    "id": "NLVwM_eeKInx"
   },
   "source": [
    "Omdann listene <code>[-1, 1]</code> og <code>[1, 1]</code> til numpy array <code>a</code> og <code>b</code>. Plot deretter arrayene som vektorer ved å bruke funksjonen <code>Plotvec2</code> og finn prikkproduktet:"
   ]
  },
  {
   "cell_type": "code",
   "execution_count": null,
   "metadata": {
    "colab": {},
    "colab_type": "code",
    "id": "DiZP3_FjKIny"
   },
   "outputs": [],
   "source": [
    "# Skriv kode ditt under og trykk på Shift+Enter for å kjøre"
   ]
  },
  {
   "cell_type": "markdown",
   "metadata": {
    "colab_type": "text",
    "id": "QUARvp-bKIn0"
   },
   "source": [
    "Dobbeltklikk __har__ for løsning.\n",
    "\n",
    "<!-- Din løsnign står under:\n",
    "a = np.array([-1, 1])\n",
    "b = np.array([1, 1])\n",
    "Plotvec2(a, b)\n",
    "print(\"Prikkprodukten er \", np.dot(a,b))\n",
    "-->"
   ]
  },
  {
   "cell_type": "markdown",
   "metadata": {
    "colab_type": "text",
    "id": "IhmzpgkFKIn1"
   },
   "source": [
    "<hr>"
   ]
  },
  {
   "cell_type": "markdown",
   "metadata": {
    "colab_type": "text",
    "id": "oa21WtO3NCf4"
   },
   "source": [
    "The present document is based on the <a href=\"https://cognitiveclass.ai/courses/python-for-data-science\">IBM cognitive class \"Python for data science</a>. \n",
    "<p>Copyright &copy; Copyright Nord University 2021. This notebook and its source code are released under the terms of the <a href=\"https://opensource.org/licenses/MIT\">MIT License</a>.</p>"
   ]
  }
 ],
 "metadata": {
  "colab": {
   "name": "PY0101EN-6-1-Numpy1D.ipynb",
   "provenance": []
  },
  "kernelspec": {
   "display_name": "Python 3",
   "language": "python",
   "name": "python3"
  },
  "language_info": {
   "codemirror_mode": {
    "name": "ipython",
    "version": 3
   },
   "file_extension": ".py",
   "mimetype": "text/x-python",
   "name": "python",
   "nbconvert_exporter": "python",
   "pygments_lexer": "ipython3",
   "version": "3.7.4"
  }
 },
 "nbformat": 4,
 "nbformat_minor": 4
}
