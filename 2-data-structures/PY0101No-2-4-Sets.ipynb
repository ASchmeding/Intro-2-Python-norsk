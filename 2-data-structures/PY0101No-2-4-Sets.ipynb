{
 "cells": [
  {
   "cell_type": "markdown",
   "metadata": {
    "colab_type": "text",
    "id": "QfR7kGin6nlp"
   },
   "source": [
    "<h1>Mengder i Python</h1>"
   ]
  },
  {
   "cell_type": "markdown",
   "metadata": {
    "colab_type": "text",
    "id": "QUWfux4V6nlr"
   },
   "source": [
    "<p><strong>Velkommen!</strong> Denne notatboken vil lære deg om mengder (sets) i Python-programmeringsspråket. Ved slutten av denne økta vil du kjenne de grunnleggende mengdeoperasjonene i Python, inkludert hva det er, operasjoner og logiske operasjoner.</p> "
   ]
  },
  {
   "cell_type": "markdown",
   "metadata": {
    "colab_type": "text",
    "id": "uQVkzdS16nlt"
   },
   "source": [
    "<h2>Innhold</h2>\n",
    "<div class=\"alert alert-block alert-info\" style=\"margin-top: 20px\">\n",
    "    <ul>\n",
    "        <li>\n",
    "            <a href=\"#set\">Mengder</a>\n",
    "            <ul>\n",
    "                <li><a href=\"content\">Innhold av en mengde</a></li>\n",
    "                <li><a href=\"op\">Mengdeoperasjoner</a></li>\n",
    "                <li><a href=\"logic\">Mengder logiske operasjoner</a></li>\n",
    "            </ul>\n",
    "        </li>\n",
    "        <li>\n",
    "            <a href=\"#quiz\">Quiz om mengder</a>\n",
    "        </li>\n",
    "    </ul>\n",
    "    <p>\n",
    "        Tidsbruk: <strong>20 min</strong>\n",
    "    </p>\n",
    "</div>\n",
    "\n",
    "<hr>"
   ]
  },
  {
   "cell_type": "markdown",
   "metadata": {
    "colab_type": "text",
    "id": "3S4uccF46nlu"
   },
   "source": [
    "<h2 id=\"set\">Mengder</h2>\n",
    "\n",
    "En mengde er en sammling av ulike objekter som oppfører seg ganske annerledes enn en liste. I en liste har hver element sin plass som vi kan få pågrep på ved bruk av indeksen. I en mengde er elementene ikke ordnet. I tillegg tilatter en mengde ikke at vi har et element flere ganger (det er mulig i en liste, for eksempel <code>[1,1]</code> er en liste som inneholder elementet $1$ to ganger)."
   ]
  },
  {
   "cell_type": "markdown",
   "metadata": {
    "colab_type": "text",
    "id": "VJxnLXlX6nlw"
   },
   "source": [
    "<h3 id=\"content\">Innhold av en mengde</h3>"
   ]
  },
  {
   "cell_type": "markdown",
   "metadata": {
    "colab_type": "text",
    "id": "t9ERtt-k6nlx"
   },
   "source": [
    "En mengde er en unik samling av objekter i Python. Du kan angi en mengde med en krøllete parentes <b>{}</b>. Python  vil automatisk fjerne dupliserte elementer:"
   ]
  },
  {
   "cell_type": "code",
   "execution_count": null,
   "metadata": {
    "colab": {},
    "colab_type": "code",
    "id": "fnWBbRC56nly",
    "jupyter": {
     "outputs_hidden": false
    }
   },
   "outputs": [],
   "source": [
    "# Lag en mengde\n",
    "\n",
    "set1 = {\"pop\", \"rock\", \"soul\", \"hard rock\", \"rock\", \"R&B\", \"rock\", \"disco\"}\n",
    "set1"
   ]
  },
  {
   "cell_type": "markdown",
   "metadata": {
    "colab_type": "text",
    "id": "cx43a0d76nl6"
   },
   "source": [
    "Prosessen når Python lager en mengde er illustrert i figuren:"
   ]
  },
  {
   "cell_type": "markdown",
   "metadata": {
    "colab_type": "text",
    "id": "5T7OKmve6nl7"
   },
   "source": [
    "<img src=\"https://github.com/ASchmeding/Intro-2-Python-norsk/blob/main/Images/SetsUnique.png?raw=true\" width=\"1100\" />"
   ]
  },
  {
   "cell_type": "markdown",
   "metadata": {
    "colab_type": "text",
    "id": "A2pmL-uv6nmF"
   },
   "source": [
    "La oss nå lage en mengde med sjangere:"
   ]
  },
  {
   "cell_type": "code",
   "execution_count": null,
   "metadata": {},
   "outputs": [],
   "source": [
    "music_genres = set([\"pop\", \"pop\", \"rock\", \"folk rock\", \"hard rock\", \"soul\", \\\n",
    "                    \"progressive rock\", \"soft rock\", \"R&B\", \"disco\"])\n",
    "music_genres"
   ]
  },
  {
   "cell_type": "markdown",
   "metadata": {
    "colab_type": "text",
    "id": "Vb2MLq6D6nl8"
   },
   "source": [
    "Du kan også lage en mengde ved å omdanne en liste:"
   ]
  },
  {
   "cell_type": "code",
   "execution_count": null,
   "metadata": {
    "colab": {},
    "colab_type": "code",
    "id": "YBv8k6iL6nl9",
    "jupyter": {
     "outputs_hidden": false
    },
    "outputId": "aca4723d-c465-4995-e486-9ff8a88245fb",
    "scrolled": true
   },
   "outputs": [],
   "source": [
    "# Omdann en liste til en mengde\n",
    "\n",
    "album_list = [ \"Michael Jackson\", \"Thriller\", 1982, \"00:42:19\", \\\n",
    "              \"Pop, Rock, R&B\", 46.0, 65, \"30-Nov-82\", None, 10.0]\n",
    "album_set = set(album_list)             \n",
    "album_set"
   ]
  },
  {
   "cell_type": "markdown",
   "metadata": {
    "colab_type": "text",
    "id": "zdBvRwzQ6nmN"
   },
   "source": [
    "<h3 id=\"op\">Mengde operasjoner</h3> "
   ]
  },
  {
   "cell_type": "markdown",
   "metadata": {
    "colab_type": "text",
    "id": "T3gT7Ii-6nmO"
   },
   "source": [
    "La oss gå over mengdeoperasjoner, da disse kan brukes til å endre mengder. Vurder mengden <b>A</b>:"
   ]
  },
  {
   "cell_type": "code",
   "execution_count": null,
   "metadata": {
    "colab": {},
    "colab_type": "code",
    "id": "qRVDtPsd6nmQ",
    "jupyter": {
     "outputs_hidden": false
    },
    "outputId": "55bdd113-8370-4e98-d720-01833bb484f4"
   },
   "outputs": [],
   "source": [
    "# Eksempel mengde\n",
    "\n",
    "A = set([\"Thriller\", \"Back in Black\", \"AC/DC\"])\n",
    "A"
   ]
  },
  {
   "cell_type": "markdown",
   "metadata": {
    "colab_type": "text",
    "id": "dl9rsNcu6nmW"
   },
   "source": [
    "Vi kan legge til et element i et sett ved å bruke metoden <code>add()</code>:"
   ]
  },
  {
   "cell_type": "code",
   "execution_count": null,
   "metadata": {
    "colab": {},
    "colab_type": "code",
    "id": "uom3KZPH6nmY",
    "jupyter": {
     "outputs_hidden": false
    },
    "outputId": "3d822f5e-f1ea-435c-f0b6-42fc5a7108a0"
   },
   "outputs": [],
   "source": [
    "# Legg til ett element til mengden\n",
    "\n",
    "A.add(\"NSYNC\")\n",
    "A"
   ]
  },
  {
   "cell_type": "markdown",
   "metadata": {
    "colab_type": "text",
    "id": "D0VQcCrc6nmf"
   },
   "source": [
    " Hvis vi legger til det samme elementet to ganger, vil ingenting skje da det ikke kan være duplikater i en mengde:"
   ]
  },
  {
   "cell_type": "code",
   "execution_count": null,
   "metadata": {
    "colab": {},
    "colab_type": "code",
    "id": "IxMxQIYU6nmg",
    "jupyter": {
     "outputs_hidden": false
    },
    "outputId": "38761992-3cbb-4c61-f88a-cf86608e426c"
   },
   "outputs": [],
   "source": [
    "# Prøv å legge til ett element to ganger\n",
    "\n",
    "A.add(\"NSYNC\")\n",
    "A"
   ]
  },
  {
   "cell_type": "markdown",
   "metadata": {
    "colab_type": "text",
    "id": "gW8ie7nD6nmm"
   },
   "source": [
    "Vi kan fjerne et element fra en mengde ved å bruke <code>remove</code>-metoden:"
   ]
  },
  {
   "cell_type": "code",
   "execution_count": null,
   "metadata": {
    "colab": {},
    "colab_type": "code",
    "id": "sEw7hqVM6nmn",
    "jupyter": {
     "outputs_hidden": false
    },
    "outputId": "f6a987e6-79cb-47e5-8b38-e809436a0398"
   },
   "outputs": [],
   "source": [
    "# Remove the element from set\n",
    "\n",
    "A.remove(\"NSYNC\")\n",
    "A"
   ]
  },
  {
   "cell_type": "markdown",
   "metadata": {
    "colab_type": "text",
    "id": "O6NW-GLT6nmw"
   },
   "source": [
    "For å bekrefte om et element er i mengden **A** kan vi bruke kommandoen <code>in</code>:"
   ]
  },
  {
   "cell_type": "code",
   "execution_count": null,
   "metadata": {
    "colab": {},
    "colab_type": "code",
    "id": "Z1Niedw56nmx",
    "jupyter": {
     "outputs_hidden": false
    },
    "outputId": "932007f7-23cd-4c21-82a2-779fc4f8d331"
   },
   "outputs": [],
   "source": [
    "# Sjekk hvis et element er i mengden\n",
    "\n",
    "\"AC/DC\" in A"
   ]
  },
  {
   "cell_type": "markdown",
   "metadata": {
    "colab_type": "text",
    "id": "90lxo7cw6nm5"
   },
   "source": [
    "<h3 id=\"logic\">Logiske operasjoner for mengder</h3>"
   ]
  },
  {
   "cell_type": "markdown",
   "metadata": {
    "colab_type": "text",
    "id": "pq05MbyS6nm6"
   },
   "source": [
    "Som vi er kanskje vant fra matematikk vil vi ofte beregne forskjellen mellom to mengder. Det fins flere operasjoner og Python kan for eksempel beregne den symmetriske forskjellen, skjæring mellom to mengder og foreningen av mengder. Vi skal se på dem nå."
   ]
  },
  {
   "cell_type": "markdown",
   "metadata": {
    "colab_type": "text",
    "id": "CRoyFzwa6nm6"
   },
   "source": [
    "Tenk på følgende to mengder:"
   ]
  },
  {
   "cell_type": "code",
   "execution_count": null,
   "metadata": {
    "colab": {},
    "colab_type": "code",
    "id": "AByLNYJx6nm7",
    "jupyter": {
     "outputs_hidden": false
    }
   },
   "outputs": [],
   "source": [
    "# Eksempel mengder\n",
    "\n",
    "album_set1 = set([\"Thriller\", 'AC/DC', 'Back in Black'])\n",
    "album_set2 = set([ \"AC/DC\", \"Back in Black\", \"The Dark Side of the Moon\"])"
   ]
  },
  {
   "cell_type": "markdown",
   "metadata": {
    "colab_type": "text",
    "id": "rQzcZkdf6nnA"
   },
   "source": [
    "<img src=\"https://github.com/ASchmeding/Intro-2-Python-norsk/blob/main/Images/SetsSamples.png?raw=true\" width=\"650\" />"
   ]
  },
  {
   "cell_type": "code",
   "execution_count": null,
   "metadata": {
    "colab": {},
    "colab_type": "code",
    "id": "huF2J5NT6nnA",
    "jupyter": {
     "outputs_hidden": false
    },
    "outputId": "29079516-4493-4806-95cf-a1591f2008e8",
    "scrolled": true
   },
   "outputs": [],
   "source": [
    "# Skriv ut de to mengder\n",
    "\n",
    "album_set1, album_set2"
   ]
  },
  {
   "cell_type": "markdown",
   "metadata": {
    "colab_type": "text",
    "id": "Da7TCo566nnF"
   },
   "source": [
    "Siden begge settene inneholder <b>AC/DC</b> og <b>Back in Black</b>, representerer vi disse vanlige elementene med skjæring mellom to sirkler."
   ]
  },
  {
   "cell_type": "markdown",
   "metadata": {
    "colab_type": "text",
    "id": "91Gw7cU_6nnG"
   },
   "source": [
    "<img src = \"https://github.com/ASchmeding/Intro-2-Python-norsk/blob/main/Images/SetsLogic.png?raw=true\" width = \"650\" />"
   ]
  },
  {
   "cell_type": "markdown",
   "metadata": {
    "colab_type": "text",
    "id": "JcZZhEED6nnH"
   },
   "source": [
    "I Python kan vi finne skjæring mellom to mengder ved å bruke <code>&</code>:"
   ]
  },
  {
   "cell_type": "code",
   "execution_count": null,
   "metadata": {
    "colab": {},
    "colab_type": "code",
    "id": "1QM7Ijst6nnI",
    "jupyter": {
     "outputs_hidden": false
    },
    "outputId": "2bbbe157-cdc7-41ea-8e16-816bab2bb018"
   },
   "outputs": [],
   "source": [
    "# Finn skjæring mellom to mengder\n",
    "\n",
    "intersection = album_set1 & album_set2\n",
    "intersection"
   ]
  },
  {
   "cell_type": "markdown",
   "metadata": {
    "colab_type": "text",
    "id": "gP_UxKjI6nnM"
   },
   "source": [
    "Du kan finne alle elementene som bare finnes i <code>album_set1</code> ved å bruke <code>difference</code>-metoden:"
   ]
  },
  {
   "cell_type": "code",
   "execution_count": null,
   "metadata": {
    "colab": {},
    "colab_type": "code",
    "id": "nhhom5p-6nnP",
    "jupyter": {
     "outputs_hidden": false
    },
    "outputId": "61a0ae0a-382b-4fee-b795-2aa8e2d53be5"
   },
   "outputs": [],
   "source": [
    "# Finn alle elementer i set1 men ikke i set2\n",
    "\n",
    "album_set1.difference(album_set2)  "
   ]
  },
  {
   "cell_type": "markdown",
   "metadata": {
    "colab_type": "text",
    "id": "X9zjq7FP6nnT"
   },
   "source": [
    "Du trenger bare å vurdere elementer i <code>album_set1</code>; alle elementene i <code>album_set2</code>, inkludert skjæringen, er ikke inkludert."
   ]
  },
  {
   "cell_type": "markdown",
   "metadata": {
    "colab_type": "text",
    "id": "N7IJa2Tv6nnU"
   },
   "source": [
    "<img src=\"https://github.com/ASchmeding/Intro-2-Python-norsk/blob/main/Images/SetsLeft.png?raw=true\" width=\"650\" />"
   ]
  },
  {
   "cell_type": "markdown",
   "metadata": {
    "colab_type": "text",
    "id": "dp9JcisO6nnV"
   },
   "source": [
    "Elementene i <code>album_set2</code> men ikke i <code>album_set1</code> er gitt av:"
   ]
  },
  {
   "cell_type": "code",
   "execution_count": null,
   "metadata": {
    "colab": {},
    "colab_type": "code",
    "id": "gMt-re8l6nnW",
    "jupyter": {
     "outputs_hidden": false
    }
   },
   "outputs": [],
   "source": [
    "album_set2.difference(album_set1)  "
   ]
  },
  {
   "cell_type": "markdown",
   "metadata": {
    "colab_type": "text",
    "id": "jQpN-Dm26nnc"
   },
   "source": [
    "<img src = \"https://github.com/ASchmeding/Intro-2-Python-norsk/blob/main/Images/SetsRight.png?raw=true\" width=\"650\" />"
   ]
  },
  {
   "cell_type": "markdown",
   "metadata": {
    "colab_type": "text",
    "id": "HKLUeHOE6nnd"
   },
   "source": [
    "Du kan også finne skjæring mellom <code>album_list1</code> og <code>album_list2</code>, ved å bruke <code>intersection</code>-metoden:"
   ]
  },
  {
   "cell_type": "code",
   "execution_count": null,
   "metadata": {
    "colab": {},
    "colab_type": "code",
    "id": "hbgbzmE86nne",
    "jupyter": {
     "outputs_hidden": false
    }
   },
   "outputs": [],
   "source": [
    "# Bruk intersection metode for å finne skjæring mellom album_list1 og album_list2\n",
    "\n",
    "album_set1.intersection(album_set2)   "
   ]
  },
  {
   "cell_type": "markdown",
   "metadata": {
    "colab_type": "text",
    "id": "B1gNa40U6nnl"
   },
   "source": [
    "Dette tilsvarer skjæring mellom de to sirklene:"
   ]
  },
  {
   "cell_type": "markdown",
   "metadata": {
    "colab_type": "text",
    "id": "1H8zDI2U6nnm"
   },
   "source": [
    "<img src=\"https://github.com/ASchmeding/Intro-2-Python-norsk/blob/main/Images/SetsIntersect.png?raw=true\" width=\"650\" />"
   ]
  },
  {
   "cell_type": "markdown",
   "metadata": {
    "colab_type": "text",
    "id": "_RlIb36i6nnn"
   },
   "source": [
    "Unionen tilsvarer alle elementene i begge mengdene, som er representert ved å fargelegge begge sirklene:"
   ]
  },
  {
   "cell_type": "markdown",
   "metadata": {
    "colab_type": "text",
    "id": "vDg4JBa36nno"
   },
   "source": [
    "<img src = \"https://github.com/ASchmeding/Intro-2-Python-norsk/blob/main/Images/SetsUnion.png?raw=true\" width=\"650\" />"
   ]
  },
  {
   "cell_type": "markdown",
   "metadata": {
    "colab_type": "text",
    "id": "-iZP5baC6nnq"
   },
   "source": [
    " Unionen finnes i Python ved å bruke <code>union</code> metoden."
   ]
  },
  {
   "cell_type": "code",
   "execution_count": null,
   "metadata": {
    "colab": {},
    "colab_type": "code",
    "collapsed": true,
    "id": "uaSvsPVc6nnr",
    "jupyter": {
     "outputs_hidden": true
    }
   },
   "outputs": [],
   "source": [
    "# Finn union av to mengder\n",
    "\n",
    "album_set1.union(album_set2)"
   ]
  },
  {
   "cell_type": "markdown",
   "metadata": {
    "colab_type": "text",
    "id": "pslgw3hI6nnx"
   },
   "source": [
    "Man kan sjekke om en mengde innholder eller er innholdet i en annen mengde, slik:"
   ]
  },
  {
   "cell_type": "code",
   "execution_count": null,
   "metadata": {
    "colab": {},
    "colab_type": "code",
    "id": "GTsisIz26nny",
    "jupyter": {
     "outputs_hidden": false
    }
   },
   "outputs": [],
   "source": [
    "# Sjekk hvis mengden innholder en annen mengde\n",
    "\n",
    "set(album_set1).issuperset(album_set2)   "
   ]
  },
  {
   "cell_type": "code",
   "execution_count": null,
   "metadata": {
    "colab": {},
    "colab_type": "code",
    "id": "WLYay_On6nn4",
    "jupyter": {
     "outputs_hidden": false
    }
   },
   "outputs": [],
   "source": [
    "# Sjekk hvis mengden er innholdet i en annen mengde\n",
    "\n",
    "set(album_set2).issubset(album_set1)     "
   ]
  },
  {
   "cell_type": "markdown",
   "metadata": {
    "colab_type": "text",
    "id": "qJQ8c_iZ6noA"
   },
   "source": [
    "Her er et eksempel der <code>issubset()</code> og <code>issuperset()</code> returnerer true:"
   ]
  },
  {
   "cell_type": "code",
   "execution_count": null,
   "metadata": {
    "colab": {},
    "colab_type": "code",
    "id": "iogHk2ny6noB",
    "jupyter": {
     "outputs_hidden": false
    }
   },
   "outputs": [],
   "source": [
    "# Sjekk hvis mengden er innholdet inn i en annen mengde\n",
    "\n",
    "set({\"Back in Black\", \"AC/DC\"}).issubset(album_set1) "
   ]
  },
  {
   "cell_type": "code",
   "execution_count": null,
   "metadata": {
    "colab": {},
    "colab_type": "code",
    "id": "5BBXQhFx6noF",
    "jupyter": {
     "outputs_hidden": false
    }
   },
   "outputs": [],
   "source": [
    "# Sjekk hvis mengden innholder en annen mengde\n",
    "\n",
    "album_set1.issuperset({\"Back in Black\", \"AC/DC\"})   "
   ]
  },
  {
   "cell_type": "markdown",
   "metadata": {
    "colab_type": "text",
    "id": "HSVPX6DK6noM"
   },
   "source": [
    "<hr>"
   ]
  },
  {
   "cell_type": "markdown",
   "metadata": {
    "colab_type": "text",
    "id": "cjQTg7nC6noM"
   },
   "source": [
    "<h2 id=\"quiz\">Quiz om mengder</h2>"
   ]
  },
  {
   "cell_type": "markdown",
   "metadata": {
    "colab_type": "text",
    "id": "UxiSVVh36noN"
   },
   "source": [
    "Omdann listen <code>['rap','house','electronic music', 'rap']</code> til en mengde:"
   ]
  },
  {
   "cell_type": "code",
   "execution_count": null,
   "metadata": {
    "colab": {},
    "colab_type": "code",
    "id": "gHqtgMAa6noO"
   },
   "outputs": [],
   "source": [
    "# Skriv koden din under og trykk Shift+Enter for å utføre"
   ]
  },
  {
   "cell_type": "markdown",
   "metadata": {
    "colab_type": "text",
    "id": "CU11Ggme6noS"
   },
   "source": [
    "Dobbeltklikk __har__ for løsning.\n",
    "\n",
    "<!-- Din løsnign står under:\n",
    "set(['rap','house','electronic music','rap'])\n",
    "-->"
   ]
  },
  {
   "cell_type": "markdown",
   "metadata": {
    "colab_type": "text",
    "id": "xC3O6p996noT"
   },
   "source": [
    "<hr>"
   ]
  },
  {
   "cell_type": "markdown",
   "metadata": {
    "colab_type": "text",
    "id": "pFMcX2if6noU"
   },
   "source": [
    "Se på listen <code>A = [1, 2, 2, 1]</code> og mengden <code>B = set([1, 2, 2, 1])</code>, beregner summen av listen og mengden ved bruk av <code>sum</code>-kommando. Gjelder <code>sum(A) = sum(B)</code> ?"
   ]
  },
  {
   "cell_type": "code",
   "execution_count": null,
   "metadata": {
    "colab": {},
    "colab_type": "code",
    "id": "fuXPkXbA6noU"
   },
   "outputs": [],
   "source": [
    "# Skriv koden din under og trykk Shift+Enter for å utføre"
   ]
  },
  {
   "cell_type": "markdown",
   "metadata": {
    "colab_type": "text",
    "id": "cK1Op9AU6noa"
   },
   "source": [
    "Dobbeltklikk __har__ for løsning.\n",
    "\n",
    "<!-- Din løsnign står under:\n",
    "A = [1, 2, 2, 1]  \n",
    "B = set([1, 2, 2, 1])\n",
    "print(\"the sum of A is:\", sum(A))\n",
    "print(\"the sum of B is:\", sum(B)) #Vi ser med en gang at sum(A) er ikke lik sum(B), hvorfor?\n",
    "-->"
   ]
  },
  {
   "cell_type": "markdown",
   "metadata": {
    "colab_type": "text",
    "id": "CabYx6wh6noc"
   },
   "source": [
    "<hr>"
   ]
  },
  {
   "cell_type": "markdown",
   "metadata": {
    "colab_type": "text",
    "id": "CvG8XEK56nof"
   },
   "source": [
    "LAg en ny mengde <code>album_set3</code> som er den union av <code>album_set1</code> og <code>album_set2</code>:"
   ]
  },
  {
   "cell_type": "code",
   "execution_count": null,
   "metadata": {
    "colab": {},
    "colab_type": "code",
    "id": "ZvrFjqLR6noh",
    "jupyter": {
     "outputs_hidden": false
    }
   },
   "outputs": [],
   "source": [
    "# Skriv koden din under og trykk Shift+Enter for å utføre\n",
    "\n",
    "album_set1 = set([\"Thriller\", 'AC/DC', 'Back in Black'])\n",
    "album_set2 = set([ \"AC/DC\", \"Back in Black\", \"The Dark Side of the Moon\"])"
   ]
  },
  {
   "cell_type": "markdown",
   "metadata": {
    "colab_type": "text",
    "id": "OyEDs2Fk6nol"
   },
   "source": [
    "Dobbeltklikk __har__ for løsning.\n",
    "\n",
    "<!-- Din løsnign står under:\n",
    "album_set3 = album_set1.union(album_set2)\n",
    "album_set3\n",
    "-->"
   ]
  },
  {
   "cell_type": "markdown",
   "metadata": {
    "colab_type": "text",
    "id": "0y0RTzCC6nom"
   },
   "source": [
    "<hr>"
   ]
  },
  {
   "cell_type": "markdown",
   "metadata": {
    "colab_type": "text",
    "id": "rjuxMejJ6non"
   },
   "source": [
    "Sjekk hvis <code>album_set1</code> er en delmengde av <code>album_set3</code>:"
   ]
  },
  {
   "cell_type": "code",
   "execution_count": null,
   "metadata": {
    "colab": {},
    "colab_type": "code",
    "id": "eP5huD3W6noo",
    "jupyter": {
     "outputs_hidden": false
    }
   },
   "outputs": [],
   "source": [
    "# Skriv koden din under og trykk Shift+Enter for å utføre"
   ]
  },
  {
   "cell_type": "markdown",
   "metadata": {
    "colab_type": "text",
    "id": "t0E0YZPE6nov"
   },
   "source": [
    "Dobbeltklikk __har__ for løsning.\n",
    "\n",
    "<!-- Din løsnign står under:\n",
    "album_set1.issubset(album_set3)\n",
    "-->"
   ]
  },
  {
   "cell_type": "markdown",
   "metadata": {
    "colab_type": "text",
    "id": "oa21WtO3NCf4"
   },
   "source": [
    "The present document is based on the <a href=\"https://cognitiveclass.ai/courses/python-for-data-science\">IBM cognitive class \"Python for data science</a>. \n",
    "<p>Copyright &copy; Copyright Nord University 2021. This notebook and its source code are released under the terms of the <a href=\"https://opensource.org/licenses/MIT\">MIT License</a>.</p>"
   ]
  }
 ],
 "metadata": {
  "colab": {
   "name": "PY0101EN-2-4-Sets.ipynb",
   "provenance": []
  },
  "kernelspec": {
   "display_name": "Python 3",
   "language": "python",
   "name": "python3"
  },
  "language_info": {
   "codemirror_mode": {
    "name": "ipython",
    "version": 3
   },
   "file_extension": ".py",
   "mimetype": "text/x-python",
   "name": "python",
   "nbconvert_exporter": "python",
   "pygments_lexer": "ipython3",
   "version": "3.7.4"
  }
 },
 "nbformat": 4,
 "nbformat_minor": 4
}
