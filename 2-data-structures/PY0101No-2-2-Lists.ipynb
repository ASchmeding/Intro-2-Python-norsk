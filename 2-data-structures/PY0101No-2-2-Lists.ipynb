{
 "cells": [
  {
   "cell_type": "markdown",
   "metadata": {
    "colab_type": "text",
    "id": "EVopA4gD1__6"
   },
   "source": [
    "<h1>Lister i Python</h1>"
   ]
  },
  {
   "cell_type": "markdown",
   "metadata": {
    "colab_type": "text",
    "id": "CpGnzJMH1__7"
   },
   "source": [
    "<p><strong>Velkommen!</strong> Denne notatboken vil lære deg om listene i programmeringsspråket Python. Ved slutten av denne økta vil du kjenne de grunnleggende listeoperasjonene i Python, inkludert indeksering, listeoperasjoner og kopiering/kloning av lister.</p> "
   ]
  },
  {
   "cell_type": "markdown",
   "metadata": {
    "colab_type": "text",
    "id": "nmICCrs51__8"
   },
   "source": [
    "<h2>Innhold</h2>\n",
    "<div class=\"alert alert-block alert-info\" style=\"margin-top: 20px\">\n",
    "    <ul>\n",
    "        <li>\n",
    "            <a href=\"#dataset\">Om datasett</a>\n",
    "        </li>\n",
    "        <li>\n",
    "            <a href=\"#list\">Lister</a>\n",
    "            <ul>\n",
    "                <li><a href=\"index\">Indeksering</a></li>\n",
    "                <li><a href=\"content\">Listeinnhold</a></li>\n",
    "                <li><a href=\"op\">Listeopersasjoner</a></li>\n",
    "                <li><a href=\"co\">Kopiering og kloning av Lister</a></li>\n",
    "            </ul>\n",
    "        </li>\n",
    "        <li>\n",
    "            <a href=\"#quiz\">Quiz om lister</a>\n",
    "        </li>\n",
    "    </ul>\n",
    "    <p>\n",
    "        Tidsbruk <strong>15 min</strong>\n",
    "    </p>\n",
    "</div>\n",
    "\n",
    "<hr>"
   ]
  },
  {
   "cell_type": "markdown",
   "metadata": {
    "colab_type": "text",
    "id": "DZ5U25ml1__-"
   },
   "source": [
    "<h2 id=\"#dataset\">Om datasett</h2>"
   ]
  },
  {
   "cell_type": "markdown",
   "metadata": {
    "colab_type": "text",
    "id": "mrf5FXtG0Bc1"
   },
   "source": [
    "Tenk deg at du mottok albumanbefalinger fra vennene dine og samlet alle anbefalingene i en tabell, med spesifikk informasjon om hvert album.\n",
    "\n",
    "Tabellen har én rad for hver album og flere kolonner:\n",
    "\n",
    "- **artist** - Navn av kunstner\n",
    "- **album** - Navn av album\n",
    "- **released_year** - Året albumet ble gitt ut\n",
    "- **length_min_sec** - Lengde på albumet (timer, minutter, sekunder)\n",
    "- **genre** - Sjangeren til albumet\n",
    "- **music_recording_sales_millions** - Salg av musikkinnspilling (millioner i USD) på [SONG://DATABASE](http://www.song-database.com/)\n",
    "- **claimed_sales_millions** - Albumets påståtte salg (millioner i USD) på [SONG://DATABASE](http://www.song-database.com/)\n",
    "- **date_released** - Datoen da albumet ble utgitt\n",
    "- **soundtrack** - Indikerer om albumet er filmlydsporet (J) eller (N)\n",
    "- **rating_of_friends** - Indikerer vurderingen fra vennene dine fra 1 til 10\n",
    "<br>\n",
    "<br>\n",
    "\n",
    "Datasettet kan sees nedenfor:\n",
    "\n",
    "<font size=\"1\">\n",
    "<table font-size:xx-small style=\"width:80%\">\n",
    "  <tr>\n",
    "    <th>Artist</th>\n",
    "    <th>Album</th> \n",
    "    <th>Released</th>\n",
    "    <th>Length</th>\n",
    "    <th>Genre</th> \n",
    "    <th>Music recording sales (millions)</th>\n",
    "    <th>Claimed sales (millions)</th>\n",
    "    <th>Released</th>\n",
    "    <th>Soundtrack</th>\n",
    "    <th>Rating (friends)</th>\n",
    "  </tr>\n",
    "  <tr>\n",
    "    <td>Michael Jackson</td>\n",
    "    <td>Thriller</td> \n",
    "    <td>1982</td>\n",
    "    <td>00:42:19</td>\n",
    "    <td>Pop, rock, R&B</td>\n",
    "    <td>46</td>\n",
    "    <td>65</td>\n",
    "    <td>30-Nov-82</td>\n",
    "    <td></td>\n",
    "    <td>10.0</td>\n",
    "  </tr>\n",
    "  <tr>\n",
    "    <td>AC/DC</td>\n",
    "    <td>Back in Black</td> \n",
    "    <td>1980</td>\n",
    "    <td>00:42:11</td>\n",
    "    <td>Hard rock</td>\n",
    "    <td>26.1</td>\n",
    "    <td>50</td>\n",
    "    <td>25-Jul-80</td>\n",
    "    <td></td>\n",
    "    <td>8.5</td>\n",
    "  </tr>\n",
    "    <tr>\n",
    "    <td>Pink Floyd</td>\n",
    "    <td>The Dark Side of the Moon</td> \n",
    "    <td>1973</td>\n",
    "    <td>00:42:49</td>\n",
    "    <td>Progressive rock</td>\n",
    "    <td>24.2</td>\n",
    "    <td>45</td>\n",
    "    <td>01-Mar-73</td>\n",
    "    <td></td>\n",
    "    <td>9.5</td>\n",
    "  </tr>\n",
    "    <tr>\n",
    "    <td>Whitney Houston</td>\n",
    "    <td>The Bodyguard</td> \n",
    "    <td>1992</td>\n",
    "    <td>00:57:44</td>\n",
    "    <td>Soundtrack/R&B, soul, pop</td>\n",
    "    <td>26.1</td>\n",
    "    <td>50</td>\n",
    "    <td>25-Jul-80</td>\n",
    "    <td>J</td>\n",
    "    <td>7.0</td>\n",
    "  </tr>\n",
    "    <tr>\n",
    "    <td>Meat Loaf</td>\n",
    "    <td>Bat Out of Hell</td> \n",
    "    <td>1977</td>\n",
    "    <td>00:46:33</td>\n",
    "    <td>Hard rock, progressive rock</td>\n",
    "    <td>20.6</td>\n",
    "    <td>43</td>\n",
    "    <td>21-Oct-77</td>\n",
    "    <td></td>\n",
    "    <td>7.0</td>\n",
    "  </tr>\n",
    "    <tr>\n",
    "    <td>Eagles</td>\n",
    "    <td>Their Greatest Hits (1971-1975)</td> \n",
    "    <td>1976</td>\n",
    "    <td>00:43:08</td>\n",
    "    <td>Rock, soft rock, folk rock</td>\n",
    "    <td>32.2</td>\n",
    "    <td>42</td>\n",
    "    <td>17-Feb-76</td>\n",
    "    <td></td>\n",
    "    <td>9.5</td>\n",
    "  </tr>\n",
    "    <tr>\n",
    "    <td>Bee Gees</td>\n",
    "    <td>Saturday Night Fever</td> \n",
    "    <td>1977</td>\n",
    "    <td>1:15:54</td>\n",
    "    <td>Disco</td>\n",
    "    <td>20.6</td>\n",
    "    <td>40</td>\n",
    "    <td>15-Nov-77</td>\n",
    "    <td>J</td>\n",
    "    <td>9.0</td>\n",
    "  </tr>\n",
    "    <tr>\n",
    "    <td>Fleetwood Mac</td>\n",
    "    <td>Rumours</td> \n",
    "    <td>1977</td>\n",
    "    <td>00:40:01</td>\n",
    "    <td>Soft rock</td>\n",
    "    <td>27.9</td>\n",
    "    <td>40</td>\n",
    "    <td>04-Feb-77</td>\n",
    "    <td></td>\n",
    "    <td>9.5</td>\n",
    "  </tr>\n",
    "</table></font>"
   ]
  },
  {
   "cell_type": "markdown",
   "metadata": {
    "colab_type": "text",
    "id": "2TUr7v472AAB"
   },
   "source": [
    "<hr>"
   ]
  },
  {
   "cell_type": "markdown",
   "metadata": {
    "colab_type": "text",
    "id": "_07U9Fzq2AAD"
   },
   "source": [
    "<h2 id=\"list\">Lister</h2>"
   ]
  },
  {
   "cell_type": "markdown",
   "metadata": {
    "colab_type": "text",
    "id": "okUfLDyi2AAE"
   },
   "source": [
    "<h3 id=\"index\">Indeksering</h3>"
   ]
  },
  {
   "cell_type": "markdown",
   "metadata": {
    "colab_type": "text",
    "id": "irAwl1oW2AAG"
   },
   "source": [
    "Vi skal ta en titt på lister i Python. En liste er en sekvensert samling av forskjellige objekter som heltall, strenger og andre lister også. Adressen til hvert element i en liste kalles en <b>indeks (index)</b>. En indeks brukes for å få tilgang til og referere til elementer i en liste."
   ]
  },
  {
   "cell_type": "markdown",
   "metadata": {
    "colab_type": "text",
    "id": "u4tu694J2AAH"
   },
   "source": [
    "<img src=\"https://s3-api.us-geo.objectstorage.softlayer.net/cf-courses-data/CognitiveClass/PY0101EN/Chapter%202/Images/ListsIndex.png\" width=\"1000\" />"
   ]
  },
  {
   "cell_type": "markdown",
   "metadata": {
    "colab_type": "text",
    "id": "vo563YVy2AAI"
   },
   "source": [
    "For å lage en liste, skriv inn listen innenfor hakeparenteser <b>[ ]</b>, med innholdet ditt innenfor parentesen og atskilt med komma. La oss prøve det!"
   ]
  },
  {
   "cell_type": "code",
   "execution_count": null,
   "metadata": {
    "colab": {},
    "colab_type": "code",
    "id": "uWuoNoQ42AAJ"
   },
   "outputs": [],
   "source": [
    "# Lag en liste\n",
    "\n",
    "L = [\"Michael Jackson\", 10.1, 1982]\n",
    "L"
   ]
  },
  {
   "cell_type": "markdown",
   "metadata": {
    "colab_type": "text",
    "id": "r1fsG-SR2AAR"
   },
   "source": [
    "Vi kan bruke negativ og vanlig indeksering med en liste:"
   ]
  },
  {
   "cell_type": "markdown",
   "metadata": {
    "colab_type": "text",
    "id": "nHyIhmFq2AAT"
   },
   "source": [
    "<img src=\"https://s3-api.us-geo.objectstorage.softlayer.net/cf-courses-data/CognitiveClass/PY0101EN/Chapter%202/Images/ListsNeg.png\" width=\"1000\" />"
   ]
  },
  {
   "cell_type": "code",
   "execution_count": null,
   "metadata": {
    "colab": {},
    "colab_type": "code",
    "id": "0poDkXQE2AAU"
   },
   "outputs": [],
   "source": [
    "# Skriv ut elementer for hver index\n",
    "\n",
    "print('det samme elementet ved å bruke negativ og positiv indeksering:\\n positiv:',L[0],\n",
    "'\\n negativ' , L[-3]  )\n",
    "print('det samme elementet ved å bruke negativ og positiv indeksering:\\n positiv:',L[1],\n",
    "'\\n negativ:' , L[-2]  )\n",
    "print('det samme elementet ved å bruke negativ og positiv indeksering:\\n positiv:',L[2],\n",
    "'\\n negativ:' , L[-1]  )"
   ]
  },
  {
   "cell_type": "markdown",
   "metadata": {
    "colab_type": "text",
    "id": "x-xBslNH2AAZ"
   },
   "source": [
    "<h3 id=\"content\">Liste innhold</h3>"
   ]
  },
  {
   "cell_type": "markdown",
   "metadata": {
    "colab_type": "text",
    "id": "T4T38D3K2AAb"
   },
   "source": [
    "Lister kan inneholde strenger, floats og integer. Vi kan neste andre lister, og vi kan også neste tupler og andre datastrukturer. De samme indekseringskonvensjonene gjelder for nesting:"
   ]
  },
  {
   "cell_type": "code",
   "execution_count": null,
   "metadata": {
    "colab": {},
    "colab_type": "code",
    "id": "ZNG2kj6_2AAc"
   },
   "outputs": [],
   "source": [
    "# Eksempel liste\n",
    "\n",
    "[\"Michael Jackson\", 10.1, 1982, [1, 2], (\"A\", 1)]"
   ]
  },
  {
   "cell_type": "markdown",
   "metadata": {
    "colab_type": "text",
    "id": "n6qCqbCz2AAh"
   },
   "source": [
    "<h3 id=\"op\">Listeopserasjoner</h3>"
   ]
  },
  {
   "cell_type": "markdown",
   "metadata": {
    "colab_type": "text",
    "id": "43aCKaxp2AAj"
   },
   "source": [
    "Vi kan også utføre skjæring i lister. For eksempel, hvis vi vil ha de to siste elementene, bruker vi følgende kommando:"
   ]
  },
  {
   "cell_type": "code",
   "execution_count": null,
   "metadata": {
    "colab": {},
    "colab_type": "code",
    "id": "fkoifts72AAk"
   },
   "outputs": [],
   "source": [
    "# Eksempel List\n",
    "\n",
    "L = [\"Michael Jackson\", 10.1,1982,\"MJ\",1]\n",
    "L"
   ]
  },
  {
   "cell_type": "markdown",
   "metadata": {
    "colab_type": "text",
    "id": "OLCYsAaB2AAs"
   },
   "source": [
    "<img src=\"https://s3-api.us-geo.objectstorage.softlayer.net/cf-courses-data/CognitiveClass/PY0101EN/Chapter%202/Images/ListsSlice.png\" width=\"1000\">"
   ]
  },
  {
   "cell_type": "code",
   "execution_count": null,
   "metadata": {
    "colab": {},
    "colab_type": "code",
    "id": "mjjkSM5G2AAt"
   },
   "outputs": [],
   "source": [
    "# Liste skjæring\n",
    "\n",
    "L[3:5]"
   ]
  },
  {
   "cell_type": "markdown",
   "metadata": {
    "colab_type": "text",
    "id": "OvpOPoBq2AA0"
   },
   "source": [
    "Vi kan bruke metoden <code>extend</code> for å legge til nye elementer i listen:"
   ]
  },
  {
   "cell_type": "code",
   "execution_count": null,
   "metadata": {
    "colab": {},
    "colab_type": "code",
    "id": "Dd9fPvoI2AA1"
   },
   "outputs": [],
   "source": [
    "# Bruk extend for å legge to elementer til en liste\n",
    "\n",
    "L = [ \"Michael Jackson\", 10.2]\n",
    "L.extend(['pop', 10])\n",
    "L"
   ]
  },
  {
   "cell_type": "markdown",
   "metadata": {
    "colab_type": "text",
    "id": "_YmnYpYh2AA7"
   },
   "source": [
    "En annen lignende metode er <code>append</code>. Hvis vi bruker <code>append</code> i stedet for <code>extend</code>, legger vi til ett element i listen:"
   ]
  },
  {
   "cell_type": "code",
   "execution_count": null,
   "metadata": {
    "colab": {},
    "colab_type": "code",
    "id": "tU1wjgVV2AA8"
   },
   "outputs": [],
   "source": [
    "# Bruk append for å legge elementer til en liste\n",
    "\n",
    "L = [ \"Michael Jackson\", 10.2]\n",
    "L.append(['pop', 10])\n",
    "L"
   ]
  },
  {
   "cell_type": "markdown",
   "metadata": {
    "colab_type": "text",
    "id": "DZhP4f5g2ABE"
   },
   "source": [
    " Hver gang vi bruker en metode, endres listen. Hvis vi bruker <code>extend</code> legger vi til to nye elementer i listen. Listen <code>L</code> endres deretter ved å legge til to nye elementer:"
   ]
  },
  {
   "cell_type": "code",
   "execution_count": null,
   "metadata": {
    "colab": {},
    "colab_type": "code",
    "id": "7sKM-tCz2ABI"
   },
   "outputs": [],
   "source": [
    "# Bruk extend for å legge to elementer til en liste\n",
    "\n",
    "L = [ \"Michael Jackson\", 10.2]\n",
    "L.extend(['pop', 10])\n",
    "L"
   ]
  },
  {
   "cell_type": "markdown",
   "metadata": {
    "colab_type": "text",
    "id": "zyEaLUBb2ABN"
   },
   "source": [
    "Hvis vi legger til listen <code>['a','b']</code> har vi ett nytt element som består av en nestet liste:"
   ]
  },
  {
   "cell_type": "code",
   "execution_count": null,
   "metadata": {
    "colab": {},
    "colab_type": "code",
    "id": "VwUieRbu2ABO"
   },
   "outputs": [],
   "source": [
    "# Bruk append for å legge elementer til en liste\n",
    "\n",
    "L.append(['a','b'])\n",
    "L"
   ]
  },
  {
   "cell_type": "markdown",
   "metadata": {
    "colab_type": "text",
    "id": "CL5I8Abc2ABS"
   },
   "source": [
    "Vi skal nå vise hvordan man kan endre lister. For eksempel kan vi endre det første elementet som følger:"
   ]
  },
  {
   "cell_type": "code",
   "execution_count": null,
   "metadata": {
    "colab": {},
    "colab_type": "code",
    "id": "u1hCSVnr2ABT"
   },
   "outputs": [],
   "source": [
    "# Endre ett element basert på indeksen\n",
    "\n",
    "A = [\"disco\", 10, 1.2]\n",
    "print('Før endring:', A)\n",
    "A[0] = 'hard rock'\n",
    "print('Etter endring:', A)"
   ]
  },
  {
   "cell_type": "markdown",
   "metadata": {
    "colab_type": "text",
    "id": "jN3NK8022ABY"
   },
   "source": [
    "Vi kan også slette et element i en liste ved å bruke kommandoen <code>del</code>:"
   ]
  },
  {
   "cell_type": "code",
   "execution_count": null,
   "metadata": {
    "colab": {},
    "colab_type": "code",
    "id": "NSWNK2QO2ABY"
   },
   "outputs": [],
   "source": [
    "# Slett ett element basert på indeksen\n",
    "\n",
    "print('Før endring:', A)\n",
    "del(A[0])\n",
    "print('Etter endring:', A)"
   ]
  },
  {
   "cell_type": "markdown",
   "metadata": {
    "colab_type": "text",
    "id": "8MWB4Vv82ABd"
   },
   "source": [
    "Vi kan konvertere en streng til en liste ved å bruke <code>split</code>. Metoden <code>split</code> oversetter for eksempel hver gruppe med tegn atskilt med et mellomrom til et element i en liste:"
   ]
  },
  {
   "cell_type": "code",
   "execution_count": null,
   "metadata": {
    "colab": {},
    "colab_type": "code",
    "id": "fRkqQYrh2ABe"
   },
   "outputs": [],
   "source": [
    "# Split strengen ved mellomrom\n",
    "\n",
    "'hard rock'.split()"
   ]
  },
  {
   "cell_type": "markdown",
   "metadata": {
    "colab_type": "text",
    "id": "T5tGBW142ABi"
   },
   "source": [
    "Vi kan bruke split-funksjonen til å skille strenger på et spesifikt tegn. Vi sender karakteren vi ønsker å dele videre til argumentet, som i dette tilfellet er et komma. Resultatet er en liste, og hvert element tilsvarer et sett med tegn som er adskilt med komma:"
   ]
  },
  {
   "cell_type": "code",
   "execution_count": null,
   "metadata": {
    "colab": {},
    "colab_type": "code",
    "id": "GJUIWYMA2ABj"
   },
   "outputs": [],
   "source": [
    "# Split strengen ved komma\n",
    "\n",
    "'A,B,C,D'.split(',')"
   ]
  },
  {
   "cell_type": "markdown",
   "metadata": {
    "colab_type": "text",
    "id": "Q5AzWiOH2ABo"
   },
   "source": [
    "<h3 id=\"co\">Kopiering og kloning av lister</h3>"
   ]
  },
  {
   "cell_type": "markdown",
   "metadata": {
    "colab_type": "text",
    "id": "WygcLlS32ABp"
   },
   "source": [
    "Når vi setter én variabel <b>B</b> lik <b>A</b>; både <b>A</b> og <b>B</b> refererer til den samme listen i minnet:"
   ]
  },
  {
   "cell_type": "code",
   "execution_count": null,
   "metadata": {
    "colab": {},
    "colab_type": "code",
    "id": "yt-71zAn2ABq"
   },
   "outputs": [],
   "source": [
    "# kopier (kopier ved bruk av referanse) lista A\n",
    "\n",
    "A = [\"hard rock\", 10, 1.2]\n",
    "B = A\n",
    "print('A:', A)\n",
    "print('B:', B)"
   ]
  },
  {
   "cell_type": "markdown",
   "metadata": {
    "colab_type": "text",
    "id": "e_Zy0Tmv2ABu"
   },
   "source": [
    "<img src=\"https://s3-api.us-geo.objectstorage.softlayer.net/cf-courses-data/CognitiveClass/PY0101EN/Chapter%202/Images/ListsRef.png\" width=\"1000\" align=\"center\">"
   ]
  },
  {
   "cell_type": "markdown",
   "metadata": {
    "colab_type": "text",
    "id": "PGYBw9q32ABw"
   },
   "source": [
    "I utgangspunktet er verdien av det første elementet i <b>B</b> satt som hard rock. Hvis vi endrer det første elementet i <b>A</b> til <b>banan</b>, får vi en uventet bivirkning. Siden <b>A</b> og <b>B</b> refererer til den samme listen, endrer vi liste <b>A</b>, endres også liste <b>B</b>. Hvis vi sjekker det første elementet i <b>B</b> får vi banan i stedet for hard rock:"
   ]
  },
  {
   "cell_type": "code",
   "execution_count": null,
   "metadata": {
    "colab": {},
    "colab_type": "code",
    "id": "tZPg3Pt92ABw"
   },
   "outputs": [],
   "source": [
    "# Se på kopiering ved bruk av referanser\n",
    "\n",
    "print('B[0]:', B[0])\n",
    "A[0] = \"banana\"\n",
    "print('B[0]:', B[0])"
   ]
  },
  {
   "cell_type": "markdown",
   "metadata": {
    "colab_type": "text",
    "id": "dqSLQfv22AB1"
   },
   "source": [
    "Dette er vist i følgende figur:"
   ]
  },
  {
   "cell_type": "markdown",
   "metadata": {
    "colab_type": "text",
    "id": "1mYh-UR_2AB3"
   },
   "source": [
    "<img src = \"https://s3-api.us-geo.objectstorage.softlayer.net/cf-courses-data/CognitiveClass/PY0101EN/Chapter%202/Images/ListsRefGif.gif\" width=\"1000\" />"
   ]
  },
  {
   "cell_type": "markdown",
   "metadata": {
    "colab_type": "text",
    "id": "To8UaMW22AB3"
   },
   "source": [
    "Du kan klone listen **A** ved å bruke følgende syntaks:"
   ]
  },
  {
   "cell_type": "code",
   "execution_count": null,
   "metadata": {
    "colab": {},
    "colab_type": "code",
    "id": "0OUNDPfB2AB4"
   },
   "outputs": [],
   "source": [
    "# Kloning (kloning ved verdi) av lista A\n",
    "\n",
    "B = A[:]\n",
    "B"
   ]
  },
  {
   "cell_type": "markdown",
   "metadata": {
    "colab_type": "text",
    "id": "67Mg2AaO2AB9"
   },
   "source": [
    "Variabel **B** refererer til en ny kopi eller klone av den originale listen; dette er vist i følgende figur:"
   ]
  },
  {
   "cell_type": "markdown",
   "metadata": {
    "colab_type": "text",
    "id": "HfE2uqk42AB-"
   },
   "source": [
    "<img src=\"https://s3-api.us-geo.objectstorage.softlayer.net/cf-courses-data/CognitiveClass/PY0101EN/Chapter%202/Images/ListsVal.gif\" width=\"1000\" />"
   ]
  },
  {
   "cell_type": "markdown",
   "metadata": {
    "colab_type": "text",
    "id": "8s2uav0R2AB-"
   },
   "source": [
    "Hvis du endrer <b>A</b>, endres ikke <b>B</b>:"
   ]
  },
  {
   "cell_type": "code",
   "execution_count": null,
   "metadata": {
    "colab": {},
    "colab_type": "code",
    "id": "znn-3gHv2AB_"
   },
   "outputs": [],
   "source": [
    "print('B[0]:', B[0])\n",
    "A[0] = \"hard rock\"\n",
    "print('B[0]:', B[0])"
   ]
  },
  {
   "cell_type": "markdown",
   "metadata": {
    "colab_type": "text",
    "id": "DRbDRdP32ACM"
   },
   "source": [
    "<h2 id=\"quiz\">Quiz om lister</h2>"
   ]
  },
  {
   "cell_type": "markdown",
   "metadata": {
    "colab_type": "text",
    "id": "6lYdJiy72ACO"
   },
   "source": [
    "Opprett en liste <code>a_list</code>, med følgende elementer <code>1</code>, <code>hei</code>, <code>[1,2,3]</code> og < code>True</code>."
   ]
  },
  {
   "cell_type": "code",
   "execution_count": null,
   "metadata": {
    "colab": {},
    "colab_type": "code",
    "id": "beII12YY2ACP"
   },
   "outputs": [],
   "source": [
    "# Skriv din kode under og trykk Shift+Enter for å utføre"
   ]
  },
  {
   "cell_type": "markdown",
   "metadata": {
    "colab_type": "text",
    "id": "HQUuOKY_2ACV"
   },
   "source": [
    "Dobbeltklikk __har__ for løsning.\n",
    "\n",
    "<!-- Din løsnign står under:\n",
    "a_list = [1, 'hei', [1, 2, 3] , True]\n",
    "a_list\n",
    "-->"
   ]
  },
  {
   "cell_type": "markdown",
   "metadata": {
    "colab_type": "text",
    "id": "1HzgQgqS2ACW"
   },
   "source": [
    "Finn verdien som er lagret i indeks 1 av <code>a_list</code>."
   ]
  },
  {
   "cell_type": "code",
   "execution_count": null,
   "metadata": {
    "colab": {},
    "colab_type": "code",
    "id": "LZo-PX3j2ACX"
   },
   "outputs": [],
   "source": [
    "# Skriv din kode under og trykk Shift+Enter for å utføre"
   ]
  },
  {
   "cell_type": "markdown",
   "metadata": {
    "colab_type": "text",
    "id": "sJztsE282ACc"
   },
   "source": [
    "Dobbeltklikk __har__ for løsning.\n",
    "\n",
    "<!-- Din løsnign står under:\n",
    "a_list[1]\n",
    "-->"
   ]
  },
  {
   "cell_type": "markdown",
   "metadata": {
    "colab_type": "text",
    "id": "yxx46MiS2ACd"
   },
   "source": [
    "Hent elementene som er lagret i indeks 1, 2 og 3 i <code>a_list</code>."
   ]
  },
  {
   "cell_type": "code",
   "execution_count": null,
   "metadata": {
    "colab": {},
    "colab_type": "code",
    "id": "yvPeitkP2ACd"
   },
   "outputs": [],
   "source": [
    "# Skriv din kode under og trykk Shift+Enter for å utføre"
   ]
  },
  {
   "cell_type": "markdown",
   "metadata": {
    "colab_type": "text",
    "id": "UH0h01Nz2ACi"
   },
   "source": [
    "Dobbeltklikk __har__ for løsning.\n",
    "\n",
    "<!-- Din løsnign står under:\n",
    "a_list[1:4]\n",
    "-->"
   ]
  },
  {
   "cell_type": "markdown",
   "metadata": {
    "colab_type": "text",
    "id": "eQqJQfW32ACj"
   },
   "source": [
    "Slå sammen de følgende lister <code>A = [1, 'a']</code> og <code>B = [2, 1, 'd']</code>:"
   ]
  },
  {
   "cell_type": "code",
   "execution_count": null,
   "metadata": {
    "colab": {},
    "colab_type": "code",
    "id": "yeM60r-p2ACk"
   },
   "outputs": [],
   "source": [
    "# Skriv din kode under og trykk Shift+Enter for å utføre"
   ]
  },
  {
   "cell_type": "markdown",
   "metadata": {
    "colab_type": "text",
    "id": "IOo1_tjf2ACq"
   },
   "source": [
    "Dobbeltklikk __har__ for løsning.\n",
    "\n",
    "<!-- Din løsnign står under:\n",
    "A = [1, 'a'] \n",
    "B = [2, 1, 'd']\n",
    "A + B\n",
    "-->"
   ]
  },
  {
   "cell_type": "markdown",
   "metadata": {
    "colab_type": "text",
    "id": "KgvrfK8a2ACu"
   },
   "source": [
    "<hr>"
   ]
  }
 ],
 "metadata": {
  "colab": {
   "name": "PY0101EN-2-2-Lists.ipynb",
   "provenance": []
  },
  "kernelspec": {
   "display_name": "Python 3",
   "language": "python",
   "name": "python3"
  },
  "language_info": {
   "codemirror_mode": {
    "name": "ipython",
    "version": 3
   },
   "file_extension": ".py",
   "mimetype": "text/x-python",
   "name": "python",
   "nbconvert_exporter": "python",
   "pygments_lexer": "ipython3",
   "version": "3.7.4"
  }
 },
 "nbformat": 4,
 "nbformat_minor": 4
}
