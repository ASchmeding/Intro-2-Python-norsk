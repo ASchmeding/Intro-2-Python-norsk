{
 "cells": [
  {
   "cell_type": "markdown",
   "metadata": {
    "colab_type": "text",
    "id": "VZtePyxE0Bcw"
   },
   "source": [
    "<h1>Tupel i Python</h1>"
   ]
  },
  {
   "cell_type": "markdown",
   "metadata": {
    "colab_type": "text",
    "id": "4kq4mruT0Bcy"
   },
   "source": [
    "<p><strong>Velkommen!</strong> Denne notatboken vil lære deg om tuplene i programmeringsspråket Python. Ved slutten av denne laboratoriet vil du kjenne til de grunnleggende tuppeloperasjonene i Python, inkludert indeksering, skjæring og sortering.</p> "
   ]
  },
  {
   "cell_type": "markdown",
   "metadata": {
    "colab_type": "text",
    "id": "sb6IUYwG0Bcz"
   },
   "source": [
    "<h2>Innhold</h2>\n",
    "<div class=\"alert alert-block alert-info\" style=\"margin-top: 20px\">\n",
    "    <ul>\n",
    "        <li>\n",
    "            <a href=\"#dataset\">Om datasett</a>\n",
    "        </li>\n",
    "        <li>\n",
    "            <a href=\"#tuple\">Tupler</a>\n",
    "            <ul>\n",
    "                <li><a href=\"index\">Indeksering</a></li>\n",
    "                <li><a href=\"slice\">Skjæring</a></li>\n",
    "                <li><a href=\"sort\">Sortering</a></li>\n",
    "            </ul>\n",
    "        </li>\n",
    "        <li>\n",
    "            <a href=\"#escape\">Quiz om Tupler</a>\n",
    "        </li>\n",
    "    </ul>\n",
    "    <p>\n",
    "        Tidsbruk: <strong>15 min</strong>\n",
    "    </p>\n",
    "</div>\n",
    "\n",
    "<hr>"
   ]
  },
  {
   "cell_type": "markdown",
   "metadata": {
    "colab_type": "text",
    "id": "1f-vJ6go0Bc0"
   },
   "source": [
    "<h2 id=\"dataset\">Om datasett</h2>"
   ]
  },
  {
   "cell_type": "markdown",
   "metadata": {
    "colab_type": "text",
    "id": "mrf5FXtG0Bc1"
   },
   "source": [
    "Tenk deg at du mottok albumanbefalinger fra vennene dine og samlet alle anbefalingene i en tabell, med spesifikk informasjon om hvert album.\n",
    "\n",
    "Tabellen har én rad for hver album og flere kolonner:\n",
    "\n",
    "- **artist** - Navn av kunstner\n",
    "- **album** - Navn av album\n",
    "- **released_year** - Året albumet ble gitt ut\n",
    "- **length_min_sec** - Lengde på albumet (timer, minutter, sekunder)\n",
    "- **genre** - Sjangeren til albumet\n",
    "- **music_recording_sales_millions** - Salg av musikkinnspilling (millioner i USD) på [SONG://DATABASE](http://www.song-database.com/)\n",
    "- **claimed_sales_millions** - Albumets påståtte salg (millioner i USD) på [SONG://DATABASE](http://www.song-database.com/)\n",
    "- **date_released** - Datoen da albumet ble utgitt\n",
    "- **soundtrack** - Indikerer om albumet er filmlydsporet (J) eller (N)\n",
    "- **rating_of_friends** - Indikerer vurderingen fra vennene dine fra 1 til 10\n",
    "<br>\n",
    "<br>\n",
    "\n",
    "Datasettet kan sees nedenfor:\n",
    "\n",
    "<font size=\"1\">\n",
    "<table font-size:xx-small style=\"width:80%\">\n",
    "  <tr>\n",
    "    <th>Artist</th>\n",
    "    <th>Album</th> \n",
    "    <th>Released</th>\n",
    "    <th>Length</th>\n",
    "    <th>Genre</th> \n",
    "    <th>Music recording sales (millions)</th>\n",
    "    <th>Claimed sales (millions)</th>\n",
    "    <th>Released</th>\n",
    "    <th>Soundtrack</th>\n",
    "    <th>Rating (friends)</th>\n",
    "  </tr>\n",
    "  <tr>\n",
    "    <td>Michael Jackson</td>\n",
    "    <td>Thriller</td> \n",
    "    <td>1982</td>\n",
    "    <td>00:42:19</td>\n",
    "    <td>Pop, rock, R&B</td>\n",
    "    <td>46</td>\n",
    "    <td>65</td>\n",
    "    <td>30-Nov-82</td>\n",
    "    <td></td>\n",
    "    <td>10.0</td>\n",
    "  </tr>\n",
    "  <tr>\n",
    "    <td>AC/DC</td>\n",
    "    <td>Back in Black</td> \n",
    "    <td>1980</td>\n",
    "    <td>00:42:11</td>\n",
    "    <td>Hard rock</td>\n",
    "    <td>26.1</td>\n",
    "    <td>50</td>\n",
    "    <td>25-Jul-80</td>\n",
    "    <td></td>\n",
    "    <td>8.5</td>\n",
    "  </tr>\n",
    "    <tr>\n",
    "    <td>Pink Floyd</td>\n",
    "    <td>The Dark Side of the Moon</td> \n",
    "    <td>1973</td>\n",
    "    <td>00:42:49</td>\n",
    "    <td>Progressive rock</td>\n",
    "    <td>24.2</td>\n",
    "    <td>45</td>\n",
    "    <td>01-Mar-73</td>\n",
    "    <td></td>\n",
    "    <td>9.5</td>\n",
    "  </tr>\n",
    "    <tr>\n",
    "    <td>Whitney Houston</td>\n",
    "    <td>The Bodyguard</td> \n",
    "    <td>1992</td>\n",
    "    <td>00:57:44</td>\n",
    "    <td>Soundtrack/R&B, soul, pop</td>\n",
    "    <td>26.1</td>\n",
    "    <td>50</td>\n",
    "    <td>25-Jul-80</td>\n",
    "    <td>J</td>\n",
    "    <td>7.0</td>\n",
    "  </tr>\n",
    "    <tr>\n",
    "    <td>Meat Loaf</td>\n",
    "    <td>Bat Out of Hell</td> \n",
    "    <td>1977</td>\n",
    "    <td>00:46:33</td>\n",
    "    <td>Hard rock, progressive rock</td>\n",
    "    <td>20.6</td>\n",
    "    <td>43</td>\n",
    "    <td>21-Oct-77</td>\n",
    "    <td></td>\n",
    "    <td>7.0</td>\n",
    "  </tr>\n",
    "    <tr>\n",
    "    <td>Eagles</td>\n",
    "    <td>Their Greatest Hits (1971-1975)</td> \n",
    "    <td>1976</td>\n",
    "    <td>00:43:08</td>\n",
    "    <td>Rock, soft rock, folk rock</td>\n",
    "    <td>32.2</td>\n",
    "    <td>42</td>\n",
    "    <td>17-Feb-76</td>\n",
    "    <td></td>\n",
    "    <td>9.5</td>\n",
    "  </tr>\n",
    "    <tr>\n",
    "    <td>Bee Gees</td>\n",
    "    <td>Saturday Night Fever</td> \n",
    "    <td>1977</td>\n",
    "    <td>1:15:54</td>\n",
    "    <td>Disco</td>\n",
    "    <td>20.6</td>\n",
    "    <td>40</td>\n",
    "    <td>15-Nov-77</td>\n",
    "    <td>J</td>\n",
    "    <td>9.0</td>\n",
    "  </tr>\n",
    "    <tr>\n",
    "    <td>Fleetwood Mac</td>\n",
    "    <td>Rumours</td> \n",
    "    <td>1977</td>\n",
    "    <td>00:40:01</td>\n",
    "    <td>Soft rock</td>\n",
    "    <td>27.9</td>\n",
    "    <td>40</td>\n",
    "    <td>04-Feb-77</td>\n",
    "    <td></td>\n",
    "    <td>9.5</td>\n",
    "  </tr>\n",
    "</table></font>"
   ]
  },
  {
   "cell_type": "markdown",
   "metadata": {
    "colab_type": "text",
    "id": "1ir2-jZq0Bc2",
    "jupyter": {
     "source_hidden": true
    }
   },
   "source": [
    "<hr>"
   ]
  },
  {
   "cell_type": "markdown",
   "metadata": {
    "colab_type": "text",
    "id": "vuUc2Uy20Bc3"
   },
   "source": [
    "<h2 id=\"tuple\">Tupler</h2>"
   ]
  },
  {
   "cell_type": "markdown",
   "metadata": {
    "colab_type": "text",
    "id": "apo49cXP0Bc5"
   },
   "source": [
    "I Python er det forskjellige datatyper: streng, integer (heltall) og float. Disse datatypene kan alle inneholdes i en tuppel som følger:"
   ]
  },
  {
   "cell_type": "markdown",
   "metadata": {
    "colab_type": "text",
    "id": "HhY1SPS-0Bc6"
   },
   "source": [
    "<img src=\"https://s3-api.us-geo.objectstorage.softlayer.net/cf-courses-data/CognitiveClass/PY0101EN/Chapter%202/Images/TuplesType.png\" width=\"750\" align=\"center\" />"
   ]
  },
  {
   "cell_type": "markdown",
   "metadata": {
    "colab_type": "text",
    "id": "bTb7TveV0Bc7"
   },
   "source": [
    "La oss nå lage din første tuppel med streng, integer (heltall) og float."
   ]
  },
  {
   "cell_type": "code",
   "execution_count": null,
   "metadata": {
    "colab": {},
    "colab_type": "code",
    "id": "t4Mub1Nd0Bc9"
   },
   "outputs": [],
   "source": [
    "# LAg din første tuppel your first tuple\n",
    "\n",
    "tuppel1 = (\"disco\",10,1.2 )\n",
    "tuppel1"
   ]
  },
  {
   "cell_type": "markdown",
   "metadata": {
    "colab_type": "text",
    "id": "PdJ7_-3T0BdF"
   },
   "source": [
    "Type til variablen er **tuple**. "
   ]
  },
  {
   "cell_type": "code",
   "execution_count": null,
   "metadata": {
    "colab": {},
    "colab_type": "code",
    "id": "I44AGW_G0BdG"
   },
   "outputs": [],
   "source": [
    "# Skriv ut type til tuppel \n",
    "\n",
    "type(tuple1)"
   ]
  },
  {
   "cell_type": "markdown",
   "metadata": {
    "colab_type": "text",
    "id": "lUFBIMFq0BdO"
   },
   "source": [
    "<h3 id=\"index\">Indeksering</h3>"
   ]
  },
  {
   "cell_type": "markdown",
   "metadata": {
    "colab_type": "text",
    "id": "-U6PvHSQ0BdP"
   },
   "source": [
    "Hvert element i en tuppel kan nås via en indeks. Følgende tabell representerer forholdet mellom indeksen og elementene i tupelen. Hvert element kan fås med navnet på tuppelen etterfulgt av en firkantet hake med indeksnummeret:"
   ]
  },
  {
   "cell_type": "markdown",
   "metadata": {
    "colab_type": "text",
    "id": "3XWBLwbY0BdQ"
   },
   "source": [
    "<img src=\"https://s3-api.us-geo.objectstorage.softlayer.net/cf-courses-data/CognitiveClass/PY0101EN/Chapter%202/Images/TuplesIndex.gif\" width=\"750\" align=\"center\">"
   ]
  },
  {
   "cell_type": "markdown",
   "metadata": {
    "colab_type": "text",
    "id": "2P7jTH780BdR"
   },
   "source": [
    "Vi kan skrive ut verdien til hver tuppel:"
   ]
  },
  {
   "cell_type": "code",
   "execution_count": null,
   "metadata": {
    "colab": {},
    "colab_type": "code",
    "id": "EReO8cF00BdT"
   },
   "outputs": [],
   "source": [
    "# Skriv ut variabelen til hver indeks\n",
    "\n",
    "print(tuple1[0])\n",
    "print(tuple1[1])\n",
    "print(tuple1[2])"
   ]
  },
  {
   "cell_type": "markdown",
   "metadata": {
    "colab_type": "text",
    "id": "A66PdGJG0BdZ"
   },
   "source": [
    "VI kan skrvie ut **type** av hver verdi i en tuppel:\n"
   ]
  },
  {
   "cell_type": "code",
   "execution_count": null,
   "metadata": {
    "colab": {},
    "colab_type": "code",
    "id": "EVrsJYtM0Bda"
   },
   "outputs": [],
   "source": [
    "# Skriv ut typen til verdien av hver indeks\n",
    "\n",
    "print(type(tuple1[0]))\n",
    "print(type(tuple1[1]))\n",
    "print(type(tuple1[2]))"
   ]
  },
  {
   "cell_type": "markdown",
   "metadata": {
    "colab_type": "text",
    "id": "Nlg6Obek0Bdi"
   },
   "source": [
    "Vi kan også bruke negativ indeksering. Vi bruker samme tabell ovenfor med tilsvarende negative verdier:"
   ]
  },
  {
   "cell_type": "markdown",
   "metadata": {
    "colab_type": "text",
    "id": "RjtP_18Q0Bdj"
   },
   "source": [
    "<img src=\"https://s3-api.us-geo.objectstorage.softlayer.net/cf-courses-data/CognitiveClass/PY0101EN/Chapter%202/Images/TuplesNeg.png\" width=\"750\" align=\"center\">"
   ]
  },
  {
   "cell_type": "markdown",
   "metadata": {
    "colab_type": "text",
    "id": "Lkgm3XaC0Bdk"
   },
   "source": [
    "Vi kan få det siste elementet som følger (denne gangen vil vi ikke bruke utskriftssetningen for å vise verdiene):"
   ]
  },
  {
   "cell_type": "code",
   "execution_count": null,
   "metadata": {
    "colab": {},
    "colab_type": "code",
    "id": "mTjLkIsl0Bdl"
   },
   "outputs": [],
   "source": [
    "# Bruk negativt indeksering for å få det siste element\n",
    "\n",
    "tuple1[-1]"
   ]
  },
  {
   "cell_type": "markdown",
   "metadata": {
    "colab_type": "text",
    "id": "y2_6u0Ao0Bdr"
   },
   "source": [
    "Vi kan vise de neste to elementene som følger:"
   ]
  },
  {
   "cell_type": "code",
   "execution_count": null,
   "metadata": {
    "colab": {},
    "colab_type": "code",
    "id": "FTU85ibA0Bdt"
   },
   "outputs": [],
   "source": [
    "# Bruk negativt indeksering for å få verdien av det andre sisste elementert\n",
    "\n",
    "tuple1[-2]"
   ]
  },
  {
   "cell_type": "code",
   "execution_count": null,
   "metadata": {
    "colab": {},
    "colab_type": "code",
    "id": "v5QeMHwx0Bd0"
   },
   "outputs": [],
   "source": [
    "#Bruk negativ indeks for å få verdien av det tredje siste elementet\n",
    "\n",
    "tuple1[-3]"
   ]
  },
  {
   "cell_type": "markdown",
   "metadata": {
    "colab_type": "text",
    "id": "LbtFvPSa0Bd8"
   },
   "source": [
    "<h3 id=\"concate\">Kombinere tuppler</h3>"
   ]
  },
  {
   "cell_type": "markdown",
   "metadata": {
    "colab_type": "text",
    "id": "QotSNTPv0Bd_"
   },
   "source": [
    "Vi kan sette sammen eller kombinere tupler ved å bruke **+**-tegnet:"
   ]
  },
  {
   "cell_type": "code",
   "execution_count": null,
   "metadata": {
    "colab": {},
    "colab_type": "code",
    "id": "o02PyqJ40BeA"
   },
   "outputs": [],
   "source": [
    "# konbinerer to tuppel\n",
    "\n",
    "tuppel2 = tuppel1 + (\"hard rock\", 10)\n",
    "tuppel2"
   ]
  },
  {
   "cell_type": "markdown",
   "metadata": {
    "colab_type": "text",
    "id": "ics9hbSo0BeF"
   },
   "source": [
    "Vi kan skjære tupler som får flere verdier som vist i figuren nedenfor:"
   ]
  },
  {
   "cell_type": "markdown",
   "metadata": {
    "colab_type": "text",
    "id": "VDV4orsA0BeG"
   },
   "source": [
    "<img src=\"https://s3-api.us-geo.objectstorage.softlayer.net/cf-courses-data/CognitiveClass/PY0101EN/Chapter%202/Images/TuplesSlice.gif\" width=\"750\" align=\"center\">"
   ]
  },
  {
   "cell_type": "markdown",
   "metadata": {
    "colab_type": "text",
    "id": "BL0jmhvB0BeH"
   },
   "source": [
    "<h3 id=\"slice\">Skjæring</h3>"
   ]
  },
  {
   "cell_type": "markdown",
   "metadata": {
    "colab_type": "text",
    "id": "QJR0dUUI0BeH"
   },
   "source": [
    "Vi kan skjære tupler, skaffe nye tupler med de tilsvarende elementene:"
   ]
  },
  {
   "cell_type": "code",
   "execution_count": null,
   "metadata": {
    "colab": {},
    "colab_type": "code",
    "id": "57McFGDY0BeI"
   },
   "outputs": [],
   "source": [
    "# Skjær fra indeks 0 til indeks 2\n",
    "\n",
    "tuple2[0:3]"
   ]
  },
  {
   "cell_type": "markdown",
   "metadata": {
    "colab_type": "text",
    "id": "0BvPRwqI0BeN"
   },
   "source": [
    "Vi kan få de to siste elementene i tupelen:"
   ]
  },
  {
   "cell_type": "code",
   "execution_count": null,
   "metadata": {
    "colab": {},
    "colab_type": "code",
    "id": "WQ4L_JEJ0BeO"
   },
   "outputs": [],
   "source": [
    "# Skjær fra indeks to index 4\n",
    "\n",
    "tuple2[3:5]"
   ]
  },
  {
   "cell_type": "markdown",
   "metadata": {
    "colab_type": "text",
    "id": "B9ei48Fl0BeV"
   },
   "source": [
    "We can obtain the length of a tuple using the length command: "
   ]
  },
  {
   "cell_type": "code",
   "execution_count": null,
   "metadata": {
    "colab": {},
    "colab_type": "code",
    "id": "pEIWFT0K0BeW"
   },
   "outputs": [],
   "source": [
    "# Get the length of tuple\n",
    "\n",
    "len(tuple2)"
   ]
  },
  {
   "cell_type": "markdown",
   "metadata": {
    "colab_type": "text",
    "id": "scepkxfL0Bed"
   },
   "source": [
    "Figuren viser antall av elementer:"
   ]
  },
  {
   "cell_type": "markdown",
   "metadata": {
    "colab_type": "text",
    "id": "G0BSmexs0Bee"
   },
   "source": [
    "<img src=\"https://s3-api.us-geo.objectstorage.softlayer.net/cf-courses-data/CognitiveClass/PY0101EN/Chapter%202/Images/TuplesElement.png\" width=\"750\" align=\"center\">"
   ]
  },
  {
   "cell_type": "markdown",
   "metadata": {
    "colab_type": "text",
    "id": "-vntAxjh0Bef"
   },
   "source": [
    "<h3 id=\"sort\">Sortering</h3>"
   ]
  },
  {
   "cell_type": "markdown",
   "metadata": {
    "colab_type": "text",
    "id": "LM7IpI7A0Beg"
   },
   "source": [
    "Tenk på følgende tuppel:"
   ]
  },
  {
   "cell_type": "code",
   "execution_count": null,
   "metadata": {
    "colab": {},
    "colab_type": "code",
    "id": "mUd1fF4E0Beh"
   },
   "outputs": [],
   "source": [
    "# A noen tuppel\n",
    "\n",
    "Ratings = (0, 9, 6, 5, 10, 8, 9, 6, 2)"
   ]
  },
  {
   "cell_type": "markdown",
   "metadata": {
    "colab_type": "text",
    "id": "LFhMZ5eG0Bem"
   },
   "source": [
    "Vi kan sortere verdiene i en tuppel og lagre det i en ny tuppel: "
   ]
  },
  {
   "cell_type": "code",
   "execution_count": null,
   "metadata": {
    "colab": {},
    "colab_type": "code",
    "id": "px7c1-EO0Ben"
   },
   "outputs": [],
   "source": [
    "# Sorter tuppelen\n",
    "\n",
    "RatingsSorted = sorted(Ratings)\n",
    "RatingsSorted"
   ]
  },
  {
   "cell_type": "markdown",
   "metadata": {
    "colab_type": "text",
    "id": "zwkSSvSb0Bet"
   },
   "source": [
    "<h3 id=\"nest\">Nestet tuppel</h3>"
   ]
  },
  {
   "cell_type": "markdown",
   "metadata": {
    "colab_type": "text",
    "id": "ZenROxvC0Beu"
   },
   "source": [
    "En tuppel kan inneholde en annen tuppel så vel som andre mer komplekse datatyper. Denne prosessen kalles \"nesting\". Tenk på følgende tuppel med flere elementer:"
   ]
  },
  {
   "cell_type": "code",
   "execution_count": null,
   "metadata": {
    "colab": {},
    "colab_type": "code",
    "id": "a77XqLEB0Bev"
   },
   "outputs": [],
   "source": [
    "# Lag en nestet tuppel\n",
    "\n",
    "NestedT =(1, 2, (\"pop\", \"rock\") ,(3,4),(\"disco\",(1,2)))"
   ]
  },
  {
   "cell_type": "markdown",
   "metadata": {
    "colab_type": "text",
    "id": "p6CvxLwF0Be1"
   },
   "source": [
    "Hvert element i tuppelen inkludert andre tupler kan fås via en indeks som vist i figuren:"
   ]
  },
  {
   "cell_type": "markdown",
   "metadata": {
    "colab_type": "text",
    "id": "k-UkbM3J0Be2"
   },
   "source": [
    "<img src=\"https://s3-api.us-geo.objectstorage.softlayer.net/cf-courses-data/CognitiveClass/PY0101EN/Chapter%202/Images/TuplesNestOne.png\" width=\"750\" align=\"center\">"
   ]
  },
  {
   "cell_type": "code",
   "execution_count": null,
   "metadata": {
    "colab": {},
    "colab_type": "code",
    "id": "GSuVrJFt0Be3"
   },
   "outputs": [],
   "source": [
    "# Print element on each index\n",
    "\n",
    "print(\"Element 0 of Tuple: \", NestedT[0])\n",
    "print(\"Element 1 of Tuple: \", NestedT[1])\n",
    "print(\"Element 2 of Tuple: \", NestedT[2])\n",
    "print(\"Element 3 of Tuple: \", NestedT[3])\n",
    "print(\"Element 4 of Tuple: \", NestedT[4])"
   ]
  },
  {
   "cell_type": "markdown",
   "metadata": {
    "colab_type": "text",
    "id": "YBWmfYvT0Be7"
   },
   "source": [
    "We can use the second index to access other tuples as demonstrated in the figure:"
   ]
  },
  {
   "cell_type": "markdown",
   "metadata": {
    "colab_type": "text",
    "id": "ZLuOqXg30Be8"
   },
   "source": [
    "<img src=\"https://s3-api.us-geo.objectstorage.softlayer.net/cf-courses-data/CognitiveClass/PY0101EN/Chapter%202/Images/TuplesNestTwo.png\" width=\"750\" align=\"center\">"
   ]
  },
  {
   "cell_type": "markdown",
   "metadata": {
    "colab_type": "text",
    "id": "O5CuK5EC0Be8"
   },
   "source": [
    " Vi kan få tilgang til de nestede tuplene:"
   ]
  },
  {
   "cell_type": "code",
   "execution_count": null,
   "metadata": {
    "colab": {},
    "colab_type": "code",
    "id": "344hBxc-0Be9"
   },
   "outputs": [],
   "source": [
    "# Skriv ut elementer for hver indeks, inkludert next tupler\n",
    "\n",
    "print(\"Element 2, 0 of Tuple: \",   NestedT[2][0])\n",
    "print(\"Element 2, 1 of Tuple: \",   NestedT[2][1])\n",
    "print(\"Element 3, 0 of Tuple: \",   NestedT[3][0])\n",
    "print(\"Element 3, 1 of Tuple: \",   NestedT[3][1])\n",
    "print(\"Element 4, 0 of Tuple: \",   NestedT[4][0])\n",
    "print(\"Element 4, 1 of Tuple: \",   NestedT[4][1])"
   ]
  },
  {
   "cell_type": "markdown",
   "metadata": {
    "colab_type": "text",
    "id": "U2iRlUHN0BfE"
   },
   "source": [
    "Vi kan få tilgang til strenger i de andre nestede tuplene ved å bruke en tredje indeks:"
   ]
  },
  {
   "cell_type": "code",
   "execution_count": null,
   "metadata": {
    "colab": {},
    "colab_type": "code",
    "id": "EW3U2ouJ0BfF"
   },
   "outputs": [],
   "source": [
    "# Skriv ut den første element i den andre nested tuppel\n",
    "\n",
    "NestedT[2][1][0]"
   ]
  },
  {
   "cell_type": "code",
   "execution_count": null,
   "metadata": {
    "colab": {},
    "colab_type": "code",
    "id": "pRgWYqvg0BfK"
   },
   "outputs": [],
   "source": [
    "# Skriv ut den andre element i den andre nested tuppel\n",
    "NestedT[2][1][1]"
   ]
  },
  {
   "cell_type": "markdown",
   "metadata": {
    "colab_type": "text",
    "id": "W0O2hmLJ0BfP"
   },
   "source": [
    "Vi kan bruke et tre for å visualisere prosessen. Hver ny indeks tilsvarer et dypere nivå i treet:"
   ]
  },
  {
   "cell_type": "markdown",
   "metadata": {
    "colab_type": "text",
    "id": "RqkBd8Qa0BfQ"
   },
   "source": [
    "<img src=\"https://s3-api.us-geo.objectstorage.softlayer.net/cf-courses-data/CognitiveClass/PY0101EN/Chapter%202/Images/TuplesNestThree.gif\" width=\"750\" align=\"center\">"
   ]
  },
  {
   "cell_type": "markdown",
   "metadata": {
    "colab_type": "text",
    "id": "SRjgxQY_0BfR"
   },
   "source": [
    "På samme måte kan vi få tilgang til elementer som er nestet dypere i treet med en fjerde indeks:"
   ]
  },
  {
   "cell_type": "code",
   "execution_count": null,
   "metadata": {
    "colab": {},
    "colab_type": "code",
    "id": "5m2PpmIC0BfS"
   },
   "outputs": [],
   "source": [
    "# Skriv ut den første element i andre nested tuppel\n",
    "\n",
    "NestedT[4][1][0]"
   ]
  },
  {
   "cell_type": "code",
   "execution_count": null,
   "metadata": {
    "colab": {},
    "colab_type": "code",
    "id": "9N-5Q2zJ0BfW"
   },
   "outputs": [],
   "source": [
    "# Skriv ut den andre element i andre nested tuppel\n",
    "\n",
    "NestedT[4][1][1]"
   ]
  },
  {
   "cell_type": "markdown",
   "metadata": {
    "colab_type": "text",
    "id": "7vcz4dF20Bfb"
   },
   "source": [
    "Følgende figur viser forholdet mellom treet og elementet <code>NestedT[4][1][1]</code>:"
   ]
  },
  {
   "cell_type": "markdown",
   "metadata": {
    "colab_type": "text",
    "id": "mfJwjfUv0Bfb"
   },
   "source": [
    "<img src=\"https://s3-api.us-geo.objectstorage.softlayer.net/cf-courses-data/CognitiveClass/PY0101EN/Chapter%202/Images/TuplesNestFour.gif\" width=\"750\" align=\"center\">"
   ]
  },
  {
   "cell_type": "markdown",
   "metadata": {
    "colab_type": "text",
    "id": "Bnbst6G-0Bfe"
   },
   "source": [
    "<h2 id=\"quiz\">Quiz om Tupler</h2>"
   ]
  },
  {
   "cell_type": "markdown",
   "metadata": {
    "colab_type": "text",
    "id": "b0aIBAA80Bff"
   },
   "source": [
    "Se på den følgende tuppel"
   ]
  },
  {
   "cell_type": "code",
   "execution_count": null,
   "metadata": {
    "colab": {},
    "colab_type": "code",
    "id": "gaoS6PuW0Bfh"
   },
   "outputs": [],
   "source": [
    "# eksempel tuppel\n",
    "\n",
    "genres_tuppel = (\"pop\", \"rock\", \"soul\", \"hard rock\", \"soft rock\", \\\n",
    "                \"R&B\", \"progressive rock\", \"disco\") \n",
    "genres_tuppel"
   ]
  },
  {
   "cell_type": "markdown",
   "metadata": {
    "colab_type": "text",
    "id": "7ufGG7Gb0Bfn"
   },
   "source": [
    "Finn lengde til tuppel, <code>genres_tuple</code>:"
   ]
  },
  {
   "cell_type": "code",
   "execution_count": null,
   "metadata": {
    "colab": {},
    "colab_type": "code",
    "id": "wK0ubNRk0Bfn"
   },
   "outputs": [],
   "source": [
    "# Skriv kode ditt under og trykk Shift+Enter for å utføre"
   ]
  },
  {
   "cell_type": "markdown",
   "metadata": {
    "colab_type": "text",
    "id": "lm63Vv_x0Bft"
   },
   "source": [
    "<img src=\"https://s3-api.us-geo.objectstorage.softlayer.net/cf-courses-data/CognitiveClass/PY0101EN/Chapter%202/Images/TuplesQuiz.png\" width=\"1100\" align=\"center\">"
   ]
  },
  {
   "cell_type": "markdown",
   "metadata": {
    "colab_type": "text",
    "id": "aZ7PhaFb0Bfu"
   },
   "source": [
    "Dobbeltklikk __har__ for løsning.\n",
    "\n",
    "<!-- Din løsnign står under:\n",
    "len(genres_tuple)\n",
    "-->"
   ]
  },
  {
   "cell_type": "markdown",
   "metadata": {
    "colab_type": "text",
    "id": "0eoaIu130Bfv"
   },
   "source": [
    "Få tilgang til elementet med hensyn til indeks 3:"
   ]
  },
  {
   "cell_type": "code",
   "execution_count": null,
   "metadata": {
    "colab": {},
    "colab_type": "code",
    "id": "FDw7-WvH0Bfw"
   },
   "outputs": [],
   "source": [
    "# Skriv kode ditt under og trykk Shift+Enter for å utføre"
   ]
  },
  {
   "cell_type": "markdown",
   "metadata": {
    "colab_type": "text",
    "id": "-YHZfX0M0Bf0"
   },
   "source": [
    "Dobbeltklikk __har__ for løsning.\n",
    "\n",
    "<!-- Din løsnign står under:\n",
    "genres_tuppel[3]\n",
    "-->"
   ]
  },
  {
   "cell_type": "markdown",
   "metadata": {
    "colab_type": "text",
    "id": "Fpe7Ne6M0Bf1"
   },
   "source": [
    "Bruk skjæring for å få indeks 3, 4 og 5:"
   ]
  },
  {
   "cell_type": "code",
   "execution_count": null,
   "metadata": {
    "colab": {},
    "colab_type": "code",
    "id": "IcXu7J6O0Bf1"
   },
   "outputs": [],
   "source": [
    "# Skriv kode ditt under og trykk Shift+Enter for å utføre"
   ]
  },
  {
   "cell_type": "markdown",
   "metadata": {
    "colab_type": "text",
    "id": "7LuGwcJQ0Bf6"
   },
   "source": [
    "Dobbeltklikk __har__ for løsning.\n",
    "\n",
    "<!-- Din løsnign står under:\n",
    "genres_tuppel[3:6]\n",
    "-->"
   ]
  },
  {
   "cell_type": "markdown",
   "metadata": {
    "colab_type": "text",
    "id": "-t9L8zF70Bf7"
   },
   "source": [
    "Finn de to første elementene i tupelen <code>genres_tuppel</code>:"
   ]
  },
  {
   "cell_type": "code",
   "execution_count": null,
   "metadata": {
    "colab": {},
    "colab_type": "code",
    "id": "ARcnR06n0Bf-"
   },
   "outputs": [],
   "source": [
    "# Skriv kode ditt under og trykk Shift+Enter for å utføre"
   ]
  },
  {
   "cell_type": "markdown",
   "metadata": {
    "colab_type": "text",
    "id": "VKEVINU30BgF"
   },
   "source": [
    "Dobbeltklikk __har__ for løsning.\n",
    "\n",
    "<!-- Din løsnign står under:\n",
    "genres_tuppel[0:2]\n",
    "-->"
   ]
  },
  {
   "cell_type": "markdown",
   "metadata": {
    "colab_type": "text",
    "id": "j-Za2GaJ0BgH"
   },
   "source": [
    "Finn den første indeksen til <code>\"disco\"</code>:"
   ]
  },
  {
   "cell_type": "code",
   "execution_count": null,
   "metadata": {
    "colab": {},
    "colab_type": "code",
    "id": "ftHpEehx0BgJ"
   },
   "outputs": [],
   "source": [
    "# Skriv kode ditt under og trykk Shift+Enter for å utføre"
   ]
  },
  {
   "cell_type": "markdown",
   "metadata": {
    "colab_type": "text",
    "id": "-W8SeniD0BgQ"
   },
   "source": [
    "Dobbeltklikk __har__ for løsning.\n",
    "\n",
    "<!-- Din løsnign står under:\n",
    "genres_tuppel.index(\"disco\")\n",
    "-->"
   ]
  },
  {
   "cell_type": "markdown",
   "metadata": {
    "colab_type": "text",
    "id": "QHrqycmm0BgR"
   },
   "source": [
    "Generer en sortert liste fra Tuple <code>C_tuppel=(-5, 1, -3)</code>:"
   ]
  },
  {
   "cell_type": "code",
   "execution_count": null,
   "metadata": {
    "colab": {},
    "colab_type": "code",
    "id": "d6d3gMM30BgT"
   },
   "outputs": [],
   "source": [
    "# Skriv kode ditt under og trykk Shift+Enter for å utføre"
   ]
  },
  {
   "cell_type": "markdown",
   "metadata": {
    "colab_type": "text",
    "id": "n_Ng9OAP0BgZ"
   },
   "source": [
    "Dobbeltklikk __har__ for løsning.\n",
    "\n",
    "<!-- Din løsnign står under:\n",
    "C_tuppel = (-5, 1, -3)\n",
    "C_list = sorted(C_tuppel)\n",
    "C_list\n",
    "-->"
   ]
  },
  {
   "cell_type": "markdown",
   "metadata": {
    "colab_type": "text",
    "id": "oa21WtO3NCf4"
   },
   "source": [
    "The present document is based on the <a href=\"https://cognitiveclass.ai/courses/python-for-data-science\">IBM cognitive class \"Python for data science</a>. \n",
    "<p>Copyright &copy; Copyright Nord University 2021. This notebook and its source code are released under the terms of the <a href=\"https://opensource.org/licenses/MIT\">MIT License</a>.</p>"
   ]
  }
 ],
 "metadata": {
  "colab": {
   "name": "PY0101EN-2-1-Tuples.ipynb",
   "provenance": []
  },
  "kernelspec": {
   "display_name": "Python 3",
   "language": "python",
   "name": "python3"
  },
  "language_info": {
   "codemirror_mode": {
    "name": "ipython",
    "version": 3
   },
   "file_extension": ".py",
   "mimetype": "text/x-python",
   "name": "python",
   "nbconvert_exporter": "python",
   "pygments_lexer": "ipython3",
   "version": "3.7.4"
  }
 },
 "nbformat": 4,
 "nbformat_minor": 4
}
