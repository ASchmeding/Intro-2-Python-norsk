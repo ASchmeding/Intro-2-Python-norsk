{
 "cells": [
  {
   "cell_type": "markdown",
   "metadata": {
    "colab_type": "text",
    "id": "fAZDCww0flLs"
   },
   "source": [
    "<h1>Typene i Python</h1>"
   ]
  },
  {
   "cell_type": "markdown",
   "metadata": {
    "colab_type": "text",
    "id": "ho9dEKs3flLt"
   },
   "source": [
    "<p><strong>Velkommen!</strong> Denne notatboka skal vise deg forskjellige typer av objekter i Python programmeringsspråk. Ved slutten av denne notatboken vil du vite de grunnleggende typene som fins i Python. Siden Python er et programmeringsspråk som baserer på engelsk skal vi også bruke engelske begrep (siden det er enklere å finne dem på nettet hvis du leter etter mer informasjon)</p> "
   ]
  },
  {
   "cell_type": "markdown",
   "metadata": {
    "colab_type": "text",
    "id": "H6GfkCw3flLv"
   },
   "source": [
    "<h2>Innhold</h2>\n",
    "<div class=\"alert alert-block alert-info\" style=\"margin-top: 20px\">\n",
    "    <ul>\n",
    "        <li>\n",
    "            <a href=\"#types_objects\">Typene objekter i Python</a>\n",
    "            <ul>\n",
    "                <li><a href=\"int\">Integers (Heltall)</a></li>\n",
    "                <li><a href=\"float\">Floats (kommatall)</a></li>\n",
    "                <li><a href=\"convert\">Konvertering fra én objekttype til en annen objekttype</a></li>\n",
    "                <li><a href=\"bool\">Boolean data type (Boolsk datatype)</a></li>\n",
    "                <li><a href=\"exer_type\">Oppgave: Typene</a></li>\n",
    "            </ul>\n",
    "        </li>\n",
    "    </ul>\n",
    "    <p>\n",
    "        Tidsbruk: <strong>10 min</strong>\n",
    "    </p>\n",
    "</div>\n",
    "\n",
    "<hr>"
   ]
  },
  {
   "cell_type": "markdown",
   "metadata": {
    "colab_type": "text",
    "id": "j4AxBJmOflLx"
   },
   "source": [
    "<h2 id=\"types_objects\" align=\"center\">Typene objekter i Python</h2>"
   ]
  },
  {
   "cell_type": "markdown",
   "metadata": {
    "colab_type": "text",
    "id": "oJPp0_t7flLy"
   },
   "source": [
    "<p>Python er et objektorientert språk. Det er mange forskjellige typer objekter i Python. La oss starte med de vanligste objekttypene: <i>strings</i> (<i>streng</i>), <i>integers</i> (<i>heltall</i>) og <i>floats</i> (<i>kommatall</i>). Hver gang du skriver ord (tekst) i Python, bruker du <i>character strings</i> (kort strings (eller **strenger** på norsk)). \n",
    "De vanligste tallene er derimot <i>integers</i> (f.eks. -1, 0, 100) og <i>floats</i>, som representerer reell tall (f.eks. 3.14, -42.0).</p>"
   ]
  },
  {
   "cell_type": "markdown",
   "metadata": {
    "colab_type": "text",
    "id": "M3rpiL1IflLz"
   },
   "source": [
    "<a align=\"center\">\n",
    "    <img src=\"https://github.com/ASchmeding/Intro-2-Python-norsk/blob/main/Images/TypesObjects.png?raw=true\" width=\"600\">\n",
    "</a>"
   ]
  },
  {
   "cell_type": "markdown",
   "metadata": {
    "colab_type": "text",
    "id": "l_zykejkflL0"
   },
   "source": [
    "<p>\n",
    "Følgende kodeceller inneholder noen eksempler.</p>"
   ]
  },
  {
   "cell_type": "code",
   "execution_count": null,
   "metadata": {
    "colab": {},
    "colab_type": "code",
    "id": "g05DWXOMflL2"
   },
   "outputs": [],
   "source": [
    "# Integer (Heltall)\n",
    "\n",
    "11"
   ]
  },
  {
   "cell_type": "code",
   "execution_count": null,
   "metadata": {
    "colab": {},
    "colab_type": "code",
    "id": "GndCO86nflL9"
   },
   "outputs": [],
   "source": [
    "# Float (kommatall, men brukes punkt i stedet av komma)\n",
    "\n",
    "2.14"
   ]
  },
  {
   "cell_type": "code",
   "execution_count": null,
   "metadata": {
    "colab": {},
    "colab_type": "code",
    "id": "ckToHGicflMD"
   },
   "outputs": [],
   "source": [
    "# String (streng)\n",
    "\n",
    "\"Hallo, Python 101!\""
   ]
  },
  {
   "cell_type": "markdown",
   "metadata": {
    "colab_type": "text",
    "id": "GEwtpYmnflMK"
   },
   "source": [
    "<p> Legg  merke til at Python markerer ulike typer med ulik farge.\n",
    "Du kan få Python til å fortelle deg typen uttrykk ved å bruke den innebygde<code>type()</code> funksjon. Du vil legge merke til at Python refererer til integers (heltall) som <code>int</code>, floats som <code>float</code>, og strenger som <code>str</code>. </p>"
   ]
  },
  {
   "cell_type": "code",
   "execution_count": null,
   "metadata": {
    "colab": {},
    "colab_type": "code",
    "id": "i4K9AsfKflML"
   },
   "outputs": [],
   "source": [
    "# Type av 12\n",
    "\n",
    "type(12)"
   ]
  },
  {
   "cell_type": "code",
   "execution_count": null,
   "metadata": {
    "colab": {},
    "colab_type": "code",
    "id": "y1mRHqfHflMS"
   },
   "outputs": [],
   "source": [
    "# Type av 2.14\n",
    "\n",
    "type(2.14)"
   ]
  },
  {
   "cell_type": "code",
   "execution_count": null,
   "metadata": {
    "colab": {},
    "colab_type": "code",
    "id": "DOn43WEoflMY"
   },
   "outputs": [],
   "source": [
    "# Type av \"Hallo, Python 101!\"\n",
    "\n",
    "type(\"Hallo, Python 101!\")"
   ]
  },
  {
   "cell_type": "markdown",
   "metadata": {
    "colab_type": "text",
    "id": "gsgMPJqNflMd"
   },
   "source": [
    "<p>Prøv i kodecellen nede å bruke <code>type()</code> funksjon for å sjekke typen av <code>12.0</code>. Hva er forskjellen til typen av $12$ vi har prøvd over?"
   ]
  },
  {
   "cell_type": "code",
   "execution_count": null,
   "metadata": {
    "colab": {},
    "colab_type": "code",
    "id": "Gu3AwfZ8flMf"
   },
   "outputs": [],
   "source": [
    "# Skriv koden din under. Ikke glem å trykke Shift+Enter for å kjøre kode"
   ]
  },
  {
   "cell_type": "markdown",
   "metadata": {
    "colab_type": "text",
    "id": "45ekuaOLflMk"
   },
   "source": [
    "Dobbeltklikk __har__ for løsning.\n",
    "\n",
    "<!-- Din løsnign står under:\n",
    "\n",
    "type(12.0)\n",
    "\n",
    "-->"
   ]
  },
  {
   "cell_type": "markdown",
   "metadata": {
    "colab_type": "text",
    "id": "PTu1XuByflMl"
   },
   "source": [
    "<h3 id=\"int\">Integers (Heltall)</h3>"
   ]
  },
  {
   "cell_type": "markdown",
   "metadata": {
    "colab_type": "text",
    "id": "Yt7yKuCJflMm"
   },
   "source": [
    "<p>Her er noen eksempler på heltall. Heltall kan være negative eller positive tall:</p>"
   ]
  },
  {
   "cell_type": "markdown",
   "metadata": {
    "colab_type": "text",
    "id": "bMSwjTp6flMn"
   },
   "source": [
    "<a align=\"center\">\n",
    "    <img src=\"https://s3-api.us-geo.objectstorage.softlayer.net/cf-courses-data/CognitiveClass/PY0101EN/Chapter%201/Images/TypesInt.png\" width=\"600\">\n",
    "</a>"
   ]
  },
  {
   "cell_type": "markdown",
   "metadata": {
    "colab_type": "text",
    "id": "A7v5pdMoflMo"
   },
   "source": [
    "<p>Vi kan bekrefte at dette er tilfellet ved å bruke <code>type()</code> funksjon:"
   ]
  },
  {
   "cell_type": "code",
   "execution_count": null,
   "metadata": {
    "colab": {},
    "colab_type": "code",
    "id": "jYf5JwFpflMp"
   },
   "outputs": [],
   "source": [
    "# Skriv ut type av -1\n",
    "\n",
    "type(-1)"
   ]
  },
  {
   "cell_type": "code",
   "execution_count": null,
   "metadata": {
    "colab": {},
    "colab_type": "code",
    "id": "5OQ5nkqGflMx"
   },
   "outputs": [],
   "source": [
    "# Skriv ut type av 4\n",
    "\n",
    "type(4)"
   ]
  },
  {
   "cell_type": "code",
   "execution_count": null,
   "metadata": {
    "colab": {},
    "colab_type": "code",
    "id": "9pTWj5KKflM3"
   },
   "outputs": [],
   "source": [
    "# Skriv ut type av 0\n",
    "\n",
    "type(0)"
   ]
  },
  {
   "cell_type": "markdown",
   "metadata": {
    "colab_type": "text",
    "id": "X-6AwwHMflM7"
   },
   "source": [
    "<h3 id=\"float\">Floats (Kommatall)</h3> "
   ]
  },
  {
   "cell_type": "markdown",
   "metadata": {
    "colab_type": "text",
    "id": "HA-yB8pkflM8"
   },
   "source": [
    "<p>Floats (kommatall) representerer reelle tall; de inkluderer alle heltall, men også \"tall med desimaler\". Det er noen begrensninger maskiner, som datamaskiner, har når det kommer til å representere kommatall. \n",
    "Hovedpoeng er at en datamaskin er en maskin byggd av mennesker og dermed klarer det bare å handtere med endelig mange tall og sifrer. Med andre ord, det er bare endelig mange sifrer en datamaskin husker å minne når den handteres med tall.\n",
    "For alt som skjer i skolen er floats en god nok representasjon. Du kan lære mer om detaljene til floats for \"runtime environment\" (dvs. datamaskinen og programvare du bruker på den) ditt ved å sjekke verdien av <code>sys.float_info</code>. Dette vil også fortelle deg hva som er det største og minste tallet som kan representeres med dem.</p>\n",
    "\n",
    "<p>Igjen la oss teste noen eksempler med <code>type()</code> funksjon:"
   ]
  },
  {
   "cell_type": "code",
   "execution_count": null,
   "metadata": {
    "colab": {},
    "colab_type": "code",
    "id": "W9t7RiRbflM9"
   },
   "outputs": [],
   "source": [
    "# Skriv ut type av 1.0\n",
    "\n",
    "type(1.0) # Legg merke til 1 er en int, og 1.0 er en float"
   ]
  },
  {
   "cell_type": "code",
   "execution_count": null,
   "metadata": {
    "colab": {},
    "colab_type": "code",
    "id": "fyGBqL3EflNC"
   },
   "outputs": [],
   "source": [
    "# Skriv ut type av 0.5\n",
    "\n",
    "type(0.5)"
   ]
  },
  {
   "cell_type": "code",
   "execution_count": null,
   "metadata": {
    "colab": {},
    "colab_type": "code",
    "id": "IfW60IicflNG"
   },
   "outputs": [],
   "source": [
    "# Skriv ut type av 0.56\n",
    "\n",
    "type(0.56)"
   ]
  },
  {
   "cell_type": "code",
   "execution_count": null,
   "metadata": {
    "colab": {},
    "colab_type": "code",
    "id": "vSlY3EOSflNL"
   },
   "outputs": [],
   "source": [
    "# Systeminnstillinger for float type\n",
    "\n",
    "import sys \n",
    "sys.float_info"
   ]
  },
  {
   "cell_type": "markdown",
   "metadata": {},
   "source": [
    "Vi kan få mye informasjonen fra <code>float_info</code>. Som utgangspunktet er kanskje de to viktigste informasjoner som fins i utskrift på skjermen de to tall <code>max=</code> som angir hva det største tallet er som datamaskinen din klarer å beskrive og <code>epsilon=</code> som angir hvor stor forskjellen er mellom tallet $1$ og nest største tall som Python klarer å skille fra $1$. Matematiker liker å betegne tall som er veldig lite med den greske bokstav epsilon.\n",
    "OBS: Begge tallene angis i vitenskapelig notasjon ved hjelp av eksponential som skrives som $a e+x$ (eller $e-x$). I denne fremstilling er betydning at tallet $a$ ganges med $e^x$ (eller $e^{-x}$). "
   ]
  },
  {
   "cell_type": "markdown",
   "metadata": {
    "colab_type": "text",
    "id": "hkEaGezQflNU"
   },
   "source": [
    "<h3 id=\"convert\">Konvertering fra én objekttype til en annen objekttype</h3>"
   ]
  },
  {
   "cell_type": "markdown",
   "metadata": {
    "colab_type": "text",
    "id": "54WOTYx-flNZ"
   },
   "source": [
    "<p>Du kan endre typen på objektet i Python; dette kalles typecasting. For eksempel, kan vi konvertere <i>integer</i> til <i>float</i> (f.eks. 2 til 2.0).</p>\n",
    "<p>La oss prøve det:</p>"
   ]
  },
  {
   "cell_type": "code",
   "execution_count": null,
   "metadata": {
    "colab": {},
    "colab_type": "code",
    "id": "WZsRInBSflNb"
   },
   "outputs": [],
   "source": [
    "# Sjekk at dette er en integer\n",
    "\n",
    "type(2)"
   ]
  },
  {
   "cell_type": "markdown",
   "metadata": {
    "colab_type": "text",
    "id": "Lwh4wJYMflNk"
   },
   "source": [
    "<h4>Konvertering av integers til floats</h4>\n",
    "<p>La oss konvertere integer 2 til float:</p>"
   ]
  },
  {
   "cell_type": "code",
   "execution_count": null,
   "metadata": {
    "colab": {},
    "colab_type": "code",
    "id": "EG2Uom6tflNl"
   },
   "outputs": [],
   "source": [
    "# Konverter 2 til float\n",
    "\n",
    "float(2)"
   ]
  },
  {
   "cell_type": "code",
   "execution_count": null,
   "metadata": {
    "colab": {},
    "colab_type": "code",
    "id": "117dnoFLflNr"
   },
   "outputs": [],
   "source": [
    "# Konverter integer 2 til en float og sjekk type\n",
    "\n",
    "type(float(2))"
   ]
  },
  {
   "cell_type": "markdown",
   "metadata": {
    "colab_type": "text",
    "id": "bmCOtmt9flNy"
   },
   "source": [
    "<p>Når vi konverterer et integer til en float, endrer vi egentlig ikke verdien til tallet. Men hvis vi konverterer en float til et integer, kan vi potensielt miste noe informasjon. For eksempel, hvis vi konverterer float 1.1 til integer, får vi 1 og mister desimalinformasjonen (dvs., 0.1):</p>"
   ]
  },
  {
   "cell_type": "code",
   "execution_count": null,
   "metadata": {
    "colab": {},
    "colab_type": "code",
    "id": "-EW4SLQBflNz"
   },
   "outputs": [],
   "source": [
    "# Konvertering av 1.1 til integer vil føre til tap av informasjon\n",
    "\n",
    "int(1.1)"
   ]
  },
  {
   "cell_type": "markdown",
   "metadata": {
    "colab_type": "text",
    "id": "fCpuZGIVflN6"
   },
   "source": [
    "<h4>Konvertering fra string til integer eller floats</h4>"
   ]
  },
  {
   "cell_type": "markdown",
   "metadata": {
    "colab_type": "text",
    "id": "nyDwGZMIflN7"
   },
   "source": [
    "<p>Noen ganger kan vi ha en string (streng) som inneholder et tall i den. Hvis dette er tilfelle, kan vi konvertere den strengen som representerer et tall inn i et heltall ved å bruke <code>int()</code>:</p>"
   ]
  },
  {
   "cell_type": "code",
   "execution_count": null,
   "metadata": {
    "colab": {},
    "colab_type": "code",
    "id": "wC1mBOntflN8"
   },
   "outputs": [],
   "source": [
    "# Konverter en string til et integer\n",
    "\n",
    "int('1') #'1' for Python er det et ord, dvs. en streng som innholder tegn 1"
   ]
  },
  {
   "cell_type": "markdown",
   "metadata": {
    "colab_type": "text",
    "id": "r8-1wgIuflOB"
   },
   "source": [
    "<p>Men hvis du prøver å gjøre det med en streng som ikke passer perfekt til et tall, får du en feilmelding. Prøv følgende:</p>"
   ]
  },
  {
   "cell_type": "code",
   "execution_count": null,
   "metadata": {
    "colab": {},
    "colab_type": "code",
    "id": "5q6U2E-eflOC"
   },
   "outputs": [],
   "source": [
    "# Konverter en string til et integer med feil\n",
    "int('1 or 2 people')"
   ]
  },
  {
   "cell_type": "markdown",
   "metadata": {
    "colab_type": "text",
    "id": "36JZdeqtflOH"
   },
   "source": [
    "<p>Du kan også konvertere strenger som inneholder flyttall til <i>float</i> objekter:</p>"
   ]
  },
  {
   "cell_type": "code",
   "execution_count": null,
   "metadata": {
    "colab": {},
    "colab_type": "code",
    "id": "i38Cx6udflOI"
   },
   "outputs": [],
   "source": [
    "# Konverter strengen \"1.2\" til et float\n",
    "\n",
    "float('1.2')"
   ]
  },
  {
   "cell_type": "markdown",
   "metadata": {
    "colab_type": "text",
    "id": "BOIDzb1HflOM"
   },
   "source": [
    "<div class=\"alert alert-success alertsuccess\" style=\"margin-top: 20px\">\n",
    "    [Tipp:] Merk at strenger kan representeres med enkle anførselstegn (<code>'1.2'</code>) eller doble anførselstegn (<code>\"1.2\"</code>), men du kan ikke blande begge (f.eks., <code>\"1.2'</code>).\n",
    "</div>\n"
   ]
  },
  {
   "cell_type": "markdown",
   "metadata": {
    "colab_type": "text",
    "id": "XJuRlK_5flOO"
   },
   "source": [
    "<h4>Konvertering tall til strenger</h4>"
   ]
  },
  {
   "cell_type": "markdown",
   "metadata": {
    "colab_type": "text",
    "id": "rpGSA7wDflOP"
   },
   "source": [
    "<p>Hvis vi kan konvertere strenger til tall, er det vel naturlig å anta at vi kan konvertere tall til strenger?</p>"
   ]
  },
  {
   "cell_type": "code",
   "execution_count": null,
   "metadata": {
    "colab": {},
    "colab_type": "code",
    "id": "YrZcINcnflOQ"
   },
   "outputs": [],
   "source": [
    "# Konverter et integer til en streng\n",
    "\n",
    "str(1)"
   ]
  },
  {
   "cell_type": "markdown",
   "metadata": {
    "colab_type": "text",
    "id": "0JxVrUnfflOV"
   },
   "source": [
    "<p>Og det er ingen grunn til at vi ikke skal kunne lage floats til strenger også:</p> "
   ]
  },
  {
   "cell_type": "code",
   "execution_count": null,
   "metadata": {
    "colab": {},
    "colab_type": "code",
    "id": "MeWtnCUmflOW"
   },
   "outputs": [],
   "source": [
    "# Konverter et float til en streng\n",
    "\n",
    "str(1.2)"
   ]
  },
  {
   "cell_type": "markdown",
   "metadata": {
    "colab_type": "text",
    "id": "jvsgLo-iflOa"
   },
   "source": [
    "<h3 id=\"bool\">Boolean data type (Boolsk datatype)</h3>"
   ]
  },
  {
   "cell_type": "markdown",
   "metadata": {
    "colab_type": "text",
    "id": "YCVkCg3BflOb"
   },
   "source": [
    "<p><i>Boolean</i> er en annen viktig type i Python. Et objekt av typen <i>Boolean</i> \n",
    "kan ha en av to verdier: <code>True</code> (sant) eller <code>False</code> (usant):</p>"
   ]
  },
  {
   "cell_type": "code",
   "execution_count": null,
   "metadata": {
    "colab": {},
    "colab_type": "code",
    "id": "kr8rGNzCflOc"
   },
   "outputs": [],
   "source": [
    "# Verdi true\n",
    "\n",
    "True"
   ]
  },
  {
   "cell_type": "markdown",
   "metadata": {
    "colab_type": "text",
    "id": "o1xzvoEfflOi"
   },
   "source": [
    "<p>Legg merke til at verdien <code>True</code> har en stor \"T\". Det samme gjelder for <code>False</code> (dvs. du må bruke stor \"F\").</p>"
   ]
  },
  {
   "cell_type": "code",
   "execution_count": null,
   "metadata": {
    "colab": {},
    "colab_type": "code",
    "id": "rvczIKr-flOi"
   },
   "outputs": [],
   "source": [
    "# Verdi false\n",
    "\n",
    "False"
   ]
  },
  {
   "cell_type": "markdown",
   "metadata": {
    "colab_type": "text",
    "id": "goPYhRpjflOm"
   },
   "source": [
    "<p>\n",
    "Når du spør Python for å vise typen av et boolsk objekt det vil vise <code>bool</code> som står for <i>boolean</i>:</p> "
   ]
  },
  {
   "cell_type": "code",
   "execution_count": null,
   "metadata": {
    "colab": {},
    "colab_type": "code",
    "id": "iyhEV6PcflOn"
   },
   "outputs": [],
   "source": [
    "# Type av True\n",
    "\n",
    "type(True)"
   ]
  },
  {
   "cell_type": "code",
   "execution_count": null,
   "metadata": {
    "colab": {},
    "colab_type": "code",
    "id": "sM2PyJB4flOt"
   },
   "outputs": [],
   "source": [
    "# Type av False\n",
    "\n",
    "type(False)"
   ]
  },
  {
   "cell_type": "markdown",
   "metadata": {
    "colab_type": "text",
    "id": "I-27CohoflOx"
   },
   "source": [
    "<p>Vi kan konvertere boolske objekter til andre datatyper. Hvis vi konverterer en boolsk med en verdi på <code>True</code> til et integer eller et float får vi ett en. Hvis vi konverterer en boolsk med en verdi på <code>False</code> til et integer eller et float får vi ett null. På samme måte, hvis vi konverterer 1 til Boolean, får vi <code>True</code>. Og hvis vi konverterer 0 til Boolean får vi <code>False</code>. La oss prøve det:</p> "
   ]
  },
  {
   "cell_type": "code",
   "execution_count": null,
   "metadata": {
    "colab": {},
    "colab_type": "code",
    "id": "u6GAfQu-flOy"
   },
   "outputs": [],
   "source": [
    "# Konverter True til int\n",
    "\n",
    "int(True)"
   ]
  },
  {
   "cell_type": "code",
   "execution_count": null,
   "metadata": {
    "colab": {},
    "colab_type": "code",
    "id": "ME5NORXHflO3"
   },
   "outputs": [],
   "source": [
    "# Konverter 1 til boolean\n",
    "\n",
    "bool(1)"
   ]
  },
  {
   "cell_type": "code",
   "execution_count": null,
   "metadata": {
    "colab": {},
    "colab_type": "code",
    "id": "I5VnAXwuflO9"
   },
   "outputs": [],
   "source": [
    "# Konverter 0 til boolean\n",
    "\n",
    "bool(0)"
   ]
  },
  {
   "cell_type": "code",
   "execution_count": null,
   "metadata": {
    "colab": {},
    "colab_type": "code",
    "id": "S8fEIBtTflPB"
   },
   "outputs": [],
   "source": [
    "# Konverter True til float\n",
    "\n",
    "float(True)"
   ]
  },
  {
   "cell_type": "markdown",
   "metadata": {
    "colab_type": "text",
    "id": "gBqiOGBRflPK"
   },
   "source": [
    "<h3 id=\"exer_type\">Oppgaver: Typene</h3>"
   ]
  },
  {
   "cell_type": "markdown",
   "metadata": {
    "colab_type": "text",
    "id": "BENNrCp5flPL"
   },
   "source": [
    "<p>Hva er datatypen for resultatet av: <code>6 / 2</code>?</p>"
   ]
  },
  {
   "cell_type": "code",
   "execution_count": null,
   "metadata": {
    "colab": {},
    "colab_type": "code",
    "id": "ei7ELvLCflPM"
   },
   "outputs": [],
   "source": [
    "# Skriv koden din under. Ikke glem å trykke Shift+Enter for å kjøre koden."
   ]
  },
  {
   "cell_type": "markdown",
   "metadata": {
    "colab_type": "text",
    "id": "s_6bog4HflPT"
   },
   "source": [
    "Dobbeltklikk __har__ for løsning.\n",
    "\n",
    "<!-- Din løsnign står under:\n",
    "type(6/2) # float\n",
    "-->"
   ]
  },
  {
   "cell_type": "markdown",
   "metadata": {
    "colab_type": "text",
    "id": "ReMxADU0flPU"
   },
   "source": [
    "<p>Hva er datatypen for resultatet av: <code>6 // 2</code>? (Legg merke til dobbel skråstrek <code>//</code>.)</p>"
   ]
  },
  {
   "cell_type": "code",
   "execution_count": null,
   "metadata": {
    "colab": {},
    "colab_type": "code",
    "id": "QqjWO0NmflPX"
   },
   "outputs": [],
   "source": [
    "# Skriv koden din under. Ikke glem å trykke Shift+Enter for å kjøre koden."
   ]
  },
  {
   "cell_type": "markdown",
   "metadata": {
    "colab_type": "text",
    "id": "VGy1LNZ7flPd"
   },
   "source": [
    "Dobbeltklikk __har__ for løsning.\n",
    "\n",
    "<!-- Din løsnign står under:\n",
    "type(6//2) # int, dobbel skråstrek står for divisjon av heltall \n",
    "-->"
   ]
  },
  {
   "cell_type": "markdown",
   "metadata": {
    "colab_type": "text",
    "id": "oa21WtO3NCf4"
   },
   "source": [
    "The present document is based on the <a href=\"https://cognitiveclass.ai/courses/python-for-data-science\">IBM cognitive class \"Python for data science</a>. \n",
    "<p>Copyright &copy; Copyright Nord University 2021. This notebook and its source code are released under the terms of the <a href=\"https://opensource.org/licenses/MIT\">MIT License</a>.</p>"
   ]
  }
 ],
 "metadata": {
  "colab": {
   "collapsed_sections": [],
   "name": "PY0101EN-1-2-Types.ipynb",
   "provenance": []
  },
  "kernelspec": {
   "display_name": "Python 3",
   "language": "python",
   "name": "python3"
  },
  "language_info": {
   "codemirror_mode": {
    "name": "ipython",
    "version": 3
   },
   "file_extension": ".py",
   "mimetype": "text/x-python",
   "name": "python",
   "nbconvert_exporter": "python",
   "pygments_lexer": "ipython3",
   "version": "3.7.4"
  }
 },
 "nbformat": 4,
 "nbformat_minor": 4
}
