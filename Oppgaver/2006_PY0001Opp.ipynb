{
 "cells": [
  {
   "cell_type": "markdown",
   "metadata": {},
   "source": [
    "# Oppgaver for Uke 1\n",
    "\n",
    "Her fins noen oppgaver relatert til grunnleggende programering i Python. Vi skal diskutere disse oppgaver mandag 10.01. fra 8.15-9.00 (bruk vanlig zoom lenke for mandagsundervisning)\n",
    "\n",
    "Først å framst trenger vi navnet ditt:"
   ]
  },
  {
   "cell_type": "code",
   "execution_count": null,
   "metadata": {},
   "outputs": [],
   "source": [
    "#Bruk print() funksjonen for å fortelle Python å skrive \n",
    "#navnet ditt!\n",
    "#Skriv koden din under"
   ]
  },
  {
   "cell_type": "markdown",
   "metadata": {},
   "source": [
    "Grunnen vi bryr oss om det at bare de som har jobbet med oppgavene og levert JuPyter notat i Canvas diskusjon før vurderingsøkta på mandag får være med i økt). "
   ]
  },
  {
   "cell_type": "markdown",
   "metadata": {},
   "source": [
    "# Oppgave 1 (1.42 fra Matematikk 1T)\n",
    "\n",
    "Ta for deg denne algoritmen:\n",
    "\n",
    "*Tenk på et tall. Trekk så fra tre multiplisert med tallet som er en mindre enn tallet du tenkte på. Legg til det dobbelte av tallet du tenkte på. Trekk til slutt fra kvadratroten av ni.*\n",
    "\n",
    "(a) Utfør algoritmen (på papir) for noen tilfeldige tall. Hva ender du opp med?  \n",
    "I cellen under har du plass for å skrive ned det du trenger for innlevering. \n",
    "Vi bruker det som en liten øvelse hvordan man jobber i markdown celler. (Mer forklaring fins under cellen)"
   ]
  },
  {
   "cell_type": "markdown",
   "metadata": {},
   "source": [
    "**Cellen for svaret ditt (dobbeltklikk her for å skrive noe)**"
   ]
  },
  {
   "cell_type": "markdown",
   "metadata": {},
   "source": [
    "**Merk at du kan skrive i cellen som i Microsoft Word (eller liknende)**. I tillegg kan du skrive spesielle matematiske symboler (om du trenger dem) ved bruk av spesiell kode som settes mellom to dollartegn $\\$ \\text{plass for matematiske symboler}\\$ $, [her fins en introduksjon](https://ashki23.github.io/markdown-latex.html) med de vanligste kommando man kunne trenge."
   ]
  },
  {
   "cell_type": "markdown",
   "metadata": {},
   "source": [
    "(b) Frank tenker på tallet $-5$. Sett opp algoritmen for Franks tall i ett regnestykke, som du så regner ut."
   ]
  },
  {
   "cell_type": "markdown",
   "metadata": {},
   "source": [
    "**Cellen for svaret ditt (dobbeltklikk her for å skrive noe)**"
   ]
  },
  {
   "cell_type": "markdown",
   "metadata": {},
   "source": [
    "(c) Lag et program som utfører algoritmen for et tall."
   ]
  },
  {
   "cell_type": "code",
   "execution_count": null,
   "metadata": {},
   "outputs": [],
   "source": [
    "#Skriv koden din under, husk å kjøre den ved å trykke SHIFT + ENTER "
   ]
  },
  {
   "cell_type": "markdown",
   "metadata": {},
   "source": [
    "# Oppgave 2\n",
    "\n",
    "I den oppgaven jobber vi litt med listene i Python, det fins en Jupyternotat *PY0101No-2-2-Lists* på Canvas som har mye mer informasjon. La meg først vise hvordan man lager en liste i Python. Vi skal lage en liste $A$ med $8$ partall, og deretter lager dere en liste $B$ med $8$ oddetall."
   ]
  },
  {
   "cell_type": "code",
   "execution_count": null,
   "metadata": {},
   "outputs": [],
   "source": [
    "A = [2,4,12,42,-8,4,10,42] #Parenteser brukes for å lage lister i Python,\n",
    "                           #forskjellige elementer skilles med komma \n",
    "#Lag nå en liste B med åtte oddetall, husk å kjøre den ved å trykke SHIFT + ENTER "
   ]
  },
  {
   "cell_type": "markdown",
   "metadata": {},
   "source": [
    "(a) Prøv å addere de to listene (ved bruk av <code>A+B</code>). Hva skjer?"
   ]
  },
  {
   "cell_type": "code",
   "execution_count": null,
   "metadata": {},
   "outputs": [],
   "source": [
    "#Skriv koden din under, husk å kjøre den ved å trykke SHIFT + ENTER "
   ]
  },
  {
   "cell_type": "markdown",
   "metadata": {},
   "source": [
    "(b) Kan du dele eller gange de to listene med hverandre?"
   ]
  },
  {
   "cell_type": "code",
   "execution_count": null,
   "metadata": {},
   "outputs": [],
   "source": [
    "#Skriv koden din under, husk å kjøre den ved å trykke SHIFT + ENTER "
   ]
  },
  {
   "cell_type": "markdown",
   "metadata": {},
   "source": [
    "(c) Listene gi oss mulighet å få pågrep på elementene. For eksempel hvis vi trenger element med plass nummer $2$ fra en liste som heter <code>minliste</code> skriver vi <code>minliste[2]</code>\n",
    "\n",
    "Skriv ut det første, det siste, og de to midterste tallene fra en av de listene $A$ eller $B$. (Igjen *PY0101No-2-2-Lists* har mye mer informasjon og noen gode triks om hvordan man gjør det)"
   ]
  },
  {
   "cell_type": "code",
   "execution_count": null,
   "metadata": {},
   "outputs": [],
   "source": [
    "#Skriv koden din under, husk å kjøre den ved å trykke SHIFT + ENTER "
   ]
  },
  {
   "cell_type": "markdown",
   "metadata": {},
   "source": [
    "(d) Sjekk *PY0101No-2-2-Lists* for å finne ut hvordan man legger til elementer til en liste eller sletter et element fra en liste. Deretter, legg til et element i listene $A$ og $B$, og slett det tredje elementet i hver av dem."
   ]
  },
  {
   "cell_type": "code",
   "execution_count": null,
   "metadata": {},
   "outputs": [],
   "source": [
    "#Skriv koden din under, husk å kjøre den ved å trykke SHIFT + ENTER "
   ]
  },
  {
   "cell_type": "markdown",
   "metadata": {},
   "source": [
    "# Oppgave 3\n",
    "\n",
    "(a) Den følgende kode skriver ut partallene mellom $500$ og $750$ med en <code>while</code>-løkke. Se på kode og kommenter den linje for linje med forklaringer hva skjer."
   ]
  },
  {
   "cell_type": "code",
   "execution_count": null,
   "metadata": {},
   "outputs": [],
   "source": [
    "n=500\n",
    "while n < 751:\n",
    "    print(n)\n",
    "    n += 2"
   ]
  },
  {
   "cell_type": "markdown",
   "metadata": {},
   "source": [
    "(b) Hvordan må jeg endre koden i (a) hvis jeg vil få alle oddetall mellom $500$ og $750$? Sett inn ny kode som gjør det i neste cellen:"
   ]
  },
  {
   "cell_type": "code",
   "execution_count": null,
   "metadata": {},
   "outputs": [],
   "source": [
    "#Skriv koden din under, husk å kjøre den ved å trykke SHIFT + ENTER "
   ]
  },
  {
   "cell_type": "markdown",
   "metadata": {},
   "source": [
    "(b) *Fibonacci tallene* er en spesiell tallrekke som er gitt ved \n",
    "$$1 ,\\ 1 ,\\ 2 ,\\ 3,\\ 5,\\ 8,\\ 13,\\ \\cdots$$\n",
    "Lag et dataprogram i Python som lager en liste som inneholder de 20 første tallene i denne tallrekken! Avslutt programmet med å skrive ut listen."
   ]
  },
  {
   "cell_type": "code",
   "execution_count": null,
   "metadata": {},
   "outputs": [],
   "source": [
    "#Skriv koden din under, husk å kjøre den ved å trykke SHIFT + ENTER "
   ]
  },
  {
   "cell_type": "markdown",
   "metadata": {},
   "source": [
    "(c) Noe som er veldig interessant med denne tallrekken er forholdet mellom etterfølgende element. Lag en ny liste i programmet ditt, der du legger inn forholdet mellom tall 2 og tall 1, tall 3 og tall 2, tall 4 og tall 3 osv.."
   ]
  },
  {
   "cell_type": "code",
   "execution_count": null,
   "metadata": {},
   "outputs": [],
   "source": [
    "#Skriv koden din under, husk å kjøre den ved å trykke SHIFT + ENTER "
   ]
  },
  {
   "cell_type": "markdown",
   "metadata": {},
   "source": [
    "Hva er det som er så spesielt med det tallet vi ender opp med i denne siste tallrekken? Hvis du ikke kjenner det igjen, se om Google kanskje gjør det... (skriv svaret ditt i tekstboksen under)"
   ]
  },
  {
   "cell_type": "markdown",
   "metadata": {},
   "source": [
    "**Cellen for svaret ditt (dobbeltklikk her for å skrive noe)**"
   ]
  },
  {
   "cell_type": "markdown",
   "metadata": {},
   "source": [
    "(d) Se på kode nedover. Hva er verdien av variablen $y$ etter koden har kjørt? \n",
    "Skriv kommentar ved siden av hver linje i kode som forklarer hva skjer i denne linja."
   ]
  },
  {
   "cell_type": "code",
   "execution_count": null,
   "metadata": {},
   "outputs": [],
   "source": [
    "y = 0\n",
    "for i in range(1000):\n",
    "    for j in range(1000):\n",
    "        if i == j:\n",
    "            y += 1"
   ]
  },
  {
   "cell_type": "markdown",
   "metadata": {},
   "source": [
    "Noen tipps: \n",
    "1. $==$ er et logisk utrykk (sjekk f.eks. notatbok om vilkår på Canvas for å finne ut mer)\n",
    "2. <code>+=</code> adderer til det som står på venstre det som står på høyre.\n",
    "3. Du kan bruke <code>?kommando</code> for å få Python å gi mer informasjon om innebyggde funksjoner som for eksempel <code>range</code>"
   ]
  },
  {
   "cell_type": "code",
   "execution_count": null,
   "metadata": {},
   "outputs": [],
   "source": []
  }
 ],
 "metadata": {
  "kernelspec": {
   "display_name": "Python 3",
   "language": "python",
   "name": "python3"
  },
  "language_info": {
   "codemirror_mode": {
    "name": "ipython",
    "version": 3
   },
   "file_extension": ".py",
   "mimetype": "text/x-python",
   "name": "python",
   "nbconvert_exporter": "python",
   "pygments_lexer": "ipython3",
   "version": "3.7.4"
  }
 },
 "nbformat": 4,
 "nbformat_minor": 4
}
