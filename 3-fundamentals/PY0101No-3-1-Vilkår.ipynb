{
 "cells": [
  {
   "cell_type": "markdown",
   "metadata": {
    "colab_type": "text",
    "id": "pDdTPOUT8DOY"
   },
   "source": [
    "<h1>Vilkår i Python</h1>"
   ]
  },
  {
   "cell_type": "markdown",
   "metadata": {
    "colab_type": "text",
    "id": "pTzRcX0O8DOZ"
   },
   "source": [
    "<p><strong>Velkommen!</strong> Denne notatboken vil lære deg om vilkår i Python-programmeringsspråket. Ved slutten av denne økta vil du vite hvordan du bruker vilkår i Python, inkludert operatører og forgrening (branching).</p>"
   ]
  },
  {
   "cell_type": "markdown",
   "metadata": {
    "colab_type": "text",
    "id": "ho2J2Nrz8DOa"
   },
   "source": [
    "<h2>Innhold</h2>\n",
    "<div class=\"alert alert-block alert-info\" style=\"margin-top: 20px\">\n",
    "    <ul>\n",
    "        <li>\n",
    "            <a href=\"#cond\">Vilkår</a>\n",
    "            <ul>\n",
    "                <li><a href=\"comp\">Sammenligningsoperasjoner</a></li>\n",
    "                <li><a href=\"branch\">Forgrening (Branching)</a></li>\n",
    "                <li><a href=\"logic\">Logiske operatorer</a></li>\n",
    "            </ul>\n",
    "        </li>\n",
    "        <li>\n",
    "            <a href=\"#quiz\">Quiz om vilkår</a>\n",
    "        </li>\n",
    "    </ul>\n",
    "    <p>\n",
    "        Tidsbruk: <strong>20 min</strong>\n",
    "    </p>\n",
    "</div>\n",
    "\n",
    "<hr>"
   ]
  },
  {
   "cell_type": "markdown",
   "metadata": {
    "colab_type": "text",
    "id": "toGilIDa8DOb"
   },
   "source": [
    "<h2 id=\"cond\">Vilkår</h2>"
   ]
  },
  {
   "cell_type": "markdown",
   "metadata": {
    "colab_type": "text",
    "id": "R0rnODVO8DOd"
   },
   "source": [
    "<h3 id=\"comp\">Sammenligningsoperasjoner</h3>"
   ]
  },
  {
   "cell_type": "markdown",
   "metadata": {
    "colab_type": "text",
    "id": "6LVRYfNN8DOf"
   },
   "source": [
    "Sammenligningsoperasjoner sammenligner en verdi eller utrykk, og basert på en vilkår produserer de en boolsk variabel (true (sant) eller false (usant)). Når du sammenligner to verdier kan du bruke disse operatorene:\n",
    "\n",
    "<ul>\n",
    "    <li>lik: <b>==</b></li>\n",
    "    <li>ikke lik: <b>!=</b></li>\n",
    "    <li>større enn: <b>></b></li>\n",
    "    <li>mindre enn: <b>&lt;</b></li>\n",
    "    <li>større enn eller lik: <b>>=</b></li>\n",
    "    <li>mindre enn eller lik: <b>&lt;=</b></li>\n",
    "</ul>"
   ]
  },
  {
   "cell_type": "markdown",
   "metadata": {
    "colab_type": "text",
    "id": "Pc1QyORO8DOg"
   },
   "source": [
    "La oss tildele <code>a</code> en verdi på 5. Bruk likhetsoperatoren angitt med to like <b>==</b>-tegn for å finne ut om to verdier er like. Nedenfor sammenligner vi variabelen <code>a</code> med 6. "
   ]
  },
  {
   "cell_type": "code",
   "execution_count": null,
   "metadata": {
    "colab": {},
    "colab_type": "code",
    "id": "xPtQ5WVZ8DOh",
    "jupyter": {
     "outputs_hidden": false
    }
   },
   "outputs": [],
   "source": [
    "# Likhet\n",
    "\n",
    "a = 5\n",
    "a == 6"
   ]
  },
  {
   "cell_type": "markdown",
   "metadata": {
    "colab_type": "text",
    "id": "QKnWaYB18DOq"
   },
   "source": [
    "Resultatet er <b>False</b>, siden 5 er ikke lik 6."
   ]
  },
  {
   "cell_type": "markdown",
   "metadata": {
    "colab_type": "text",
    "id": "ebebUh9i8DOr"
   },
   "source": [
    "Tenk på følgende sammenligning <code>i > 5</code>. Hvis verdien av den venstre utrykk, i dette tilfellet variabelen <b>i</b>, er større enn verdien av den høyre utrykk, i dette tilfellet 5, så er setningen <b>True</b> (sann). Ellers er påstanden <b>False</b> (Usann). Hvis <b>i</b> er lik 6, fordi 6 er større enn 5, får vi dermed <b>True</b>.\n"
   ]
  },
  {
   "cell_type": "code",
   "execution_count": null,
   "metadata": {
    "colab": {},
    "colab_type": "code",
    "id": "9No0l4_08DOs",
    "jupyter": {
     "outputs_hidden": false
    }
   },
   "outputs": [],
   "source": [
    "# Større enn\n",
    "\n",
    "i = 6\n",
    "i > 5"
   ]
  },
  {
   "cell_type": "markdown",
   "metadata": {
    "colab_type": "text",
    "id": "EqXTfO0e8DOz"
   },
   "source": [
    "Bruk nå <code>i = 2</code>. Siden 2 er mindre enn 5 forventer vi at sammenlikning gir <b> False</b>:"
   ]
  },
  {
   "cell_type": "code",
   "execution_count": null,
   "metadata": {
    "colab": {},
    "colab_type": "code",
    "id": "ZUA2rmxy8DO0",
    "jupyter": {
     "outputs_hidden": false
    }
   },
   "outputs": [],
   "source": [
    "# Større enn\n",
    "\n",
    "i = 2\n",
    "i > 5"
   ]
  },
  {
   "cell_type": "markdown",
   "metadata": {
    "colab_type": "text",
    "id": "AVkLgz7i8DO5"
   },
   "source": [
    "La oss se på noen verdier for <code>i</code> i figuren. Sett verdiene større enn 5 i grønt og resten i rødt. Det grønne området representerer at påstanden er **True**, den røde der påstanden er **False**. Hvis verdien av <code>i</code> er 2, får vi **False** ettersom 2-en faller i det røde området. Tilsvarende, hvis verdien for <code>i</code> er 6, får vi en **True** ettersom betingelsen faller i det grønne området."
   ]
  },
  {
   "cell_type": "markdown",
   "metadata": {
    "colab_type": "text",
    "id": "wnJIsaGR8DO6"
   },
   "source": [
    "<img src=\"https://s3-api.us-geo.objectstorage.softlayer.net/cf-courses-data/CognitiveClass/PY0101EN/Chapter%203/Images/CondsGreater.gif\" width=\"650\" />"
   ]
  },
  {
   "cell_type": "markdown",
   "metadata": {
    "colab_type": "text",
    "id": "4XSnGlGx8DO7"
   },
   "source": [
    "Ulikhetstesten bruker et utropstegn foran likhetstegnet, hvis to utrykk ikke er like, blir betingelsen **True**. For eksempel vil følgende betingelse produsere **True** så lenge verdien av <code>i</code> ikke er lik 6:\n"
   ]
  },
  {
   "cell_type": "code",
   "execution_count": null,
   "metadata": {
    "colab": {},
    "colab_type": "code",
    "id": "1iOd241U8DO8",
    "jupyter": {
     "outputs_hidden": false
    }
   },
   "outputs": [],
   "source": [
    "# Ulikhetstegn\n",
    "\n",
    "i = 2\n",
    "i != 6"
   ]
  },
  {
   "cell_type": "markdown",
   "metadata": {
    "colab_type": "text",
    "id": "iVwVRtGx8DPH"
   },
   "source": [
    "Hvis <code>i</code> er lik 6 gir ulikhetstest <b>False</b>. "
   ]
  },
  {
   "cell_type": "code",
   "execution_count": null,
   "metadata": {
    "colab": {},
    "colab_type": "code",
    "id": "NQfhVTVM8DPI",
    "jupyter": {
     "outputs_hidden": false
    }
   },
   "outputs": [],
   "source": [
    "# Ulikhetstegn\n",
    "\n",
    "i = 6\n",
    "i != 6"
   ]
  },
  {
   "cell_type": "markdown",
   "metadata": {
    "colab_type": "text",
    "id": "QbzvY0At8DPN"
   },
   "source": [
    "Se nummerlinjen nedenfor. når betingelsen er **True** er de tilsvarende tallene merket med grønt og for der betingelsen er **False** er det tilsvarende tallet merket med rødt. Hvis vi setter <code> i </code> lik 2, er operatoren sann ettersom 2 er i det grønne området. Hvis vi setter <code> i </code> lik 6, får vi en **False** ettersom betingelsen faller i det røde området."
   ]
  },
  {
   "cell_type": "markdown",
   "metadata": {
    "colab_type": "text",
    "id": "BsK_M7iF8DPP"
   },
   "source": [
    "<img src=\"https://s3-api.us-geo.objectstorage.softlayer.net/cf-courses-data/CognitiveClass/PY0101EN/Chapter%203/Images/CondsIneq.gif\" width=\"650\" />"
   ]
  },
  {
   "cell_type": "markdown",
   "metadata": {
    "colab_type": "text",
    "id": "zHkQyIou8DPQ"
   },
   "source": [
    "Vi kan bruke de samme metodene på strenger. Bruk for eksempel en likhetsoperator på to forskjellige strenger. Siden strengene ikke er like, får vi en **False**."
   ]
  },
  {
   "cell_type": "code",
   "execution_count": null,
   "metadata": {
    "colab": {},
    "colab_type": "code",
    "id": "LmAHptdF8DPR",
    "jupyter": {
     "outputs_hidden": false
    }
   },
   "outputs": [],
   "source": [
    "# Bruk av likhetstegn for å sammenlikne to strenger\n",
    "\n",
    "\"ACDC\" == \"Guns and Roses\""
   ]
  },
  {
   "cell_type": "markdown",
   "metadata": {
    "colab_type": "text",
    "id": "3ZP81F9O8DPX"
   },
   "source": [
    "Hvis vi bruker ulikhetsoperatøren, blir resultatet **True** siden strengene er ulike."
   ]
  },
  {
   "cell_type": "code",
   "execution_count": null,
   "metadata": {
    "colab": {},
    "colab_type": "code",
    "id": "aTknz6P88DPY",
    "jupyter": {
     "outputs_hidden": false
    }
   },
   "outputs": [],
   "source": [
    "# Bruk av ulikhetstegn for å sammenlikne strenger\n",
    "\n",
    "\"ACDC\" != \"Guns and Roses\""
   ]
  },
  {
   "cell_type": "markdown",
   "metadata": {
    "colab_type": "text",
    "id": "TF1Mc7TB8DPg"
   },
   "source": [
    "Ulikhetsoperasjon brukes også til å sammenligne bokstavene/ordene/symbolene i henhold til ASCII-verdien til bokstaver. Desimalverdien (se Dec kolonne) vist i følgende tabell representerer rekkefølgen til tegnet:\n",
    "\n",
    "<img src=\"https://www.asciitable.com/asciifull.gif\" width=\"650\" />\n"
   ]
  },
  {
   "cell_type": "markdown",
   "metadata": {
    "colab_type": "text",
    "id": "H-N4iT7p8DPi"
   },
   "source": [
    "For eksempel er ASCII-koden for <b>!</b> 33, mens ASCII-koden for <b>+</b> er 43. Derfor er <b>+</b> større enn <b>! </b> ettersom 43 er større enn 33."
   ]
  },
  {
   "cell_type": "markdown",
   "metadata": {
    "colab_type": "text",
    "id": "ivV8nQMU8DPm"
   },
   "source": [
    "På samme måte er verdien for <b>A</b> 65, og verdien for <b>B</b> er 66 derfor:"
   ]
  },
  {
   "cell_type": "code",
   "execution_count": null,
   "metadata": {
    "colab": {},
    "colab_type": "code",
    "id": "NLSXpZsr8DPn",
    "jupyter": {
     "outputs_hidden": false
    }
   },
   "outputs": [],
   "source": [
    "# Sammenlikne bokstaver\n",
    "\n",
    "'B' > 'A'"
   ]
  },
  {
   "cell_type": "markdown",
   "metadata": {
    "colab_type": "text",
    "id": "08zNjT918DPt"
   },
   "source": [
    "Når det er flere bokstaver, har den første bokstaven forrang i rekkefølgen:"
   ]
  },
  {
   "cell_type": "code",
   "execution_count": null,
   "metadata": {
    "colab": {},
    "colab_type": "code",
    "id": "eTHFsFjJ8DPu"
   },
   "outputs": [],
   "source": [
    "# Sammenlikne bokstaver\n",
    "\n",
    "'BA' > 'AB'"
   ]
  },
  {
   "cell_type": "markdown",
   "metadata": {
    "colab_type": "text",
    "id": "oJ3sfm2T8DPz"
   },
   "source": [
    "<b>Merk</b>: Store bokstaver har en annen ASCII-kode enn små bokstaver, noe som betyr at sammenligningen mellom bokstavene i python skiller mellom store og små bokstaver."
   ]
  },
  {
   "cell_type": "markdown",
   "metadata": {
    "colab_type": "text",
    "id": "FKIZxaZW8DP0"
   },
   "source": [
    "<h3 id=\"branch\">Forgrening (Branching)</h3>"
   ]
  },
  {
   "cell_type": "markdown",
   "metadata": {
    "colab_type": "text",
    "id": "nrq-rUu48DP1"
   },
   "source": [
    "Forgrening lar oss kjøre forskjellige deler av en program for forskjellige innganger. Det er nyttig å tenke på en **if-vilkår** som et låst rom, hvis utsagnet er **True** kan vi gå inn i rommet og programmet ditt vil kjøre noen forhåndsdefinerte oppgaver, men hvis utsagnet er **False** vil programmet ignorere oppgaven."
   ]
  },
  {
   "cell_type": "markdown",
   "metadata": {
    "colab_type": "text",
    "id": "viB2SPVa8DP2"
   },
   "source": [
    "Tenk for eksempel på det blå rektangelet som representerer en ACDC-konsert (bildet fins nede). Hvis personen er eldre enn 18, kan de delta på ACDC-konserten. Hvis de er 18 eller yngre enn 18 kan de ikke delta på konserten.\n",
    "\n",
    "Bruk vilkårene vi har sett på, da vilkår må sjekkes i **if-erklæringen**. Syntaksen er så enkel som <code> if <i>vilkår</i> :</code>, som inneholder et ord <code>if</code>, en vilkår og et kolon på slutten. Start oppgavene dine som må utføres under denne tilstanden på en ny linje med et innrykk. Kodelinjene etter kolon og med et innrykk vil bare bli utført når **if-setningen** er **True**. Oppgavene avsluttes når kodelinjen ikke inneholder innrykk.\n",
    "\n",
    "I kode nedenfor, utføres oppgavene <code>print(“du kan gå inn”)</code> bare hvis variabelen <code>alder</code> er større enn 18. Dette skjer siden denne kodelinjen har innrykk. Imidlertid vil ikke utførelsen av <code>print(“gå ut!”)</code> bli påvirket av if-setningen.\n"
   ]
  },
  {
   "cell_type": "code",
   "execution_count": null,
   "metadata": {
    "colab": {},
    "colab_type": "code",
    "id": "Bk_SM8Dc8DP3",
    "jupyter": {
     "outputs_hidden": false
    }
   },
   "outputs": [],
   "source": [
    "# If-vilkår\n",
    "\n",
    "alder = 19\n",
    "#alder = 18\n",
    "\n",
    "#betinelse som kan være true eller false\n",
    "if alder > 18:\n",
    "    \n",
    "    #i innrykk har vi nå utrykk som kjører bare hvis vilkåret er TRUE (sant)\n",
    "    print(\"du kan gå inn\" )\n",
    "\n",
    "#Utrykk uten inrykk etter if-vilkår kjøres uansett vilkåret er TRUE eller FALSE  \n",
    "print(\"gå nå!\")"
   ]
  },
  {
   "cell_type": "markdown",
   "metadata": {
    "colab_type": "text",
    "id": "w4o6pAO28DP8"
   },
   "source": [
    "<i>Prøv å avkommentere aldersvariabelen</i>"
   ]
  },
  {
   "cell_type": "markdown",
   "metadata": {
    "colab_type": "text",
    "id": "FY1EaTE08DP8"
   },
   "source": [
    "Det er nyttig å bruke følgende diagram for å illustrere prosessen. På venstre side ser vi hva som skjer når tilstanden er <b>True</b>. Personen går inn i ACDC-konserten som representerer koden i innrykk som utføres; så går de videre. På høyre side ser vi hva som skjer når tilstanden er <b>False</b>; personen får ikke tilgang, og personen går videre. I dette tilfellet kjøres ikke kodesegmentet i innrykk, men resten av setningene kjøres."
   ]
  },
  {
   "cell_type": "markdown",
   "metadata": {
    "colab_type": "text",
    "id": "-DOv3__g8DP9"
   },
   "source": [
    "<img src=\"https://s3-api.us-geo.objectstorage.softlayer.net/cf-courses-data/CognitiveClass/PY0101EN/Chapter%203/Images/CondsIf.gif\" width=\"650\" />"
   ]
  },
  {
   "cell_type": "markdown",
   "metadata": {
    "colab_type": "text",
    "id": "2_cAz-d98DP-"
   },
   "source": [
    "Vi kan legge til en <code>if</code>-setning en <code>else</code>-setningen. Den kjører en kodeblokk hvis ingen av vilkårene er **True** før denne <code>else</code>-setningen. La oss bruke ACDC-konsertanalogien igjen. Hvis brukeren er 17 kan de ikke gå på ACDC-konserten, men de kan gå på Meatloaf-konserten."
   ]
  },
  {
   "cell_type": "code",
   "execution_count": null,
   "metadata": {
    "colab": {},
    "colab_type": "code",
    "id": "uJCTOf468DQA",
    "jupyter": {
     "outputs_hidden": false
    }
   },
   "outputs": [],
   "source": [
    "# Else setning eksempel\n",
    "\n",
    "alder = 18\n",
    "# alder = 19\n",
    "\n",
    "if alder > 18:\n",
    "    print(\"du kan gå inn\" )\n",
    "else:\n",
    "    print(\"gå til Meat Loaf\" )\n",
    "    \n",
    "print(\"gå nå\")"
   ]
  },
  {
   "cell_type": "markdown",
   "metadata": {
    "colab_type": "text",
    "id": "nG1BZbe_8DQI"
   },
   "source": [
    "Prosessen er demonstrert nedenfor, hvor hver av mulighetene er illustrert på hver side av bildet. Til venstre er tilfellet der alderen er 17 år, vi setter variabelen alder til 17, og dette tilsvarer at den enkelte skal på Meatloaf-konserten. Den høyre delen viser hva som skjer når den enkelte er over 18 år, i dette tilfellet 19, og den enkelte får tilgang til konserten."
   ]
  },
  {
   "cell_type": "markdown",
   "metadata": {
    "colab_type": "text",
    "id": "q1jIuSkn8DQJ"
   },
   "source": [
    "<img src=\"https://s3-api.us-geo.objectstorage.softlayer.net/cf-courses-data/CognitiveClass/PY0101EN/Chapter%203/Images/CondsElse.gif\" width=\"650\" />"
   ]
  },
  {
   "cell_type": "markdown",
   "metadata": {
    "colab_type": "text",
    "id": "pHaVx1VY8DQK"
   },
   "source": [
    "<code> elif </code>-setningen, forkortelse for else og if, lar oss sjekke ytterligere vilkår hvis vilkårene før den er <b>False</b>. Hvis vilkår for <code> elif </code>-setningen er <b>True</b>, vil de uttrykkene i <code> elif </code> kjøres. Tenk på konserteksemplet, der hvis personen er 18, vil de gå på Pink Floyd-konserten i stedet for å delta på ACDC- eller Meat Loaf-konserten. Personen på 18 år kommer inn, og siden de ikke er eldre enn 18 kan de ikke se ACDC, men siden de er 18 år går de på Pink Floyd. Etter å ha sett Pink Floyd, går de videre. Syntaksen til <code> elif </code>-setningen er lik ved at vi bare endrer <code> if </code> i <code> if </code>-setningen til <code> elif </code>."
   ]
  },
  {
   "cell_type": "code",
   "execution_count": null,
   "metadata": {
    "colab": {},
    "colab_type": "code",
    "id": "KAehCiaN8DQK",
    "jupyter": {
     "outputs_hidden": false
    }
   },
   "outputs": [],
   "source": [
    "# Elif vilkår eksempel\n",
    "\n",
    "alder = 18\n",
    "\n",
    "if alder > 18:\n",
    "    print(\"du kan komme inn\" )\n",
    "elif alder == 18:\n",
    "    print(\"se på Pink Floyd\")\n",
    "else:\n",
    "    print(\"gå til Meat Loaf\" )\n",
    "    \n",
    "print(\"gå ut\")"
   ]
  },
  {
   "cell_type": "markdown",
   "metadata": {
    "colab_type": "text",
    "id": "rGy61Zod8DQO"
   },
   "source": [
    "De tre kombinasjonene er vist i figuren nedenfor. Regionen lengst til venstre viser hva som skjer når individet er under 18 år. Den sentrale komponenten viser når personen er nøyaktig 18. Den lengst til høyre viser når personen er over 18."
   ]
  },
  {
   "cell_type": "markdown",
   "metadata": {
    "colab_type": "text",
    "id": "76E40nIh8DQP"
   },
   "source": [
    "<img src =\"https://s3-api.us-geo.objectstorage.softlayer.net/cf-courses-data/CognitiveClass/PY0101EN/Chapter%203/Images/CondsElif.gif\" width=\"650\" />"
   ]
  },
  {
   "cell_type": "markdown",
   "metadata": {
    "colab_type": "text",
    "id": "ScZCB9Um8DQQ"
   },
   "source": [
    "Se på følgende kode:"
   ]
  },
  {
   "cell_type": "code",
   "execution_count": null,
   "metadata": {
    "colab": {},
    "colab_type": "code",
    "id": "dYKyNCCm8DQS",
    "jupyter": {
     "outputs_hidden": false
    }
   },
   "outputs": [],
   "source": [
    "# Vilkår eksempel\n",
    "\n",
    "album_year = 1983\n",
    "album_year = 1970\n",
    "\n",
    "if album_year > 1980:\n",
    "    print(\"Album year er større enn 1980\")\n",
    "    \n",
    "print('gjør noe..')"
   ]
  },
  {
   "cell_type": "markdown",
   "metadata": {
    "colab_type": "text",
    "id": "eaaJPWjU8DQZ"
   },
   "source": [
    "Gjerne endre <code>album_year</code> verdien til andre tall og se hvordan resultatet endrer seg! \n",
    "\n",
    "Legg merke til at koden i blokken over med <b>innrykk</b> bare vil bli utført hvis resultatene er <b>sanne</b>."
   ]
  },
  {
   "cell_type": "markdown",
   "metadata": {
    "colab_type": "text",
    "id": "rSkKUvo48DQb"
   },
   "source": [
    "Som før kan vi legge til en <code>else</code>-blokk i <code>if</code>-blokken. Koden i blokken <code>else</code> vil bare bli utført hvis resultatet er <b>False</b>\n",
    "\n",
    "<b>Syntaks:</b> \n",
    "``` Python\n",
    "if vilkår:\n",
    "    # gjør noe\n",
    "else:\n",
    "    # gjør noe annet\n",
    "```    "
   ]
  },
  {
   "cell_type": "markdown",
   "metadata": {
    "colab_type": "text",
    "id": "Nku2tfHU8DQc"
   },
   "source": [
    "Hvis vilkåren i <code>if</code>-setningen er <b>False</b>, vil setningen etter <code>else</code>-blokken kjøres. Dette er vist i figuren:"
   ]
  },
  {
   "cell_type": "markdown",
   "metadata": {
    "colab_type": "text",
    "id": "kG9QhcRt8DQd"
   },
   "source": [
    "<img src=\"https://s3-api.us-geo.objectstorage.softlayer.net/cf-courses-data/CognitiveClass/PY0101EN/Chapter%203/Images/CondsLogicMap.png\" width=\"650\" />"
   ]
  },
  {
   "cell_type": "code",
   "execution_count": null,
   "metadata": {
    "colab": {},
    "colab_type": "code",
    "id": "26zYAD5f8DQe",
    "jupyter": {
     "outputs_hidden": false
    }
   },
   "outputs": [],
   "source": [
    "# Vilkår eksempel\n",
    "\n",
    "album_year = 1983\n",
    "#album_year = 1970\n",
    "\n",
    "if album_year > 1980:\n",
    "    print(\"Album year er større enn 1980\")\n",
    "else:\n",
    "    print(\"år er mindre enn 1980\")\n",
    "\n",
    "print('gjør noe..')"
   ]
  },
  {
   "cell_type": "markdown",
   "metadata": {
    "colab_type": "text",
    "id": "mvfczbTu8DQj"
   },
   "source": [
    "Endre gjerne <code>album_year</code>-verdien til andre verdier – du vil se at resultatet endres basert på det!"
   ]
  },
  {
   "cell_type": "markdown",
   "metadata": {
    "colab_type": "text",
    "id": "5XA1o3np8DQk"
   },
   "source": [
    "<h3 id=\"logic\">Logiske operasjoner</h3>"
   ]
  },
  {
   "cell_type": "markdown",
   "metadata": {
    "colab_type": "text",
    "id": "4PCX6gF38DQl"
   },
   "source": [
    "Noen ganger vil du sjekke mer enn én påstand samtidig. Det kan for eksempel være lurt å sjekke om én vilkår og en annen vilkår er **Sant**. Logiske operatorer lar deg kombinere eller endre forhold.\n",
    "<ul>\n",
    "    <li><code>og (and)</code></li>\n",
    "    <li><code>eller (or)</code></li>\n",
    "    <li><code>ikke (not)</code></li>\n",
    "</ul>\n",
    "\n",
    "Disse operatorene er oppsummert for to variabler ved å bruke følgende [sannhetstabeller](https://no.wikipedia.org/wiki/Sannhetstabell):"
   ]
  },
  {
   "cell_type": "markdown",
   "metadata": {
    "colab_type": "text",
    "id": "fYqMnCZ58DQl"
   },
   "source": [
    "<img src=\"https://s3-api.us-geo.objectstorage.softlayer.net/cf-courses-data/CognitiveClass/PY0101EN/Chapter%203/Images/CondsTable.png\" width=\"650\" />"
   ]
  },
  {
   "cell_type": "markdown",
   "metadata": {
    "colab_type": "text",
    "id": "Tb-zXxyH8DQn"
   },
   "source": [
    "<code>og</code>-setningen er bare **True** når begge vilkårene er sanne. <code>eller</code>-setningen er sann hvis et vilkår er **True**. <code>not</code>-setningen (brukes utropstegn!) gir ut den motsatte sannhetsverdien."
   ]
  },
  {
   "cell_type": "markdown",
   "metadata": {
    "colab_type": "text",
    "id": "wh5VSQyD8DQo"
   },
   "source": [
    "La oss se hvordan du finner ut om et album ble gitt ut etter 1979 (1979 er ikke inkludert) og før 1990 (1990 er ikke inkludert). Tidsperiodene mellom 1980 og 1989 tilfredsstiller denne betingelsen. Dette er vist i figuren under. Det grønne på linjene <strong>a</strong> og <strong>b</strong> representerer perioder der utsagnet er **True**. Den grønne på linjen <strong>c</strong> representerer hvor begge forholdene er **True**, dette tilsvarer hvor de grønne områdene overlapper hverandre."
   ]
  },
  {
   "cell_type": "markdown",
   "metadata": {
    "colab_type": "text",
    "id": "4vCKWE8e8DQp"
   },
   "source": [
    "<img src=\"https://s3-api.us-geo.objectstorage.softlayer.net/cf-courses-data/CognitiveClass/PY0101EN/Chapter%203/Images/CondsEgOne.png\" width=\"650\" />"
   ]
  },
  {
   "cell_type": "markdown",
   "metadata": {
    "colab_type": "text",
    "id": "k9RPYDYr8DQq"
   },
   "source": [
    " Kodeblokk for å sjekke det er gitt som:"
   ]
  },
  {
   "cell_type": "code",
   "execution_count": null,
   "metadata": {
    "colab": {},
    "colab_type": "code",
    "id": "vaVXpueg8DQu",
    "jupyter": {
     "outputs_hidden": false
    }
   },
   "outputs": [],
   "source": [
    "# Vilkår eksempel\n",
    "\n",
    "album_year = 1980\n",
    "\n",
    "if(album_year > 1979) and (album_year < 1990):\n",
    "    print (\"Album year er mellom 1980 og 1989\")\n",
    "    \n",
    "print(\"\")\n",
    "print(\"Gjør ting..\")"
   ]
  },
  {
   "cell_type": "markdown",
   "metadata": {
    "colab_type": "text",
    "id": "Eiyk2ql58DQ2"
   },
   "source": [
    "For å finne ut om et album ble gitt ut før 1980 (~ - 1979) eller etter 1989 (1990 - ~ ), kan en **or** vilkår brukes. Perioder før 1980 (~ - 1979) eller etter 1989 (1990 - ~) tilfredsstiller denne betingelsen. Dette er demonstrert i følgende figur, fargen grønn i <strong>a</strong> og <strong>b</strong> representerer perioder der påstanden er sann. Fargen grønn i **c** representerer hvor minst én av betingelsene\n",
    "are true.  \n"
   ]
  },
  {
   "cell_type": "markdown",
   "metadata": {
    "colab_type": "text",
    "id": "rvfgbS6i8DQ2"
   },
   "source": [
    "<img src=\"https://s3-api.us-geo.objectstorage.softlayer.net/cf-courses-data/CognitiveClass/PY0101EN/Chapter%203/Images/CondsEgTwo.png\" width=\"650\" />"
   ]
  },
  {
   "cell_type": "markdown",
   "metadata": {
    "colab_type": "text",
    "id": "OMA-0F9l8DQ3"
   },
   "source": [
    "Kodeblokken som sjekker det er:"
   ]
  },
  {
   "cell_type": "code",
   "execution_count": null,
   "metadata": {
    "colab": {},
    "colab_type": "code",
    "id": "9qj09bDg8DQ5",
    "jupyter": {
     "outputs_hidden": false
    }
   },
   "outputs": [],
   "source": [
    "# Vilkår eksempel\n",
    "\n",
    "album_year = 1990\n",
    "\n",
    "if(album_year < 1980) or (album_year > 1989):\n",
    "    print (\"Album ble ikke utgitt i 1980er\")\n",
    "else:\n",
    "    print(\"Album var utgitt made in the 1980's \")"
   ]
  },
  {
   "cell_type": "markdown",
   "metadata": {
    "colab_type": "text",
    "id": "d6vBttKw8DRD"
   },
   "source": [
    "<code>not</code>-betingelsen sjekker hvis en utrykk er usannt:"
   ]
  },
  {
   "cell_type": "code",
   "execution_count": null,
   "metadata": {
    "colab": {},
    "colab_type": "code",
    "id": "sjGXlBL58DRH",
    "jupyter": {
     "outputs_hidden": false
    }
   },
   "outputs": [],
   "source": [
    "# Vilkår eksempel\n",
    "\n",
    "album_year = 1983\n",
    "\n",
    "if not (album_year == '1984'):\n",
    "    print (\"Album year er ikke lik 1984\")"
   ]
  },
  {
   "cell_type": "markdown",
   "metadata": {
    "colab_type": "text",
    "id": "oLsqXJUP8DRL"
   },
   "source": [
    "<hr>"
   ]
  },
  {
   "cell_type": "markdown",
   "metadata": {
    "colab_type": "text",
    "id": "HC4dt33c8DRM"
   },
   "source": [
    "<h2 id=\"quiz\">Quiz om vilkår</h2>"
   ]
  },
  {
   "cell_type": "markdown",
   "metadata": {
    "colab_type": "text",
    "id": "NO_snpGM8DRM"
   },
   "source": [
    "Skriv en <code>if</code>-setning for å finne ut om et album hadde en vurdering som var høyere enn 8. Test det ved å bruke rangeringen for albumet <b>\"Back in Black\"</b> som hadde en vurdering på 8,5. Hvis utsagnet er sant, skriv ut \"Dette albumet er fantastisk!\""
   ]
  },
  {
   "cell_type": "code",
   "execution_count": null,
   "metadata": {
    "colab": {},
    "colab_type": "code",
    "id": "EXsuCt9Q8DRN",
    "outputId": "c8348b39-6aa6-4a72-eb62-1b0984db7e6d"
   },
   "outputs": [],
   "source": [
    "# Skriv kode ditt under og trykk på Shift+Enter for å kjøre"
   ]
  },
  {
   "cell_type": "markdown",
   "metadata": {
    "colab_type": "text",
    "id": "-PWwNnhD8DRT"
   },
   "source": [
    "Double-click __here__ for the solution.\n",
    "\n",
    "<!-- \n",
    "vurdering = 8.5\n",
    "if vurdering > 8:\n",
    "    print (\"Dette albumet er fantastisk!\")\n",
    " -->"
   ]
  },
  {
   "cell_type": "markdown",
   "metadata": {
    "colab_type": "text",
    "id": "xdSO6N5c8DRU"
   },
   "source": [
    "<hr>"
   ]
  },
  {
   "cell_type": "markdown",
   "metadata": {
    "colab_type": "text",
    "id": "9-3DRZyt8DRU"
   },
   "source": [
    "Skriv en if-else-setning som utfører følgende. Hvis vurderingen er større enn 8, skriv ut \"dette albumet er fantastisk\". Hvis vurderingen er mindre enn eller lik 8, skriv ut \"dette albumet er ok\"."
   ]
  },
  {
   "cell_type": "code",
   "execution_count": null,
   "metadata": {
    "colab": {},
    "colab_type": "code",
    "id": "oOBZgUR78DRV",
    "outputId": "e13691b2-9f6f-4342-e62d-7a5974f17bab"
   },
   "outputs": [],
   "source": [
    "# Skriv kode ditt under og trykk på Shift+Enter for å kjøre"
   ]
  },
  {
   "cell_type": "markdown",
   "metadata": {
    "colab_type": "text",
    "id": "59IotBJc8DRb"
   },
   "source": [
    "Dobbeltklikk __har__ for løsning.\n",
    "\n",
    "<!-- Din løsnign står under:\n",
    "vurdering = 8.5\n",
    "if vurdering > 8:\n",
    "    print (\"dette albumet er fantastisk\")\n",
    "else:\n",
    "    print (\"dette albumet er ok\")\n",
    "-->"
   ]
  },
  {
   "cell_type": "markdown",
   "metadata": {
    "colab_type": "text",
    "id": "3Yd4vuDP8DRd"
   },
   "source": [
    "Skriv en if-setning for å finne ut om et album kom ut før 1980 eller i årene: 1991 eller 1993. Hvis vilkår er sann, skriv ut året albumet kom ut."
   ]
  },
  {
   "cell_type": "code",
   "execution_count": null,
   "metadata": {
    "colab": {},
    "colab_type": "code",
    "id": "3KjhNjw48DRe",
    "jupyter": {
     "outputs_hidden": false
    },
    "outputId": "87f28f3b-c4bf-48c6-e42c-212c969dbf81"
   },
   "outputs": [],
   "source": [
    "# Skriv kode ditt under og trykk på Shift+Enter for å kjøre"
   ]
  },
  {
   "cell_type": "markdown",
   "metadata": {
    "colab_type": "text",
    "id": "keEXEWd38DRi"
   },
   "source": [
    "Dobbeltklikk __har__ for løsning.\n",
    "\n",
    "<!-- Din løsnign står under:\n",
    "album_year = 1979\n",
    "\n",
    "if album_year < 1980 or album_year == 1991 or album_year == 1993:\n",
    "    print (\"dette albumet ble utgitt alrede\")\n",
    "-->"
   ]
  },
  {
   "cell_type": "markdown",
   "metadata": {
    "colab_type": "text",
    "id": "9y_OH9VM8DRm"
   },
   "source": [
    "<hr>"
   ]
  }
 ],
 "metadata": {
  "colab": {
   "name": "PY0101EN-3-1-Conditions.ipynb",
   "provenance": []
  },
  "kernelspec": {
   "display_name": "Python 3",
   "language": "python",
   "name": "python3"
  },
  "language_info": {
   "codemirror_mode": {
    "name": "ipython",
    "version": 3
   },
   "file_extension": ".py",
   "mimetype": "text/x-python",
   "name": "python",
   "nbconvert_exporter": "python",
   "pygments_lexer": "ipython3",
   "version": "3.7.4"
  }
 },
 "nbformat": 4,
 "nbformat_minor": 4
}
