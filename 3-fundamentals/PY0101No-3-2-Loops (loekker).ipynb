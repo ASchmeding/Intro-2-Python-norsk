{
 "cells": [
  {
   "cell_type": "markdown",
   "metadata": {
    "colab_type": "text",
    "id": "4uAMaU0S_wtn"
   },
   "source": [
    "<h1>Loops (løkker) i Python</h1>"
   ]
  },
  {
   "cell_type": "markdown",
   "metadata": {
    "colab_type": "text",
    "id": "Od5anoUF_wtp"
   },
   "source": [
    "<p><strong>Velkommen!</strong> Denne notatboken vil lære deg om loops (løkker) i Python-programmeringsspråket. Ved slutten av denne økta vil du vite hvordan du bruker loop-setningene i Python som for loop og while loop.</p>"
   ]
  },
  {
   "cell_type": "markdown",
   "metadata": {
    "colab_type": "text",
    "id": "noSwRAtL_wtq"
   },
   "source": [
    "<h2>Innhold</h2>\n",
    "<div class=\"alert alert-block alert-info\" style=\"margin-top: 20px\">\n",
    "    <ul>\n",
    "        <li>\n",
    "            <a href=\"#loop\">Loops (løkker)</a>\n",
    "            <ul>\n",
    "                <li><a href=\"range\">Range (område)</a></li>\n",
    "                <li><a href=\"for\">Hva er en <code>for</code> loop?</a></li>\n",
    "                <li><a href=\"while\">Hva er en <code>while</code> loop?</a></li>\n",
    "            </ul>\n",
    "        </li>\n",
    "        <li>\n",
    "            <a href=\"#quiz\">Quiz om løkker</a>\n",
    "        </li>\n",
    "    </ul>\n",
    "    <p>\n",
    "        Tidsbruk: <strong>20 min</strong>\n",
    "    </p>\n",
    "</div>\n",
    "\n",
    "<hr>"
   ]
  },
  {
   "cell_type": "markdown",
   "metadata": {
    "colab_type": "text",
    "id": "w7sVrH2d_wts"
   },
   "source": [
    "<h2 id=\"loop\">Loops (løkker)</h2>"
   ]
  },
  {
   "cell_type": "markdown",
   "metadata": {
    "colab_type": "text",
    "id": "aaq0JzAh_wtt"
   },
   "source": [
    "<h3 id=\"range\">Range (område)</h3>"
   ]
  },
  {
   "cell_type": "markdown",
   "metadata": {
    "colab_type": "text",
    "id": "JmSlISPY_wtu"
   },
   "source": [
    "Noen ganger vil du kanskje gjenta en gitt operasjon mange ganger. Gjentatte kjøringer som dette utføres av <b>løkker</b>. Vi skal se på to typer løkker, <code>for</code> løkker og <code>while</code> løkker.\n",
    "\n",
    "Før vi diskuterer løkker, la oss diskutere <code>range</code>-objektet. Det er nyttig å tenke på range som en ordnet liste. For nå, la oss se på det enkleste tilfellet. Hvis vi ønsker å generere en sekvens som inneholder tre elementer sortert fra 0 til 2, bruker vi bare følgende kommando:"
   ]
  },
  {
   "cell_type": "code",
   "execution_count": null,
   "metadata": {
    "colab": {},
    "colab_type": "code",
    "id": "HxhvbGoe_wtw"
   },
   "outputs": [],
   "source": [
    "# Bruk av range\n",
    "\n",
    "range(3)"
   ]
  },
  {
   "cell_type": "markdown",
   "metadata": {
    "colab_type": "text",
    "id": "2G2TFmj9_wt6"
   },
   "source": [
    "<img src=\"https://s3-api.us-geo.objectstorage.softlayer.net/cf-courses-data/CognitiveClass/PY0101EN/Chapter%203/Images/LoopsRange.png\" width=\"300\" />"
   ]
  },
  {
   "cell_type": "markdown",
   "metadata": {
    "colab_type": "text",
    "id": "b003Htyd_wt7"
   },
   "source": [
    "<h3 id=\"for\">Hva er en <code>for</code> loop?</h3>"
   ]
  },
  {
   "cell_type": "markdown",
   "metadata": {
    "colab_type": "text",
    "id": "q7273OV5_wt9"
   },
   "source": [
    "<code>for</code>-løkken lar deg utføre en kodeblokk flere ganger. Du vil for eksempel bruke dette hvis du ønsker å skrive ut hvert element i en liste.\n",
    "La oss prøve å bruke en <code>for</code>-løkke for å skrive ut alle årene presentert i listen <code>datoer</code>:"
   ]
  },
  {
   "cell_type": "markdown",
   "metadata": {
    "colab_type": "text",
    "id": "FdXHhRu__wt-"
   },
   "source": [
    "Vi kan gjøre det som følgende:"
   ]
  },
  {
   "cell_type": "code",
   "execution_count": null,
   "metadata": {
    "colab": {},
    "colab_type": "code",
    "id": "NbmlQFFD_wt_"
   },
   "outputs": [],
   "source": [
    "# For løkke eksempel\n",
    "\n",
    "datoer = [1982,1980,1973]\n",
    "N = len(datoer)     #len finner lengden av listen (datoer) dvs. 3 i eksemplet\n",
    "                    #range(3) = [0,1,2]\n",
    "for i in range(N):\n",
    "    print(datoer[i])    #for en liste som datoer datoer[i] betyr at Python henter \n",
    "                        #den ite element fra listen "
   ]
  },
  {
   "cell_type": "markdown",
   "metadata": {
    "colab_type": "text",
    "id": "ZxDH5jRQ_wuF"
   },
   "source": [
    "Koden i innrykk utføres <code>N</code> ganger, hver gang verdien av <code>i</code> økes med 1 for hver kjøring. Utsagnet som utføres er å <code>skrive ut</code> ut verdien i listen ved indeks <code>i</code> som vist her:"
   ]
  },
  {
   "cell_type": "markdown",
   "metadata": {
    "colab_type": "text",
    "id": "V88OzHjR_wuM"
   },
   "source": [
    "<img src=\"https://s3-api.us-geo.objectstorage.softlayer.net/cf-courses-data/CognitiveClass/PY0101EN/Chapter%203/Images/LoopsForRange.gif\" width=\"800\" />"
   ]
  },
  {
   "cell_type": "markdown",
   "metadata": {
    "colab_type": "text",
    "id": "1SDyUNJ3_wuO"
   },
   "source": [
    "I dette eksempel skal vi skrive ut alle tall fra 0 til 7:"
   ]
  },
  {
   "cell_type": "code",
   "execution_count": null,
   "metadata": {
    "colab": {},
    "colab_type": "code",
    "id": "klO15MA3_wuP"
   },
   "outputs": [],
   "source": [
    "# Eksempel av en for løkke\n",
    "\n",
    "for i in range(0, 8):\n",
    "    print(i)"
   ]
  },
  {
   "cell_type": "markdown",
   "metadata": {
    "colab_type": "text",
    "id": "mh8aH7Dv_wuY"
   },
   "source": [
    "I Python kan vi få direkte pågrep på elementene i en list: "
   ]
  },
  {
   "cell_type": "code",
   "execution_count": null,
   "metadata": {
    "colab": {},
    "colab_type": "code",
    "id": "cA54xqTL_wuZ"
   },
   "outputs": [],
   "source": [
    "# Eksempel av en for loop, gjentar gjennom listen\n",
    "\n",
    "for year in datoer:  \n",
    "    print(year)   "
   ]
  },
  {
   "cell_type": "markdown",
   "metadata": {
    "colab_type": "text",
    "id": "5IeoT6vK_wuf"
   },
   "source": [
    "For hver iterasjon oppfører verdien av variabelen <code>years</code> seg som verdien til <code>datoer[i]</code> i det første eksemplet:"
   ]
  },
  {
   "cell_type": "markdown",
   "metadata": {
    "colab_type": "text",
    "id": "bFnYrgid_wug"
   },
   "source": [
    "<img src=\"https://s3-api.us-geo.objectstorage.softlayer.net/cf-courses-data/CognitiveClass/PY0101EN/Chapter%203/Images/LoopsForList.gif\" width=\"800\">"
   ]
  },
  {
   "cell_type": "markdown",
   "metadata": {
    "colab_type": "text",
    "id": "k8hjABtv_wuh"
   },
   "source": [
    "VI kan endre elementene i en liste:"
   ]
  },
  {
   "cell_type": "code",
   "execution_count": null,
   "metadata": {
    "colab": {},
    "colab_type": "code",
    "id": "5RKQt6Uh_wuj"
   },
   "outputs": [],
   "source": [
    "# Bruk av for loop for å endre elementene i en liste\n",
    "\n",
    "rektangler = ['rød', 'gul', 'grønn', 'lila', 'blå']\n",
    "\n",
    "for i in range(0, 5):\n",
    "    print(\"Før rektangel \", i, 'is',  rektangler[i])\n",
    "    rektangler[i] = 'vekt'\n",
    "    print(\"Etter rektangel \", i, 'er',  rektangler[i])"
   ]
  },
  {
   "cell_type": "markdown",
   "metadata": {
    "colab_type": "text",
    "id": "HuDwxvDL_wuq"
   },
   "source": [
    "Vi kan få tilgang til indeksen og elementene i en liste som følger:"
   ]
  },
  {
   "cell_type": "code",
   "execution_count": null,
   "metadata": {
    "colab": {},
    "colab_type": "code",
    "id": "09FwyYlp_wus"
   },
   "outputs": [],
   "source": [
    "# Gå gjennom en liste og iterer både på indeks og elementverdi\n",
    "\n",
    "squares=['red', 'yellow', 'green', 'purple', 'blue']\n",
    "\n",
    "for i, square in enumerate(squares):\n",
    "    print(i, square)"
   ]
  },
  {
   "cell_type": "markdown",
   "metadata": {
    "colab_type": "text",
    "id": "7G23JdE3_wu0"
   },
   "source": [
    "<h3 id=\"while\">Hva er en <code>while</code> loop?</h3>"
   ]
  },
  {
   "cell_type": "markdown",
   "metadata": {
    "colab_type": "text",
    "id": "I4n4meN5_wu2"
   },
   "source": [
    "Som du kan se, brukes <code>for</code>-løkken for en kontrollert flyt av repetisjon. Men hva om vi ikke vet når vi vil stoppe sløyfen? Hva om vi vil fortsette å utføre en kodeblokk til en viss betingelse er oppfylt? <code>while</code>-løkken eksisterer som et verktøy for gjentatt kjøring basert på en betingelse. Kodeblokken vil fortsette å bli utført til den gitte logiske betingelsen returnerer en **False** boolsk verdi."
   ]
  },
  {
   "cell_type": "markdown",
   "metadata": {
    "colab_type": "text",
    "id": "TQexxxEK_wu4"
   },
   "source": [
    "La oss si at vi ønsker å iterere gjennom listen <code>datoer</code> og stoppe ved året 1973, og deretter skrive ut antall iterasjoner. Dette kan gjøres med følgende kodeblokk:"
   ]
  },
  {
   "cell_type": "code",
   "execution_count": null,
   "metadata": {
    "colab": {},
    "colab_type": "code",
    "id": "taFvS3QU_wu5"
   },
   "outputs": [],
   "source": [
    "# While Loop eksempel\n",
    "\n",
    "datoer = [1982, 1980, 1973, 2000]\n",
    "\n",
    "i = 0\n",
    "year = 0\n",
    "\n",
    "while(year != 1973):\n",
    "    year = datoer[i]\n",
    "    i = i + 1\n",
    "    print(year)\n",
    "\n",
    "print(\"Vi har brukt \", i ,\"iterasjoner for å komme ut av løkken.\")"
   ]
  },
  {
   "cell_type": "markdown",
   "metadata": {
    "colab_type": "text",
    "id": "iEYHEfzG_wvF"
   },
   "source": [
    "En while løkke itererer inntil betingelsen i argumentn er ikke lengre sant. Vi visualiserer det i følgende figur:"
   ]
  },
  {
   "cell_type": "markdown",
   "metadata": {
    "colab_type": "text",
    "id": "plesPhQk_wvH"
   },
   "source": [
    "<img src=\"https://s3-api.us-geo.objectstorage.softlayer.net/cf-courses-data/CognitiveClass/PY0101EN/Chapter%203/Images/LoopsWhile.gif\" width=\"650\" />"
   ]
  },
  {
   "cell_type": "markdown",
   "metadata": {
    "colab_type": "text",
    "id": "okAKNc-G_wvI"
   },
   "source": [
    "<hr>"
   ]
  },
  {
   "cell_type": "markdown",
   "metadata": {
    "colab_type": "text",
    "id": "o79Y-sx7_wvK"
   },
   "source": [
    "<h2 id=\"quiz\">Quiz om løkker</h2>"
   ]
  },
  {
   "cell_type": "markdown",
   "metadata": {
    "colab_type": "text",
    "id": "7vJ7-lrO_wvM"
   },
   "source": [
    "Skriv en <code>for</code>-løkke for å skrive ut alle elementene mellom <b>-5</b> og <b>5</b> ved å bruke range funksjon.\n",
    "\n",
    "Tips: range(a,b) lager en liste av alle tall fra $a$ til $b-1$, bruk <code>?range</code> for å finne ut mer"
   ]
  },
  {
   "cell_type": "code",
   "execution_count": null,
   "metadata": {
    "colab": {},
    "colab_type": "code",
    "id": "y-mi7Zxy_wvN"
   },
   "outputs": [],
   "source": [
    "# Skriv kode ditt under og trykk på Shift+Enter for å kjøre"
   ]
  },
  {
   "cell_type": "markdown",
   "metadata": {
    "colab_type": "text",
    "id": "Vri67hCF_wvU"
   },
   "source": [
    "Dobbeltklikk __har__ for løsning.\n",
    "\n",
    "<!-- Din løsnign står under:\n",
    "for i in range(-5, 6):\n",
    "    print(i)\n",
    "-->"
   ]
  },
  {
   "cell_type": "markdown",
   "metadata": {
    "colab_type": "text",
    "id": "zJkS2ExW_wvW"
   },
   "source": [
    "Skriv ut elementene i følgende liste:\n",
    "<code>Sjangre=[ 'rock', 'R&B', 'Soundtrack', 'R&B', 'soul', 'pop']</code>\n",
    "Pass på at du følger Python-konvensjonene.\n",
    "\n",
    "Tips: Hvis du har en liste LISTE kan du bruke LISTE[i] for å skrive ut den ite element i lista, dvs. <code>Sjangre[1]</code> gir oss R&B. Hvorfor ikke rock??"
   ]
  },
  {
   "cell_type": "code",
   "execution_count": null,
   "metadata": {
    "colab": {},
    "colab_type": "code",
    "id": "uRSN9qmP_wvX"
   },
   "outputs": [],
   "source": [
    "# Skriv kode ditt under og trykk på Shift+Enter for å kjøre"
   ]
  },
  {
   "cell_type": "markdown",
   "metadata": {
    "colab_type": "text",
    "id": "tWN1uqXl_wve"
   },
   "source": [
    "Dobbeltklikk __har__ for løsning.\n",
    "\n",
    "<!-- Din løsnign står under: \n",
    "Sjangre = ['rock', 'R&B', 'Soundtrack', 'R&B', 'soul', 'pop']\n",
    "for sjangren in sjangre:\n",
    "    print(sjangren)\n",
    "-->"
   ]
  },
  {
   "cell_type": "markdown",
   "metadata": {
    "colab_type": "text",
    "id": "1QuuxkPs_wvf"
   },
   "source": [
    "<hr>"
   ]
  },
  {
   "cell_type": "markdown",
   "metadata": {
    "colab_type": "text",
    "id": "m8nMx8se_wvg"
   },
   "source": [
    "Skriv en for-løkke som skriver ut følgende liste: <code>kvadrater=['rød', 'gul', 'grønn', 'lilla', 'blå']</code>"
   ]
  },
  {
   "cell_type": "code",
   "execution_count": null,
   "metadata": {
    "colab": {},
    "colab_type": "code",
    "id": "ilM7aCVJ_wvh"
   },
   "outputs": [],
   "source": [
    "# Skriv kode ditt under og trykk på Shift+Enter for å kjøre"
   ]
  },
  {
   "cell_type": "markdown",
   "metadata": {
    "colab_type": "text",
    "id": "R-YQl0M1_wvo"
   },
   "source": [
    "Dobbeltklikk __har__ for løsning.\n",
    "\n",
    "<!-- Din løsnign står under:\n",
    "kvadrater=['rød', 'gul', 'grønn', 'lilla', 'blå']\n",
    "for kvadrat in kvadrater:\n",
    "    print(kvadrat)\n",
    " -->"
   ]
  },
  {
   "cell_type": "markdown",
   "metadata": {
    "colab_type": "text",
    "id": "-gSQbPKG_wvq"
   },
   "source": [
    "<hr>"
   ]
  },
  {
   "cell_type": "markdown",
   "metadata": {
    "colab_type": "text",
    "id": "dh6SyueH_wvr"
   },
   "source": [
    "Skriv en while-løkke for å vise verdiene for vurderingen til en albumspilleliste som er lagret i listen <code>PlayListRatings</code>. Hvis poengsummen er mindre enn 6, gå ut av løkken. Listen <code>PlayListRatings</code> er gitt av: <code>PlayListRatings = [10, 9.5, 10, 8, 7.5, 5, 10, 10]</code>"
   ]
  },
  {
   "cell_type": "code",
   "execution_count": null,
   "metadata": {
    "colab": {},
    "colab_type": "code",
    "id": "b8MHvS2L_wvv"
   },
   "outputs": [],
   "source": [
    "# Skriv kode ditt under og trykk på Shift+Enter for å kjøre"
   ]
  },
  {
   "cell_type": "markdown",
   "metadata": {
    "colab_type": "text",
    "id": "6F8YeCMh_wv2"
   },
   "source": [
    "Dobbeltklikk __har__ for løsning.\n",
    "\n",
    "<!-- Din løsnign står under:\n",
    "PlayListRatings = [10, 9.5, 10, 8, 7.5, 5, 10, 10]\n",
    "i = 1\n",
    "Rating = PlayListRatings[0]\n",
    "while(Rating >= 6):\n",
    "    print(Rating)\n",
    "    Rating = PlayListRatings[i]\n",
    "    i = i + 1\n",
    " -->"
   ]
  },
  {
   "cell_type": "markdown",
   "metadata": {
    "colab_type": "text",
    "id": "w3iKrS84_wv3"
   },
   "source": [
    "<hr>"
   ]
  },
  {
   "cell_type": "markdown",
   "metadata": {
    "colab_type": "text",
    "id": "wnbewM8W_wv5"
   },
   "source": [
    "Skriv en while-løkke for å kopiere strengene <code>'orange'</code> av listen <code>kvadrater</code> til listen <code>nye_kvadrater</code>. Stopp og gå ut av løkken hvis verdien på listen ikke er <code>'orange'</code>:"
   ]
  },
  {
   "cell_type": "code",
   "execution_count": null,
   "metadata": {
    "colab": {},
    "colab_type": "code",
    "id": "__oyWkWg_wv6"
   },
   "outputs": [],
   "source": [
    "# Skriv kode ditt under og trykk på Shift+Enter for å kjøre\n",
    "\n",
    "kvadrater = ['orange', 'orange', 'lilla', 'blå ', 'orange']\n",
    "nye_kvadrater = []"
   ]
  },
  {
   "cell_type": "markdown",
   "metadata": {
    "colab_type": "text",
    "id": "qWu3t-Lj_wwB"
   },
   "source": [
    "Dobbeltklikk __har__ for løsning.\n",
    "\n",
    "<!-- Din løsnign står under:\n",
    "kvadrater = ['orange', 'orange', 'lilla', 'blå ', 'orange']\n",
    "nye_kvadrater = []\n",
    "i = 0\n",
    "while(kvadrater[i] == 'orange'):\n",
    "    nye_kvadrter.append(kvadrater[i])\n",
    "    i = i + 1\n",
    "print (nye_kvadrater)\n",
    " -->"
   ]
  },
  {
   "cell_type": "markdown",
   "metadata": {
    "colab_type": "text",
    "id": "lS0WszC7_wwG"
   },
   "source": [
    "<hr>"
   ]
  }
 ],
 "metadata": {
  "colab": {
   "name": "PY0101EN-3-2-Loops.ipynb",
   "provenance": []
  },
  "kernelspec": {
   "display_name": "Python 3",
   "language": "python",
   "name": "python3"
  },
  "language_info": {
   "codemirror_mode": {
    "name": "ipython",
    "version": 3
   },
   "file_extension": ".py",
   "mimetype": "text/x-python",
   "name": "python",
   "nbconvert_exporter": "python",
   "pygments_lexer": "ipython3",
   "version": "3.7.4"
  }
 },
 "nbformat": 4,
 "nbformat_minor": 4
}
