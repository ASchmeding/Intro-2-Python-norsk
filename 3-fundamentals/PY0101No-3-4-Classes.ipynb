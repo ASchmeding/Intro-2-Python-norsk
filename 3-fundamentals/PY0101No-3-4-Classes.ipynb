{
 "cells": [
  {
   "cell_type": "markdown",
   "metadata": {
    "colab_type": "text",
    "id": "l9MIQykGEZQw"
   },
   "source": [
    "<h1>Klasser og objekter i Python</h1>"
   ]
  },
  {
   "cell_type": "markdown",
   "metadata": {
    "colab_type": "text",
    "id": "6Fuy_sUWEZQy"
   },
   "source": [
    "<p>\n",
    "    <strong>Velkommen!</strong>\n",
    "    Objekter i programmering er som objekter i det virkelige liv. Det fins forskjellige klasser av objekter. I denne notatboken vil vi lage to klasser kalt Sirkel og rektangel. På slutten av denne notatboken vil du ha en bedre ide om:\n",
    "    <ul>\n",
    "        <li>hva en klasse er</li>\n",
    "        <li>hva et attributt er</li>\n",
    "        <li>hva en metode er</li>\n",
    "    </ul>\n",
    "\n",
    "   Ikke bekymre deg hvis du ikke forstår det første gang, siden mye av terminologien er forvirrende. Ikke glem å gjøre øvinger i notatboken.\n",
    "</p>"
   ]
  },
  {
   "cell_type": "markdown",
   "metadata": {
    "colab_type": "text",
    "id": "eoeBcMVoEZQ1"
   },
   "source": [
    "<h2>Innhold</h2>\n",
    "<div class=\"alert alert-block alert-info\" style=\"margin-top: 20px\">\n",
    "    <ul>\n",
    "        <li>\n",
    "            <a href=\"#intro\">Introduksjon til klasser og objekter\n",
    "</a>\n",
    "            <ul>\n",
    "                <li><a href=\"create\">Opprette en klasse</a></li>\n",
    "                <li><a href=\"instance\">Forekomster av en klasse: Objekter og attributter</a></li>\n",
    "                <li><a href=\"method\">Metoder</a></li>\n",
    "            </ul>\n",
    "        </li>\n",
    "        <li><a href=\"creating\">Opprette en klasse</a></li>\n",
    "        <li><a href=\"circle\">Opprette en forekomst av klassen sirkel</a></li>\n",
    "        <li><a href=\"rect\">Rektangel klassen</a></li>\n",
    "    </ul>\n",
    "    <p>\n",
    "        Tidsbruk: <strong>40 min</strong>\n",
    "    </p>\n",
    "</div>\n",
    "\n",
    "<hr>"
   ]
  },
  {
   "cell_type": "markdown",
   "metadata": {
    "colab_type": "text",
    "id": "_xq1kExrEZQ3"
   },
   "source": [
    "<h2 id=\"intro\">Introduksjon til klasser og objekter</h2>"
   ]
  },
  {
   "cell_type": "markdown",
   "metadata": {
    "colab_type": "text",
    "id": "K-Pcl-CxEZQ5"
   },
   "source": [
    "<h3>Opprette en klasse</h3>"
   ]
  },
  {
   "cell_type": "markdown",
   "metadata": {
    "colab_type": "text",
    "id": "WChLgixiEZQ6"
   },
   "source": [
    "Den første delen av å lage en klasse er å gi den et navn: I denne notatboken vil vi lage to klasser, sirkel (Circle) og rektangel (Rectangle). Vi må bestemme alle dataene som utgjør den klassen, og vi kaller det et attributt. Tenk på dette trinnet som å lage en blå utskrift som vi skal bruke til å lage objekter. I figur 1 ser vi to klasser, sirkel og rektangel. Hver har sine attributter, de er variabler. Klasse sirkel har attributtene radius og farge, mens rektangel har attributtene høyde og bredde. La oss bruke de visuelle eksemplene på disse formene før vi kommer til koden, da dette vil hjelpe deg å bli vant til ordforrådet."
   ]
  },
  {
   "cell_type": "markdown",
   "metadata": {
    "colab_type": "text",
    "id": "5Jfm-twvEZQ8"
   },
   "source": [
    "<img src=\"https://s3-api.us-geo.objectstorage.softlayer.net/cf-courses-data/CognitiveClass/PY0101EN/Chapter%203/Images/ClassesClass.png\" width=\"500\" />"
   ]
  },
  {
   "cell_type": "markdown",
   "metadata": {
    "colab_type": "text",
    "id": "5RWYgJNoEZQ9"
   },
   "source": [
    "<i>Figur 1: Klassene sirkel (circle) og rektangel (rectangle), hver med sine egne attributer. Klassen sirkel har attributer radius og farge (color), mens rekatangel har høyde (height), brede (width) og farge (color).</i>\n"
   ]
  },
  {
   "cell_type": "markdown",
   "metadata": {
    "colab_type": "text",
    "id": "W-LLyeUMEZQ_"
   },
   "source": [
    "<h3 id=\"instance\">Forekomster av en klasse: Objekter og attributter</h3>"
   ]
  },
  {
   "cell_type": "markdown",
   "metadata": {
    "colab_type": "text",
    "id": "fdMBHrOvEZRA"
   },
   "source": [
    "En forekomst av et objekt er realiseringen av en klasse, og i figur 2 ser vi tre forekomster av klassesirkelen. Vi gir hvert objekt et navn: rød sirkel, gul sirkel og grønn sirkel. Hvert objekt har forskjellige attributter, så la oss fokusere på fargeattributtet for hvert objekt."
   ]
  },
  {
   "cell_type": "markdown",
   "metadata": {
    "colab_type": "text",
    "id": "ATxpQfjkEZRB"
   },
   "source": [
    "<img src=\"https://s3-api.us-geo.objectstorage.softlayer.net/cf-courses-data/CognitiveClass/PY0101EN/Chapter%203/Images/ClassesObj.png\" width=\"500\" />"
   ]
  },
  {
   "cell_type": "markdown",
   "metadata": {
    "colab_type": "text",
    "id": "IlHD6n89EZRC"
   },
   "source": [
    "<i>Figur 2: Tre forekommster av klassen sirkel og tre objekter av typ sirkel.</i>"
   ]
  },
  {
   "cell_type": "markdown",
   "metadata": {
    "colab_type": "text",
    "id": "EWWsr3LUEZRE"
   },
   "source": [
    " Fargeattributtet for den røde sirkelen er fargen rød, for det grønne sirkelobjektet er fargeattributtet grønt, og for den gule sirkelen er fargeattributtet gult."
   ]
  },
  {
   "cell_type": "markdown",
   "metadata": {
    "colab_type": "text",
    "id": "F7kxpNdREZRF"
   },
   "source": [
    "<h3 id=\"method\">Metoder</h3>"
   ]
  },
  {
   "cell_type": "markdown",
   "metadata": {
    "colab_type": "text",
    "id": "D9Mz0WUIEZRG"
   },
   "source": [
    "Metoder gir deg en måte å endre eller jobbe med objektet; de er funksjoner som jobber med objekter. La oss for eksempel si at vi ønsker å øke radiusen av en sirkel med en spesifisert mengde. Vi kan lage en metode kalt **add_radius(r)** som øker radiusen med **r**. Dette er vist i figur 3, hvor etter å ha brukt metoden på det \"gule sirkelobjektet\", øker radiusen til objektet tilsvarende. \"Punkt\"-notasjonen betyr å bruke metoden på objektet, som i hovedsak er å bruke en funksjon på informasjonen i objektet."
   ]
  },
  {
   "cell_type": "markdown",
   "metadata": {
    "colab_type": "text",
    "id": "_nYNpEBUEZRI"
   },
   "source": [
    "<img src=\"https://s3-api.us-geo.objectstorage.softlayer.net/cf-courses-data/CognitiveClass/PY0101EN/Chapter%203/Images/ClassesMethod.png\" width=\"500\" /> "
   ]
  },
  {
   "cell_type": "markdown",
   "metadata": {
    "colab_type": "text",
    "id": "-PKmyCjfEZRJ"
   },
   "source": [
    "<i>Figur 3: Bruk av metoden “add_radius” på den gule sirkel objekt.</i>"
   ]
  },
  {
   "cell_type": "markdown",
   "metadata": {
    "colab_type": "text",
    "id": "9E6_h3uWEZRL"
   },
   "source": [
    "<hr>"
   ]
  },
  {
   "cell_type": "markdown",
   "metadata": {
    "colab_type": "text",
    "id": "6OxGfESTEZRM"
   },
   "source": [
    "<h2 id=\"creating\">Å lage en klasse</h2>"
   ]
  },
  {
   "cell_type": "markdown",
   "metadata": {
    "colab_type": "text",
    "id": "Fzp67RKcEZRN"
   },
   "source": [
    "Nå skal vi lage en klasse sirkel, men først skal vi importere et programbibliotek for å tegne objektene: "
   ]
  },
  {
   "cell_type": "code",
   "execution_count": null,
   "metadata": {
    "colab": {},
    "colab_type": "code",
    "id": "xWrC42nTEZRP"
   },
   "outputs": [],
   "source": [
    "# Importer programbibliotek\n",
    "\n",
    "import matplotlib.pyplot as plt\n",
    "%matplotlib inline  "
   ]
  },
  {
   "cell_type": "markdown",
   "metadata": {
    "colab_type": "text",
    "id": "Yzm-3CRkEZRk"
   },
   "source": [
    "Det første trinnet i å lage din egen klasse er å bruke nøkkelordet <code>class</code>, deretter navnet på klassen som vist i figur 4. I dette kurset vil foreldren (parent) til klassen alltid være objekt:\n"
   ]
  },
  {
   "attachments": {
    "ClassesDefine.png": {
     "image/png": "[encoded data removed]"
    }
   },
   "cell_type": "markdown",
   "metadata": {
    "colab_type": "text",
    "id": "IERW8LA_EZRu"
   },
   "source": [
    "![ClassesDefine.png](attachment:ClassesDefine.png)"
   ]
  },
  {
   "cell_type": "markdown",
   "metadata": {
    "colab_type": "text",
    "id": "4hL8TdxREZRx"
   },
   "source": [
    "<i>Figure 4: Grunnleggende syntaks for klasser, i kurset set vi bare på parent object.</i>"
   ]
  },
  {
   "cell_type": "markdown",
   "metadata": {
    "colab_type": "text",
    "id": "bCGedPfoEZRy"
   },
   "source": [
    "Det neste trinnet er en spesiell metode kalt en konstruktør <code>&#95;&#95;init&#95;&#95;</code>, som brukes til å initialisere objektet. Inndataene er dataattributter. Begrepet <code>self</code> inneholder alle attributtene. For eksempel gir <code>self.color</code> verdien av attributtet color (farge) og <code>self.radius</code> vil gi deg radiusen til objektet. Vi har også metoden <code>add_radius()</code> med parameteren <code>r</code>, metoden legger til verdien av <code>r</code> til attributtet radius. For å få tilgang til radiusen bruker vi syntaksen <code>self.radius</code>. Den merkede syntaksen er oppsummert i figur 5:"
   ]
  },
  {
   "cell_type": "markdown",
   "metadata": {
    "colab_type": "text",
    "id": "pFMnLxL9EZR0"
   },
   "source": [
    "<img src=\"https://s3-api.us-geo.objectstorage.softlayer.net/cf-courses-data/CognitiveClass/PY0101EN/Chapter%203/Images/ClassesCircle.png\" width=\"600\" />"
   ]
  },
  {
   "cell_type": "markdown",
   "metadata": {
    "colab_type": "text",
    "id": "RaZeP99kEZR1"
   },
   "source": [
    "<i>Figure 5: Labeled syntax of the object circle.</i>"
   ]
  },
  {
   "cell_type": "markdown",
   "metadata": {
    "colab_type": "text",
    "id": "11mNsBCVEZR6"
   },
   "source": [
    "Selve objektet er vist nedenfor. Vi inkluderer metoden <code>drawCircle</code> for å vise bildet av en sirkel. Vi setter standardradius til 3 og standardfarge til blå:"
   ]
  },
  {
   "cell_type": "code",
   "execution_count": null,
   "metadata": {
    "colab": {},
    "colab_type": "code",
    "id": "HPYh95xHEZR9",
    "jupyter": {
     "outputs_hidden": false
    }
   },
   "outputs": [],
   "source": [
    "# Lag klassen sirkel\n",
    "\n",
    "class Sirkel(object):\n",
    "    \n",
    "    # Konstruktør\n",
    "    def __init__(self, radius=3, color='blue'):\n",
    "        self.radius = radius\n",
    "        self.color = color \n",
    "    \n",
    "    # Metod\n",
    "    def add_radius(self, r):\n",
    "        self.radius = self.radius + r\n",
    "        return(self.radius)\n",
    "    \n",
    "    # Metod\n",
    "    def drawCircle(self):\n",
    "        plt.gca().add_patch(plt.Circle((0, 0), radius=self.radius, fc=self.color))\n",
    "        plt.axis('scaled')\n",
    "        plt.show()  "
   ]
  },
  {
   "cell_type": "markdown",
   "metadata": {
    "colab_type": "text",
    "id": "lOb3LfE7EZSU"
   },
   "source": [
    "<hr>"
   ]
  },
  {
   "cell_type": "markdown",
   "metadata": {
    "colab_type": "text",
    "id": "Yn7qPjpHEZSW"
   },
   "source": [
    "<h2 id=\"circle\">Opprette en forekomst av klassen sirkel</h2>"
   ]
  },
  {
   "cell_type": "markdown",
   "metadata": {
    "colab_type": "text",
    "id": "8AE_URnWEZSX"
   },
   "source": [
    "La oss lage objektet <code>RedCircle</code> av typen Sirkel for å gjøre følgende:"
   ]
  },
  {
   "cell_type": "code",
   "execution_count": null,
   "metadata": {
    "colab": {},
    "colab_type": "code",
    "id": "0V_pYKhBEZSZ",
    "jupyter": {
     "outputs_hidden": false
    }
   },
   "outputs": [],
   "source": [
    "# Lag et objekt RedCircle\n",
    "\n",
    "RedCircle = Sirkel(10, 'red')"
   ]
  },
  {
   "cell_type": "markdown",
   "metadata": {
    "colab_type": "text",
    "id": "qeL4qptKEZSf"
   },
   "source": [
    "Vi kan bruke kommandoen <code>dir</code> for å få en liste over objektets metoder. Mange av dem er standard Python-metoder.\n"
   ]
  },
  {
   "cell_type": "code",
   "execution_count": null,
   "metadata": {
    "colab": {},
    "colab_type": "code",
    "id": "P4CBEQ0zEZSh",
    "jupyter": {
     "outputs_hidden": false
    }
   },
   "outputs": [],
   "source": [
    "# La oss finne ut hvilke metoder kan brukes med objektet RedCircle\n",
    "\n",
    "dir(RedCircle)"
   ]
  },
  {
   "cell_type": "markdown",
   "metadata": {
    "colab_type": "text",
    "id": "koZtRd5nEZSm"
   },
   "source": [
    "Vi kan også ta en titt på attributtene av objektet: "
   ]
  },
  {
   "cell_type": "code",
   "execution_count": null,
   "metadata": {
    "colab": {},
    "colab_type": "code",
    "id": "uw43gBjZEZSn",
    "jupyter": {
     "outputs_hidden": false
    }
   },
   "outputs": [],
   "source": [
    "# Skriv ut radius attribut til objektet\n",
    "\n",
    "RedCircle.radius"
   ]
  },
  {
   "cell_type": "code",
   "execution_count": null,
   "metadata": {
    "colab": {},
    "colab_type": "code",
    "id": "4q91enIEEZSy",
    "jupyter": {
     "outputs_hidden": false
    }
   },
   "outputs": [],
   "source": [
    "# Skriv ut color attribut til objektet\n",
    "\n",
    "RedCircle.color"
   ]
  },
  {
   "cell_type": "markdown",
   "metadata": {
    "colab_type": "text",
    "id": "6REOG-hBEZS6"
   },
   "source": [
    "Vi kan endre objektets dataattributter:"
   ]
  },
  {
   "cell_type": "code",
   "execution_count": null,
   "metadata": {
    "colab": {},
    "colab_type": "code",
    "id": "38f-RInGEZS7",
    "jupyter": {
     "outputs_hidden": false
    }
   },
   "outputs": [],
   "source": [
    "# Bestemm objektets dataattributter\n",
    "\n",
    "RedCircle.radius = 1\n",
    "RedCircle.radius"
   ]
  },
  {
   "cell_type": "markdown",
   "metadata": {
    "colab_type": "text",
    "id": "OQ_sxMRHEZTB"
   },
   "source": [
    "Vi kan tegne objektet ved å bruke metoden <code>drawCircle()</code>:"
   ]
  },
  {
   "cell_type": "code",
   "execution_count": null,
   "metadata": {
    "colab": {},
    "colab_type": "code",
    "id": "Jc-wRAvFEZTD",
    "jupyter": {
     "outputs_hidden": false
    }
   },
   "outputs": [],
   "source": [
    "# Bruk metoden drawCircle\n",
    "\n",
    "RedCircle.drawCircle()"
   ]
  },
  {
   "cell_type": "markdown",
   "metadata": {
    "colab_type": "text",
    "id": "LXqDPV_VEZTH"
   },
   "source": [
    "Vi kan øke radiusen til sirkelen ved å bruke metoden <code>add_radius()</code>. La oss øke radiusen med 2 og deretter med 5:"
   ]
  },
  {
   "cell_type": "code",
   "execution_count": null,
   "metadata": {
    "colab": {},
    "colab_type": "code",
    "id": "2PFQM0g4EZTI",
    "jupyter": {
     "outputs_hidden": false
    }
   },
   "outputs": [],
   "source": [
    "# Bruk metoen for å endre radiusen til et objekt\n",
    "\n",
    "print('Radius av objektet:',RedCircle.radius)\n",
    "RedCircle.add_radius(2)\n",
    "print('Radius av objektet etter bruk av metoden add_radius(2):',RedCircle.radius)\n",
    "RedCircle.add_radius(5)\n",
    "print('Radius av objektet etter bruk av metoden add_radius(5):',RedCircle.radius)"
   ]
  },
  {
   "cell_type": "markdown",
   "metadata": {
    "colab_type": "text",
    "id": "jwsqyEYPEZTP"
   },
   "source": [
    "La oss lage en blå sirkel. Siden standardfargen er blå, er alt vi trenger å gjøre å spesifisere hva radiusen er:"
   ]
  },
  {
   "cell_type": "code",
   "execution_count": null,
   "metadata": {
    "colab": {},
    "colab_type": "code",
    "id": "ZUrWQrqKEZTS",
    "jupyter": {
     "outputs_hidden": false
    }
   },
   "outputs": [],
   "source": [
    "# LAg en blå sirkel med en gitt radius\n",
    "\n",
    "BlueCircle = Circle(radius=100)"
   ]
  },
  {
   "cell_type": "markdown",
   "metadata": {
    "colab_type": "text",
    "id": "fsO3pW46EZTX"
   },
   "source": [
    " As before we can access the attributes of the instance of the class by using the dot notation:"
   ]
  },
  {
   "cell_type": "code",
   "execution_count": null,
   "metadata": {
    "colab": {},
    "colab_type": "code",
    "id": "xq9_3L8ZEZTZ",
    "jupyter": {
     "outputs_hidden": false
    }
   },
   "outputs": [],
   "source": [
    "# Print the object attribute radius\n",
    "\n",
    "BlueCircle.radius"
   ]
  },
  {
   "cell_type": "code",
   "execution_count": null,
   "metadata": {
    "colab": {},
    "colab_type": "code",
    "id": "6YNXwwMfEZTg",
    "jupyter": {
     "outputs_hidden": false
    }
   },
   "outputs": [],
   "source": [
    "# Skriv ut attribut color til objectet\n",
    "\n",
    "BlueCircle.color"
   ]
  },
  {
   "cell_type": "markdown",
   "metadata": {
    "colab_type": "text",
    "id": "MgLncWG6EZTm"
   },
   "source": [
    "Vi kan tegne objektet ved å bruke metoden <code>drawCircle()</code>:"
   ]
  },
  {
   "cell_type": "code",
   "execution_count": null,
   "metadata": {
    "colab": {},
    "colab_type": "code",
    "id": "q6FSrOrxEZTn",
    "jupyter": {
     "outputs_hidden": false
    }
   },
   "outputs": [],
   "source": [
    "# Bruk metoden drawCircle\n",
    "\n",
    "BlueCircle.drawCircle()"
   ]
  },
  {
   "cell_type": "markdown",
   "metadata": {
    "colab_type": "text",
    "id": "1ZMFvkWDEZTr"
   },
   "source": [
    "Sammenlign x- og y-aksen til figuren med figuren for <code>RedCircle</code>; de er forskjellige."
   ]
  },
  {
   "cell_type": "markdown",
   "metadata": {
    "colab_type": "text",
    "id": "9Ek5DoYMEZTs"
   },
   "source": [
    "<hr>"
   ]
  },
  {
   "cell_type": "markdown",
   "metadata": {
    "colab_type": "text",
    "id": "h1vNCyfHEZTt"
   },
   "source": [
    "<h2 id=\"rect\">Klassen rektangel</h2>"
   ]
  },
  {
   "cell_type": "markdown",
   "metadata": {
    "colab_type": "text",
    "id": "qZr0fhR8EZTu"
   },
   "source": [
    "La oss lage et klasse rektangel med attributtene høyde, bredde og farge. Vi vil bare legge til metoden for å tegne rektangelobjektet:\n"
   ]
  },
  {
   "cell_type": "code",
   "execution_count": null,
   "metadata": {
    "colab": {},
    "colab_type": "code",
    "id": "BYgi5ow3EZTu",
    "jupyter": {
     "outputs_hidden": true
    }
   },
   "outputs": [],
   "source": [
    "# LAg en klasse rektangel for å lage et rektangelobjekt\n",
    "\n",
    "class Rektangel(object):\n",
    "    \n",
    "    # Konstruktør\n",
    "    def __init__(self, width=2, height=3, color='r'):\n",
    "        self.height = height \n",
    "        self.width = width\n",
    "        self.color = color\n",
    "    \n",
    "    # Metod\n",
    "    def drawRectangle(self):\n",
    "        plt.gca().add_patch(plt.Rectangle((0, 0), self.width, self.height ,fc=self.color))\n",
    "        plt.axis('scaled')\n",
    "        plt.show()"
   ]
  },
  {
   "cell_type": "markdown",
   "metadata": {
    "colab_type": "text",
    "id": "X45aFBkcEZTz"
   },
   "source": [
    "La oss lage objektet <code>SkinnyBlueRectangle</code> av typen Rektangel Bredden vil være 2 og høyden vil være 10, og fargen vil være blå:\n"
   ]
  },
  {
   "cell_type": "code",
   "execution_count": null,
   "metadata": {
    "colab": {},
    "colab_type": "code",
    "id": "Yve86751EZT0",
    "jupyter": {
     "outputs_hidden": false
    }
   },
   "outputs": [],
   "source": [
    "# LAg en ny objekt rektangel\n",
    "\n",
    "SkinnyBlueRectangle = Rektangel(2, 10, 'blue')"
   ]
  },
  {
   "cell_type": "markdown",
   "metadata": {
    "colab_type": "text",
    "id": "XdcYK6M7EZT4"
   },
   "source": [
    "Som før kan vi få tilgang til attributtene til forekomsten av klassen ved å bruke punktnotasjonen:"
   ]
  },
  {
   "cell_type": "code",
   "execution_count": null,
   "metadata": {
    "colab": {},
    "colab_type": "code",
    "id": "3Zi_4A0vEZT8",
    "jupyter": {
     "outputs_hidden": false
    }
   },
   "outputs": [],
   "source": [
    "# Skriv ut attributt høyde til ojektet\n",
    "\n",
    "SkinnyBlueRectangle.height "
   ]
  },
  {
   "cell_type": "code",
   "execution_count": null,
   "metadata": {
    "colab": {},
    "colab_type": "code",
    "id": "l-iPWmTBEZUB",
    "jupyter": {
     "outputs_hidden": false
    }
   },
   "outputs": [],
   "source": [
    "# Skriv ut attributt bredde til ojektet\n",
    "\n",
    "SkinnyBlueRectangle.width"
   ]
  },
  {
   "cell_type": "code",
   "execution_count": null,
   "metadata": {
    "colab": {},
    "colab_type": "code",
    "id": "AEuEx0QrEZUH",
    "jupyter": {
     "outputs_hidden": false
    }
   },
   "outputs": [],
   "source": [
    "# Skriv ut attributt frage til ojektet\n",
    "\n",
    "SkinnyBlueRectangle.color"
   ]
  },
  {
   "cell_type": "markdown",
   "metadata": {
    "colab_type": "text",
    "id": "430edWE-EZUL"
   },
   "source": [
    "Vi kan tegne objektet:"
   ]
  },
  {
   "cell_type": "code",
   "execution_count": null,
   "metadata": {
    "colab": {},
    "colab_type": "code",
    "id": "J3bvOFaUEZUM",
    "jupyter": {
     "outputs_hidden": false
    },
    "scrolled": true
   },
   "outputs": [],
   "source": [
    "# Bruk av metoden drawRectangle for å tenge rektangelen\n",
    "\n",
    "SkinnyBlueRectangle.drawRectangle()"
   ]
  },
  {
   "cell_type": "markdown",
   "metadata": {
    "colab_type": "text",
    "id": "KZ5h6exsEZUQ"
   },
   "source": [
    "La oss lage objektet <code>FatYellowRectangle</code> av typen Rektangel :"
   ]
  },
  {
   "cell_type": "code",
   "execution_count": null,
   "metadata": {
    "colab": {},
    "colab_type": "code",
    "id": "5J4YCF5eEZUR",
    "jupyter": {
     "outputs_hidden": true
    }
   },
   "outputs": [],
   "source": [
    "# Lag en ny objekt rektangel\n",
    "\n",
    "FatYellowRectangle = Rektangel(20, 5, 'yellow')"
   ]
  },
  {
   "cell_type": "markdown",
   "metadata": {
    "colab_type": "text",
    "id": "bYHeN9ECEZUV"
   },
   "source": [
    "Vi kan få tilgang til attributtene til forekomsten av klassen ved å bruke punktnotasjonen:"
   ]
  },
  {
   "cell_type": "code",
   "execution_count": null,
   "metadata": {
    "colab": {},
    "colab_type": "code",
    "id": "cWnPs7bUEZUW",
    "jupyter": {
     "outputs_hidden": false
    }
   },
   "outputs": [],
   "source": [
    "# Skriv ut attributt hight til objektet\n",
    "\n",
    "FatYellowRectangle.height "
   ]
  },
  {
   "cell_type": "code",
   "execution_count": null,
   "metadata": {
    "colab": {},
    "colab_type": "code",
    "id": "JimJdqwXEZUc",
    "jupyter": {
     "outputs_hidden": false
    }
   },
   "outputs": [],
   "source": [
    "# Skriv ut attributt width til objektet width\n",
    "\n",
    "FatYellowRectangle.width"
   ]
  },
  {
   "cell_type": "code",
   "execution_count": null,
   "metadata": {
    "colab": {},
    "colab_type": "code",
    "id": "eTvr5ZU7EZUg",
    "jupyter": {
     "outputs_hidden": false
    }
   },
   "outputs": [],
   "source": [
    "# Skriv ut attributt color til objektet\n",
    "\n",
    "FatYellowRectangle.color"
   ]
  },
  {
   "cell_type": "markdown",
   "metadata": {
    "colab_type": "text",
    "id": "IsdLPwB0EZUo"
   },
   "source": [
    " Nå tegner vi objektet:"
   ]
  },
  {
   "cell_type": "code",
   "execution_count": null,
   "metadata": {
    "colab": {},
    "colab_type": "code",
    "id": "9mN8j6S5EZUp",
    "jupyter": {
     "outputs_hidden": false
    }
   },
   "outputs": [],
   "source": [
    "# Bruk av metoden drawRectangle \n",
    "\n",
    "FatYellowRectangle.drawRectangle()"
   ]
  },
  {
   "cell_type": "markdown",
   "metadata": {
    "colab_type": "text",
    "id": "xxae96gKEZUx"
   },
   "source": [
    "<hr>"
   ]
  }
 ],
 "metadata": {
  "colab": {
   "name": "PY0101EN-3-4-Classes.ipynb",
   "provenance": []
  },
  "kernelspec": {
   "display_name": "Python 3",
   "language": "python",
   "name": "python3"
  },
  "language_info": {
   "codemirror_mode": {
    "name": "ipython",
    "version": 3
   },
   "file_extension": ".py",
   "mimetype": "text/x-python",
   "name": "python",
   "nbconvert_exporter": "python",
   "pygments_lexer": "ipython3",
   "version": "3.7.4"
  }
 },
 "nbformat": 4,
 "nbformat_minor": 4
}
