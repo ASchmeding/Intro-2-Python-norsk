{
 "cells": [
  {
   "cell_type": "markdown",
   "metadata": {
    "colab_type": "text",
    "id": "0cRraId0Bkg9"
   },
   "source": [
    "<h1>Funksjoner i Python</h1>"
   ]
  },
  {
   "cell_type": "markdown",
   "metadata": {
    "colab_type": "text",
    "id": "SuxSCThEBkg_"
   },
   "source": [
    "<p><strong>Velkommen!</strong> Denne notatboken vil lære deg om funksjoner i programmeringsspråket Python. Ved slutten av denne økta vil du vite de grunnleggende konseptene om funksjon, variabler og hvordan du bruker funksjoner.</p>"
   ]
  },
  {
   "cell_type": "markdown",
   "metadata": {
    "colab_type": "text",
    "id": "zcaRup4CBkhA"
   },
   "source": [
    "<h2>Innhold</h2>\n",
    "<div class=\"alert alert-block alert-info\" style=\"margin-top: 20px\">\n",
    "    <ul>\n",
    "        <li>\n",
    "            <a href=\"#func\">Funskjoner</a>\n",
    "            <ul>\n",
    "                <li><a href=\"content\">Hva er en funksjon?</a></li>\n",
    "                <li><a href=\"var\">Variabler</a></li>\n",
    "                <li><a href=\"simple\">Funksjoner forenkler alt</a></li>\n",
    "            </ul>\n",
    "        </li>\n",
    "        <li><a href=\"# pre\">Forhåndsdefinerte funksjoner</a></li>\n",
    "        <li><a href=\"if\">Bruk av <code>if</code>/<code>else</code> setninger og løkker i funksjoner</a></li>\n",
    "        <li><a href=\"default\">Angi standard argumentverdier i dine egendefinerte funksjoner</a></li>\n",
    "        <li><a href=\"global\">Globale variabler</a></li>\n",
    "        <li><a href=\"scope\">Omfanget av en variabel</a></li>\n",
    "        <li>\n",
    "            <a href=\"#quiz\">Quiz om funksjoner</a>\n",
    "        </li>\n",
    "    </ul>\n",
    "    <p>\n",
    "        Tidsbruk: <strong>40 min</strong>\n",
    "    </p>\n",
    "</div>\n",
    "\n",
    "<hr>"
   ]
  },
  {
   "cell_type": "markdown",
   "metadata": {
    "colab_type": "text",
    "id": "Zpd2gtYUBkhB"
   },
   "source": [
    "<h2 id=\"func\">Funskjoner</h2>"
   ]
  },
  {
   "cell_type": "markdown",
   "metadata": {
    "colab_type": "text",
    "id": "jzv5YQJNBkhC"
   },
   "source": [
    "En funksjon er en gjenbrukbar kodeblokk som utfører operasjoner spesifisert i funksjonen. De lar deg bryte ned oppgaver og lar deg gjenbruke koden din i forskjellige programmer.\n",
    "\n",
    "Det er to typer funksjoner:\n",
    "\n",
    "- <b>Forhåndsdefinerte funksjoner</b>\n",
    "- <b>Brukerdefinerte funksjoner</b>"
   ]
  },
  {
   "cell_type": "markdown",
   "metadata": {
    "colab_type": "text",
    "id": "HeGvVGO3BkhD"
   },
   "source": [
    "<h3 id=\"content\">Hva er en funksjon?</h3>"
   ]
  },
  {
   "cell_type": "markdown",
   "metadata": {
    "colab_type": "text",
    "id": "VERLUBlcBkhE"
   },
   "source": [
    "Du kan definere funksjoner i Python som gi deg en gjennbukbar kodeblokk som gjør noe du ønsker. Her er enkle regler for å definere en funksjon i Python:\n",
    "– Funksjonsblokker begynner med <code>def</code> etterfulgt av funksjonen <code>navn</code> og parenteser <code>()</code>.\n",
    "- Man kan velge å gi inngangsparametere eller argumenter til funskjonen. Disse bør plasseres innenfor parentesene.\n",
    "- Du kan også definere parametere innenfor parentesene til funskjonen.\n",
    "- Det er en kropp i hver funksjon som starter med et kolon (<code>:</code>) og er rykket inn.\n",
    "– Det er lurt å legge inn dokumentasjon foran kroppen\n",
    "- Utsagnet <code>return</code> avslutter en funksjon, og sender eventuelt tilbake en verdi\n",
    "\n",
    "Et eksempel på en funksjon som legger til parameteren <code>a</code>, skriver ut og returnerer utdata som <code>b</code>:"
   ]
  },
  {
   "cell_type": "code",
   "execution_count": null,
   "metadata": {
    "colab": {},
    "colab_type": "code",
    "id": "URFzNsQ3BkhG"
   },
   "outputs": [],
   "source": [
    "# Først eksempel av en funksjon: adder 1 til a og lagre det som b\n",
    "\n",
    "def add(a):\n",
    "    #----------------------- her kommer dokumentasjon -----------------\n",
    "    # adder 1 til a\n",
    "    #----------------------- dokumentasjon avsluttes ------------------\n",
    "    b = a + 1\n",
    "    print(a, \"hvis vi adderer en\", b)\n",
    "    return(b)"
   ]
  },
  {
   "cell_type": "markdown",
   "metadata": {
    "colab_type": "text",
    "id": "WVVVElzSBkhO"
   },
   "source": [
    "Figuren nede illustrerer begreper: "
   ]
  },
  {
   "cell_type": "markdown",
   "metadata": {
    "colab_type": "text",
    "id": "gghhIxklBkhP"
   },
   "source": [
    "<img src=\"https://s3-api.us-geo.objectstorage.softlayer.net/cf-courses-data/CognitiveClass/PY0101EN/Chapter%203/Images/FuncsDefinition.png\" width=\"500\" /> "
   ]
  },
  {
   "cell_type": "markdown",
   "metadata": {
    "colab_type": "text",
    "id": "z4Ca2ytMBkhQ"
   },
   "source": [
    "Vi kan få hjelp om funskjonenen vi lagde :"
   ]
  },
  {
   "cell_type": "code",
   "execution_count": null,
   "metadata": {
    "colab": {},
    "colab_type": "code",
    "id": "r1-LcUcHBkhR"
   },
   "outputs": [],
   "source": [
    "# Få hjelp om add funksjon\n",
    "\n",
    "help(add)"
   ]
  },
  {
   "cell_type": "markdown",
   "metadata": {
    "colab_type": "text",
    "id": "fwAv_4SMBkhY"
   },
   "source": [
    "Vi kan kalle en funksjonen vi lagde:"
   ]
  },
  {
   "cell_type": "code",
   "execution_count": null,
   "metadata": {
    "colab": {},
    "colab_type": "code",
    "id": "qNB-qpyJBkhZ"
   },
   "outputs": [],
   "source": [
    "# Kall funskjonen (dette betyr at vi utfører funksjonen) add()\n",
    "\n",
    "add(1)"
   ]
  },
  {
   "cell_type": "markdown",
   "metadata": {
    "colab_type": "text",
    "id": "GeTMzSftBkhe"
   },
   "source": [
    "Hvis vi kaller funskjonen med en ny argument får vi ett annet resultat:"
   ]
  },
  {
   "cell_type": "code",
   "execution_count": null,
   "metadata": {
    "colab": {},
    "colab_type": "code",
    "id": "JxF-NqjDBkhi"
   },
   "outputs": [],
   "source": [
    "# Kall funskjon add()\n",
    "\n",
    "add(2)"
   ]
  },
  {
   "cell_type": "markdown",
   "metadata": {
    "colab_type": "text",
    "id": "Q3m-eYimBkho"
   },
   "source": [
    "Vi kan lage ulike funksjoner. For eksempel kan vi lage en funksjon som multipliserer to tall. Tallene vil bli representert av variablene <code>a</code> og <code>b</code>:"
   ]
  },
  {
   "cell_type": "code",
   "execution_count": null,
   "metadata": {
    "colab": {},
    "colab_type": "code",
    "id": "wNcl9usqBkhq"
   },
   "outputs": [],
   "source": [
    "# Definer en funskjon som multipliserer to tall\n",
    "\n",
    "def Mult(a, b):\n",
    "    c = a * b\n",
    "    return(c)"
   ]
  },
  {
   "cell_type": "markdown",
   "metadata": {
    "colab_type": "text",
    "id": "0IHHxBlRBkhx"
   },
   "source": [
    "Det samme funksjon kan brukes for forskjellige datatyper. For eksempel kan vi multiplisere to heltll (integers):\n"
   ]
  },
  {
   "cell_type": "code",
   "execution_count": null,
   "metadata": {
    "colab": {},
    "colab_type": "code",
    "id": "f1s3rpF7Bkhy"
   },
   "outputs": [],
   "source": [
    "# Bruk mult() for å multiplisere to heltall\n",
    "\n",
    "Mult(2, 3)"
   ]
  },
  {
   "cell_type": "markdown",
   "metadata": {
    "colab_type": "text",
    "id": "YkaNr8BXBkh3"
   },
   "source": [
    " Two Floats: "
   ]
  },
  {
   "cell_type": "code",
   "execution_count": null,
   "metadata": {
    "colab": {},
    "colab_type": "code",
    "id": "HqAM1U3qBkh4"
   },
   "outputs": [],
   "source": [
    "# Bruk mult() for å multiplisere to float\n",
    "\n",
    "Mult(10.0, 3.14)"
   ]
  },
  {
   "cell_type": "markdown",
   "metadata": {
    "colab_type": "text",
    "id": "r1cPOOj4Bkh9"
   },
   "source": [
    "Vi kan til og med multiplisere en streng med et heltall:"
   ]
  },
  {
   "cell_type": "code",
   "execution_count": null,
   "metadata": {
    "colab": {},
    "colab_type": "code",
    "id": "albvwdjFBkh-"
   },
   "outputs": [],
   "source": [
    "# Bruk mult() for å gange ulike datatyper\n",
    "\n",
    "Mult(2, \"Chuck Norris \")"
   ]
  },
  {
   "cell_type": "markdown",
   "metadata": {
    "colab_type": "text",
    "id": "jNhEWXAwBkiH"
   },
   "source": [
    "<h3 id=\"var\">Variabler</h3>"
   ]
  },
  {
   "cell_type": "markdown",
   "metadata": {
    "colab_type": "text",
    "id": "7rR4cRXNBkiJ"
   },
   "source": [
    "Inndata til en funksjon kalles \"formell parameter\".\n",
    "\n",
    "En variabel som er deklarert inne i en funksjon kalles en lokal variabel. Parameteren eksisterer bare innenfor funksjonen (dvs. punktet hvor funksjonen starter og stopper).\n",
    "\n",
    "En variabel som er deklarert utenfor en funksjonsdefinisjon er en global variabel, og verdien er tilgjengelig og modifiserbar gjennom hele programmet. Vi vil diskutere mer om globale variabler på slutten av denne økt.\n"
   ]
  },
  {
   "cell_type": "code",
   "execution_count": null,
   "metadata": {
    "colab": {},
    "colab_type": "code",
    "id": "BX8WNzSkBkiK"
   },
   "outputs": [],
   "source": [
    "# funksjonsdefinisjon\n",
    "\n",
    "def square(a):\n",
    "    \n",
    "    # lokal variabel b\n",
    "    b = 1\n",
    "    c = a * a + b\n",
    "    print(a, \"hvis vi opphøyer i 2 og legger til 1\", c) \n",
    "    return(c)"
   ]
  },
  {
   "cell_type": "markdown",
   "metadata": {
    "colab_type": "text",
    "id": "dubbgo86BkiO"
   },
   "source": [
    "Etikettene vises i figuren:"
   ]
  },
  {
   "cell_type": "markdown",
   "metadata": {
    "colab_type": "text",
    "id": "h4aX8WxFBkiP"
   },
   "source": [
    "<img src=\"https://s3-api.us-geo.objectstorage.softlayer.net/cf-courses-data/CognitiveClass/PY0101EN/Chapter%203/Images/FuncsVar.png\" width=\"500\" />"
   ]
  },
  {
   "cell_type": "markdown",
   "metadata": {
    "colab_type": "text",
    "id": "Dr0Ng3RDBkiQ"
   },
   "source": [
    "Vi kan kalle funksjonen med en inndata på <b>3</b>:"
   ]
  },
  {
   "cell_type": "code",
   "execution_count": null,
   "metadata": {
    "colab": {},
    "colab_type": "code",
    "id": "zR3JLzx3BkiR"
   },
   "outputs": [],
   "source": [
    "# initialiserer globale variabler  \n",
    "\n",
    "x = 3\n",
    "# kall funksjon og gi tilbake funksjonsverdi som y\n",
    "y = square(x)\n",
    "y"
   ]
  },
  {
   "cell_type": "markdown",
   "metadata": {
    "colab_type": "text",
    "id": "TnQwC1hlBkiX"
   },
   "source": [
    "Vi kan kalle funksjonen med inndata <b>2</b> på en annen måte:"
   ]
  },
  {
   "cell_type": "code",
   "execution_count": null,
   "metadata": {
    "colab": {},
    "colab_type": "code",
    "id": "MiUDlB45BkiY"
   },
   "outputs": [],
   "source": [
    "# Tast inn et tall som parameter\n",
    "\n",
    "square(2)"
   ]
  },
  {
   "cell_type": "markdown",
   "metadata": {
    "colab_type": "text",
    "id": "DbILfzGHBkid"
   },
   "source": [
    "Hvis det ikke er noen <code>return</code>-setning, gi funksjonen <code>None</code> tilbake. Følgende to funksjoner er likeverdige:"
   ]
  },
  {
   "cell_type": "code",
   "execution_count": null,
   "metadata": {
    "colab": {},
    "colab_type": "code",
    "id": "ziFuFmlLBkie"
   },
   "outputs": [],
   "source": [
    "# Define functions, one with return value None and other without return value\n",
    "\n",
    "def MM():\n",
    "    print('Marius og Martinus')\n",
    "    \n",
    "def MM1():\n",
    "    print('Marius og Martinus')\n",
    "    return(None)"
   ]
  },
  {
   "cell_type": "code",
   "execution_count": null,
   "metadata": {
    "colab": {},
    "colab_type": "code",
    "id": "IAzL-BQGBkij"
   },
   "outputs": [],
   "source": [
    "# Se på verdi av den første\n",
    "\n",
    "MM()"
   ]
  },
  {
   "cell_type": "code",
   "execution_count": null,
   "metadata": {
    "colab": {},
    "colab_type": "code",
    "id": "HZReYgu7Bkio"
   },
   "outputs": [],
   "source": [
    "# Se på verdi av den andre\n",
    "\n",
    "MM1()"
   ]
  },
  {
   "cell_type": "markdown",
   "metadata": {
    "colab_type": "text",
    "id": "qj4ry0XpBkix"
   },
   "source": [
    "Utskrift av funksjonen etter vi kallte dem avslører en **Ingen** er standard retursetning:"
   ]
  },
  {
   "cell_type": "code",
   "execution_count": null,
   "metadata": {
    "colab": {},
    "colab_type": "code",
    "id": "fTCfJitVBkiz"
   },
   "outputs": [],
   "source": [
    "# Se hva funskjoner gi tilbakee\n",
    "\n",
    "print(MJ())\n",
    "print(MJ1())"
   ]
  },
  {
   "cell_type": "markdown",
   "metadata": {
    "colab_type": "text",
    "id": "Vzb__VsQBki3"
   },
   "source": [
    "Lag en funksjon <code>con</code> som setter sammen to strenger ved å bruke addisjonsoperasjonen:"
   ]
  },
  {
   "cell_type": "code",
   "execution_count": null,
   "metadata": {
    "colab": {},
    "colab_type": "code",
    "id": "dLHhhualBki4"
   },
   "outputs": [],
   "source": [
    "# Definer en funksjon for å legge sammen strenger\n",
    "\n",
    "def con(a, b):\n",
    "    return(a + b)"
   ]
  },
  {
   "cell_type": "code",
   "execution_count": null,
   "metadata": {
    "colab": {},
    "colab_type": "code",
    "id": "dXxHnmOJBki9"
   },
   "outputs": [],
   "source": [
    "# Test on the con() function\n",
    "\n",
    "con(\"This \", \"is\")"
   ]
  },
  {
   "cell_type": "markdown",
   "metadata": {
    "colab_type": "text",
    "id": "mGJMJOW7BkjB"
   },
   "source": [
    "<hr/>\n",
    "    <div class=\"alert alert-success alertsuccess\" style=\"margin-top: 20px\">\n",
    "        <h4> [Tips] Hvordan lærer jeg mer om de forhåndsdefinerte funksjonene i Python? </h4>\n",
    "        <p>Vi vil introdusere en rekke forhåndsdefinerte funksjoner for deg mens du lærer mer om Python. Det er bare for mange funksjoner, så det er ingen måte vi kan lære dem alle på én gang. Men hvis du vil ta en rask titt, her er et kort referansekort for noen av de ofte brukte forhåndsdefinerte funksjonene: <a href=\"http://www.astro.up.pt/~sousasag/Python_For_Astronomers/Python_qr.pdf\">referanse</a></p>\n",
    "    </div>\n",
    "<hr/>"
   ]
  },
  {
   "cell_type": "markdown",
   "metadata": {
    "colab_type": "text",
    "id": "FBl4ouIXBkjC"
   },
   "source": [
    "<h3 id=\"simple\">Funksjoner forenkler alt</h3>"
   ]
  },
  {
   "cell_type": "markdown",
   "metadata": {
    "colab_type": "text",
    "id": "tRB89n7uBkjD"
   },
   "source": [
    "Tenk på de to linjer av kode i <b>Blokk 1</b> og <b>Blokk 2</b>: prosedyren for hver blokk er identisk. Det eneste som er annerledes er variabelnavnene og -verdiene."
   ]
  },
  {
   "cell_type": "markdown",
   "metadata": {
    "colab_type": "text",
    "id": "HpBSVlPwBkjD"
   },
   "source": [
    "<h4>Blokk 1:</h4>"
   ]
  },
  {
   "cell_type": "code",
   "execution_count": null,
   "metadata": {
    "colab": {},
    "colab_type": "code",
    "id": "hKYOE48GBkjE"
   },
   "outputs": [],
   "source": [
    "# a og b beregning blokk1\n",
    "\n",
    "a1 = 4\n",
    "b1 = 5\n",
    "c1 = a1 + b1 + 2 * a1 * b1 - 1\n",
    "if(c1 < 0):\n",
    "    c1 = 0 \n",
    "else:\n",
    "    c1 = 5\n",
    "c1   "
   ]
  },
  {
   "cell_type": "markdown",
   "metadata": {
    "colab_type": "text",
    "id": "O7-9Wu0dBkjI"
   },
   "source": [
    "<h4>Blokk 2:</h4>"
   ]
  },
  {
   "cell_type": "code",
   "execution_count": null,
   "metadata": {
    "colab": {},
    "colab_type": "code",
    "id": "7_dMUfK1BkjM"
   },
   "outputs": [],
   "source": [
    "# a og b beregning blokk2\n",
    "\n",
    "a2 = 0\n",
    "b2 = 0\n",
    "c2 = a2 + b2 + 2 * a2 * b2 - 1\n",
    "if(c2 < 0):\n",
    "    c2 = 0 \n",
    "else:\n",
    "    c2 = 5\n",
    "c2   "
   ]
  },
  {
   "cell_type": "markdown",
   "metadata": {
    "colab_type": "text",
    "id": "ZZRkulV-BkjT"
   },
   "source": [
    "Vi kan erstatte kodelinjene med en funksjon. En funksjon kombinerer mange instruksjoner til en enkelt kodelinje. Når en funksjon er definert, kan den brukes flere ganger hvis du aktiverer den samme funksjonen igjen i programmet ditt. Du kan lagre funksjonen din og bruke den i et annet program eller bruke en annens funksjon. Kodelinjene i kode <b>Blokk 1</b> og kode <b>Blokk 2</b> kan erstattes av følgende funksjon:"
   ]
  },
  {
   "cell_type": "code",
   "execution_count": null,
   "metadata": {
    "colab": {},
    "colab_type": "code",
    "id": "3cH6KDN3BkjU"
   },
   "outputs": [],
   "source": [
    "# Lag en funskjon for beregninger over\n",
    "\n",
    "def Equation(a,b):\n",
    "    c = a + b + 2 * a * b - 1\n",
    "    if(c < 0):\n",
    "        c = 0 \n",
    "    else:\n",
    "        c = 5\n",
    "    return(c) "
   ]
  },
  {
   "cell_type": "markdown",
   "metadata": {
    "colab_type": "text",
    "id": "o6veKZ3GBkjX"
   },
   "source": [
    "Denne funksjonen tar to variabler, a og b, og bruker deretter flere operasjoner for å returnere c.\n",
    "Vi definerer funksjonen, erstatter instruksjonene med funksjonen og legger inn de nye verdiene for <code>a1</code>, <code>b1</code> og <code>a2</code>, <code>b2 </code> som innganger. Hele prosessen er vist i figuren:"
   ]
  },
  {
   "cell_type": "markdown",
   "metadata": {
    "colab_type": "text",
    "id": "CcLFX0i3BkjY"
   },
   "source": [
    "<img src=\"https://s3-api.us-geo.objectstorage.softlayer.net/cf-courses-data/CognitiveClass/PY0101EN/Chapter%203/Images/FuncsPros.gif\" width=\"850\" />"
   ]
  },
  {
   "cell_type": "markdown",
   "metadata": {
    "colab_type": "text",
    "id": "LThCSV8jBkjZ"
   },
   "source": [
    "Kode **Blokk 1** og **Blokk 2** kan nå erstattes med kode **Blokk 3** og kode **Blokk 4**."
   ]
  },
  {
   "cell_type": "markdown",
   "metadata": {
    "colab_type": "text",
    "id": "ID50PuocBkja"
   },
   "source": [
    "<h4>Blokk 3:</h4>"
   ]
  },
  {
   "cell_type": "code",
   "execution_count": null,
   "metadata": {
    "colab": {},
    "colab_type": "code",
    "id": "ZjShBDHmBkjb"
   },
   "outputs": [],
   "source": [
    "a1 = 4\n",
    "b1 = 5\n",
    "c1 = Equation(a1, b1)\n",
    "c1"
   ]
  },
  {
   "cell_type": "markdown",
   "metadata": {
    "colab_type": "text",
    "id": "5JsWpy-RBkjf"
   },
   "source": [
    "<h4>Blokk 4:</h4>"
   ]
  },
  {
   "cell_type": "code",
   "execution_count": null,
   "metadata": {
    "colab": {},
    "colab_type": "code",
    "id": "PI66ClgCBkjg"
   },
   "outputs": [],
   "source": [
    "a2 = 0\n",
    "b2 = 0\n",
    "c2 = Equation(a2, b2)\n",
    "c2"
   ]
  },
  {
   "cell_type": "markdown",
   "metadata": {
    "colab_type": "text",
    "id": "dyu-AYtwBkjn"
   },
   "source": [
    "<hr>"
   ]
  },
  {
   "cell_type": "markdown",
   "metadata": {
    "colab_type": "text",
    "id": "EJ8o7Wh-Bkjn"
   },
   "source": [
    "<h2 id=\"pre\">Forhåndsdefinerte funksjoner</h2>"
   ]
  },
  {
   "cell_type": "markdown",
   "metadata": {
    "colab_type": "text",
    "id": "OFjJCVcqBkjp"
   },
   "source": [
    "Det er mange forhåndsdefinerte funksjoner i Python, så la oss starte med de enkle."
   ]
  },
  {
   "cell_type": "markdown",
   "metadata": {
    "colab_type": "text",
    "id": "66pCipCDBkjr"
   },
   "source": [
    "<code>print()</code> funksjon:"
   ]
  },
  {
   "cell_type": "code",
   "execution_count": null,
   "metadata": {
    "colab": {},
    "colab_type": "code",
    "id": "0fkEmcc6Bkjs"
   },
   "outputs": [],
   "source": [
    "# forhåndsbyggd funskjon print()\n",
    "\n",
    "album_ratings = [10.0, 8.5, 9.5, 7.0, 7.0, 9.5, 9.0, 9.5] \n",
    "print(album_ratings)"
   ]
  },
  {
   "cell_type": "markdown",
   "metadata": {
    "colab_type": "text",
    "id": "GJWKu-4OBkjw"
   },
   "source": [
    "Funksjonen <code>sum()</code> legger til alle elementene i en liste eller tuppel:"
   ]
  },
  {
   "cell_type": "code",
   "execution_count": null,
   "metadata": {
    "colab": {},
    "colab_type": "code",
    "id": "fi5e49_zBkjz"
   },
   "outputs": [],
   "source": [
    "# Bruk sum() for å legge sammen hver elemet i en liste eller tuppel \n",
    "\n",
    "sum(album_ratings)"
   ]
  },
  {
   "cell_type": "markdown",
   "metadata": {
    "colab_type": "text",
    "id": "-fVSw7ceBkj5"
   },
   "source": [
    "<code>len()</code>-funksjonen returnerer lengden på en liste eller tuppel:"
   ]
  },
  {
   "cell_type": "code",
   "execution_count": null,
   "metadata": {
    "colab": {},
    "colab_type": "code",
    "id": "9UQoS3FIBkj7"
   },
   "outputs": [],
   "source": [
    "# Vis lengden av en liste eller tuppel\n",
    "\n",
    "len(album_ratings)"
   ]
  },
  {
   "cell_type": "markdown",
   "metadata": {
    "colab_type": "text",
    "id": "qla7mbbJBkkD"
   },
   "source": [
    "<h2 id=\"if\">Bruke <code>if</code>/<code>else</code>-setninger og løkker i funksjoner\n",
    "</h2>"
   ]
  },
  {
   "cell_type": "markdown",
   "metadata": {
    "colab_type": "text",
    "id": "xK1godWmBkkF"
   },
   "source": [
    "<code>return()</code> funksjonen er veldig nyttig hvis du har noen <code>if</code>-setnin i funksjonen og du vil at det funksjonen gir tilbake henger av på noen betingelse: "
   ]
  },
  {
   "cell_type": "code",
   "execution_count": null,
   "metadata": {
    "colab": {},
    "colab_type": "code",
    "id": "to7_8dCVBkkG"
   },
   "outputs": [],
   "source": [
    "# Funskjon eksempel\n",
    "\n",
    "def type_of_album(artist, album, year_released):\n",
    "    \n",
    "    print(artist, album, year_released)\n",
    "    if year_released > 1980:\n",
    "        return \"modern\"\n",
    "    else:\n",
    "        return \"gammel\"\n",
    "    \n",
    "x = type_of_album(\"Michael Jackson\", \"Thriller\", 1980)\n",
    "print(x)"
   ]
  },
  {
   "cell_type": "markdown",
   "metadata": {
    "colab_type": "text",
    "id": "OJ5-hP1aBkkM"
   },
   "source": [
    "Vi kan bruke en løkke i en funskjon. For eksempel, <code>print</code> kan brukes for å skrive ut hver eleemtn i en liste:"
   ]
  },
  {
   "cell_type": "code",
   "execution_count": null,
   "metadata": {
    "colab": {},
    "colab_type": "code",
    "id": "P0LXMTXXBkkO"
   },
   "outputs": [],
   "source": [
    "# Skriv ut listen ved bruk av en løkke\n",
    "\n",
    "def PrintList(liste):\n",
    "    for element in liste:\n",
    "        print(element)"
   ]
  },
  {
   "cell_type": "code",
   "execution_count": null,
   "metadata": {
    "colab": {},
    "colab_type": "code",
    "id": "5gt5VehvBkkX"
   },
   "outputs": [],
   "source": [
    "# Vi bruker nå printlist funksjonen\n",
    "\n",
    "PrintList(['1', 1, 'the man', \"abc\"])"
   ]
  },
  {
   "cell_type": "markdown",
   "metadata": {
    "colab_type": "text",
    "id": "Au_MbR7FBkkb"
   },
   "source": [
    "<hr>"
   ]
  },
  {
   "cell_type": "markdown",
   "metadata": {
    "colab_type": "text",
    "id": "9mQJutb-Bkkb"
   },
   "source": [
    "<h2 id=\"default\">Angi standard argumentverdier i dine egendefinerte funksjoner</h2>"
   ]
  },
  {
   "cell_type": "markdown",
   "metadata": {
    "colab_type": "text",
    "id": "xN8i4604Bkkc"
   },
   "source": [
    "Du kan angi en standardverdi for argumenter i funksjonen din. For eksempel, i funksjonen <code>isGoodRating()</code>, hva om vi ønsket å lage en terskel for det vi anser som en god vurdering? Som standard bør vi kanskje ha en standardvurdering på 4:"
   ]
  },
  {
   "cell_type": "code",
   "execution_count": null,
   "metadata": {
    "colab": {},
    "colab_type": "code",
    "id": "Kr3hL_5SBkkd"
   },
   "outputs": [],
   "source": [
    "# Eksempel hvor vi definerer en standard verdi for en parameter\n",
    "\n",
    "def isGoodRating(rating=4): \n",
    "    if(rating < 7):\n",
    "        print(\"album er ikke noe godt, denne har rating\",rating)\n",
    "        \n",
    "    else:\n",
    "        print(\"album er bra, denne har rating\",rating)\n"
   ]
  },
  {
   "cell_type": "code",
   "execution_count": null,
   "metadata": {
    "colab": {},
    "colab_type": "code",
    "id": "Q7jcxiOGBkkk"
   },
   "outputs": [],
   "source": [
    "# Test verdien med standard verdi og med med inngangsdata\n",
    "\n",
    "isGoodRating()\n",
    "isGoodRating(10)"
   ]
  },
  {
   "cell_type": "markdown",
   "metadata": {
    "colab_type": "text",
    "id": "Y3CXOYBUBkko"
   },
   "source": [
    "<hr>"
   ]
  },
  {
   "cell_type": "markdown",
   "metadata": {
    "colab_type": "text",
    "id": "_YCWEc5CBkko"
   },
   "source": [
    "<h2 id=\"global\">Globale variabler</h2>"
   ]
  },
  {
   "cell_type": "markdown",
   "metadata": {
    "colab_type": "text",
    "id": "QaGv2Fa8Bkkp"
   },
   "source": [
    "Så langt har vi laget variabler innenfor funksjoner, men vi har ikke diskutert variabler utenfor funksjonen. Disse kalles globale variabler.\n",
    "<br>\n",
    "La oss prøve å se hva <code>printer1</code> returnerer:"
   ]
  },
  {
   "cell_type": "code",
   "execution_count": null,
   "metadata": {
    "colab": {},
    "colab_type": "code",
    "id": "8u0tjP7GBkkq"
   },
   "outputs": [],
   "source": [
    "# Eksempel av globale variabler\n",
    "\n",
    "artist = \"YLVIS\"\n",
    "def printer1(artist):\n",
    "    internal_var = artist\n",
    "    print(artist, \"er en kunstner\")\n",
    "    \n",
    "printer1(artist)"
   ]
  },
  {
   "cell_type": "markdown",
   "metadata": {
    "colab_type": "text",
    "id": "Rl1naShfBkkx"
   },
   "source": [
    "Hvis vi skriver ut <code>internal_var</code> få vi en feilmelding. "
   ]
  },
  {
   "cell_type": "markdown",
   "metadata": {
    "colab_type": "text",
    "id": "NXY2fkXBBkkz"
   },
   "source": [
    "<b>Vi fikk en navnefeil: <code>navn 'intern_var' is not defined</code>. Hvorfor?</b>\n",
    "\n",
    "Det er fordi alle variablene vi lager i funksjonen er en <b>lokal variabel</b>, noe som betyr at variabeltilordningen ikke vedvarer utenfor funksjonen.\n",
    "\n",
    "Men det er en måte å lage <b>globale variabler</b> fra en funksjon på som følger:"
   ]
  },
  {
   "cell_type": "code",
   "execution_count": null,
   "metadata": {
    "colab": {},
    "colab_type": "code",
    "id": "7hgz3t0VBkk2"
   },
   "outputs": [],
   "source": [
    "artist = \"YLVIS\"\n",
    "\n",
    "def printer(artist):\n",
    "    global internal_var \n",
    "    internal_var= \"Knutsen og Ludvigsen\"\n",
    "    print(artist,\"er en kunstner\")\n",
    "\n",
    "printer(artist) \n",
    "printer(internal_var)"
   ]
  },
  {
   "cell_type": "markdown",
   "metadata": {
    "colab_type": "text",
    "id": "MVw4d8QrBkk8"
   },
   "source": [
    "<h2 id=\"scope\">\n",
    "Omfanget av en variabel</h2>"
   ]
  },
  {
   "cell_type": "markdown",
   "metadata": {
    "colab_type": "text",
    "id": "Drb8bMZIBkk9"
   },
   "source": [
    "Omfanget til en variabel er den delen av programmet der den variabelen er tilgjengelig. Variabler som er deklarert utenfor alle funksjonsdefinisjoner, for eksempel <code>myFavouriteBand</code>-variabelen i koden vist her, er tilgjengelig fra hvor som helst i programmet. Som et resultat sies slike variabler å ha globalt omfang, og er kjent som globale variabler.\n",
    "    <code>myFavouriteBand</code> er en global variabel, så den er tilgjengelig fra <code>getBandRating</code>-funksjonen, og vi kan bruke den til å bestemme et bånds vurdering. Vi kan også bruke den utenfor funksjonen, for eksempel når vi sender den til utskriftsfunksjonen for å vise den:"
   ]
  },
  {
   "cell_type": "code",
   "execution_count": null,
   "metadata": {
    "colab": {},
    "colab_type": "code",
    "id": "cmcJ_t2QBkk_"
   },
   "outputs": [],
   "source": [
    "# Eksempel av globale variabler\n",
    "\n",
    "myFavouriteBand = \"AC/DC\"\n",
    "\n",
    "def getBandRating(bandname):\n",
    "    if bandname == myFavouriteBand:\n",
    "        return 10.0\n",
    "    else:\n",
    "        return 0.0\n",
    "\n",
    "print(\"AC/DC's vurdering er :\", getBandRating(\"AC/DC\"))\n",
    "print(\"Deep Purple's vurdering er:\",getBandRating(\"Deep Purple\"))\n",
    "print(\"Mine favoritt band er:\", myFavouriteBand)"
   ]
  },
  {
   "cell_type": "markdown",
   "metadata": {
    "colab_type": "text",
    "id": "gjKC4jWLBklE"
   },
   "source": [
    "Ta en titt på denne modifiserte versjonen av koden vår. Nå er <code>myFavouriteBand</code>-variabelen definert i <code>getBandRating</code>-funksjonen. En variabel som er definert i en funksjon sies å være en lokal variabel for den funksjonen. Det betyr at den kun er tilgjengelig fra funksjonen den er definert i. Vår <code>getBandRating</code>-funksjon vil fortsatt fungere, fordi <code>myFavouriteBand</code> fortsatt er definert i funksjonen. Vi kan imidlertid ikke lenger skrive ut <code>myFavouriteBand</code> utenfor funksjonen vår, fordi det er en lokal variabel i <code>getBandRating</code>-funksjonen vår; den er bare definert i <code>getBandRating</code>-funksjonen:\n"
   ]
  },
  {
   "cell_type": "code",
   "execution_count": null,
   "metadata": {
    "colab": {},
    "colab_type": "code",
    "id": "DQNtHw3VBklF"
   },
   "outputs": [],
   "source": [
    "# Eksempel av en lokal variabel\n",
    "\n",
    "def getBandRating(bandname):\n",
    "    myFavouriteBand = \"AC/DC\"\n",
    "    if bandname == myFavouriteBand:\n",
    "        return 10.0\n",
    "    else:\n",
    "        return 0.0\n",
    "\n",
    "print(\"AC/DC's vurdering er: \", getBandRating(\"AC/DC\"))\n",
    "print(\"Deep Purple's vurdering er: \", getBandRating(\"Deep Purple\"))\n",
    "print(\"Mine favoritt band er\", myFavouriteBand)"
   ]
  },
  {
   "cell_type": "markdown",
   "metadata": {
    "colab_type": "text",
    "id": "wpKqN03PBklK"
   },
   "source": [
    "Til slutt, ta en titt på dette eksemplet. Vi har nå to <code>myFavouriteBand</code>-variabledefinisjoner. Den første av disse har et globalt omfang, og den andre av dem er en lokal variabel innenfor <code>getBandRating</code>-funksjonen. Innenfor <code>getBandRating</code>-funksjonen har den lokale variabelen forrang. **Deep Purple** vil få en vurdering på 10,0 når den sendes til <code>getBandRating</code>-funksjonen. Men utenfor <code>getBandRating</code>-funksjonen er ikke <code>getBandRating</code>s lokale variabel definert, så <code>myFavouriteBand</code>-variabelen vi skriver ut er den globale variabelen, som har verdien **AC/DC**:\n"
   ]
  },
  {
   "cell_type": "code",
   "execution_count": null,
   "metadata": {
    "colab": {},
    "colab_type": "code",
    "id": "H6dn8ExXBklK"
   },
   "outputs": [],
   "source": [
    "# Eksempel av globale og lokale variabler med samme navn\n",
    "\n",
    "myFavouriteBand = \"AC/DC\"\n",
    "\n",
    "def getBandRating(bandname):\n",
    "    myFavouriteBand = \"Deep Purple\"\n",
    "    if bandname == myFavouriteBand:\n",
    "        return 10.0\n",
    "    else:\n",
    "        return 0.0\n",
    "\n",
    "print(\"AC/DC's vurdering er:\",getBandRating(\"AC/DC\"))\n",
    "print(\"Deep Purple's vurdering er: \",getBandRating(\"Deep Purple\"))\n",
    "print(\"Mine favoritt band er:\",myFavouriteBand)"
   ]
  },
  {
   "cell_type": "markdown",
   "metadata": {
    "colab_type": "text",
    "id": "KacFkGVKBklN"
   },
   "source": [
    "<h2>Quiz om funksjoner</h2>"
   ]
  },
  {
   "cell_type": "markdown",
   "metadata": {
    "colab_type": "text",
    "id": "_zNWJBA5BklO"
   },
   "source": [
    "Lag en funksjon som tar imot to argumenter og deler den første argumenten med den andre argument:"
   ]
  },
  {
   "cell_type": "code",
   "execution_count": null,
   "metadata": {
    "colab": {},
    "colab_type": "code",
    "id": "9q4x9tj1BklP"
   },
   "outputs": [],
   "source": [
    "# Skriv din kode under og trykk Shift+Enter for å kjøre"
   ]
  },
  {
   "cell_type": "markdown",
   "metadata": {
    "colab_type": "text",
    "id": "TzOzLFiPBklV"
   },
   "source": [
    "Dobbeltklikk __har__ for løsning.\n",
    "\n",
    "<!-- Din løsnign står under:\n",
    "def div(a, b):\n",
    "    return(a/b)\n",
    "-->"
   ]
  },
  {
   "cell_type": "markdown",
   "metadata": {
    "colab_type": "text",
    "id": "BO2gkdFkBklW"
   },
   "source": [
    "<hr>"
   ]
  },
  {
   "cell_type": "markdown",
   "metadata": {
    "colab_type": "text",
    "id": "t7ENMFw4BklX"
   },
   "source": [
    "Bruk funksjonen <code>con</code> vi har laget for å legge sammen strenger i følgende oppgave:"
   ]
  },
  {
   "cell_type": "code",
   "execution_count": null,
   "metadata": {
    "colab": {},
    "colab_type": "code",
    "id": "3_yLLAVhBklY"
   },
   "outputs": [],
   "source": [
    "# Bruk con funksjonen for å svare på følgende spørsmål\n",
    "\n",
    "def con(a, b):\n",
    "    return(a + b)"
   ]
  },
  {
   "cell_type": "markdown",
   "metadata": {
    "colab_type": "text",
    "id": "ZczVDnwBBklj"
   },
   "source": [
    "Kan <code>con</code> funskjonen brukes til å legge sammen en integer (et heltall) med strenger?"
   ]
  },
  {
   "cell_type": "code",
   "execution_count": null,
   "metadata": {
    "colab": {},
    "colab_type": "code",
    "id": "OC6kRbduBklk"
   },
   "outputs": [],
   "source": [
    "# Skriv din kode under og trykk Shift+Enter for å kjøre"
   ]
  },
  {
   "cell_type": "markdown",
   "metadata": {
    "colab_type": "text",
    "id": "Nz5ae3DBBklr"
   },
   "source": [
    "Dobbeltklikk __har__ for løsning.\n",
    "\n",
    "<!-- Din løsnign står under:\n",
    "Ja, for eksempel: \n",
    "con(2, 2)\n",
    " -->"
   ]
  },
  {
   "cell_type": "markdown",
   "metadata": {
    "colab_type": "text",
    "id": "87XYvXOHBkls"
   },
   "source": [
    "<hr>"
   ]
  },
  {
   "cell_type": "markdown",
   "metadata": {
    "colab_type": "text",
    "id": "55D3i2JYBklt"
   },
   "source": [
    "Kan <code>con</code> funksjonen brukes til å legge sammen en liste eller en tuple?"
   ]
  },
  {
   "cell_type": "code",
   "execution_count": null,
   "metadata": {
    "colab": {},
    "colab_type": "code",
    "id": "-rpC4eaSBklt"
   },
   "outputs": [],
   "source": [
    "# Skriv din kode under og trykk Shift+Enter for å kjøre"
   ]
  },
  {
   "cell_type": "markdown",
   "metadata": {
    "colab_type": "text",
    "id": "kxxT1sWdBkl5"
   },
   "source": [
    "Dobbeltklikk __har__ for løsning.\n",
    "\n",
    "<!-- Din løsnign står under:\n",
    "ja, for eksempel: \n",
    "con(['a', 1], ['b', 1])\n",
    "-->"
   ]
  },
  {
   "cell_type": "markdown",
   "metadata": {
    "colab_type": "text",
    "id": "0JAc8ibuBkl9"
   },
   "source": [
    "<hr>"
   ]
  }
 ],
 "metadata": {
  "colab": {
   "name": "PY0101EN-3-3-Functions.ipynb",
   "provenance": []
  },
  "kernelspec": {
   "display_name": "Python 3",
   "language": "python",
   "name": "python3"
  },
  "language_info": {
   "codemirror_mode": {
    "name": "ipython",
    "version": 3
   },
   "file_extension": ".py",
   "mimetype": "text/x-python",
   "name": "python",
   "nbconvert_exporter": "python",
   "pygments_lexer": "ipython3",
   "version": "3.7.4"
  }
 },
 "nbformat": 4,
 "nbformat_minor": 4
}
