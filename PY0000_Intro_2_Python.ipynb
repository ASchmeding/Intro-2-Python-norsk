{
 "cells": [
  {
   "cell_type": "markdown",
   "metadata": {},
   "source": [
    "<!-- dom:TITLE: Introduksjon til Python og Jupyternotater   -->\n",
    "# Introduksjon til Python og Jupyternotater\n",
    "<!-- dom:AUTHOR: A. Schmeding -->\n",
    "<!-- Author: -->  \n",
    "\n",
    "# Innledning\n",
    "\n",
    "I dette notatet er det en kort introduksjon til noen grunnleggende funksjoner i Python. For å kjøre kan vi enten bruker nettprogramvare som Google CoLabs, Binder eller programvare som installeres på datamaskinen deres. Grunnet til det er at datamaskinen trenger noe som kan tolke Python programmeringsspråket. \n",
    "\n",
    "Det fins en god programvare helt kostnadsfritt på nett som heter **Anaconda**. \n",
    "Det lastes ned her:\n",
    "\n",
    "\n",
    "<a href=\"https://www.anaconda.com/products/individual\">Anaconda download page</a>\n",
    "\n",
    "\n",
    "\n",
    "# Hvordan bruker man JuPyter notater?\n",
    "\n",
    "Et JuPyter notat består av celler. Disse kan enten ha tekst (som du leser nå), eller kode (som vist under i neste celle). Så fort du har kopiert notatet over til ditt eget domene, er du fri til å endre både tekst og kode. Du kan gjerne eksperimentere med koden. Du kan også lage nye celler, med egne notater eller egen kode. Det er ikke mulig å ødelegge noe. Hvis notatene er i stykker, bare ta en ny kopi og begynn på nytt!\n",
    "\n",
    "Etter du har åpnet ditt første notat, anbefaler vi at du gjøre deg kjent med den JuPyter miljø.  \n",
    "Se på «tool meny» og sjekk ut hva er opsjoner. Det fins mange snarveier på tastatur (se på «Help -> Keyboard Shortcuts»), de gjør livet enklere hvis du vet om de.\n",
    "\n",
    "Vi begynner nå: Innunder finner du et kort eksempel på en celle med kode. Hvis du trykker **shift+enter** eller bruk `Run` fra menyen kjører den.\n",
    "\n",
    "Først og fremst kan vi bruke Python som en kalkulator:"
   ]
  },
  {
   "cell_type": "code",
   "execution_count": null,
   "metadata": {},
   "outputs": [],
   "source": [
    "a = 1\n",
    "b = 2\n",
    "c = a+b\n",
    "print(c)"
   ]
  },
  {
   "cell_type": "markdown",
   "metadata": {},
   "source": [
    "Vi trenger her funksjonen <code>print</code> (som er en innebygd Python funksjon og derfor markeres med grønn tekst)for å vise det vi har beregnet på skjermen.\n",
    "\n",
    "Når du har kjørt en celle med kode er dataene bevart og kan brukes igjen. Vi viser det nå:"
   ]
  },
  {
   "cell_type": "code",
   "execution_count": null,
   "metadata": {},
   "outputs": [],
   "source": [
    "print('Merk at verdien til a og b er definert i siste celle ')\n",
    "print('men vi kan skrive den ut i den nye cellen', a, b)"
   ]
  },
  {
   "cell_type": "markdown",
   "metadata": {},
   "source": [
    "Vi kan bruke Jupyternotater som kalkulator. Prøv følgende beregninger"
   ]
  },
  {
   "cell_type": "code",
   "execution_count": null,
   "metadata": {},
   "outputs": [],
   "source": [
    "print(\"Addisjon av 5 og 3:\", 5+3, \"Subtraksjon av 5 og 3:\", 5-3)\n",
    "print(\"Multiplikasjon av 5 og 3:\",5*3, \"Potens av 5 og 3:\", 5**3)\n",
    "print(\"Divisjon av 5 og 3:\", 5/3)"
   ]
  },
  {
   "cell_type": "markdown",
   "metadata": {},
   "source": [
    "Merk at Python bruker to stjerner som symbol for potens!\n",
    "\n",
    "Siste utregning gir oss et kommatall istedet av et heltall. Python bruker punktum og ikke komma for å skille desimaler. Vi kan legge inn kommatall selv ved bruk av punktum:"
   ]
  },
  {
   "cell_type": "code",
   "execution_count": null,
   "metadata": {},
   "outputs": [],
   "source": [
    "d = 41.0                      \n",
    "d = d+1         #MERK: Likhetshetgn er ikke det samme som vi bruker vanligvis i matematikk\n",
    "                # i matematikk ville d = d+1 bety at 0 = 1 (tull), men i programmering\n",
    "                # betyr likhetstegn det som står på venstre setter vi som det \n",
    "                # som står på høyre\n",
    "print('Verdi av d: ', d)   "
   ]
  },
  {
   "cell_type": "markdown",
   "metadata": {},
   "source": [
    "Merk at Python skriver resultatet av beregning fortsatt med punktum som et kommatall. Vi som mennesker er vant å forkorte det og ville vanligvis bare skrive $42$ i stedet. Python gjør det ikke fordi den husker at variabelen ble lagd ut som et kommatall (<code>float</code> på engelsk).\n",
    "Vi skal se på betydning av dette senere i JuPyter notat om typene i Python."
   ]
  },
  {
   "cell_type": "markdown",
   "metadata": {},
   "source": [
    "### Oppgave\n",
    "Hva tror du er resultatet av følgende kode blir?\n",
    "Tipp: Det enkleste er ofte å forklare linje for linje hva skjer. "
   ]
  },
  {
   "cell_type": "code",
   "execution_count": null,
   "metadata": {},
   "outputs": [],
   "source": [
    "a = 2                  \n",
    "a = a+1\n",
    "\n",
    "b =2*a                 \n",
    "print(b)"
   ]
  },
  {
   "cell_type": "markdown",
   "metadata": {},
   "source": [
    "Hva er resultatet av følgende kode?"
   ]
  },
  {
   "cell_type": "code",
   "execution_count": null,
   "metadata": {},
   "outputs": [],
   "source": [
    "cos(pi)               #Python utregner Kosinus av Pi =3.1415...\n",
    "exp(1)                #Python utregner e^1   "
   ]
  },
  {
   "cell_type": "markdown",
   "metadata": {},
   "source": [
    "Noe gikk galt med siste cellen, vi har fått en feil. Merk at Python prøver å forklare hva problemet er. Som du kan se, sier det:\n",
    "\n",
    "**NameError: name 'cos' is not defined**\n",
    "\n",
    "Problemet er at Python vet ingenting om cosinus eller eksponential! Disse funksjoner er byggd inn i de fleste kalkulatorer, men man må *forklare* eller laste de inn for Python. Vi skal lære om dette nå.\n",
    "\n",
    "Vi skal nå se hvordan vi kan laste inn de vanlige funksjoner vi trenger i matematikk inn i Python. \n",
    "\n",
    "## Biblioteker i Python:\n",
    "\n",
    "Hvis vi programmerer i matematikk, vil vi ofte beregne noe. Disse beregninger krever stort sett følgende ting for å komme frem med arbeidet: \n",
    "\n",
    "* Funksjoner \n",
    "* Løkker, særlig for-løkker.  \n",
    "* Visualisering av resultater.\n",
    "\n",
    "Vi skal vise frem noen eksempler av funksjoner osv. som kan lastes inn ved å hente inn noen programbiblioteker. Python medfører disse, men vi må forklare til JuPyter at vi ønsker å bruke dem). Løkker er en grunnleggende funksjon hvert programmeringsspråk støtter. Vi skal også gi et eksempel her, men peker for forklaringer til JuPyter notat om løkker som ligges inn i grunnleggende materialet. Det vil si om du alrede kan programmere kan du se nede hvordan man skriver løkker i Python, om du ikke vet hva en løkke er, anbefaler vi å vente til vi gå gjennom det i grunnkurs om programmering.\n",
    "\n",
    "I dette notatet er det _veldig kort_ forklart hvordan disse brukes. \n",
    "\n",
    "Vi trenger tre moduler:   \n",
    "* [math:](https://docs.python.org/3/library/math.html) medfører grunnleggende matematiske funksjoner, som f.eks. cos, sin, log.\n",
    "* [Numpy:](http://www.numpy.org) Mer avansert men utrolig nyttig, har også de vanlige matematiske funksjoner men også arrays (dvs. matriser og vektorer). \n",
    "* [Matplotlib:](https://matplotlib.org) Hjelper med å lage grafer og figurer.  \n",
    "\n",
    "De moduler eller biblioteker er samlinger av ferdig laget funksjoner osv. vi kan bruke i våre JuPyter notater. Det anbefales å laste inn biblioteket i første cellen i et notat om vi vet at vi har behov for det.\n",
    "\n",
    "Python har sin egen innbygd kommando for å laste inn et programbibliotek. Det heter <code>import</code> og vi viser den nå:"
   ]
  },
  {
   "cell_type": "code",
   "execution_count": null,
   "metadata": {},
   "outputs": [],
   "source": [
    "import math                        #Last inn math bibliotek\n",
    "\n",
    "print(math.cos(math.pi))           #Beregner cosinus av Pi og viser den   "
   ]
  },
  {
   "cell_type": "markdown",
   "metadata": {},
   "source": [
    "Hva har skjedd nå? Vi har importert math modulen og derfor vet Python nå om cosinus, men det er ikke mulig enda å skrive bare 'cos' for å bruke cosinus funksjon. Vi har skrevet 'math.cos' fordi cosinus er medlem i math modulen (og den prefix 'math.' forklarer til Python hvor den kunne finne funksjon cosinus). Det samme gjelder for PI = 3.1415... som er en konstant definert i math modulen.\n",
    "\n",
    "Det er veldig slitsom om vi må skrive math.*** hver gang vi ville bruke funksjoner. Det fins muligheter å unngå det hvis man bruker en annen kommando for importering av modulen."
   ]
  },
  {
   "cell_type": "code",
   "execution_count": null,
   "metadata": {},
   "outputs": [],
   "source": [
    "from math import *  #Importerer math modulen så at man kan bruke cos i stedet av math.cos\n",
    "\n",
    "cos(pi)"
   ]
  },
  {
   "cell_type": "markdown",
   "metadata": {},
   "source": [
    "Hvorfor bruker man de to forskjellige måter for å importere moduler? Problemet er at ulike pakker kunne har funksjoner med samme navn. F.eks. fins det math.cos og også en pakke som kalles 'cmath'-pakke med en funksjon som heter cmath.cos. (<code>cmath</code> implementerer cosinus for komplekse tall og vi skal ikke forklare det og har ikke behov for det). Derfor kan de være lurt å laste inn pakker med kortere navn. Det kan man gjøre på følgende måte:"
   ]
  },
  {
   "cell_type": "code",
   "execution_count": null,
   "metadata": {
    "scrolled": true
   },
   "outputs": [],
   "source": [
    "# Importer modul 'math' men vi skal bruke m.cos i steden av math.cos\n",
    "import math as m\n",
    "m.cos(m.pi)"
   ]
  },
  {
   "cell_type": "markdown",
   "metadata": {},
   "source": [
    "Selvfølgelig kan vi bruke alle ord som ikke alrede brukes i Python selv som alias for biblioteker som lastes inn. \n",
    "\n",
    "OBS: Python hindrer dere ikke å gjøre alle mulige tull med navnene, prøv å laste inn math biblioteket med følgende kommando:"
   ]
  },
  {
   "cell_type": "code",
   "execution_count": null,
   "metadata": {},
   "outputs": [],
   "source": [
    "import math as print\n",
    "print('OBS: Noe gikk galt!')"
   ]
  },
  {
   "cell_type": "markdown",
   "metadata": {},
   "source": [
    "Vi får en feilmelding siden math biblioteket har overskrevet print funksjonen i Python. Dermed har Python glemt sin egen print funksjon og vi kan ikke får den tilbake ...\n",
    "\n",
    "Jo, selvfølgelig kan vi det, trykk i menyen på topp av side på punkt «Kernel» (man kaller delen av programmet som interpreterer Python kode «Kernel») og velg «Restart» eller «Restart and clear output». I begge tilfelle settes Python tilbake på opprinnelig tilstand og vi kan glemme vår tabbe."
   ]
  },
  {
   "cell_type": "markdown",
   "metadata": {},
   "source": [
    "## Generell kodesnudde for å importerer nødvendige moduler i Python:\n",
    "\n",
    "Vanligvis må vi ikke bry oss om forskellige funksjoner. Så vi bare laster inn alle nødvendige moduler med <code>import</code>. Nødvendige moduler og funksjoner importeres og JuPyter gjøres klar for å vise plott i notatet. Denne cellen skal kjøres før noe annen kode i notatet om du ønsker å bruke kode etter for å fremstille en plot av funksjoner. "
   ]
  },
  {
   "cell_type": "code",
   "execution_count": null,
   "metadata": {},
   "outputs": [],
   "source": [
    "# Importer nødvendige moduler, og sett parametre for plotting. \n",
    "# Dette må alltid kjøres først!\n",
    "%matplotlib inline    \n",
    "from math import *\n",
    "from numpy import *               \n",
    "from matplotlib.pyplot import *   \n",
    "\n",
    "# De neste linjene setter parametre for plotting. \n",
    "# Parameterne her kan gjerne endres [men vi skal ikke gå gjennom dem nå]\n",
    "newparams = {'figure.figsize': (8.0, 4.0), 'axes.grid': True,\n",
    "             'lines.markersize': 8, 'lines.linewidth': 2,\n",
    "             'font.size': 16}\n",
    "rcParams.update(newparams)"
   ]
  },
  {
   "cell_type": "markdown",
   "metadata": {},
   "source": [
    "Vi har lastet inn ikke bare math biblioteket men også Numpy biblioteket og en bibliotek som heter matplotlib.pyplot. Vi skal kort minne om hva de tilføyer:\n",
    "\n",
    "### Numpy: \n",
    "Numpy er en nyttig modul som inneholder mange funskjoner vi trenger for matematikk. Vi skal se nærmere på det når vi trenger det."
   ]
  },
  {
   "cell_type": "markdown",
   "metadata": {},
   "source": [
    "### Matplotlib\n",
    "Matplotlib er modulen som har med masse opsjoner for å tegne grafer eller lignende ved bruk av Python. La oss rett og slett demonstrere enkel bruk av Matplotlib ved hjelp av et eksempel: \n",
    "\n",
    "Plott funksjonene \n",
    "\n",
    "$$ f(x) = x^2 + 2x \\qquad \\text{og} \\qquad g(x) = 2x\\sin(2\\pi x) $$\n",
    "\n",
    "på intervallet $-1 \\leq x \\leq 1$. "
   ]
  },
  {
   "cell_type": "code",
   "execution_count": null,
   "metadata": {},
   "outputs": [],
   "source": [
    "x = linspace(-1, 1, 101)      # Lager 'x-aksen' ved bruk av linspace \n",
    "                              # (linspace funksjonen kommer fra Numpy modul)\n",
    "f = x**2 + 2*x\n",
    "g = 2*x*sin(2*pi*x)\n",
    "plot(x, f, 'r--')             # Plott f, rød stiplet kurve\n",
    "plot(x, g, 'b-')              # Plott g, blå heltrukken kurve \n",
    "xlabel('x')\n",
    "ylabel('y')\n",
    "title('Plott av funksjonene f og g')\n",
    "legend(['f(x)', 'g(x)']);"
   ]
  },
  {
   "cell_type": "markdown",
   "metadata": {},
   "source": [
    "Det brukte nå mye uforklart kode for å lage et plott av to funksjoner. Vi måtte importere programbiblioteker osv. for å komme i mål. Det viser alrede en ulempe med Python og programmering generelt: Det er et veldig mektig verktøy som kan brukes nesten for alt.\n",
    "Dessverre er det også vanskeligere å bruke for å lage grafer til funksjoner enn, for eksempel, programvare som Geogebra som er kostnadsfritt, populær i skolen og mye enklere å bruke hvis man ville bare lage et plott av funksjoner.\n",
    "\n",
    "Derfor vil vi minne om å vurdere for hvilke oppgaver man ville bruke programmering og Python (eller JuPyter notater). Det kan være mer hensiktsmessig å bruke andre programvare som Geogebra og Excel for oppgaver i matematikk for hvilke disse programvarer er bedre tilegnet."
   ]
  },
  {
   "cell_type": "markdown",
   "metadata": {},
   "source": [
    "### Hvor finner jeg hjelp?\n",
    "\n",
    "\n",
    "* Ta en titt på meny-linja in Jupyter, se om du finner det du trenger der. \n",
    "* Problemer kan ofte løses ved en nett søke. Om du ikke forstå hva en feilmelding betyr eller hvordan man bruker en funksjon tast inn et spørsmål (engelsk funker vanligvis bedre) i en søkemotor og let etter hjelp på nett. Det er veldig sannsynlig at noen hadde problemet før deg.\n",
    "* For hjelp for en python-funksjon, skriv <code>?funksjonsnavn</code>."
   ]
  },
  {
   "cell_type": "code",
   "execution_count": null,
   "metadata": {},
   "outputs": [],
   "source": [
    "?print"
   ]
  },
  {
   "cell_type": "markdown",
   "metadata": {},
   "source": [
    "## Veien videre\n",
    "\n",
    "I resten av dette notatet skal vi se på noen muligheter i Python og JuPyter som er mer avansert. Så hvis du alrede kan programmere i et annet språk enn Python, ta en titt for å se hvordan man lager løkker, funksjoner osv. i Python.\n",
    "\n",
    "For alle som ønsker å få en introduksjon til programmering anbefaler vi å slutte nå og fortsette med JuPyter notater som ligger i mappen \"1-basics\"."
   ]
  },
  {
   "cell_type": "markdown",
   "metadata": {},
   "source": [
    "### Løkker og funksjoner (for de som kan alrede programmere)\n",
    "\n",
    "De følgende kommentar er rettet mot dem som kan alrede programmere. Vi skal forklare konseptene senere i sine egne introduksjoner (i prinsippet kan man også forstå det som skjer her som en oppsummering av det vi skal se på senere) \n",
    "Det finnes ikke noe `end`-type setning i Python. \n",
    "Innholdet i funksjoner eller kontrollstrukturer markeres med innrykk. Når innrykket er avsluttet, er funksjonen eller kontrollstrukturen avsluttet.\n",
    "\n",
    "Nedenfor er for-løkker og funksjoner demonstrert med små eksempler. \n",
    "\n",
    "### for-løkker\n",
    "En celle med ei  `for`-løkke kan f.eks. se slik ut: "
   ]
  },
  {
   "cell_type": "code",
   "execution_count": null,
   "metadata": {},
   "outputs": [],
   "source": [
    "x = array([1.3, 4.6, 2.1, -5.8])\n",
    "n = len(x)                                             #Lengden av array x.\n",
    "print('n = ', n, '\\n')\n",
    "for i in range(n):\n",
    "    print('i = ', i, ', x = ', x[i])\n",
    "print('\\n Og dette avslutter løkka')"
   ]
  },
  {
   "cell_type": "markdown",
   "metadata": {},
   "source": [
    "Legg merke til at konstruksjonen `for i in range(n)` tilsvarer $i=0,1,\\dotsc,n-1$.\n",
    "\n",
    "Utskriften i siste løkke kan også skrives ut penere ved bruk av `.format` kommandoen: "
   ]
  },
  {
   "cell_type": "code",
   "execution_count": null,
   "metadata": {},
   "outputs": [],
   "source": [
    "print('n = ', n, '\\n')\n",
    "for i in range(n):\n",
    "    print('i = {:2d}, x = {:6.2f}'.format(i, x[i]))    # Formattert utskrift\n",
    "print('\\nOg dette avslutter løkka')"
   ]
  },
  {
   "cell_type": "markdown",
   "metadata": {},
   "source": [
    "### while-løkker\n",
    "Python har også kommandoer for `while`-løkker. Neste løkke trykker ut naturlig tall mindre en $6$."
   ]
  },
  {
   "cell_type": "code",
   "execution_count": null,
   "metadata": {},
   "outputs": [],
   "source": [
    "k = 1\n",
    "while k < 6:        #Betingelsen avsluttes med colon\n",
    "  print(k) \n",
    "  k += 1            #Snarvei for kommandoen k = k+1"
   ]
  },
  {
   "cell_type": "markdown",
   "metadata": {},
   "source": [
    "### Funksjoner\n",
    "Dere kan også bygge funksjoner i Python. Vi viser hvordan man gjør dette i en eksemple.\n",
    "\n",
    "Kast en ball opp i lufta. Ignorer luftmotstand. Hvis utgangshastigheten er $v_0$ så vil ballens høyde og hastighet være gitt ved\n",
    "\n",
    "\\begin{align}\n",
    "    y(t) &= v_0t - \\frac{1}{2} g t^2 && \\text{høyde} \\\\\n",
    "    v(t) &= v_0 - gt && \\text{hastighet}\n",
    "\\end{align}\n",
    "\n",
    "hvor $g$ er gravitasjonskonstanten. I Python kan denne funksjonen skrives som:"
   ]
  },
  {
   "cell_type": "code",
   "execution_count": null,
   "metadata": {},
   "outputs": [],
   "source": [
    "def ball(t, v0=0, g=9.81):\n",
    "    y = v0*t - 0.5*g*t**2\n",
    "    v = v0 - g*t\n",
    "    return y, v"
   ]
  },
  {
   "cell_type": "markdown",
   "metadata": {},
   "source": [
    "Hvor $v_0$ og $g$ er satt som standardverdier (defaults). \n",
    "\n",
    "Her følger noen eksempler for bruk av denne funksjonen: \n",
    "\n",
    "Hva er hastighet og posisjon etter 2 sekunder, når utgangshastigheten er 0?"
   ]
  },
  {
   "cell_type": "code",
   "execution_count": null,
   "metadata": {},
   "outputs": [],
   "source": [
    "t = 2.0\n",
    "y1, v1 = ball(t)        # etter 2 sekunder, ingen utgangshastighet\n",
    "print('v0=',0.0,',  t=', t, ',  y=', y1, ',   v=', v1)"
   ]
  },
  {
   "cell_type": "markdown",
   "metadata": {},
   "source": [
    "Hva er hastighet og posisjon etter 2 sekunder, når utgangshastigheten er 1 m/s? "
   ]
  },
  {
   "cell_type": "code",
   "execution_count": null,
   "metadata": {},
   "outputs": [],
   "source": [
    "v_start = 1.0\n",
    "y2, v2 = ball(t, v0=v_start)  # etter 2 sekunder, med v0=1 m/s\n",
    "print('v0=', v_start,',  t=', t, ',  y=', y2, ',   v=', v2)"
   ]
  },
  {
   "cell_type": "markdown",
   "metadata": {},
   "source": [
    "Og hva er hastighet og posisjon etter 2 sekunder, hvis du repeterer siste eksperiment på månen? "
   ]
  },
  {
   "cell_type": "code",
   "execution_count": null,
   "metadata": {},
   "outputs": [],
   "source": [
    "y3, v3 = ball(t, v0=v_start, g=1.625)  \n",
    "print('v0=', 1.0,',  t=', t, ',  y=', y3, ',   v=', v3, '  på månen.')"
   ]
  },
  {
   "cell_type": "markdown",
   "metadata": {},
   "source": [
    "#### Lambda-Funksjoner\n",
    "Noen ganger er det ganske slitsom å lage en ny funksjon ved bruk av syntaksen vi har lært nå. For eksempel hvis vi skal programmere den funksjonen \n",
    "$$f(x) = x^2+1$$\n",
    "er det ikke hensiktmessig at vi legger den inn på den måten vi hadde sett på. For dette fins en fortere metoden som kalles *lambda funskjon*. \n",
    "Denne typen funksjoner kalles også lambda-funksjon, siden de er definert ved hjelp av nøkkelordet labmda. En typisk lambda-funksjon er definert som følgende:\n",
    "\n",
    "```Python \n",
    "lambda argumentt:utrykk```\n",
    "\n",
    "det er mulig å legge inn flere argument men det kan være bare en utrykk.\n",
    "Så for eksempel hvis vi skal lage den funksjonen $f(x)=x^2+1$ så kan vi gjøre det på følgende måte:"
   ]
  },
  {
   "cell_type": "code",
   "execution_count": null,
   "metadata": {},
   "outputs": [],
   "source": [
    "minfun = lambda x : x**2+1  #Husk at ** er potens\n",
    "\n",
    "#Nå tester vi funksjonen \n",
    "print(minfun(0))\n",
    "print(minfun(-42))\n",
    "\n",
    "#lag grafen til minfun\n",
    "x = linspace(-1, 1, 101)             #Må lage først punkter for x-aksen\n",
    "f = minfun(x)\n",
    "plot(x, f, 'r')"
   ]
  }
 ],
 "metadata": {
  "kernelspec": {
   "display_name": "Python 3",
   "language": "python",
   "name": "python3"
  },
  "language_info": {
   "codemirror_mode": {
    "name": "ipython",
    "version": 3
   },
   "file_extension": ".py",
   "mimetype": "text/x-python",
   "name": "python",
   "nbconvert_exporter": "python",
   "pygments_lexer": "ipython3",
   "version": "3.7.4"
  }
 },
 "nbformat": 4,
 "nbformat_minor": 4
}
