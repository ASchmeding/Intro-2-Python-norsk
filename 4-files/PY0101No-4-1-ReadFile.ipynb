{
 "cells": [
  {
   "cell_type": "markdown",
   "metadata": {
    "colab_type": "text",
    "id": "0Cugy03Gx2-a"
   },
   "source": [
    "<h1>Lese filer i Python</h1>"
   ]
  },
  {
   "cell_type": "markdown",
   "metadata": {
    "colab_type": "text",
    "id": "bs12zSBGx2-b"
   },
   "source": [
    "<p><strong>Velkommen!</strong> Denne notatboken vil lære deg hvordan du leser tekstfilen i Python-programmeringsspråket. Ved slutten av dette økta vet du hvordan du leser tekstfiler.</p>"
   ]
  },
  {
   "cell_type": "markdown",
   "metadata": {
    "colab_type": "text",
    "id": "OpHlYUu6x2-c"
   },
   "source": [
    "<h2>Innhold</h2>\n",
    "<div class=\"alert alert-block alert-info\" style=\"margin-top: 20px\">\n",
    "    <ul>\n",
    "        <li><a href=\"download\">Download Data</a></li>\n",
    "        <li><a href=\"read\">Lese filer i Python</a></li>\n",
    "        <li><a href=\"better\">En bedre måte å åpne filer</a></li>\n",
    "    </ul>\n",
    "    <p>\n",
    "        Tidsbruk: <strong>40 min</strong>\n",
    "    </p>\n",
    "</div>\n",
    "\n",
    "<hr>"
   ]
  },
  {
   "cell_type": "markdown",
   "metadata": {
    "colab_type": "text",
    "id": "FCdFvLxzx2-d"
   },
   "source": [
    "<h2 id=\"download\">Download Data</h2>\n",
    "\n",
    "Vi skal først laste ned en tekstfile fra nett for å jobbe med det. Dette skjer i koden under. Det fins mange muligheter for å gjøre det og vi velger her et relativt enkelt måte som trenger ikke noen eksotiske programbiblioteker. Uansett trenger vi noen programbiblioteker vi må laste inn først:"
   ]
  },
  {
   "cell_type": "code",
   "execution_count": null,
   "metadata": {
    "colab": {},
    "colab_type": "code",
    "id": "4PDoODtqx2-f"
   },
   "outputs": [],
   "source": [
    "import requests                    #Last inn requests bibliotek som har funksjonaliteten for å laste ned fra nett\n",
    "from os import getcwd              #Vi bruker en metode getcwd fra os biblioteket\n",
    "import shutil"
   ]
  },
  {
   "cell_type": "markdown",
   "metadata": {},
   "source": [
    "Nå har vi alt på plass for å laste ned filen våres og skrive den inn i mappen Jupyter notaten ligger i. Vi skal se nærmere på betydning av <code>open</code>, <code>write</code> osv. i løpe av den og den neste økt."
   ]
  },
  {
   "cell_type": "code",
   "execution_count": null,
   "metadata": {
    "colab": {},
    "colab_type": "code",
    "id": "4PDoODtqx2-f"
   },
   "outputs": [],
   "source": [
    "# Last ned et eksempel file fra GitHub \n",
    "r = requests.get('https://raw.github.com/ASchmeding/Intro-2-Python-norsk/main/4-files/testfile.txt', stream=True)   \n",
    "\n",
    "directory = getcwd()                             #get current working directory, dvs. mappen din Jupyter file ligger i\n",
    "if r.status_code == 200:\n",
    "    with open(directory+'testfile.txt', \"w\") as myfile:\n",
    "        myfile.write(r.text)    "
   ]
  },
  {
   "cell_type": "markdown",
   "metadata": {
    "colab_type": "text",
    "id": "GmywSx3Fx2-p"
   },
   "source": [
    "<hr>"
   ]
  },
  {
   "cell_type": "markdown",
   "metadata": {
    "colab_type": "text",
    "id": "pthLOSFLx2-q"
   },
   "source": [
    "<h2 id=\"read\">Lese tekstfiler</h2>"
   ]
  },
  {
   "cell_type": "markdown",
   "metadata": {
    "colab_type": "text",
    "id": "WjCaEu9zx2-r"
   },
   "source": [
    "En måte å lese eller skrive en fil i Python på er å bruke den innebygde <code>open</code> funksjonen. <code>open</code>-funksjonen gir et <b>Filobjekt</b> som inneholder metodene og attributtene du trenger for å lese, lagre og manipulere filen. I denne økt skal vi bare dekke <b>.txt</b>-filer (dvs. tekstfiler). Den første parameteren du trenger er filbanen og filnavnet. Et eksempel er vist som følger:"
   ]
  },
  {
   "cell_type": "markdown",
   "metadata": {
    "colab_type": "text",
    "id": "gx6bax3kx2-s"
   },
   "source": [
    "<img src=\"https://s3-api.us-geo.objectstorage.softlayer.net/cf-courses-data/CognitiveClass/PY0101EN/Chapter%204/Images/ReadOpen.png\" width=\"500\" />"
   ]
  },
  {
   "cell_type": "markdown",
   "metadata": {
    "colab_type": "text",
    "id": "6J6vmfE2x2-t"
   },
   "source": [
    "Argumentet for modus ('mode') er valgfritt og standardverdien er <b>r</b> (så det var overflodig å skrive \"r\"). Vi skal nå dekke bare to moduser:\n",
    "<ul>\n",
    "    <li><b>r</b> Lesemodus for lesing av filer </li>\n",
    "    <li><b>w</b> Skrivemodus for å skrive filer</li>\n",
    "</ul>\n",
    "Selvfølgelig fins det flere som, for eksempel <code>\"x\"</code> som lager en ny file (og gir en feilmelding når det alrede eksisterer)."
   ]
  },
  {
   "cell_type": "markdown",
   "metadata": {
    "colab_type": "text",
    "id": "67CzPp22x2-u"
   },
   "source": [
    "For den neste eksempel bruker vi .txt file <b>testfile.txt</b> som vi har akkurat lastet ned. Filen innholder det følgende:\n",
    "\n",
    "  **Dette er linje 1  \n",
    "  Dette er linje 2  \n",
    "  Dette er linje 3**"
   ]
  },
  {
   "cell_type": "markdown",
   "metadata": {
    "colab_type": "text",
    "id": "MUfhCOjvx2-x"
   },
   "source": [
    " La oss lese filen: "
   ]
  },
  {
   "cell_type": "code",
   "execution_count": null,
   "metadata": {
    "colab": {},
    "colab_type": "code",
    "id": "uOd0hpZmx2-y"
   },
   "outputs": [],
   "source": [
    "# Les testfile.txt\n",
    "\n",
    "testfile = directory + \"testfile.txt\"  #Husk at \"+\" for strenger setter dem sammen.\n",
    "file1 = open(testfile, \"r\")"
   ]
  },
  {
   "cell_type": "markdown",
   "metadata": {
    "colab_type": "text",
    "id": "bHdh_C9wx2-4"
   },
   "source": [
    "Vi har nå pågrep på attributer av testfile.txt og kan se på dem i Python:"
   ]
  },
  {
   "cell_type": "markdown",
   "metadata": {
    "colab_type": "text",
    "id": "lkChiC1px2-5"
   },
   "source": [
    "**Sted av filen**"
   ]
  },
  {
   "cell_type": "code",
   "execution_count": null,
   "metadata": {
    "colab": {},
    "colab_type": "code",
    "id": "7G9uJej4x2-6"
   },
   "outputs": [],
   "source": [
    "# Skriv stedet filen ligger på datamaskin\n",
    "\n",
    "file1.name"
   ]
  },
  {
   "cell_type": "markdown",
   "metadata": {
    "colab_type": "text",
    "id": "FVZbPpDAx2_A"
   },
   "source": [
    " **Modus** filen befinner seg i:"
   ]
  },
  {
   "cell_type": "code",
   "execution_count": null,
   "metadata": {
    "colab": {},
    "colab_type": "code",
    "id": "ZkmPceh0x2_C"
   },
   "outputs": [],
   "source": [
    "# Skriv ut modus av fileb, dvs. 'r' eller 'w'\n",
    "\n",
    "file1.mode"
   ]
  },
  {
   "cell_type": "markdown",
   "metadata": {
    "colab_type": "text",
    "id": "EEK36Uqnx2_L"
   },
   "source": [
    "Vi kan lese filen og skrive innhold i en variabel:"
   ]
  },
  {
   "cell_type": "code",
   "execution_count": null,
   "metadata": {
    "colab": {},
    "colab_type": "code",
    "id": "ArrqzEmQx2_M"
   },
   "outputs": [],
   "source": [
    "# Les filen\n",
    "\n",
    "FileInnhold = file1.read()\n",
    "FileInnhold"
   ]
  },
  {
   "cell_type": "markdown",
   "metadata": {
    "colab_type": "text",
    "id": "dp30tuvHx2_R"
   },
   "source": [
    "I utskriving av innholdet betyr <b>/n</b> at det som kommer etter står i en ny linje. "
   ]
  },
  {
   "cell_type": "markdown",
   "metadata": {
    "colab_type": "text",
    "id": "oQEP3bOcx2_S"
   },
   "source": [
    "Vi kan skrive ut innholden til filen: "
   ]
  },
  {
   "cell_type": "code",
   "execution_count": null,
   "metadata": {
    "colab": {},
    "colab_type": "code",
    "id": "JeQkSJ5Kx2_U"
   },
   "outputs": [],
   "source": [
    "# Skriv ut innholdet med '\\n' som ny linje\n",
    "\n",
    "print(FileInnhold)"
   ]
  },
  {
   "cell_type": "markdown",
   "metadata": {
    "colab_type": "text",
    "id": "3UX6RQDSx2_Z"
   },
   "source": [
    "Innholdet til filen er av type streng:"
   ]
  },
  {
   "cell_type": "code",
   "execution_count": null,
   "metadata": {
    "colab": {},
    "colab_type": "code",
    "id": "gq-kxFH3x2_a"
   },
   "outputs": [],
   "source": [
    "# Type av innholdet til filen \n",
    "\n",
    "type(FileInnhold)"
   ]
  },
  {
   "cell_type": "markdown",
   "metadata": {
    "colab_type": "text",
    "id": "KUnAAW8fx2_h"
   },
   "source": [
    " Vi må lukke filen etter vi er ferdig med å jobbe med innholdet:"
   ]
  },
  {
   "cell_type": "code",
   "execution_count": null,
   "metadata": {
    "colab": {},
    "colab_type": "code",
    "id": "4npxswERx2_k"
   },
   "outputs": [],
   "source": [
    "# Lukk filen etter vi er ferdig\n",
    "\n",
    "file1.close()"
   ]
  },
  {
   "cell_type": "markdown",
   "metadata": {
    "colab_type": "text",
    "id": "90tfqspZx2_q"
   },
   "source": [
    "<hr>"
   ]
  },
  {
   "cell_type": "markdown",
   "metadata": {
    "colab_type": "text",
    "id": "Z7E_hj7Xx2_r"
   },
   "source": [
    "<h2 id=\"better\">En bedre måte å åpne filer</h2>"
   ]
  },
  {
   "cell_type": "markdown",
   "metadata": {
    "colab_type": "text",
    "id": "jkm5pZOkx2_s"
   },
   "source": [
    "Å bruke <code>with</code>-setningen er bedre praksis for å åpne filer. Den lukker automatisk filen selv om koden møter et unntak eller feil. Koden vil kjøre alt i innrykk-blokken og deretter lukke filen."
   ]
  },
  {
   "cell_type": "code",
   "execution_count": null,
   "metadata": {
    "colab": {},
    "colab_type": "code",
    "id": "iksuKTaXx2_t"
   },
   "outputs": [],
   "source": [
    "# Åpne filen med with\n",
    "\n",
    "with open(testfile, \"r\") as file1:\n",
    "    FileInnhold = file1.read()\n",
    "    print(FileInnhold)"
   ]
  },
  {
   "cell_type": "markdown",
   "metadata": {
    "colab_type": "text",
    "id": "Kk2EDCDqx2_z"
   },
   "source": [
    "Filobjektet er lukket som vi kan bekrefte ved å kjøre følgende celle:"
   ]
  },
  {
   "cell_type": "code",
   "execution_count": null,
   "metadata": {
    "colab": {},
    "colab_type": "code",
    "id": "LqdL01Zox2_0"
   },
   "outputs": [],
   "source": [
    "# Sjekk hvis filen er lukket\n",
    "\n",
    "file1.closed"
   ]
  },
  {
   "cell_type": "markdown",
   "metadata": {
    "colab_type": "text",
    "id": "65CuYDJIx2_4"
   },
   "source": [
    "Vi kan se informasjonen i filen:"
   ]
  },
  {
   "cell_type": "code",
   "execution_count": null,
   "metadata": {
    "colab": {},
    "colab_type": "code",
    "id": "YGo-C1H0x2_5"
   },
   "outputs": [],
   "source": [
    "# Se på innhold av filen\n",
    "\n",
    "print(FileInnhold)"
   ]
  },
  {
   "cell_type": "markdown",
   "metadata": {
    "colab_type": "text",
    "id": "tmUsvFCFx2_9"
   },
   "source": [
    "Syntaksen er litt forvirrende ettersom filobjektet er etter <code>as</code>-setningen. Vi lukker heller ikke eksplisitt filen. Derfor oppsummerer vi trinnene i en figur:"
   ]
  },
  {
   "cell_type": "markdown",
   "metadata": {
    "colab_type": "text",
    "id": "f2BMjBjox2_-"
   },
   "source": [
    "<img src=\"https://s3-api.us-geo.objectstorage.softlayer.net/cf-courses-data/CognitiveClass/PY0101EN/Chapter%204/Images/ReadWith.png\" width=\"500\" />"
   ]
  },
  {
   "cell_type": "markdown",
   "metadata": {
    "colab_type": "text",
    "id": "fjczkJJjx2_-"
   },
   "source": [
    "Vi trenger ikke å lese hele filen, for eksempel kan vi lese de første 4 tegnene ved å skrive inn fire som en parameter til metoden **.read()**:"
   ]
  },
  {
   "cell_type": "code",
   "execution_count": null,
   "metadata": {
    "colab": {},
    "colab_type": "code",
    "id": "7IZWf8QXx2__"
   },
   "outputs": [],
   "source": [
    "# Les de første fire tegn i filen\n",
    "\n",
    "with open(testfile, \"r\") as file1:\n",
    "    print(file1.read(5))"
   ]
  },
  {
   "cell_type": "markdown",
   "metadata": {
    "colab_type": "text",
    "id": "O2T2GSTwx3AF"
   },
   "source": [
    "Når metoden <code>.read(5)</code> er kalt, hentes de første 5 symboler. Hvis vi kaller metoden igjen, kalles de neste 5 symboler. Utdataene for følgende celle vil demonstrere prosessen for ulike innganger til metoden <code>read()</code>:"
   ]
  },
  {
   "cell_type": "code",
   "execution_count": null,
   "metadata": {
    "colab": {},
    "colab_type": "code",
    "id": "qMzZvul_x3AG"
   },
   "outputs": [],
   "source": [
    "# Les noen antall av symboler fra filen\n",
    "\n",
    "with open(testfile, \"r\") as file1:\n",
    "    print(file1.read(5))\n",
    "    print(file1.read(5))\n",
    "    print(file1.read(7))\n",
    "    print(file1.read(15))"
   ]
  },
  {
   "cell_type": "markdown",
   "metadata": {
    "colab_type": "text",
    "id": "sbmasrrKx3AL"
   },
   "source": [
    "Prosessen er illustrert i figuren nedenfor, og hver farge representerer den delen av filen som leses etter at metoden <code>read()</code> kalles:"
   ]
  },
  {
   "cell_type": "markdown",
   "metadata": {
    "colab_type": "text",
    "id": "DZdnhbwex3AM"
   },
   "source": [
    "<img src=\"https://s3-api.us-geo.objectstorage.softlayer.net/cf-courses-data/CognitiveClass/PY0101EN/Chapter%204/Images/ReadChar.png\" width=\"500\" />"
   ]
  },
  {
   "cell_type": "markdown",
   "metadata": {
    "colab_type": "text",
    "id": "xWoeNTyAx3AM"
   },
   "source": [
    "Her er et eksempel som bruker samme fil, men i stedet leser vi 16, 5 og deretter 9 tegn om gangen:"
   ]
  },
  {
   "cell_type": "code",
   "execution_count": null,
   "metadata": {
    "colab": {},
    "colab_type": "code",
    "id": "DeEt8xklx3AN"
   },
   "outputs": [],
   "source": [
    "# Les noen symboler fra fil\n",
    "\n",
    "with open(testfile, \"r\") as file1:\n",
    "    print(file1.read(16))\n",
    "    print(file1.read(5))\n",
    "    print(file1.read(9))"
   ]
  },
  {
   "cell_type": "markdown",
   "metadata": {
    "colab_type": "text",
    "id": "7p0z1t4Kx3AT"
   },
   "source": [
    "Vi kan også lese én linje av filen om gangen ved å bruke metoden <code>readline()</code>:"
   ]
  },
  {
   "cell_type": "code",
   "execution_count": null,
   "metadata": {
    "colab": {},
    "colab_type": "code",
    "id": "wrXl6Lcjx3AU"
   },
   "outputs": [],
   "source": [
    "# Les en linje\n",
    "\n",
    "with open(testfile, \"r\") as file1:\n",
    "    print(\"første linje: \" + file1.readline())"
   ]
  },
  {
   "cell_type": "markdown",
   "metadata": {
    "colab_type": "text",
    "id": "Cah-o9FJx3AZ"
   },
   "source": [
    "Vi kan bruke en løkke for å iterere gjennom hver linje:"
   ]
  },
  {
   "cell_type": "code",
   "execution_count": null,
   "metadata": {
    "colab": {},
    "colab_type": "code",
    "id": "CA34SNeyx3Aa"
   },
   "outputs": [],
   "source": [
    "# Iterer gjennom linjene\n",
    "\n",
    "with open(testfile,\"r\") as file1:\n",
    "        i = 0;\n",
    "        for line in file1:\n",
    "            print(\"Iterasjon\", str(i), \": \", line)\n",
    "            i = i + 1;"
   ]
  },
  {
   "cell_type": "markdown",
   "metadata": {
    "colab_type": "text",
    "id": "gVsQHf_ax3Ae"
   },
   "source": [
    "Vi kan bruke metoden <code>readlines()</code> for å lagre tekstfilen til en liste:"
   ]
  },
  {
   "cell_type": "code",
   "execution_count": null,
   "metadata": {
    "colab": {},
    "colab_type": "code",
    "id": "PO7Wirhkx3Af"
   },
   "outputs": [],
   "source": [
    "# les alle linjer og lagre som en liste\n",
    "\n",
    "with open(testfile, \"r\") as file1:\n",
    "    filsomlist = file1.readlines()"
   ]
  },
  {
   "cell_type": "markdown",
   "metadata": {
    "colab_type": "text",
    "id": "8ux46zWqx3An"
   },
   "source": [
    "Hvert element i listen tilsvarer en tekstlinje:"
   ]
  },
  {
   "cell_type": "code",
   "execution_count": null,
   "metadata": {
    "colab": {},
    "colab_type": "code",
    "id": "SEBA4whQx3Ao"
   },
   "outputs": [],
   "source": [
    "# Skriv den første linjen\n",
    "\n",
    "filsomlist[0]"
   ]
  },
  {
   "cell_type": "code",
   "execution_count": null,
   "metadata": {
    "colab": {},
    "colab_type": "code",
    "id": "a_HqstSQx3Au"
   },
   "outputs": [],
   "source": [
    "# Skriv andre linjen\n",
    "\n",
    "filsomlist[1]"
   ]
  },
  {
   "cell_type": "code",
   "execution_count": null,
   "metadata": {
    "colab": {},
    "colab_type": "code",
    "id": "j9NjOrIjx3Ay"
   },
   "outputs": [],
   "source": [
    "# Skriv tredje linjen\n",
    "\n",
    "filsomlist[2]"
   ]
  },
  {
   "cell_type": "markdown",
   "metadata": {
    "colab_type": "text",
    "id": "fUbwDjm1x3A-"
   },
   "source": [
    "<hr>"
   ]
  },
  {
   "cell_type": "markdown",
   "metadata": {
    "colab_type": "text",
    "id": "oa21WtO3NCf4"
   },
   "source": [
    "The present document is based on the <a href=\"https://cognitiveclass.ai/courses/python-for-data-science\">IBM cognitive class \"Python for data science</a>. \n",
    "<p>Copyright &copy; Copyright Nord University 2021. This notebook and its source code are released under the terms of the <a href=\"https://opensource.org/licenses/MIT\">MIT License</a>.</p>"
   ]
  }
 ],
 "metadata": {
  "colab": {
   "name": "PY0101EN-4-1-ReadFile.ipynb",
   "provenance": []
  },
  "kernelspec": {
   "display_name": "Python 3",
   "language": "python",
   "name": "python3"
  },
  "language_info": {
   "codemirror_mode": {
    "name": "ipython",
    "version": 3
   },
   "file_extension": ".py",
   "mimetype": "text/x-python",
   "name": "python",
   "nbconvert_exporter": "python",
   "pygments_lexer": "ipython3",
   "version": "3.7.4"
  }
 },
 "nbformat": 4,
 "nbformat_minor": 4
}
