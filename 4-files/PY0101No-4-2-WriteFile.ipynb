{
 "cells": [
  {
   "cell_type": "markdown",
   "metadata": {
    "colab_type": "text",
    "id": "43rIWbQI0up-"
   },
   "source": [
    "<h1>Skriv og lagre filer i Python</h1>"
   ]
  },
  {
   "cell_type": "markdown",
   "metadata": {
    "colab_type": "text",
    "id": "dyCBqDWd0uqA"
   },
   "source": [
    "<p><strong>Velkommen!</strong> Denne Jupyter notat vil lære deg hvordan du skriver teksten til fil i Python-programmeringsspråket. Ved slutten av denne økt vet du hvordan du skriver til filen og kopierer filen.</p>\n"
   ]
  },
  {
   "cell_type": "markdown",
   "metadata": {
    "colab_type": "text",
    "id": "H_hgPfRe0uqC"
   },
   "source": [
    "<h2>Innhold</h2>\n",
    "<div class=\"alert alert-block alert-info\" style=\"margin-top: 20px\">\n",
    "    <ul>\n",
    "        <li><a href=\"write\">Skriv filer</a></li>\n",
    "        <li><a href=\"copy\">Kopier filer</a></li>\n",
    "    </ul>\n",
    "    <p>\n",
    "        Tidsbruk: <strong>15 min</strong>\n",
    "    </p>\n",
    "</div>\n",
    "\n",
    "<hr>"
   ]
  },
  {
   "cell_type": "markdown",
   "metadata": {
    "colab_type": "text",
    "id": "0ZJjO76a0uqD"
   },
   "source": [
    "<h2 id=\"write\">Skriv filer</h2>"
   ]
  },
  {
   "cell_type": "markdown",
   "metadata": {
    "colab_type": "text",
    "id": "IFDcJI4g0uqF"
   },
   "source": [
    "Vi kan åpne et filobjekt ved å bruke metoden <code>write()</code>. For *skrive modus*, må argumentet settes til <b>w</b>. La oss skrive en fil <b>Eksempel2.txt</b> med linjen: <b>\"Dette er linje A\"</b>"
   ]
  },
  {
   "cell_type": "code",
   "execution_count": 1,
   "metadata": {
    "colab": {},
    "colab_type": "code",
    "id": "2U3RCqa90uqG"
   },
   "outputs": [],
   "source": [
    "# Write line to file\n",
    "\n",
    "with open('Eksempel2.txt', 'w') as writefile:    #Åpner en fil Eksempel2.txt i skrivemodus. Om det ikke alrede eksisterer lagres det på nytt i mappen dar jupyter notat ligger\n",
    "    writefile.write(\"Dette er linje A\")"
   ]
  },
  {
   "cell_type": "markdown",
   "metadata": {
    "colab_type": "text",
    "id": "RpcJPaUy0uqP"
   },
   "source": [
    " Vi kan lese filen for å se hvis alt gikk bra:"
   ]
  },
  {
   "cell_type": "code",
   "execution_count": 2,
   "metadata": {
    "colab": {},
    "colab_type": "code",
    "id": "-_ExPCuj0uqQ"
   },
   "outputs": [
    {
     "name": "stdout",
     "output_type": "stream",
     "text": [
      "Dette er linje A\n"
     ]
    }
   ],
   "source": [
    "# Les fil\n",
    "\n",
    "with open('Eksempel2.txt', 'r') as testwritefile:\n",
    "    print(testwritefile.read())"
   ]
  },
  {
   "cell_type": "markdown",
   "metadata": {
    "colab_type": "text",
    "id": "OPX4_QDP0uqW"
   },
   "source": [
    "Vi kan skrive flere linjer:"
   ]
  },
  {
   "cell_type": "code",
   "execution_count": 3,
   "metadata": {
    "colab": {},
    "colab_type": "code",
    "id": "9h3zbOfP0uqX"
   },
   "outputs": [],
   "source": [
    "# Skriv linjer til filen\n",
    "\n",
    "with open('Eksempel2.txt', 'w') as writefile:\n",
    "    writefile.write(\"Dette er linje A\\n\")\n",
    "    writefile.write(\"Dette er linje B\\n\")"
   ]
  },
  {
   "cell_type": "markdown",
   "metadata": {
    "colab_type": "text",
    "id": "u_UJ-8eF0uqe"
   },
   "source": [
    "Metoden <code>.write()</code> fungerer på samme måte som metoden <code>.readline()</code>. Selvfølgelig skriver det en ny linje (og ikke leser en ny linje). Prosessen er illustrert i figuren. Den forskjellige fargekoden til rutenettet representerer en ny linje lagt til filen etter hvert gjennomgang av metoden."
   ]
  },
  {
   "cell_type": "markdown",
   "metadata": {
    "colab_type": "text",
    "id": "Bv_Vsntd0uqf"
   },
   "source": [
    "<img src=\"https://s3-api.us-geo.objectstorage.softlayer.net/cf-courses-data/CognitiveClass/PY0101EN/Chapter%204/Images/WriteLine.png\" width=\"500\" />"
   ]
  },
  {
   "cell_type": "markdown",
   "metadata": {
    "colab_type": "text",
    "id": "974YTupv0uqh"
   },
   "source": [
    "Sjekk filen for å se hvis det vi ønsket har faktisk skjedd."
   ]
  },
  {
   "cell_type": "code",
   "execution_count": 4,
   "metadata": {
    "colab": {},
    "colab_type": "code",
    "id": "Fsf2L9zK0uqi"
   },
   "outputs": [
    {
     "name": "stdout",
     "output_type": "stream",
     "text": [
      "Dette er linje A\n",
      "Dette er linje B\n",
      "\n"
     ]
    }
   ],
   "source": [
    "# Sjekk resultatet\n",
    "\n",
    "with open('Eksempel2.txt', 'r') as testwritefile:\n",
    "    print(testwritefile.read())"
   ]
  },
  {
   "cell_type": "markdown",
   "metadata": {
    "colab_type": "text",
    "id": "c_gfSZAd0uqn"
   },
   "source": [
    "Ved å sette modusargumentet til **a** (\"append\") kan du legge til en ny linje som følger:"
   ]
  },
  {
   "cell_type": "code",
   "execution_count": 5,
   "metadata": {
    "colab": {},
    "colab_type": "code",
    "id": "fFFgFOl00uqo"
   },
   "outputs": [],
   "source": [
    "# Write a new line to text file\n",
    "\n",
    "with open('Eksempel2.txt', 'a') as testwritefile:\n",
    "    testwritefile.write(\"Dette er linje C\\n\")"
   ]
  },
  {
   "cell_type": "markdown",
   "metadata": {
    "colab_type": "text",
    "id": "N23uTexm0uqx"
   },
   "source": [
    "Sjekk at filen har forandret seg:"
   ]
  },
  {
   "cell_type": "code",
   "execution_count": 6,
   "metadata": {
    "colab": {},
    "colab_type": "code",
    "id": "JETFtv8p0uqy"
   },
   "outputs": [
    {
     "name": "stdout",
     "output_type": "stream",
     "text": [
      "Dette er linje A\n",
      "Dette er linje B\n",
      "Dette er linje C\n",
      "\n"
     ]
    }
   ],
   "source": [
    "# Sjekk at den nye linjen er inkludert nå\n",
    "\n",
    "with open('Eksempel2.txt', 'r') as testwritefile:\n",
    "    print(testwritefile.read())"
   ]
  },
  {
   "cell_type": "markdown",
   "metadata": {
    "colab_type": "text",
    "id": "Ar3kQmbt0uq3"
   },
   "source": [
    "Vi skriver en liste til en <b>.txt</b> fil som følgende:"
   ]
  },
  {
   "cell_type": "code",
   "execution_count": 8,
   "metadata": {
    "colab": {},
    "colab_type": "code",
    "id": "B8An-Bco0uq4"
   },
   "outputs": [
    {
     "data": {
      "text/plain": [
       "['Dette er linje A\\n', 'Dette er linje B\\n', 'Dette er linje C\\n']"
      ]
     },
     "execution_count": 8,
     "metadata": {},
     "output_type": "execute_result"
    }
   ],
   "source": [
    "# Eksempel av en liste av tekst\n",
    "\n",
    "Linjer = [\"Dette er linje A\\n\", \"Dette er linje B\\n\", \"Dette er linje C\\n\"]\n",
    "Linjer"
   ]
  },
  {
   "cell_type": "code",
   "execution_count": 9,
   "metadata": {
    "colab": {},
    "colab_type": "code",
    "id": "lIC-7duI0urD"
   },
   "outputs": [
    {
     "name": "stdout",
     "output_type": "stream",
     "text": [
      "Dette er linje A\n",
      "\n",
      "Dette er linje B\n",
      "\n",
      "Dette er linje C\n",
      "\n"
     ]
    }
   ],
   "source": [
    "# Skriv strenger fra listen til tekst fil\n",
    "\n",
    "with open('Eksempel2.txt', 'w') as writefile:\n",
    "    for linje in Linjer:\n",
    "        print(linje)\n",
    "        writefile.write(linje)"
   ]
  },
  {
   "cell_type": "markdown",
   "metadata": {
    "colab_type": "text",
    "id": "suNT40OX0urJ"
   },
   "source": [
    "\n",
    "Vi kan bekrefte at filen er skrevet ved å lese den og skrive ut verdiene:"
   ]
  },
  {
   "cell_type": "code",
   "execution_count": 10,
   "metadata": {
    "colab": {},
    "colab_type": "code",
    "id": "7eBFo9FN0urL"
   },
   "outputs": [
    {
     "name": "stdout",
     "output_type": "stream",
     "text": [
      "Dette er linje A\n",
      "Dette er linje B\n",
      "Dette er linje C\n",
      "\n"
     ]
    }
   ],
   "source": [
    "# Sjekk hvis alt gikk bra\n",
    "\n",
    "with open('Eksempel2.txt', 'r') as testwritefile:\n",
    "    print(testwritefile.read())"
   ]
  },
  {
   "cell_type": "markdown",
   "metadata": {
    "colab_type": "text",
    "id": "VWezcpUX0urS"
   },
   "source": [
    "Vi kan igjen legge til noe til filen ved å endre den andre parameteren til <b>a</b>. Se på det nå:"
   ]
  },
  {
   "cell_type": "code",
   "execution_count": 11,
   "metadata": {
    "colab": {},
    "colab_type": "code",
    "id": "PY8JZ4rf0urT"
   },
   "outputs": [],
   "source": [
    "# Legg en linje til filen\n",
    "\n",
    "with open('Eksempel2.txt', 'a') as testwritefile:\n",
    "    testwritefile.write(\"Dette er linje D\\n\")"
   ]
  },
  {
   "cell_type": "markdown",
   "metadata": {
    "colab_type": "text",
    "id": "H69mXXBN0urY"
   },
   "source": [
    "La oss sjekke ut resultatene:"
   ]
  },
  {
   "cell_type": "code",
   "execution_count": 12,
   "metadata": {
    "colab": {},
    "colab_type": "code",
    "id": "MS0mzIs40urZ"
   },
   "outputs": [
    {
     "name": "stdout",
     "output_type": "stream",
     "text": [
      "Dette er linje A\n",
      "Dette er linje B\n",
      "Dette er linje C\n",
      "Dette er linje D\n",
      "\n"
     ]
    }
   ],
   "source": [
    "# Sjekk at linjen har kommet i tillegg\n",
    "\n",
    "with open('Eksempel2.txt', 'r') as testwritefile:\n",
    "    print(testwritefile.read())"
   ]
  },
  {
   "cell_type": "markdown",
   "metadata": {
    "colab_type": "text",
    "id": "apQo5B860urf"
   },
   "source": [
    "<hr>"
   ]
  },
  {
   "cell_type": "markdown",
   "metadata": {
    "colab_type": "text",
    "id": "VepnvnDs0urg"
   },
   "source": [
    "<h2 id=\"copy\">Kopier en fil</h2> "
   ]
  },
  {
   "cell_type": "markdown",
   "metadata": {
    "colab_type": "text",
    "id": "m9Cc3FKF0urh"
   },
   "source": [
    "La oss kopiere <b>Eksempel2.txt</b> til en ny fil <b>Eksempel3.txt</b>:"
   ]
  },
  {
   "cell_type": "code",
   "execution_count": 13,
   "metadata": {
    "colab": {},
    "colab_type": "code",
    "id": "hO8CimOD0uri"
   },
   "outputs": [],
   "source": [
    "# Kopier fil \n",
    "\n",
    "with open('Eksempel2.txt','r') as readfile:\n",
    "    with open('Eksempel3.txt','w') as writefile:\n",
    "          for linje in readfile:\n",
    "                writefile.write(linje)"
   ]
  },
  {
   "cell_type": "markdown",
   "metadata": {
    "colab_type": "text",
    "id": "HS366siV0urm"
   },
   "source": [
    "Igjen la oss se på filen om det gikk bra:"
   ]
  },
  {
   "cell_type": "code",
   "execution_count": 14,
   "metadata": {
    "colab": {},
    "colab_type": "code",
    "id": "-r7RRA680urn"
   },
   "outputs": [
    {
     "name": "stdout",
     "output_type": "stream",
     "text": [
      "Dette er linje A\n",
      "Dette er linje B\n",
      "Dette er linje C\n",
      "Dette er linje D\n",
      "\n"
     ]
    }
   ],
   "source": [
    "# Sjekk hvis kopieringsprosessen var vellykket\n",
    "\n",
    "with open('Eksempel3.txt','r') as testwritefile:\n",
    "    print(testwritefile.read())"
   ]
  },
  {
   "cell_type": "markdown",
   "metadata": {
    "colab_type": "text",
    "id": "8dEoW7qP0urr"
   },
   "source": [
    "Etter å ha lest filer kan vi også skrive data inn i filer og lagre dem i forskjellige filformater som **.txt, .csv, .xls (for Excel-filer) osv.**."
   ]
  },
  {
   "cell_type": "markdown",
   "metadata": {
    "colab_type": "text",
    "id": "FORRJMgV0urx"
   },
   "source": [
    "<hr>"
   ]
  },
  {
   "cell_type": "markdown",
   "metadata": {
    "colab_type": "text",
    "id": "oa21WtO3NCf4"
   },
   "source": [
    "The present document is based on the <a href=\"https://cognitiveclass.ai/courses/python-for-data-science\">IBM cognitive class \"Python for data science</a>. \n",
    "<p>Copyright &copy; Copyright Nord University 2021. This notebook and its source code are released under the terms of the <a href=\"https://opensource.org/licenses/MIT\">MIT License</a>.</p>"
   ]
  }
 ],
 "metadata": {
  "colab": {
   "name": "PY0101EN-4-2-WriteFile.ipynb",
   "provenance": []
  },
  "kernelspec": {
   "display_name": "Python 3",
   "language": "python",
   "name": "python3"
  },
  "language_info": {
   "codemirror_mode": {
    "name": "ipython",
    "version": 3
   },
   "file_extension": ".py",
   "mimetype": "text/x-python",
   "name": "python",
   "nbconvert_exporter": "python",
   "pygments_lexer": "ipython3",
   "version": "3.7.4"
  }
 },
 "nbformat": 4,
 "nbformat_minor": 4
}
