{
 "cells": [
  {
   "cell_type": "markdown",
   "metadata": {
    "colab_type": "text",
    "id": "1_SjQjHgw_J9"
   },
   "source": [
    "<h1>Strengoperasjoner</h1>"
   ]
  },
  {
   "cell_type": "markdown",
   "metadata": {
    "colab_type": "text",
    "id": "E86L2xFLw_J-"
   },
   "source": [
    "<p><strong>Velkommen!</strong> Denne notatboken vil lære deg om strengoperasjonene i Python-programmeringsspråket. På slutten av denne notatboken vil du kjenne til de grunnleggende strengoperasjonene i Python, inkludert indeksering, escape-sekvenser og operasjoner.</p> "
   ]
  },
  {
   "cell_type": "markdown",
   "metadata": {
    "colab_type": "text",
    "id": "l87TMzzLw_KA"
   },
   "source": [
    "<h2>Innhold</h2>\n",
    "<div class=\"alert alert-block alert-info\" style=\"margin-top: 20px\">\n",
    "    <ul>\n",
    "        <li>\n",
    "            <a href=\"#strings\">Hva er string (strenger)?</a>\n",
    "        </li>\n",
    "        <li>\n",
    "            <a href=\"#index\">Indeksering</a>\n",
    "            <ul>\n",
    "                <li><a href=\"neg\">Negativ indeksering</a></li>\n",
    "                <li><a href=\"slice\">Skjæring</a></li>\n",
    "                <li><a href=\"stride\">Skritt</a></li>\n",
    "                <li><a href=\"concat\">Slå sammen strenger</a></li>\n",
    "            </ul>\n",
    "        </li>\n",
    "        <li>\n",
    "            <a href=\"#escape\">Escape-sekvenser</a>\n",
    "        </li>\n",
    "        <li>\n",
    "            <a href=\"#operations\">Strengeoperasjoner</a>\n",
    "        </li>\n",
    "        <li>\n",
    "            <a href=\"#quiz\">\n",
    "Quiz om strenger</a>\n",
    "        </li>\n",
    "    </ul>\n",
    "    <p>\n",
    "        Tidsbruk: <strong>15 min</strong>\n",
    "    </p>\n",
    "</div>\n",
    "\n",
    "<hr>"
   ]
  },
  {
   "cell_type": "markdown",
   "metadata": {
    "colab_type": "text",
    "id": "FdG5Uznuw_KB"
   },
   "source": [
    "<h2 id=\"strings\">Hva er string (strenger)??</h2>"
   ]
  },
  {
   "cell_type": "markdown",
   "metadata": {
    "colab_type": "text",
    "id": "RGPOHvX_w_KD"
   },
   "source": [
    "Følgende eksempel viser en (string) streng innenfor 2 anførselstegn:"
   ]
  },
  {
   "cell_type": "code",
   "execution_count": null,
   "metadata": {
    "colab": {},
    "colab_type": "code",
    "collapsed": false,
    "id": "H7ZsUo7Aw_KF",
    "jupyter": {
     "outputs_hidden": false
    }
   },
   "outputs": [],
   "source": [
    "# Bruk anførselstegj for å definere en streng\n",
    "\n",
    "\"Ole Brumm\""
   ]
  },
  {
   "cell_type": "markdown",
   "metadata": {
    "colab_type": "text",
    "id": "JP6SlO8Nw_KM"
   },
   "source": [
    "Vi kan også bruke enkle anførselstegn:"
   ]
  },
  {
   "cell_type": "code",
   "execution_count": null,
   "metadata": {
    "colab": {},
    "colab_type": "code",
    "collapsed": false,
    "id": "LmMS-tf0w_KN",
    "jupyter": {
     "outputs_hidden": false
    }
   },
   "outputs": [],
   "source": [
    "# Bruk enkelt anførselstegj for å definere en streng\n",
    "'Ole Brumm'"
   ]
  },
  {
   "cell_type": "markdown",
   "metadata": {
    "colab_type": "text",
    "id": "pRrwUm9Iw_KU"
   },
   "source": [
    "En streng kan være en kombinasjon av mellomrom og sifre:"
   ]
  },
  {
   "cell_type": "code",
   "execution_count": null,
   "metadata": {
    "colab": {},
    "colab_type": "code",
    "collapsed": false,
    "id": "619kH27xw_KV",
    "jupyter": {
     "outputs_hidden": false
    }
   },
   "outputs": [],
   "source": [
    "# sifrer og mellomrom i en streng\n",
    "\n",
    "'1 2 3 4 5 6 '"
   ]
  },
  {
   "cell_type": "markdown",
   "metadata": {
    "colab_type": "text",
    "id": "HqK5l-GJw_Kb"
   },
   "source": [
    "En streng kan også være en kombinasjon av spesialtegn:"
   ]
  },
  {
   "cell_type": "code",
   "execution_count": null,
   "metadata": {
    "colab": {},
    "colab_type": "code",
    "collapsed": false,
    "id": "ThT84b5ww_Kc",
    "jupyter": {
     "outputs_hidden": false
    }
   },
   "outputs": [],
   "source": [
    "# Spesialtegn i en streng\n",
    "\n",
    "'@#2_#]&*^%$'"
   ]
  },
  {
   "cell_type": "markdown",
   "metadata": {
    "colab_type": "text",
    "id": "Q6Pf80krw_Ki"
   },
   "source": [
    "Vi kan skrive ut strengen vår ved å bruke print:"
   ]
  },
  {
   "cell_type": "code",
   "execution_count": null,
   "metadata": {
    "colab": {},
    "colab_type": "code",
    "collapsed": false,
    "id": "hIDoyd3Fw_Kj",
    "jupyter": {
     "outputs_hidden": false
    }
   },
   "outputs": [],
   "source": [
    "# Skriv ut en streng\n",
    "\n",
    "print(\"hello!\")"
   ]
  },
  {
   "cell_type": "markdown",
   "metadata": {
    "colab_type": "text",
    "id": "FtPM3Qy8w_Kq"
   },
   "source": [
    "Vi kan binde eller tilordne en streng til en annen variabel:"
   ]
  },
  {
   "cell_type": "code",
   "execution_count": null,
   "metadata": {
    "colab": {},
    "colab_type": "code",
    "collapsed": false,
    "id": "yfVCAXF8w_Kr",
    "jupyter": {
     "outputs_hidden": false
    }
   },
   "outputs": [],
   "source": [
    "# Tilordne en streng til en variable\n",
    "\n",
    "Name = \"Ole Brumm\"\n",
    "Name"
   ]
  },
  {
   "cell_type": "markdown",
   "metadata": {
    "colab_type": "text",
    "id": "lknXrNrJw_Kz"
   },
   "source": [
    "<hr>"
   ]
  },
  {
   "cell_type": "markdown",
   "metadata": {
    "colab_type": "text",
    "id": "YCbytoVkw_K1"
   },
   "source": [
    "<h2 id=\"index\">Indeksering</h2>"
   ]
  },
  {
   "cell_type": "markdown",
   "metadata": {
    "colab_type": "text",
    "id": "VAzGN9Thw_K2"
   },
   "source": [
    "Det er nyttig å tenke på en streng som en ordnet sekvens. Hvert element i sekvensen kan nås ved hjelp av en indeks representert av rekke tall:"
   ]
  },
  {
   "cell_type": "markdown",
   "metadata": {
    "colab_type": "text",
    "id": "kQSh_4uyw_K3"
   },
   "source": [
    "<img src=\"https://s3-api.us-geo.objectstorage.softlayer.net/cf-courses-data/CognitiveClass/PY0101EN/Chapter%201/Images/StringsIndex.png\" width=\"600\" align=\"center\" />"
   ]
  },
  {
   "cell_type": "markdown",
   "metadata": {
    "colab_type": "text",
    "id": "GNHomx02w_K4"
   },
   "source": [
    "Den første indeksen kan nås som følger:"
   ]
  },
  {
   "cell_type": "markdown",
   "metadata": {
    "colab_type": "text",
    "id": "mL6CERd4w_K5"
   },
   "source": [
    "<hr/>\n",
    "<div class=\"alert alert-success alertsuccess\" style=\"margin-top: 20px\">\n",
    "[Tip]: Fordi indeksering starter på 0, betyr det at den første indeksen er på indeksen 0.\n",
    "</div>\n",
    "<hr/>"
   ]
  },
  {
   "cell_type": "code",
   "execution_count": null,
   "metadata": {
    "colab": {},
    "colab_type": "code",
    "collapsed": false,
    "id": "dRomkNqDw_K6",
    "jupyter": {
     "outputs_hidden": false
    }
   },
   "outputs": [],
   "source": [
    "# Skriv ut det første elementet i strengen\n",
    "\n",
    "print(Name[0])"
   ]
  },
  {
   "cell_type": "markdown",
   "metadata": {
    "colab_type": "text",
    "id": "sOW_y5Maw_K-"
   },
   "source": [
    "\n",
    "Vi kan få tilgang til indeks 6:"
   ]
  },
  {
   "cell_type": "code",
   "execution_count": null,
   "metadata": {
    "colab": {},
    "colab_type": "code",
    "collapsed": false,
    "id": "jI97jk92w_K_",
    "jupyter": {
     "outputs_hidden": false
    }
   },
   "outputs": [],
   "source": [
    "# Skriv ut elementet til indeks 6 i strengen\n",
    "\n",
    "print(Name[6])"
   ]
  },
  {
   "cell_type": "markdown",
   "metadata": {
    "colab_type": "text",
    "id": "g1s5n8cgw_LJ"
   },
   "source": [
    "Dessuten kan vi få tilgang til den 13. indeksen:"
   ]
  },
  {
   "cell_type": "code",
   "execution_count": null,
   "metadata": {
    "colab": {},
    "colab_type": "code",
    "collapsed": false,
    "id": "-oNSSofww_LK",
    "jupyter": {
     "outputs_hidden": false
    }
   },
   "outputs": [],
   "source": [
    "# Skriv ut elementet til indeks 13 i strengen\n",
    "\n",
    "print(Name[13])"
   ]
  },
  {
   "cell_type": "markdown",
   "metadata": {
    "colab_type": "text",
    "id": "XM91pxiuw_LP"
   },
   "source": [
    "<h3 id=\"neg\">Negativ indeksering</h3>"
   ]
  },
  {
   "cell_type": "markdown",
   "metadata": {
    "colab_type": "text",
    "id": "qaNr3NO8w_LP"
   },
   "source": [
    "\n",
    "Vi kan også bruke negativ indeksering med strenger:"
   ]
  },
  {
   "cell_type": "markdown",
   "metadata": {
    "colab_type": "text",
    "id": "1DnRlGhVw_LQ"
   },
   "source": [
    "<img src=\"https://s3-api.us-geo.objectstorage.softlayer.net/cf-courses-data/CognitiveClass/PY0101EN/Chapter%201/Images/StringsNeg.png\" width=\"600\" align=\"center\" />"
   ]
  },
  {
   "cell_type": "markdown",
   "metadata": {
    "colab_type": "text",
    "id": "sFY5s-cOw_LR"
   },
   "source": [
    "\n",
    "Negativ indeks kan hjelpe oss å telle elementet fra slutten av strengen."
   ]
  },
  {
   "cell_type": "markdown",
   "metadata": {
    "colab_type": "text",
    "id": "rICrWE_qw_LT"
   },
   "source": [
    "Det siste elementet er gitt av indeksen -1:\n"
   ]
  },
  {
   "cell_type": "code",
   "execution_count": null,
   "metadata": {
    "colab": {},
    "colab_type": "code",
    "collapsed": false,
    "id": "GIumP9S1w_LU",
    "jupyter": {
     "outputs_hidden": false
    }
   },
   "outputs": [],
   "source": [
    "# Skriv ut det siste elementet i en streng\n",
    "\n",
    "print(Name[-1])"
   ]
  },
  {
   "cell_type": "markdown",
   "metadata": {
    "colab_type": "text",
    "id": "Vbr7XCsOw_LZ"
   },
   "source": [
    "Det første elementet kan oppnås ved indeks -15:"
   ]
  },
  {
   "cell_type": "code",
   "execution_count": null,
   "metadata": {
    "colab": {},
    "colab_type": "code",
    "collapsed": false,
    "id": "MCliVbB0w_La",
    "jupyter": {
     "outputs_hidden": false
    }
   },
   "outputs": [],
   "source": [
    "# Skriv ut det første elementet i en streng\n",
    "\n",
    "print(Name[-15])"
   ]
  },
  {
   "cell_type": "markdown",
   "metadata": {
    "colab_type": "text",
    "id": "-fQjsNC9w_Le"
   },
   "source": [
    "Vi kan finne antall tegn i en streng ved å bruke <code>len</code>, dvs. forkortelse for lengde:"
   ]
  },
  {
   "cell_type": "code",
   "execution_count": null,
   "metadata": {
    "colab": {},
    "colab_type": "code",
    "collapsed": false,
    "id": "UYgd-xWGw_Lf",
    "jupyter": {
     "outputs_hidden": false
    }
   },
   "outputs": [],
   "source": [
    "# Finn lengde til strengen\n",
    "\n",
    "len(\"Michael Jackson\")"
   ]
  },
  {
   "cell_type": "markdown",
   "metadata": {
    "colab_type": "text",
    "id": "wNe86r64w_Lk"
   },
   "source": [
    "<h3 id=\"slice\">Skjæring</h3>"
   ]
  },
  {
   "cell_type": "markdown",
   "metadata": {
    "colab_type": "text",
    "id": "Ow_erdqQw_Ll"
   },
   "source": [
    "Vi kan få flere tegn fra en streng ved hjelp av skjæring, vi kan få 0 til 4. og 8. til 12. element:"
   ]
  },
  {
   "cell_type": "markdown",
   "metadata": {
    "colab_type": "text",
    "id": "jcTGB6PLw_Lm"
   },
   "source": [
    "<img src=\"https://s3-api.us-geo.objectstorage.softlayer.net/cf-courses-data/CognitiveClass/PY0101EN/Chapter%201/Images/StringsSlice.png\" width=\"600\" align=\"center\" />"
   ]
  },
  {
   "cell_type": "markdown",
   "metadata": {
    "colab_type": "text",
    "id": "Mm-OrVuVw_Ln"
   },
   "source": [
    "<hr/>\n",
    "<div class=\"alert alert-success alertsuccess\" style=\"margin-top: 20px\">\n",
    "[Tipp]: Når du skjærer, betyr det første tallet indeksen (start på 0), og det andre tallet betyr lengden fra indeksen til det siste elementet du vil ha (start på 1)\n",
    "</div>\n",
    "<hr/>"
   ]
  },
  {
   "cell_type": "code",
   "execution_count": null,
   "metadata": {
    "colab": {},
    "colab_type": "code",
    "collapsed": false,
    "id": "-RidygA0w_Lp",
    "jupyter": {
     "outputs_hidden": false
    }
   },
   "outputs": [],
   "source": [
    "# Skjær variable Name bare fra indeks 0 til indeks 3\n",
    "\n",
    "Name[0:4]"
   ]
  },
  {
   "cell_type": "code",
   "execution_count": null,
   "metadata": {
    "colab": {},
    "colab_type": "code",
    "collapsed": false,
    "id": "kou3NNAmw_Lt",
    "jupyter": {
     "outputs_hidden": false
    }
   },
   "outputs": [],
   "source": [
    "# Skjær variable Name bare fra indeks 8 til og med indeks 11\n",
    "\n",
    "Name[8:12]"
   ]
  },
  {
   "cell_type": "markdown",
   "metadata": {
    "colab_type": "text",
    "id": "-MhnCc-dw_Lz"
   },
   "source": [
    "<h3 id=\"stride\">Skritt</h3>"
   ]
  },
  {
   "cell_type": "markdown",
   "metadata": {
    "colab_type": "text",
    "id": "du0AIMqfw_L0"
   },
   "source": [
    " Vi kan også legge inn en skrittverdi som følger, med '2' som indikerer at vi velger annenhver variabel:"
   ]
  },
  {
   "cell_type": "markdown",
   "metadata": {
    "colab_type": "text",
    "id": "ez8L4SXFw_L1"
   },
   "source": [
    "<img src=\"https://s3-api.us-geo.objectstorage.softlayer.net/cf-courses-data/CognitiveClass/PY0101EN/Chapter%201/Images/StringsStride.png\" width=\"600\" align=\"center\" />"
   ]
  },
  {
   "cell_type": "code",
   "execution_count": null,
   "metadata": {
    "colab": {},
    "colab_type": "code",
    "collapsed": false,
    "id": "GXdZGd65w_L2",
    "jupyter": {
     "outputs_hidden": false
    }
   },
   "outputs": [],
   "source": [
    "# Få hvert andre element. Elementene på indeks 1, 3, 5 ...\n",
    "\n",
    "Name[::2]"
   ]
  },
  {
   "cell_type": "markdown",
   "metadata": {
    "colab_type": "text",
    "id": "rGy6Jf9tw_L-"
   },
   "source": [
    "Vi kan også inkludere skjæring med skrittet. I dette tilfellet velger vi de første fem elementene og bruker deretter skrittet: "
   ]
  },
  {
   "cell_type": "code",
   "execution_count": null,
   "metadata": {
    "colab": {},
    "colab_type": "code",
    "collapsed": false,
    "id": "P4znSQS3w_L_",
    "jupyter": {
     "outputs_hidden": false
    }
   },
   "outputs": [],
   "source": [
    "# Få hvert andre element fra indeks 0 til indeks 4\n",
    "\n",
    "Name[0:5:2]"
   ]
  },
  {
   "cell_type": "markdown",
   "metadata": {
    "colab_type": "text",
    "id": "NdL2B_4Pw_MD"
   },
   "source": [
    "<h3 id=\"concat\">Slå sammen strenger</h3>"
   ]
  },
  {
   "cell_type": "markdown",
   "metadata": {
    "colab_type": "text",
    "id": "LdHg0oBxw_ME"
   },
   "source": [
    "Vi kan sette sammen eller kombinere strenger ved å bruke tilleggssymbolene, og resultatet er en ny streng som er en kombinasjon av begge:\n"
   ]
  },
  {
   "cell_type": "code",
   "execution_count": null,
   "metadata": {
    "colab": {},
    "colab_type": "code",
    "collapsed": false,
    "id": "wCE7ozIuw_MF",
    "jupyter": {
     "outputs_hidden": false
    }
   },
   "outputs": [],
   "source": [
    "# Slå sammen to strenger\n",
    "\n",
    "Statement = Name + \"is the best\"\n",
    "Statement"
   ]
  },
  {
   "cell_type": "markdown",
   "metadata": {
    "colab_type": "text",
    "id": "0N124vCgw_MK"
   },
   "source": [
    "To replicate values of a string we simply multiply the string by the number of times we would like to replicate it. In this case, the number is three. The result is a new string, and this new string consists of three copies of the original string:"
   ]
  },
  {
   "cell_type": "code",
   "execution_count": null,
   "metadata": {
    "colab": {},
    "colab_type": "code",
    "collapsed": false,
    "id": "MgwQ7ZAUw_MM",
    "jupyter": {
     "outputs_hidden": false
    }
   },
   "outputs": [],
   "source": [
    "# Print the string for 3 times\n",
    "\n",
    "3 * \"Michael Jackson\""
   ]
  },
  {
   "cell_type": "markdown",
   "metadata": {
    "colab_type": "text",
    "id": "ll1oyDoTw_MR"
   },
   "source": [
    "You can create a new string by setting it to the original variable. Concatenated  with a new string, the result is a new string that changes from Michael Jackson to “Michael Jackson is the best\".\n"
   ]
  },
  {
   "cell_type": "code",
   "execution_count": null,
   "metadata": {
    "colab": {},
    "colab_type": "code",
    "collapsed": false,
    "id": "A5Eu5ra1w_MT",
    "jupyter": {
     "outputs_hidden": false
    }
   },
   "outputs": [],
   "source": [
    "# Concatenate strings\n",
    "\n",
    "Name = \"Ole Brumm\"\n",
    "Name = Name + \" er en bjørn\"\n",
    "Name"
   ]
  },
  {
   "cell_type": "markdown",
   "metadata": {
    "colab_type": "text",
    "id": "PwC8Jd3aw_MX"
   },
   "source": [
    "<hr>"
   ]
  },
  {
   "cell_type": "markdown",
   "metadata": {
    "colab_type": "text",
    "id": "K5ebH2AXw_MY"
   },
   "source": [
    "<h2 id=\"escape\">Escape-sekvenser</h2>"
   ]
  },
  {
   "cell_type": "markdown",
   "metadata": {
    "colab_type": "text",
    "id": "AOT5GoF9w_MZ"
   },
   "source": [
    "Bakre skråstreker representerer begynnelsen av Escape-sekvenser. Escape-sekvenser representerer strenger som kan være vanskelige å legge inn. For eksempel, tilbake skråstrek \"n\" representerer en ny linje. Utgangen er gitt av en ny linje etter at den bakre skråstreken \"n\" er påtruffet:"
   ]
  },
  {
   "cell_type": "code",
   "execution_count": null,
   "metadata": {
    "colab": {},
    "colab_type": "code",
    "collapsed": false,
    "id": "ZeSsapb0w_MZ",
    "jupyter": {
     "outputs_hidden": false
    }
   },
   "outputs": [],
   "source": [
    "# Ny linje escape sekvens\n",
    "\n",
    "print(\" Ole Brumm \\n er en bjørn\" )"
   ]
  },
  {
   "cell_type": "markdown",
   "metadata": {
    "colab_type": "text",
    "id": "fIRHgyF3w_Md"
   },
   "source": [
    "På samme måte representerer skråstrek \"t\" en tabulator:"
   ]
  },
  {
   "cell_type": "code",
   "execution_count": null,
   "metadata": {
    "colab": {},
    "colab_type": "code",
    "collapsed": false,
    "id": "OuSyXfLKw_Me",
    "jupyter": {
     "outputs_hidden": false
    }
   },
   "outputs": [],
   "source": [
    "# Tab escape sekvens\n",
    "\n",
    "print(\" Ole Brumm \\t er en bjørn\" )"
   ]
  },
  {
   "cell_type": "markdown",
   "metadata": {
    "colab_type": "text",
    "id": "U1LT0iy4w_Mi"
   },
   "source": [
    "Hvis du vil legge en skråstrek i strengen din, bruk en dobbel skråstrek:"
   ]
  },
  {
   "cell_type": "code",
   "execution_count": null,
   "metadata": {
    "colab": {},
    "colab_type": "code",
    "collapsed": false,
    "id": "PVoItM9ew_Mj",
    "jupyter": {
     "outputs_hidden": false
    }
   },
   "outputs": [],
   "source": [
    "# Inkluder en skråstrek i strengen\n",
    "\n",
    "print(\" Ole Brumm \\\\ er en bjørn\" )"
   ]
  },
  {
   "cell_type": "markdown",
   "metadata": {
    "colab_type": "text",
    "id": "IdQOPMzGw_Mq"
   },
   "source": [
    " Vi kan også plassere en \"r\" foran strengen for å vise omvendt skråstrek:"
   ]
  },
  {
   "cell_type": "code",
   "execution_count": null,
   "metadata": {
    "colab": {},
    "colab_type": "code",
    "collapsed": false,
    "id": "c6xstfPGw_Mr",
    "jupyter": {
     "outputs_hidden": false
    }
   },
   "outputs": [],
   "source": [
    "# r vil fortelle Python at strengen vil vises som råstreng\n",
    "\n",
    "print(r\" Ole Brumm \\ er en Bjørn\" )"
   ]
  },
  {
   "cell_type": "markdown",
   "metadata": {
    "colab_type": "text",
    "id": "WGZioF7hw_Mv"
   },
   "source": [
    "<hr>"
   ]
  },
  {
   "cell_type": "markdown",
   "metadata": {
    "colab_type": "text",
    "id": "_7hj8dTGw_Mv"
   },
   "source": [
    "<h2 id=\"operations\">Strengeoperasjoner</h2>"
   ]
  },
  {
   "cell_type": "markdown",
   "metadata": {
    "colab_type": "text",
    "id": "eGcFoq0Nw_Mw"
   },
   "source": [
    "Det er mange strengoperasjoner i Python som kan brukes til å manipulere dataene. Vi skal bruke nå noen grunnleggende strengoperasjoner på dataene."
   ]
  },
  {
   "cell_type": "markdown",
   "metadata": {
    "colab_type": "text",
    "id": "-aj0O7Qaw_Mx"
   },
   "source": [
    "La oss prøve med metoden <code>upper</code>; denne metoden konverterer små bokstaver til store bokstaver:"
   ]
  },
  {
   "cell_type": "code",
   "execution_count": null,
   "metadata": {
    "colab": {},
    "colab_type": "code",
    "collapsed": false,
    "id": "YPMRQwk5w_My",
    "jupyter": {
     "outputs_hidden": false
    },
    "scrolled": true
   },
   "outputs": [],
   "source": [
    "# Omdann alle bokstaver i en streng til store bokstaver\n",
    "\n",
    "A = \"Alle fire Ole Brumm-bøkene ble illustrert av tegneren E.H. Shepard\"\n",
    "print(\"Før upper:\", A)\n",
    "B = A.upper()\n",
    "print(\"Etter upper:\", B)"
   ]
  },
  {
   "cell_type": "markdown",
   "metadata": {
    "colab_type": "text",
    "id": "UBwpI1Jsw_M3"
   },
   "source": [
    "Metoden <code>replace</code> erstatter et segment av strengen, dvs. en understreng med en ny streng. Vi legger inn den delen av strengen vi ønsker å endre. Det andre argumentet er hva vi ønsker å bytte segmentet med, og resultatet er en ny streng med segmentet endret:\n"
   ]
  },
  {
   "cell_type": "code",
   "execution_count": null,
   "metadata": {
    "colab": {},
    "colab_type": "code",
    "collapsed": false,
    "id": "9GGPZ684w_M4",
    "jupyter": {
     "outputs_hidden": false
    }
   },
   "outputs": [],
   "source": [
    "# Erstatt en gamel understreng som Python finner i strengen med en ny understreng\n",
    "\n",
    "A = \"Ole Brumm er en bjørn\"\n",
    "B = A.replace('Ole Brumm', 'Bjørnis')\n",
    "B"
   ]
  },
  {
   "cell_type": "markdown",
   "metadata": {
    "colab_type": "text",
    "id": "6Lkyk655w_M9"
   },
   "source": [
    "Metoden <code>find</code> finner en understreng. Argumentet er understrengen du ønsker å finne, og utdata er den første indeksen i sekvensen. Vi kan finne understrengen <code>jack</code> eller <code>el<code>.  "
   ]
  },
  {
   "cell_type": "markdown",
   "metadata": {
    "colab_type": "text",
    "id": "cwwNt5l6w_M-"
   },
   "source": [
    "<img src=\"https://s3-api.us-geo.objectstorage.softlayer.net/cf-courses-data/CognitiveClass/PY0101EN/Chapter%201/Images/StringsFind.png\" width=\"600\" align=\"center\" />"
   ]
  },
  {
   "cell_type": "code",
   "execution_count": null,
   "metadata": {
    "colab": {},
    "colab_type": "code",
    "collapsed": false,
    "id": "fHOE0eQtw_M_",
    "jupyter": {
     "outputs_hidden": false
    }
   },
   "outputs": [],
   "source": [
    "# Finn en understreng i en streng. Bare indeks av første elementen i understrengen skrives ut\n",
    "\n",
    "Name = \"Michael Jackson\"\n",
    "Name.find('el')"
   ]
  },
  {
   "cell_type": "code",
   "execution_count": null,
   "metadata": {
    "colab": {},
    "colab_type": "code",
    "collapsed": false,
    "id": "_ELDCQkYw_ND",
    "jupyter": {
     "outputs_hidden": false
    }
   },
   "outputs": [],
   "source": [
    "# Finn en understreng i en streng.\n",
    "\n",
    "Name.find('Jack')"
   ]
  },
  {
   "cell_type": "markdown",
   "metadata": {
    "colab_type": "text",
    "id": "blnR0JcMw_NI"
   },
   "source": [
    "Hvis en understreng ikke er i strengen, skrives det ut -1. For eksempel er strengen 'blablabla' ikke en understreng:"
   ]
  },
  {
   "cell_type": "code",
   "execution_count": null,
   "metadata": {
    "colab": {},
    "colab_type": "code",
    "collapsed": true,
    "id": "D3qYbDbWw_NJ",
    "jupyter": {
     "outputs_hidden": true
    }
   },
   "outputs": [],
   "source": [
    "# Hvis Python kan ikke finne understreng i en streng\n",
    "\n",
    "Name.find('blablabla')"
   ]
  },
  {
   "cell_type": "markdown",
   "metadata": {
    "colab_type": "text",
    "id": "XgjMfjvxw_NT"
   },
   "source": [
    "<hr>"
   ]
  },
  {
   "cell_type": "markdown",
   "metadata": {
    "colab_type": "text",
    "id": "0dqVYcgFw_NU"
   },
   "source": [
    "<h2 id=\"quiz\">Quiz om strenger</h2>"
   ]
  },
  {
   "cell_type": "markdown",
   "metadata": {
    "colab_type": "text",
    "id": "t3rMbgfkw_NV"
   },
   "source": [
    "Hva er verdien av variabelen <code>A</code> etter at følgende kode er utført?"
   ]
  },
  {
   "cell_type": "code",
   "execution_count": null,
   "metadata": {
    "colab": {},
    "colab_type": "code",
    "collapsed": true,
    "id": "dIiim3Xjw_NW",
    "jupyter": {
     "outputs_hidden": true
    }
   },
   "outputs": [],
   "source": [
    "# Skriv kode under og trykk Shift+Enter for å utføre \n",
    "\n",
    "A = \"1\"\n",
    "B = \"2\""
   ]
  },
  {
   "cell_type": "markdown",
   "metadata": {
    "colab_type": "text",
    "id": "lVGmvuiRw_Nc"
   },
   "source": [
    "Dobbeltklikk __har__ for løsning.\n",
    "\n",
    "<!-- Din løsnign står under:\n",
    "\"1\"\n",
    "-->"
   ]
  },
  {
   "cell_type": "markdown",
   "metadata": {
    "colab_type": "text",
    "id": "XNSSq1sGw_Nl"
   },
   "source": [
    "Hva er verdien av variablen <code>C</code> etter at følgende kode er utført?"
   ]
  },
  {
   "cell_type": "code",
   "execution_count": null,
   "metadata": {
    "colab": {},
    "colab_type": "code",
    "collapsed": false,
    "id": "ApcVsbAgw_Nn",
    "jupyter": {
     "outputs_hidden": false
    }
   },
   "outputs": [],
   "source": [
    "#Trykk Shift+Enter for å utføre \n",
    "\n",
    "C = A + B"
   ]
  },
  {
   "cell_type": "markdown",
   "metadata": {
    "colab_type": "text",
    "id": "7L9NOanvw_Nt"
   },
   "source": [
    "Dobbeltklikk __har__ for løsning.\n",
    "\n",
    "<!-- Din løsnign står under:\n",
    "\"12\"\n",
    "-->"
   ]
  },
  {
   "cell_type": "markdown",
   "metadata": {
    "colab_type": "text",
    "id": "8ysxWnwZw_Nu"
   },
   "source": [
    "<hr>"
   ]
  },
  {
   "cell_type": "markdown",
   "metadata": {
    "colab_type": "text",
    "id": "XL74RcHBw_Nw"
   },
   "source": [
    "Tenk på variabelen <code>D</code> bruk skjæring for å skrive ut de tre første elementene:"
   ]
  },
  {
   "cell_type": "code",
   "execution_count": null,
   "metadata": {
    "colab": {},
    "colab_type": "code",
    "collapsed": false,
    "id": "T-gYtUW1w_Nx",
    "jupyter": {
     "outputs_hidden": false
    }
   },
   "outputs": [],
   "source": [
    "# Skriv kode ditt under og trykk Shift+Enter for å utføre\n",
    "\n",
    "D = \"ABCDEFG\""
   ]
  },
  {
   "cell_type": "markdown",
   "metadata": {
    "colab_type": "text",
    "id": "1fYyMnqUw_N0"
   },
   "source": [
    "Dobbeltklikk __har__ for løsning.\n",
    "\n",
    "<!-- Din løsnign står under:\n",
    "print(D[:3]) \n",
    "# or \n",
    "print(D[0:3])\n",
    "-->"
   ]
  },
  {
   "cell_type": "markdown",
   "metadata": {
    "colab_type": "text",
    "id": "XNbpzwQXw_N1"
   },
   "source": [
    "<hr>"
   ]
  },
  {
   "cell_type": "markdown",
   "metadata": {
    "colab_type": "text",
    "id": "Q_nXKwKcw_N1"
   },
   "source": [
    "Bruk en skrittverdi på 2 for å skrive ut hvert andre tegn i strengen <code>E</code>: "
   ]
  },
  {
   "cell_type": "code",
   "execution_count": null,
   "metadata": {
    "colab": {},
    "colab_type": "code",
    "collapsed": true,
    "id": "eQse4eHqw_N2",
    "jupyter": {
     "outputs_hidden": true
    }
   },
   "outputs": [],
   "source": [
    "# Skriv kode ditt under og trykk Shift+Enter for å utføre\n",
    "\n",
    "E = 'clocrkr1e1c1t'"
   ]
  },
  {
   "cell_type": "markdown",
   "metadata": {
    "colab_type": "text",
    "id": "tJH32m_ew_N7"
   },
   "source": [
    "Double-click <b>here</b> for the solution.\n",
    "\n",
    "<!-- Your answer is below:\n",
    "print(E[::2])\n",
    "-->"
   ]
  },
  {
   "cell_type": "markdown",
   "metadata": {
    "colab_type": "text",
    "id": "7jm1s2IBw_N8"
   },
   "source": [
    "<hr>"
   ]
  },
  {
   "cell_type": "markdown",
   "metadata": {
    "colab_type": "text",
    "id": "FUqQ2lFQw_N8"
   },
   "source": [
    "Skriv ut en omvendt skråstrek:"
   ]
  },
  {
   "cell_type": "code",
   "execution_count": null,
   "metadata": {
    "colab": {},
    "colab_type": "code",
    "collapsed": false,
    "id": "G5KgvJoMw_N-",
    "jupyter": {
     "outputs_hidden": false
    }
   },
   "outputs": [],
   "source": [
    "#  Skriv kode ditt under og trykk Shift+Enter for å utføre"
   ]
  },
  {
   "cell_type": "markdown",
   "metadata": {
    "colab_type": "text",
    "id": "cdGZItjlw_OD"
   },
   "source": [
    "Dobbeltklikk __har__ for løsning.\n",
    "\n",
    "<!-- Din løsnign står under:\n",
    "print(\"\\\\\")\n",
    "or\n",
    "print(r\" \\ \")\n",
    "-->"
   ]
  },
  {
   "cell_type": "markdown",
   "metadata": {
    "colab_type": "text",
    "id": "zw7UAalcw_OE"
   },
   "source": [
    "<hr>"
   ]
  },
  {
   "cell_type": "markdown",
   "metadata": {
    "colab_type": "text",
    "id": "j0O52VNgw_OF"
   },
   "source": [
    "Omdann variablen <code>F</code> til store bokstaver:"
   ]
  },
  {
   "cell_type": "code",
   "execution_count": null,
   "metadata": {
    "colab": {},
    "colab_type": "code",
    "collapsed": false,
    "id": "e9kWfN4Sw_OF",
    "jupyter": {
     "outputs_hidden": false
    }
   },
   "outputs": [],
   "source": [
    "#  Skriv kode ditt under og trykk Shift+Enter for å utføre\n",
    "\n",
    "F = \"Du tar feil\""
   ]
  },
  {
   "cell_type": "markdown",
   "metadata": {
    "colab_type": "text",
    "id": "HU5D1S4Nw_OI"
   },
   "source": [
    "Double-click <b>here</b> for the solution.\n",
    "\n",
    "<!-- Your answer is below:\n",
    "F.upper()\n",
    "-->"
   ]
  },
  {
   "cell_type": "markdown",
   "metadata": {
    "colab_type": "text",
    "id": "hTINZv85w_OJ"
   },
   "source": [
    "<hr>"
   ]
  },
  {
   "cell_type": "markdown",
   "metadata": {
    "colab_type": "text",
    "id": "s55R0HjXw_OM"
   },
   "source": [
    "Tenk på variabelen <code>G</code>, og finn den første indeksen til understrengen <code>grum</code>:"
   ]
  },
  {
   "cell_type": "code",
   "execution_count": null,
   "metadata": {
    "colab": {},
    "colab_type": "code",
    "collapsed": false,
    "id": "88SoTX2zw_ON",
    "jupyter": {
     "outputs_hidden": false
    }
   },
   "outputs": [],
   "source": [
    "# Skriv kode ditt under og trykk Shift+Enter for å utføre\n",
    "\n",
    "G = \"Lille bukken Bruse trippet over trollebru. Nå tar jeg deg sa trollet og var så grum i hu. \\n Nei og nei, ta ikke meg, jeg er tynn og liten jeg! Den som kommer etter, mye mere metter.\""
   ]
  },
  {
   "cell_type": "markdown",
   "metadata": {
    "colab_type": "text",
    "id": "XgcvBhKzw_OR"
   },
   "source": [
    "Dobbeltklikk __har__ for løsning.\n",
    "\n",
    "<!-- Din løsnign står under:\n",
    "G.find(\"grum\")\n",
    "-->"
   ]
  },
  {
   "cell_type": "markdown",
   "metadata": {
    "colab_type": "text",
    "id": "5Du28e97w_OS"
   },
   "source": [
    "I variablen <code>G</code>, bytt understreng <code>Lille</code> med <code>Mellom</code>:"
   ]
  },
  {
   "cell_type": "code",
   "execution_count": null,
   "metadata": {
    "colab": {},
    "colab_type": "code",
    "collapsed": false,
    "id": "HMq2g-Giw_OS",
    "jupyter": {
     "outputs_hidden": false
    }
   },
   "outputs": [],
   "source": [
    "# Skriv kode ditt under og trykk Shift+Enter for å utføre"
   ]
  },
  {
   "cell_type": "markdown",
   "metadata": {
    "colab_type": "text",
    "id": "Ax4NaeYxw_Ob"
   },
   "source": [
    "Dobbeltklikk __har__ for løsning.\n",
    "\n",
    "<!-- Din løsnign står under:\n",
    "G.replace(\"Lille\", \"Mellom\")\n",
    "-->"
   ]
  },
  {
   "cell_type": "markdown",
   "metadata": {
    "colab_type": "text",
    "id": "oa21WtO3NCf4"
   },
   "source": [
    "The present document is based on the <a href=\"https://cognitiveclass.ai/courses/python-for-data-science\">IBM cognitive class \"Python for data science</a>. \n",
    "<p>Copyright &copy; Copyright Nord University 2021. This notebook and its source code are released under the terms of the <a href=\"https://opensource.org/licenses/MIT\">MIT License</a>.</p>"
   ]
  }
 ],
 "metadata": {
  "colab": {
   "name": "PY0101EN-1-4-Strings.ipynb",
   "provenance": []
  },
  "kernelspec": {
   "display_name": "Python 3",
   "language": "python",
   "name": "python3"
  },
  "language_info": {
   "codemirror_mode": {
    "name": "ipython",
    "version": 3
   },
   "file_extension": ".py",
   "mimetype": "text/x-python",
   "name": "python",
   "nbconvert_exporter": "python",
   "pygments_lexer": "ipython3",
   "version": "3.7.4"
  }
 },
 "nbformat": 4,
 "nbformat_minor": 4
}
