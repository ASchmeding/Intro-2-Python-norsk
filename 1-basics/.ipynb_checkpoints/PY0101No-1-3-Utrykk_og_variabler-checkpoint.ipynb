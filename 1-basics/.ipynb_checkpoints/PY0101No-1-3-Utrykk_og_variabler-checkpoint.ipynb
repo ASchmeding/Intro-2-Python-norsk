{
 "cells": [
  {
   "cell_type": "markdown",
   "metadata": {
    "colab_type": "text",
    "id": "P-qVHzYJvFhb"
   },
   "source": [
    "<h1>Uttrykk og variabler i Python</h1>"
   ]
  },
  {
   "cell_type": "markdown",
   "metadata": {
    "colab_type": "text",
    "id": "Ju6txo4KvFhc"
   },
   "source": [
    "<p><strong>Velkommen!</strong> Denne notatboken vil lære deg det grunnleggende om programmeringsspråket Python. På slutten av denne notatboken vil du vite hvordan du tolker variabler og løser uttrykk ved å bruke matematiske operasjoner..</p> "
   ]
  },
  {
   "cell_type": "markdown",
   "metadata": {
    "colab_type": "text",
    "id": "uxnTDBAJvFhe"
   },
   "source": [
    "<h2>Innhold</h2>\n",
    "<div class=\"alert alert-block alert-info\" style=\"margin-top: 20px\">\n",
    "    <ul>\n",
    "        <li>\n",
    "            <a href=\"#expressions\">Utrykk og variabler</a>\n",
    "            <ul>\n",
    "                <li><a href=\"exp\">Utrykk</a></li>\n",
    "                <li><a href=\"exer_exp\">Oppgaver: Utrykk</a></li>\n",
    "                <li><a href=\"var\">variabler</a></li>\n",
    "                <li><a href=\"exer_exp_var\">Oppgaver: Utrykk og variabler i Python</a></li>\n",
    "            </ul>\n",
    "        </li>\n",
    "    </ul>\n",
    "    <p>\n",
    "        Tidsbruk: <strong>10 min</strong>\n",
    "    </p>\n",
    "</div>\n",
    "\n",
    "<hr>"
   ]
  },
  {
   "cell_type": "markdown",
   "metadata": {
    "colab_type": "text",
    "id": "eHai9r5dvFhf"
   },
   "source": [
    "<h2 id=\"expressions\">Utrykk og variabler</h2>"
   ]
  },
  {
   "cell_type": "markdown",
   "metadata": {
    "colab_type": "text",
    "id": "U-ay0751vFhg"
   },
   "source": [
    "<h3 id=\"exp\">Utrykk</h3>"
   ]
  },
  {
   "cell_type": "markdown",
   "metadata": {
    "colab_type": "text",
    "id": "S20Ck7fxvFhj"
   },
   "source": [
    "<p>Uttrykk i Python kan inkludere operasjoner blant kompatible typer (f.eks. integers og floats). For eksempel grunnleggende aritmetiske operasjoner som å legge til flere tall:</p>"
   ]
  },
  {
   "cell_type": "code",
   "execution_count": null,
   "metadata": {
    "colab": {},
    "colab_type": "code",
    "id": "mQNSzgnQvFhk"
   },
   "outputs": [],
   "source": [
    "# Addisjon utrykk\n",
    "\n",
    "43 + 60 + 16 + 41"
   ]
  },
  {
   "cell_type": "markdown",
   "metadata": {
    "colab_type": "text",
    "id": "IM8EQFULvFhu"
   },
   "source": [
    "<p>Vi kan utføre subtraksjonsoperasjoner ved å bruke minusoperatoren. I dette tilfellet er resultatet et negativt tall:</p>"
   ]
  },
  {
   "cell_type": "code",
   "execution_count": null,
   "metadata": {
    "colab": {},
    "colab_type": "code",
    "id": "frxdKmEzvFhv"
   },
   "outputs": [],
   "source": [
    "# Subtraksjonsutrykk\n",
    "\n",
    "50 - 60"
   ]
  },
  {
   "cell_type": "markdown",
   "metadata": {
    "colab_type": "text",
    "id": "F4IX6uJ0vFh1"
   },
   "source": [
    "<p>Vi kan utføre multiplikasjon ved bruk av stjerne:</p>"
   ]
  },
  {
   "cell_type": "code",
   "execution_count": null,
   "metadata": {
    "colab": {},
    "colab_type": "code",
    "id": "FveFDJEgvFh2"
   },
   "outputs": [],
   "source": [
    "# Multiplikasjonsutrykk\n",
    "\n",
    "5 * 5"
   ]
  },
  {
   "cell_type": "markdown",
   "metadata": {
    "colab_type": "text",
    "id": "B-ycpyVXvFh_"
   },
   "source": [
    "<p>Vi kan også utføre divisjon med skråstreken fremover:"
   ]
  },
  {
   "cell_type": "code",
   "execution_count": null,
   "metadata": {
    "colab": {},
    "colab_type": "code",
    "id": "KappcErFvFiA"
   },
   "outputs": [],
   "source": [
    "# Divisjons utrykk\n",
    "\n",
    "25 / 5"
   ]
  },
  {
   "cell_type": "code",
   "execution_count": null,
   "metadata": {
    "colab": {},
    "colab_type": "code",
    "id": "DCaTPj4RvFiG"
   },
   "outputs": [],
   "source": [
    "# Divisjons utrykk\n",
    "\n",
    "25 / 6"
   ]
  },
  {
   "cell_type": "markdown",
   "metadata": {
    "colab_type": "text",
    "id": "wTnro5F6vFiO"
   },
   "source": [
    "<p>Som sett i quizen i notater om typene i Python, kan vi bruke den doble skråstreken for heltallsdivisjon, hvor resultatet rundes av til nærmeste heltall:"
   ]
  },
  {
   "cell_type": "code",
   "execution_count": null,
   "metadata": {
    "colab": {},
    "colab_type": "code",
    "id": "kNTsUhKFvFiP"
   },
   "outputs": [],
   "source": [
    "# Heltall divisjon utrykk\n",
    "\n",
    "25 // 5"
   ]
  },
  {
   "cell_type": "code",
   "execution_count": null,
   "metadata": {
    "colab": {},
    "colab_type": "code",
    "id": "rB7E01ZDvFiU"
   },
   "outputs": [],
   "source": [
    "#  Heltall divisjon utrykk\n",
    "\n",
    "25 // 6"
   ]
  },
  {
   "cell_type": "markdown",
   "metadata": {
    "colab_type": "text",
    "id": "-WgoSFZ-vFic"
   },
   "source": [
    "<h3 id=\"exer_exp\">Oppgaver: Utrykk</h3>"
   ]
  },
  {
   "cell_type": "markdown",
   "metadata": {
    "colab_type": "text",
    "id": "USo3uehUvFie"
   },
   "source": [
    "<p>\n",
    "La oss skrive et uttrykk som regner ut hvor mange timer det er på 160 minutter:"
   ]
  },
  {
   "cell_type": "code",
   "execution_count": null,
   "metadata": {
    "colab": {},
    "colab_type": "code",
    "id": "zfrFqG0FvFif"
   },
   "outputs": [],
   "source": [
    "# Skriv koden din under. Ikke glem å trykke Shift+Enter for å kjøre koden."
   ]
  },
  {
   "cell_type": "markdown",
   "metadata": {
    "colab_type": "text",
    "id": "AuKJtjcyvFil"
   },
   "source": [
    "Dobbeltklikk __har__ for løsning.\n",
    "\n",
    "<!-- Din løsnign står under:\n",
    "160/60 \n",
    "# eller \n",
    "160//60\n",
    "-->"
   ]
  },
  {
   "cell_type": "markdown",
   "metadata": {
    "colab_type": "text",
    "id": "W-d0LBMpvFim"
   },
   "source": [
    "<p>Python følger vanlige matematiske konvensjoner ved evaluering av matematiske uttrykk. I det følgende eksempelet legger Python til 30 til resultatet av multiplikasjonen (dvs. 120)."
   ]
  },
  {
   "cell_type": "code",
   "execution_count": null,
   "metadata": {
    "colab": {},
    "colab_type": "code",
    "id": "Twbqti7BvFio"
   },
   "outputs": [],
   "source": [
    "# Matematisk utrykk\n",
    "\n",
    "30 + 2 * 60"
   ]
  },
  {
   "cell_type": "markdown",
   "metadata": {
    "colab_type": "text",
    "id": "jgPh5A7RvFiy"
   },
   "source": [
    "<p>Og akkurat som vanlig i matematikk har uttrykk i parentes prioritet. Så det følgende multipliserer 32 med 60."
   ]
  },
  {
   "cell_type": "code",
   "execution_count": null,
   "metadata": {
    "colab": {},
    "colab_type": "code",
    "id": "pxkBMJilvFiz"
   },
   "outputs": [],
   "source": [
    "# Matematisk utrykk\n",
    "\n",
    "(30 + 2) * 60"
   ]
  },
  {
   "cell_type": "markdown",
   "metadata": {
    "colab_type": "text",
    "id": "ZzMARBR3vFi3"
   },
   "source": [
    "<h3 id=\"var\">Variabler</h3>"
   ]
  },
  {
   "cell_type": "markdown",
   "metadata": {
    "colab_type": "text",
    "id": "MyN2YvqTvFi4"
   },
   "source": [
    "<p>Akkurat som med de fleste programmeringsspråk, kan vi lagre verdier i <i>variabler</i>, slik at vi kan bruke dem senere. For eksempel:</p>"
   ]
  },
  {
   "cell_type": "code",
   "execution_count": null,
   "metadata": {
    "colab": {},
    "colab_type": "code",
    "id": "eQ-w0IR8vFi5"
   },
   "outputs": [],
   "source": [
    "# Lagre verdier i variabler\n",
    "\n",
    "x = 43 + 60 + 16 + 41"
   ]
  },
  {
   "cell_type": "markdown",
   "metadata": {
    "colab_type": "text",
    "id": "2VkjwmvkvFi_"
   },
   "source": [
    "<p>For å se verdien av <code>x</code> i notatboka, vi kan skrive navnet til variablen i en linje:</p>"
   ]
  },
  {
   "cell_type": "code",
   "execution_count": null,
   "metadata": {
    "colab": {},
    "colab_type": "code",
    "id": "fap6SGB1vFjA"
   },
   "outputs": [],
   "source": [
    "# Skriv ut verdien til en variabel\n",
    "\n",
    "x"
   ]
  },
  {
   "cell_type": "markdown",
   "metadata": {
    "colab_type": "text",
    "id": "UaeJTIlrvFjE"
   },
   "source": [
    "<p>Vi kan også utføre operasjoner på <code>x</code> og lagre resultatet i en ny variabel:</p>"
   ]
  },
  {
   "cell_type": "code",
   "execution_count": null,
   "metadata": {
    "colab": {},
    "colab_type": "code",
    "id": "wXz40h5VvFjF"
   },
   "outputs": [],
   "source": [
    "# Bruk en annen variabel for å lagre resultatet av operasjonen mellom variabel og verdi\n",
    "\n",
    "y = x / 60\n",
    "y"
   ]
  },
  {
   "cell_type": "markdown",
   "metadata": {
    "colab_type": "text",
    "id": "46RIbhthvFjL"
   },
   "source": [
    "<p>Hvis vi lagrer en verdi til en eksisterende variabel, vil den nye verdien overskrive den forrige verdien:</p>"
   ]
  },
  {
   "cell_type": "code",
   "execution_count": null,
   "metadata": {
    "colab": {},
    "colab_type": "code",
    "id": "n7hsDxxsvFjN"
   },
   "outputs": [],
   "source": [
    "# Overskriv variablen med ny verdi\n",
    "x = x / 60\n",
    "x"
   ]
  },
  {
   "cell_type": "markdown",
   "metadata": {
    "colab_type": "text",
    "id": "vNBCBGbfvFjT"
   },
   "source": [
    "<p> <strong>OBS</strong>: I programmering har likhetstegn en annen betydning enn i vanlig matematikk, den setter verdien av det som står på venstre som verdi av det som er på høyre!</p>"
   ]
  },
  {
   "cell_type": "markdown",
   "metadata": {},
   "source": [
    "Vi skal også vise en liten trikk angående addisjon. I stedet av $a=a+b$ for å lagre i stedet av $a$ summen av $a$ og $b$, kan vi skrive $a += b$ som er kortere og har samme betydning. Prøv det!"
   ]
  },
  {
   "cell_type": "code",
   "execution_count": null,
   "metadata": {},
   "outputs": [],
   "source": [
    "a= 5\n",
    "b= 7\n",
    "print('a=',a, ', b=', b, ', a+b=', a+b)\n",
    "a += b\n",
    "print('Ny verdi av a etter a+=b', a)"
   ]
  },
  {
   "cell_type": "markdown",
   "metadata": {
    "colab_type": "text",
    "id": "vNBCBGbfvFjT"
   },
   "source": [
    "<p>\n",
    "Det er en god praksis å bruke betydningsfulle variabelnavn, slik at du og andre kan lese koden og forstå den lettere:</p>"
   ]
  },
  {
   "cell_type": "code",
   "execution_count": null,
   "metadata": {
    "colab": {},
    "colab_type": "code",
    "id": "QT4q4YzSvFjU"
   },
   "outputs": [],
   "source": [
    "# Finn betydninsfylle navn til variabler\n",
    "\n",
    "total_min = 43 + 42 + 57 # Total lengde på album i minutter\n",
    "total_min"
   ]
  },
  {
   "cell_type": "code",
   "execution_count": null,
   "metadata": {
    "colab": {},
    "colab_type": "code",
    "id": "w-C3_n1TvFja"
   },
   "outputs": [],
   "source": [
    "# Gi variablene navn med mening\n",
    "\n",
    "total_hours = total_min / 60 # Total lengde på album i timer\n",
    "total_hours"
   ]
  },
  {
   "cell_type": "markdown",
   "metadata": {
    "colab_type": "text",
    "id": "zWf28ynmvFjf"
   },
   "source": [
    "<p>I cellene ovenfor la vi til lengden på tre album i minutter og lagret den i <code>total_min</code>. Vi delte den på 60 for å beregne totallengden <code>total_hours</code> i timer. Du kan også gjøre alt på en gang i et enkelt uttrykk, så lenge du bruker parentes for å legge til albumlengden før du deler, som vist nedenfor.</p>"
   ]
  },
  {
   "cell_type": "code",
   "execution_count": null,
   "metadata": {
    "colab": {},
    "colab_type": "code",
    "id": "pa3s73ruvFjf"
   },
   "outputs": [],
   "source": [
    "# Komplisert utrykk\n",
    "\n",
    "total_hours = (43 + 42 + 57) / 60  # Total lengde på album i timer ved bruk av en utrykk\n",
    "total_hours"
   ]
  },
  {
   "cell_type": "markdown",
   "metadata": {
    "colab_type": "text",
    "id": "RGPFt3egvFjk"
   },
   "source": [
    "<p>Hvis du heller vil ha totalt antall timer som et heltall (type int), kan du selvfølgelig erstatte floatdivisjonen med heltallsdivisjon (dvs. <code>//</code>).</p>"
   ]
  },
  {
   "cell_type": "markdown",
   "metadata": {
    "colab_type": "text",
    "id": "fwJLt0tTvFjl"
   },
   "source": [
    "<h3 id=\"exer_exp_var\">Oppgaver: Utrykk og variabler i Python</h3>"
   ]
  },
  {
   "cell_type": "markdown",
   "metadata": {
    "colab_type": "text",
    "id": "ViRHFMr3vFjl"
   },
   "source": [
    "<p>Hva er verdien av <code>x</code> der <code>x = 3 + 2 * 2</code></p>"
   ]
  },
  {
   "cell_type": "code",
   "execution_count": null,
   "metadata": {
    "colab": {},
    "colab_type": "code",
    "id": "pneV0xicvFjm"
   },
   "outputs": [],
   "source": [
    "# Skriv kode ditt under. Ikke glem å trykke Shift+Enter for å kjøre koden."
   ]
  },
  {
   "cell_type": "markdown",
   "metadata": {
    "colab_type": "text",
    "id": "atZYnbw8vFjs"
   },
   "source": [
    "Dobbeltklikk __har__ for løsning.\n",
    "\n",
    "<!-- Din løsnign står under:\n",
    "7\n",
    "-->\n"
   ]
  },
  {
   "cell_type": "markdown",
   "metadata": {
    "colab_type": "text",
    "id": "lPnkm7p9vFjt"
   },
   "source": [
    "<p>Hva er verdien av <code>y</code> der <code>y = (3 + 2) * 2</code>?</p>"
   ]
  },
  {
   "cell_type": "code",
   "execution_count": null,
   "metadata": {
    "colab": {},
    "colab_type": "code",
    "id": "-OgU0USpvFju"
   },
   "outputs": [],
   "source": [
    "# Skriv kode ditt under. Ikke glem å trykke Shift+Enter for å kjøre koden."
   ]
  },
  {
   "cell_type": "markdown",
   "metadata": {
    "colab_type": "text",
    "id": "83UMIJREvFj0"
   },
   "source": [
    "Dobbeltklikk __har__ for løsning.\n",
    "\n",
    "<!-- Din løsnign står under:\n",
    "10\n",
    "-->"
   ]
  },
  {
   "cell_type": "markdown",
   "metadata": {
    "colab_type": "text",
    "id": "81IyehWIvFj2"
   },
   "source": [
    "<p>Hva er verdien av <code>z</code> der <code>z = x + y</code>?</p>"
   ]
  },
  {
   "cell_type": "code",
   "execution_count": null,
   "metadata": {
    "colab": {},
    "colab_type": "code",
    "id": "ps0YS9ApvFj3"
   },
   "outputs": [],
   "source": [
    "# Skriv kode ditt under. Ikke glem å trykke Shift+Enter for å kjøre koden."
   ]
  },
  {
   "cell_type": "markdown",
   "metadata": {
    "colab_type": "text",
    "id": "Nfo5d_NzvFj6"
   },
   "source": [
    "Dobbeltklikk __har__ for løsning.\n",
    "\n",
    "<!-- Din løsnign står under:\n",
    "17\n",
    "-->"
   ]
  },
  {
   "cell_type": "markdown",
   "metadata": {
    "colab_type": "text",
    "id": "oa21WtO3NCf4"
   },
   "source": [
    "The present document is based on the <a href=\"https://cognitiveclass.ai/courses/python-for-data-science\">IBM cognitive class \"Python for data science</a>. \n",
    "<p>Copyright &copy; Copyright Nord University 2021. This notebook and its source code are released under the terms of the <a href=\"https://opensource.org/licenses/MIT\">MIT License</a>.</p>"
   ]
  }
 ],
 "metadata": {
  "colab": {
   "name": "PY0101EN-1-3-Expressions.ipynb",
   "provenance": []
  },
  "kernelspec": {
   "display_name": "Python 3",
   "language": "python",
   "name": "python3"
  },
  "language_info": {
   "codemirror_mode": {
    "name": "ipython",
    "version": 3
   },
   "file_extension": ".py",
   "mimetype": "text/x-python",
   "name": "python",
   "nbconvert_exporter": "python",
   "pygments_lexer": "ipython3",
   "version": "3.7.4"
  }
 },
 "nbformat": 4,
 "nbformat_minor": 4
}
