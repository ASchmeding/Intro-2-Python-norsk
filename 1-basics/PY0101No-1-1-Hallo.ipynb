{
 "cells": [
  {
   "cell_type": "markdown",
   "metadata": {},
   "source": [
    "<h1> Python - Lag din første Python-kode! </h1>"
   ]
  },
  {
   "cell_type": "markdown",
   "metadata": {
    "colab_type": "text",
    "id": "HEdQSiBtTZg1"
   },
   "source": [
    "<p><strong>Velkommen!</strong> Denne notatboken vil lære deg det grunnleggende om programmeringsspråket Python. Selv om informasjonen som presenteres her er ganske grunnleggende, er den et viktig grunnlag som vil hjelpe deg å lese og skrive Python-kode. På slutten av denne notatboken vil du vite det grunnleggende om Python, inkludert hvordan du skriver grunnleggende kommandoer, forstår noen grunnleggende typer og hvordan du utfører enkle operasjoner på dem.</p> "
   ]
  },
  {
   "cell_type": "markdown",
   "metadata": {
    "colab_type": "text",
    "id": "buZZM9SMTZg2"
   },
   "source": [
    "<h2>Innhold</h2>\n",
    "<div class=\"alert alert-block alert-info\" style=\"margin-top: 20px\">\n",
    "    <ul>\n",
    "        <li>\n",
    "            <a href='#hello'>Si \"Hei\" til verden i Python</a>\n",
    "            <ul>\n",
    "                <li><a href='#version'>Hvilket versjon av Python skal vi bruke?</a></li>\n",
    "                <li><a href=\"#comments\">Å skrive kommentar i Python</a></li>\n",
    "                <li><a href=\"#errors\">Feil i Python</a></li>\n",
    "                <li><a href=\"#python_error\">Vet Python om feil før den kjører kode?</a></li>\n",
    "                <li><a href=\"#exercise\">Oppgave: Din første program</a></li>\n",
    "            </ul>\n",
    "        </li>\n",
    "    </ul>\n",
    "    <p>\n",
    "        Tidsbruk: <strong>10 min</strong>\n",
    "    </p>\n",
    "</div>\n",
    "\n",
    "<hr>"
   ]
  },
  {
   "cell_type": "markdown",
   "metadata": {
    "colab_type": "text",
    "id": "M6KUAk95TZg3"
   },
   "source": [
    "<h2 id='hello'>Si \"Hei\" til verden i Python</h2>"
   ]
  },
  {
   "cell_type": "markdown",
   "metadata": {
    "colab_type": "text",
    "id": "t_O-kdWkTZg5"
   },
   "source": [
    "Når du lærer et nytt programmeringsspråk, er det vanlig å starte med et «hallo verden»-eksempel. Så enkelt som det er, vil denne ene kodelinjen sikre at vi vet hvordan vi skriver ut en streng i utdata og hvordan vi kjører kode i celler i en notatbok."
   ]
  },
  {
   "cell_type": "markdown",
   "metadata": {
    "colab_type": "text",
    "id": "63uNwX0mTZg6"
   },
   "source": [
    "<hr/>\n",
    "<div class=\"alert alert-success alertsuccess\" style=\"margin-top: 20px\">\n",
    "[Tipp]: For å utføre Python-koden i kodecellen nedenfor, klikk på cellen for å velge den og trykk <kbd>Shift</kbd> + <kbd>Enter</kbd> eller trykk på Play symbolet til venstre side av cellen.\n",
    "</div>\n",
    "<hr/>"
   ]
  },
  {
   "cell_type": "code",
   "execution_count": null,
   "metadata": {
    "colab": {},
    "colab_type": "code",
    "id": "1lmBiCBwTZg8"
   },
   "outputs": [],
   "source": [
    "# Prøv din første Python utrykk!\n",
    "\n",
    "print('Hallo, Python!')"
   ]
  },
  {
   "cell_type": "markdown",
   "metadata": {
    "colab_type": "text",
    "id": "Uc195SH6TZhE"
   },
   "source": [
    "Etter å ha utført cellen ovenfor, bør du se at Python skriver ut <code>Hallo, Python!</code>. Gratulerer med å kjøre din første Python-kode!"
   ]
  },
  {
   "cell_type": "markdown",
   "metadata": {
    "colab_type": "text",
    "id": "EKZwR-FvTZhG"
   },
   "source": [
    "<hr/>\n",
    "<div class=\"alert alert-success alertsuccess\" style=\"margin-top: 20px\">\n",
    "    [Tipp:] <code>print()</code> er en funksjon. Du har gitt strengen <code>'Hallo, Python!'</code> som et argument som forteller Python hva den skulle vise.\n",
    "</div>\n",
    "<hr/>"
   ]
  },
  {
   "cell_type": "markdown",
   "metadata": {
    "colab_type": "text",
    "id": "pSgzcK_BTZhH"
   },
   "source": [
    "<h3 id='version'>Hvilket versjon av Python skal vi bruke?</h3>"
   ]
  },
  {
   "cell_type": "markdown",
   "metadata": {
    "colab_type": "text",
    "id": "CKtOcBvHTZhI"
   },
   "source": [
    "<p>\n",
    "    Det er to populære versjoner av programmeringsspråket Python som er i bruk i dag: Python 2 og Python 3. Python-fellesskapet har bestemt seg for å gå videre fra Python 2 til Python 3, og mange populære bibliotek har annonsert at de ikke lenger vil støtte Python 2.\n",
    "</p>\n",
    "<p>\n",
    "    Siden Python 3 er fremtiden, vil vi utelukkende bruke det i dette kurset. Hvordan vet vi at notatboken vår kjøres av en Python 3-kjøring? Vi kan se i øverste høyre hjørne av denne notatboken og se \"Python 3\".\n",
    "</p>\n",
    "<p>\n",
    "    Vi kan også spørre direkte Python og få et detaljert svar. Prøv å kjøre følgende kode:\n",
    "</p>"
   ]
  },
  {
   "cell_type": "code",
   "execution_count": null,
   "metadata": {
    "colab": {},
    "colab_type": "code",
    "id": "85J4k_0ZTZhJ"
   },
   "outputs": [],
   "source": [
    "# Sjekk Python Versjon\n",
    "\n",
    "import sys\n",
    "print(sys.version)"
   ]
  },
  {
   "cell_type": "markdown",
   "metadata": {
    "colab_type": "text",
    "id": "plUpP9F3TZhO"
   },
   "source": [
    "<hr/>\n",
    "<div class=\"alert alert-success alertsuccess\" style=\"margin-top: 20px\">\n",
    "    [Tip:] <code>sys</code> er en innebygd modul som inneholder mange systemspesifikke parametere og funksjoner, inkludert Python-versjonen som er i bruk. Før du bruker det, må vi eksplisitt be Python å laste det inn: <code>import</code>.\n",
    "</div>\n",
    "<hr/>"
   ]
  },
  {
   "cell_type": "markdown",
   "metadata": {
    "colab_type": "text",
    "id": "KJelwI6CTZhP"
   },
   "source": [
    "<h3 id=\"comments\">Å skrive kommentar i Python</h3>"
   ]
  },
  {
   "cell_type": "markdown",
   "metadata": {
    "colab_type": "text",
    "id": "nONXmXuXTZhR"
   },
   "source": [
    "<p>I tillegg til å skrive kode, vær oppmerksom på at det alltid er en god idé å legge til kommentarer til koden. Det vil hjelpe andre å forstå hva du prøvde å oppnå (grunnen til at du skrev en gitt kodebit). Ikke bare hjelper dette <strong>andre folk</strong> forstå koden din, kan den også tjene som en påminnelse <strong>for deg</strong> hvis du kommer tilbake tilnår du kommer tilbake til det uker eller måneder senere.</p>\n",
    "\n",
    "<p>\n",
    "   For å skrive kommentarer i Python, bruk tallsymbolet <code>#</code> før du skriver kommentaren din. Når du kjører koden din, vil Python ignorere alt etter <code>#</code> i en linje.\n",
    "</p>"
   ]
  },
  {
   "cell_type": "code",
   "execution_count": null,
   "metadata": {
    "colab": {},
    "colab_type": "code",
    "id": "uE4fa5wcTZhS"
   },
   "outputs": [],
   "source": [
    "# Øv å skrive kommentarer\n",
    "\n",
    "print('Hello, Python!') # Den linjen skriver ut en streng\n",
    "# print('Hi')"
   ]
  },
  {
   "cell_type": "markdown",
   "metadata": {
    "colab_type": "text",
    "id": "6IGsgmOmTZhZ"
   },
   "source": [
    "<p>\n",
    "    Etter å ha utført cellen ovenfor, bør du legge merke til at <code> Denne linjen skriver ut en streng</code> ikke dukket opp i utgave, fordi det var en kommentar (og dermed ignorert av Python).\n",
    "</p>\n",
    "<p>\n",
    "    Den andre linjen ble heller ikke utført pga. <code>print('Hi')</code> \n",
    "ble innledet med talltegnet (<code>#</code>)! Siden dette ikke er en forklarende kommentar fra programmereren, men en faktisk kodelinje, kan vi si at programmereren har <em>utkommentert</em> den andre linjen av kode.\n",
    "</p>"
   ]
  },
  {
   "cell_type": "markdown",
   "metadata": {
    "colab_type": "text",
    "id": "s_tNmBQETZha"
   },
   "source": [
    "<h3 id=\"errors\">Feil i Python</h3>"
   ]
  },
  {
   "cell_type": "markdown",
   "metadata": {
    "colab_type": "text",
    "id": "2C0PfIi_TZhb"
   },
   "source": [
    "<p>Alle gjør feil. For mange typer feil vil Python fortelle deg at du har gjort en feil ved å gi deg en feilmelding. Det er viktig å lese feilmeldinger nøye for å virkelig forstå hvor du har gjort en feil og hvordan du kan gå frem for å rette den.</p>\n",
    "<p>For eksempel hvis du staver <code>print</code> som <code>frint</code>, Python vil vise en feilmelding. Gi det et forsøk: </p>"
   ]
  },
  {
   "cell_type": "code",
   "execution_count": null,
   "metadata": {
    "colab": {},
    "colab_type": "code",
    "id": "qlR67yaSTZhc",
    "scrolled": true
   },
   "outputs": [],
   "source": [
    "# Skriv ut strengen som feilmelding\n",
    "\n",
    "frint(\"Hello, Python!\")"
   ]
  },
  {
   "cell_type": "markdown",
   "metadata": {
    "colab_type": "text",
    "id": "kZVSzJ9FTZhk"
   },
   "source": [
    "<p>Feilmeldingen forteller deg:\n",
    "<ol>\n",
    "    <li>hvor feilen oppsto (mer nyttig i store notatbøker, celler eller skript), og, </li> \n",
    "    <li>hva slags feil det var (NameError)</li> \n",
    "</ol>\n",
    "<p>\n",
    "Her forsøkte Python å kjøre funksjonen <code>frint</code>, \n",
    "men kunne ikke bestemme hva <code>frint</code> \n",
    "er siden det ikke er en innebygd funksjon og den har heller ikke vært definert av oss tidligere.</p>"
   ]
  },
  {
   "cell_type": "markdown",
   "metadata": {
    "colab_type": "text",
    "id": "Wh4Uax1sTZhm"
   },
   "source": [
    "<p>\n",
    "    Du vil se at hvis vi gjør en annen type feil, ved å glemme å lukke strengen, får vi en annen feil (dvs.,  <code>SyntaxError</code>). Gi det et forsøk:\n",
    "</p>"
   ]
  },
  {
   "cell_type": "code",
   "execution_count": null,
   "metadata": {
    "colab": {},
    "colab_type": "code",
    "id": "Q-ifDEW6TZhn"
   },
   "outputs": [],
   "source": [
    "# Prøv å finne en annen type feilmelding\n",
    "\n",
    "print(\"Hello, Python!)"
   ]
  },
  {
   "cell_type": "markdown",
   "metadata": {
    "colab_type": "text",
    "id": "MafLEtduTZhs"
   },
   "source": [
    "<h3 id=\"python_error\">Vet Python om feilen min før den kjører kode?</h3>"
   ]
  },
  {
   "cell_type": "markdown",
   "metadata": {
    "colab_type": "text",
    "id": "Nvlx5SnkTZht"
   },
   "source": [
    "Python er det som kalles et tolket språk. Kompilerte språk undersøker hele programmet på kompileringstidspunktet, og er i stand til å advare deg om en hel klasse med feil før utførelse. Derimot tolker Python skriptet ditt linje for linje etter hvert som det kjører det. Python vil slutte å kjøre hele programmet når det støter på en feil (med mindre feilen forventes og håndteres av programmereren, et mer avansert emne som vi vil dekke senere i dette kurset)."
   ]
  },
  {
   "cell_type": "markdown",
   "metadata": {
    "colab_type": "text",
    "id": "W2js7BKrTZhv"
   },
   "source": [
    "Prøv å kjøre koden i cellen nedenfor og se hva som skjer:"
   ]
  },
  {
   "cell_type": "code",
   "execution_count": null,
   "metadata": {
    "colab": {},
    "colab_type": "code",
    "id": "0ZoH7qNZTZhw"
   },
   "outputs": [],
   "source": [
    "# Skriv ut en streng og feil for å se hva kommer først\n",
    "\n",
    "print(\"Den skal skrives ut\")\n",
    "frint(\"Den vil gi en feilmelding\")\n",
    "print(\"Den skal IKKE skrives ut\")"
   ]
  },
  {
   "cell_type": "markdown",
   "metadata": {
    "colab_type": "text",
    "id": "whMVNKRATZh5"
   },
   "source": [
    "<h3>Innrykk</h3>"
   ]
  },
  {
   "cell_type": "markdown",
   "metadata": {
    "colab_type": "text",
    "id": "MMQOOdf_TZh6"
   },
   "source": [
    "Python bruker innrykk for blokker, i stedet for krøllete parenteser. For å starte en innrykkblokk bør forrige like slutte med :-tegn. Både tabulatorer og mellomrom støttes, men standardinnrykk krever standard Python-kode for å bruke fire mellomrom."
   ]
  },
  {
   "cell_type": "code",
   "execution_count": null,
   "metadata": {
    "colab": {},
    "colab_type": "code",
    "id": "tPQwK_5CTZh9"
   },
   "outputs": [],
   "source": [
    "# Ikke bekymre deg hvis du ikke forstår koden ennå.\n",
    "# Vi skal se nærmere på det senere.\n",
    "\n",
    "x = 17\n",
    "if x == 17:\n",
    "  print('x is 17')\n",
    "else:\n",
    "  print('x is not 17')"
   ]
  },
  {
   "cell_type": "markdown",
   "metadata": {
    "colab_type": "text",
    "id": "NvHp2zTOTZiL"
   },
   "source": [
    "<h3 id=\"exercise\">Oppgave: Skriv din første program</h3>"
   ]
  },
  {
   "cell_type": "markdown",
   "metadata": {
    "colab_type": "text",
    "id": "flQ8xgzMTZiM"
   },
   "source": [
    "<p>Generasjoner av programmerere har startet sin kodekarriere ved ganske enkelt å skrive ut \"Hallo, verden!\". Du vil følge i deres fotspor.</p>\n",
    "<p>I kodecellen nedenfor bruker du. <code>print()</code> funksjon for å skrive ut <code>Hallo, verden!</code></p>"
   ]
  },
  {
   "cell_type": "code",
   "execution_count": null,
   "metadata": {
    "colab": {},
    "colab_type": "code",
    "id": "PN0z2XioTZiN"
   },
   "outputs": [],
   "source": [
    "# Skriv din kode under og trykk på Shift+Enter for å kjøre den "
   ]
  },
  {
   "cell_type": "markdown",
   "metadata": {
    "colab_type": "text",
    "id": "V8k3oSNvTZiU"
   },
   "source": [
    "Dobbeltklikk __har__ for løsning.\n",
    "\n",
    "<!-- Din løsnign står under:\n",
    "\n",
    "print(\"Hallo, verden!\")\n",
    "\n",
    "-->"
   ]
  },
  {
   "cell_type": "markdown",
   "metadata": {
    "colab_type": "text",
    "id": "takZMpA2TZiW"
   },
   "source": [
    "<p>La oss nå forbedre koden din med en kommentar. Skriv ut setningen i kodecellen nedenfor: <code>Hallo, verden!</code> og kommenter den med <code>Skrives ut den tradisjonell hallo verden</code> alt i en linje av kode.</p>"
   ]
  },
  {
   "cell_type": "code",
   "execution_count": null,
   "metadata": {
    "colab": {},
    "colab_type": "code",
    "id": "NNNSsHl7TZiX"
   },
   "outputs": [],
   "source": [
    "# Skriv din kode under og trykk på Shift+Enter for å kjøre den "
   ]
  },
  {
   "cell_type": "markdown",
   "metadata": {
    "colab_type": "text",
    "id": "XmF-miyoTZid"
   },
   "source": [
    "Dobbeltklikk __har__ for løsning.\n",
    "\n",
    "<!-- Din løsnign står under:\n",
    "\n",
    "print(\"Hallo, verden!\") # Skrives ut den tradisjonell hallo verden\n",
    "\n",
    "-->\n"
   ]
  }
 ],
 "metadata": {
  "colab": {
   "collapsed_sections": [],
   "name": "PY0101EN_1_1_Hello.ipynb",
   "provenance": []
  },
  "kernelspec": {
   "display_name": "Python 3",
   "language": "python",
   "name": "python3"
  },
  "language_info": {
   "codemirror_mode": {
    "name": "ipython",
    "version": 3
   },
   "file_extension": ".py",
   "mimetype": "text/x-python",
   "name": "python",
   "nbconvert_exporter": "python",
   "pygments_lexer": "ipython3",
   "version": "3.7.4"
  }
 },
 "nbformat": 4,
 "nbformat_minor": 1
}
